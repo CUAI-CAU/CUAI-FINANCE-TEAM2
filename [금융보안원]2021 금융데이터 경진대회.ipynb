{
 "cells": [
  {
   "cell_type": "code",
   "execution_count": 1,
   "metadata": {},
   "outputs": [],
   "source": [
    "import re\n",
    "import pandas as pd\n",
    "import pandas as pd\n",
    "import numpy as np\n",
    "import copy "
   ]
  },
  {
   "cell_type": "markdown",
   "metadata": {},
   "source": [
    "# 1. 데이터 전처리\n",
    "### 1-1KB 국민카드 : 성별과 연령에 따른 소비자들의 선호 업종 분석"
   ]
  },
  {
   "cell_type": "code",
   "execution_count": 2,
   "metadata": {},
   "outputs": [],
   "source": [
    "def agesexfunction(col):\n",
    "    if col in ['01.남성_1.20대이하']:\n",
    "        return \"남성 20대 이하\";\n",
    "    if col in ['01.남성_2.30대']:\n",
    "        return \"남성 30대\";\n",
    "    if col in ['01.남성_3.40대']:\n",
    "        return \"남성 40대\";\n",
    "    if col in ['01.남성_4.50대']:\n",
    "        return \"남성 50대\";\n",
    "    if col in ['01.남성_5.60대']:\n",
    "        return \"남성 60대\"\n",
    "    if col in ['02.여성_1.20대이하']:\n",
    "        return \"여성 20대 이하\";\n",
    "    if col in ['02.여성_2.30대']:\n",
    "        return \"여성 30대\";\n",
    "    if col in ['02.여성_3.40대']:\n",
    "        return \"여성 40대\";\n",
    "    if col in ['02.여성_4.50대']:\n",
    "        return \"여성 50대\";\n",
    "    if col in ['02.여성_5.60대']:\n",
    "        return \"여성 60대\"\n",
    "    else:\n",
    "        return 1000"
   ]
  },
  {
   "cell_type": "code",
   "execution_count": 3,
   "metadata": {},
   "outputs": [],
   "source": [
    "def place(x):\n",
    "    if x in ['국/탕/백반류','돼지고기','소고기','기타고기']:\n",
    "        return '한식'\n",
    "    \n",
    "    if x in ['해산물']:\n",
    "        return '일식/수산물'\n",
    "    \n",
    "    if x in ['닭고기']:\n",
    "        return '닭/오리요리'\n",
    "    \n",
    "    if x in ['종합양식']:\n",
    "        return '양식'\n",
    "    \n",
    "    if x in ['면요리']:\n",
    "        return '분식'"
   ]
  },
  {
   "cell_type": "code",
   "execution_count": 4,
   "metadata": {},
   "outputs": [],
   "source": [
    "def isbefore(value):\n",
    "    if value in ['2019']:\n",
    "        return \"코로나 전\"\n",
    "    if value in ['2020', '2021']:\n",
    "        return \"코로나 후\"\n",
    "    else:\n",
    "        return 1000"
   ]
  },
  {
   "cell_type": "code",
   "execution_count": 5,
   "metadata": {},
   "outputs": [],
   "source": [
    "def findmin(value):\n",
    "    if value in ['2019']:\n",
    "        return \"코로나 전\"\n",
    "    if value in ['2020', '2021']:\n",
    "        return \"코로나 후\"\n",
    "    else:\n",
    "        return 1000"
   ]
  },
  {
   "cell_type": "code",
   "execution_count": 6,
   "metadata": {},
   "outputs": [],
   "source": [
    "df1 = pd.read_csv('KB국민카드_금융빅데이터경진대회_데이터_raw2.csv')\n",
    "dfbefore = df1[df1['기준년도']==2019]\n",
    "dfb_group = dfbefore.groupby(by=['성별구분','연령대']).sum()[['매출건수']].reset_index()\n",
    "dfafter = df1[df1['기준년도']==(2020|2021)]\n",
    "dfa_group = dfafter.groupby(by=['성별구분','연령대']).sum()[['매출건수']].reset_index()"
   ]
  },
  {
   "cell_type": "code",
   "execution_count": 7,
   "metadata": {},
   "outputs": [],
   "source": [
    "is_Seoul = df1['한글시도명'] == '서울특별시'\n",
    "Seoul=df1[is_Seoul]\n",
    "Seoul = Seoul.astype('string')##모든 데이터타입을 string으로\n",
    "Seoul = Seoul.astype({'매출건수': 'int'})\n",
    "Seoul['기준년월']=Seoul['기준년월'].str.zfill(2)\n",
    "Seoul[\"날짜\"] = Seoul[\"기준년도\"].map(str)+\"-\"+Seoul[\"기준년월\"]\n",
    "pie_food = Seoul.groupby(['기준년도','성별구분','연령대','마케팅업종세분류명','마케팅업종세세분류명']).sum(['매출건수'])\n",
    "pie_food = pie_food.reset_index()\n",
    "\n",
    "pie_food=pie_food.astype({'성별구분' : 'string', '연령대' : 'string'})\n",
    "cols=['성별구분', '연령대']\n",
    "pie_food['성별연령'] = pie_food[cols].apply(lambda row: '_'.join(row.values.astype(str)), axis=1)\n",
    "pie_food.drop(columns=['성별구분', '연령대'], inplace=True)\n",
    "\n",
    "pie_food['new성별연령']=pie_food['성별연령'].map(agesexfunction)\n",
    "#TotalForeigner['생활지역권'] = TotalForeigner['행정동코드'].map(myfunction)\n",
    "pie_food.drop(columns=['성별연령'], inplace=True)\n",
    "pie_food = pie_food.astype('string')##모든 데이터타입을 string으로\n",
    "pie_food = pie_food.astype({'매출건수': 'int'})\n",
    "pie_food['중분류명']=pie_food['마케팅업종세분류명'].map(place)"
   ]
  },
  {
   "cell_type": "code",
   "execution_count": 8,
   "metadata": {},
   "outputs": [],
   "source": [
    "## 서로 다른 csv 파일의 요식업종을 일치시키는 함수\n",
    "def place(x):\n",
    "    if x in ['국/탕/백반류','돼지고기','소고기','기타고기']:\n",
    "        return '한식'\n",
    "    \n",
    "    if x in ['해산물']:\n",
    "        return '일식/수산물'\n",
    "    \n",
    "    if x in ['닭고기']:\n",
    "        return '닭/오리요리'\n",
    "    \n",
    "    if x in ['종합양식']:\n",
    "        return '양식'\n",
    "    \n",
    "    if x in ['면요리']:\n",
    "        return '분식'"
   ]
  },
  {
   "cell_type": "markdown",
   "metadata": {},
   "source": [
    "### 1-2. 소상공인시장진흥공단_상가정보 : 서울시 내의 상가 분석"
   ]
  },
  {
   "cell_type": "code",
   "execution_count": 9,
   "metadata": {},
   "outputs": [],
   "source": [
    "##행정동을 지역생활권으로 바꾸는 함수\n",
    "def myfunction(x):\n",
    "    #종로\n",
    "    if re.search(x,'평창동, 부암동') is not None:\n",
    "        return '평창.부암'\n",
    "    if re.search(x,'종로1.2.3.4가동, 종로5.6가동, 혜화동, 이화동') is not None: #가동인지 그냥 동인지\n",
    "        return '혜화.이화'\n",
    "    if re.search(x,'창신1동 창신2동 창신3동, 숭인1동, 숭인2동부암동') is not None:\n",
    "        return '창신.숭인'\n",
    "    if re.search(x,' 청운효자동, 사직동, 삼청동, 무악동, 교남동, 가회동') is not None:\n",
    "        return '청운효자.사직'\n",
    "    \n",
    "    #중구\n",
    "    if re.search(x,'소공동, 회현동, 명동, 중림동') is not None:\n",
    "        return '소공.회현'\n",
    "    if re.search(x,'신당동, 황학동, 신당5동, 동화동, 청구동, 약수동, 다산동') is not None:\n",
    "        return '신당.황학'\n",
    "    if re.search(x,'광희동, 을지로동, 필동, 장충동') is not None:\n",
    "        return '필동.장충'\n",
    "    \n",
    "    #용산구\n",
    "    if re.search(x,'원효로1동, 원효로2동, 효창동, 용문동, 청파동') is not None:\n",
    "        return '청파.원효'\n",
    "    if re.search(x,'후암동, 용산2가동, 남영동, 이태원2동') is not None:\n",
    "        return '후암.용산'\n",
    "    if re.search(x,'한강로동, 서빙고동, 이촌1동, 이촌2동') is not None:\n",
    "        return '이촌.한강'\n",
    "    if re.search(x,'한남동, 이태원1동, 보광동') is not None:\n",
    "        return '한남'\n",
    "    \n",
    "    \n",
    "    #성동구\n",
    "    if re.search(x,'성수1가1동 성수1가2동, 성수2가1동, 성수2가3동, 송정동') is not None:\n",
    "        return '성수'\n",
    "    if re.search(x,'금호1가동 금호2가동 금호3가동 금호4가동, 옥수동 금호2.3가동') is not None:\n",
    "        return '금호.옥수 '\n",
    "    if re.search(x,'마장동, 사근동, 용답동') is not None:\n",
    "        return '마장.용답'\n",
    "    if re.search(x,'왕십리도선동, 왕십리2동, 행당1동, 행당2동, 응봉동') is not None:\n",
    "        return '왕십리.행당 '\n",
    "    \n",
    "    #강북구\n",
    "    if re.search(x,'번1동 번2동 번3동') is not None:\n",
    "        return '번동'\n",
    "    if re.search(x,'삼각산동, 송천동, 송중동') is not None:\n",
    "        return '삼각산'\n",
    "    if re.search(x,'우이동, 인수동, 수유2동 수유3동') is not None:\n",
    "        return '수유'\n",
    "    if re.search(x,'수유1동, 삼양동, 미아동') is not None:\n",
    "        return '미아'\n",
    "    \n",
    "    #중랑구\n",
    "    if re.search(x,'묵1동 묵2동, 중화1동 중화2동, 상봉1동 상봉2동') is not None:\n",
    "        return '중화.묵동'\n",
    "    if re.search(x,'신내1동 신내2동, 망우본동') is not None:\n",
    "        return '신내.망우'\n",
    "    if re.search(x,'면목2동 면목3동 면목4동 면목5동, 면목7동 면목8동, 면목본동, 망우3동 면목3,8동') is not None:\n",
    "        return '면목'\n",
    "    \n",
    "    #성북구\n",
    "    if re.search(x,' 정릉1동 정릉2동 정릉3동 정릉4동') is not None:\n",
    "        return '정릉'\n",
    "    if re.search(x,'성북동, 삼선동, 동선동, 돈암2동, 안암동, 보문동') is not None:\n",
    "        return '성북.동선'\n",
    "    if re.search(x,'장위1동 장위2동 장위3동, 석관동') is not None:\n",
    "        return '장위.석관'\n",
    "    if re.search(x,'돈암1동, 종암동, 월곡2동') is not None:\n",
    "        return '종암.월곡'\n",
    "    if re.search(x,'길음1동,길음2동 , 월곡1동') is not None:\n",
    "        return '길음'\n",
    "    \n",
    "    #동대문구\n",
    "    if re.search(x,'장안1동 장안2동') is not None:\n",
    "        return '장안'\n",
    "    if re.search(x,'전농1동 전농2동, 답십리1동 답십리2동') is not None:\n",
    "        return '전농.답십리'\n",
    "    if re.search(x,'이문1동-이문2동, 회기동, 휘경1동 휘경2동') is not None:\n",
    "        return '이문.휘경.회기 '\n",
    "    if re.search(x,'청량리동, 제기동, 용신동') is not None:\n",
    "        return '청량리'\n",
    "    \n",
    "    #노원구\n",
    "    if re.search(x,'상계1동, 상계8동, 상계9동') is not None:\n",
    "        return '마들'\n",
    "    if re.search(x,'상계3.4동 상계5동') is not None:\n",
    "        return '상계'\n",
    "    if re.search(x,'상계2동 상계6.7동, 상계10동') is not None:\n",
    "        return '노원'\n",
    "    if re.search(x,'중계본동, 중계1동, 중계4동') is not None:\n",
    "        return '중계'\n",
    "    if re.search(x,'하계1동 하계2동 중계2.3동') is not None:\n",
    "        return '하계'\n",
    "    if re.search(x,'월계1동 월계2동-월계3동') is not None:\n",
    "        return '월계'\n",
    "    if re.search(x,'공릉1동 공릉2동') is not None:\n",
    "        return '공릉'\n",
    "    \n",
    "    #광진구\n",
    "    if re.search(x,'중곡1동 중곡2동 중곡3동 중곡4동') is not None:\n",
    "        return '중곡'\n",
    "    if re.search(x,'구의1동 구의2동 구의3동, 광장동') is not None:\n",
    "        return '구의'\n",
    "    if re.search(x,'군자동, 능동, 화양동') is not None:\n",
    "        return '화양'\n",
    "    if re.search(x,'자양1동 자양2동 자양3동-자양4동') is not None:\n",
    "        return '자양'\n",
    "    \n",
    "    #도봉구\n",
    "    if re.search(x,'도봉1동-도봉2동') is not None:\n",
    "        return '도봉'\n",
    "    if re.search(x,'방학1동 방학2동 방학3동') is not None:\n",
    "        return '방학'\n",
    "    if re.search(x,'쌍문1동-쌍문2동, 쌍문4동') is not None:\n",
    "        return '쌍문'\n",
    "    if re.search(x,'쌍문3동, 창2동-창3동') is not None:\n",
    "        return '초안산'\n",
    "    if re.search(x,'창1동, 창4동-창5동') is not None:\n",
    "        return '창동'\n",
    "    \n",
    "    \n",
    "    #은평구\n",
    "    if re.search(x,'진관동') is not None:\n",
    "        return '진관'\n",
    "    if re.search(x,'갈현1동 갈현2동, 구산동, 역촌동') is not None:\n",
    "        return '연신내'\n",
    "    if re.search(x,'수색동, 증산동, 신사1동 신사2동') is not None:\n",
    "        return '수색'\n",
    "    if re.search(x,'불광1동 불광2동, 대조동') is not None:\n",
    "        return '불광'\n",
    "    if re.search(x,'응암1동 응암2동 응암3동, 녹번동') is not None:\n",
    "        return '응암'\n",
    "    \n",
    "    #서대문구\n",
    "    if re.search(x,'홍은1동홍은2동, 홍제1동 홍제2동 홍제3동') is not None:\n",
    "        return '홍제'\n",
    "    if re.search(x,'남가좌1동남가좌2동, 북가좌1동북가좌2동') is not None:\n",
    "        return '가좌'\n",
    "    if re.search(x,'천연동, 충현동, 북아현동') is not None:\n",
    "        return '충청'\n",
    "    if re.search(x,'연희동, 신촌동') is not None:\n",
    "        return '신촌'\n",
    "    \n",
    "    #마포구\n",
    "    if re.search(x,'상암동') is not None:\n",
    "        return '상암'\n",
    "    if re.search(x,'성산1동 성산2동, 망원1동망원2동') is not None:\n",
    "        return '성산'\n",
    "    if re.search(x,'연남동, 서교동, 합정동, 서강동') is not None:\n",
    "        return '합정.서교'\n",
    "    if re.search(x,'대흥동, 염리동, 아현동, 공덕동') is not None:\n",
    "        return '아현'\n",
    "    if re.search(x,'신수동, 용강동, 도화동') is not None:\n",
    "        return '용강'\n",
    "    \n",
    "    #양천구\n",
    "    if re.search(x,'신월1동, 신월3동, 신월5동') is not None:\n",
    "        return '신월1'\n",
    "    if re.search(x,'신월2동, 신월4동, 신월6동-신월7동') is not None:\n",
    "        return '신월2'\n",
    "    if re.search(x,'신정1동, 신정3동-신정4동') is not None:\n",
    "        return '신정'\n",
    "    if re.search(x,'목2동, 목3동, 목4동') is not None:\n",
    "        return '목동1'\n",
    "    if re.search(x,'목1동, 목5동, 신정2동, 신정6동 신정7동') is not None:\n",
    "        return '목동2'\n",
    "    \n",
    "    #동작구\n",
    "    if re.search(x,'노량진1동 노량진2동, 대방동') is not None:\n",
    "        return '노량진'\n",
    "    if re.search(x,'흑석동') is not None:\n",
    "        return '흑석'\n",
    "    if re.search(x,'신대방1동 신대방2동') is not None:\n",
    "        return '신대방'\n",
    "    if re.search(x,'상도1동 상도2동 상도3동 상도4동') is not None:\n",
    "        return '상도'\n",
    "    if re.search(x,'사당1동 사당2동 사당3동 사당4동 사당5동') is not None:\n",
    "        return '사당'\n",
    "    \n",
    "    #금천구\n",
    "    if re.search(x,'가산동') is not None:\n",
    "        return '가산'\n",
    "    if re.search(x,'독산1동 독산2동 독산3동 독산4동') is not None:\n",
    "        return '독산'\n",
    "    if re.search(x,'시흥1동 시흥2동 시흥3동 시흥4동 시흥5동') is not None:\n",
    "        return '시흥'\n",
    "    \n",
    "    #영등포구\n",
    "    if re.search(x,'여의도동 여의동') is not None:\n",
    "        return '여의도'\n",
    "    if re.search(x,'당산1동, 양평1동, 도림동, 문래동, 영등포동, 영등포본동') is not None:\n",
    "        return '영등포'\n",
    "    if re.search(x,'당산2동, 양평2동') is not None:\n",
    "        return '당산'\n",
    "    if re.search(x,'신길1동,신길2동 신길3동 신길4동 신길5동 신길6동 신길7동') is not None:\n",
    "        return '신길'\n",
    "    if re.search(x,'대림1동 대림2동 대림3동') is not None:\n",
    "        return '대림'\n",
    "    \n",
    "    #구로구\n",
    "    if re.search(x,'고척1동 고척2동, 개봉1동 개봉2동 개봉3동') is not None:\n",
    "        return '고척.개봉'\n",
    "    if re.search(x,'오류1동 오류2동, 수궁동') is not None:\n",
    "        return '오류.수궁'\n",
    "    \n",
    "    ##3동!!!\n",
    "    if re.search(x,'신도림동, 구로1동 구로2동, 구로5동') is not None:\n",
    "        return '구로신도림'\n",
    "    if re.search(x,'가리봉동, 구로2동, 구로4동 구로3동') is not None:\n",
    "        return '구로디지털단지'\n",
    "    \n",
    "    #강서구\n",
    "    if re.search(x,'공항동, 방화1동 방화2동 방화3동') is not None:\n",
    "        return '공항.방화'\n",
    "    if re.search(x,'등촌3동, 가양1동') is not None:\n",
    "        return '마곡'\n",
    "    if re.search(x,'염창동, 등촌1동, 가양2동 가양3동') is not None:\n",
    "        return '염창'\n",
    "    if re.search(x,'우장산동, 발산1동, 화곡3동') is not None:\n",
    "        return '발산'\n",
    "    if re.search(x,'화곡1동 화곡2동, 화곡4동, 화곡8동') is not None:\n",
    "        return '화곡1'\n",
    "    if re.search(x,'등촌2동, 화곡본동, 화곡6동') is not None:\n",
    "        return '화곡2'\n",
    "    \n",
    "    #관악구\n",
    "    if re.search(x,'청림동, 행운동, 낙성대동, 인헌동, 남현동') is not None:\n",
    "        return '낙성대'\n",
    "    if re.search(x,'신사동, 난향동, 조원동, 미성동, 난곡동') is not None:\n",
    "        return '난곡'\n",
    "    if re.search(x,'보라매동, 서원동, 신원동, 신림동') is not None:\n",
    "        return '신림'\n",
    "    if re.search(x,'중앙동, 은천동, 성현동, 청룡동') is not None:\n",
    "        return '봉천'\n",
    "    if re.search(x,'서림동, 대학동, 삼성동') is not None:\n",
    "        return '대학'\n",
    "    \n",
    "    #서초구\n",
    "    if re.search(x,'반포본동, 반포1동 반포2동 반포3동 반포4동, 잠원동') is not None:\n",
    "        return '반포'\n",
    "    if re.search(x,'방배본동, 방배1동 방배2동 방배3동 방배4동') is not None:\n",
    "        return '방배'\n",
    "    if re.search(x,'서초1동 서초2동 서초3동 서초4동') is not None:\n",
    "        return '서초'\n",
    "    if re.search(x,'양재1동 양재2동, 내곡동') is not None:\n",
    "        return '양재'\n",
    "    \n",
    "    #강동구\n",
    "    if re.search(x,'암사1동 암사2동 암사3동') is not None:\n",
    "        return '암사'\n",
    "    if re.search(x,'명일1동 명일2동, 고덕1동 고덕2동') is not None:\n",
    "        return '명일.고덕'\n",
    "    if re.search(x,'천호1동 천호2동 천호3동, 성내1동 성내2동 성내3동') is not None:\n",
    "        return '천호.성내'\n",
    "    if re.search(x,'강일동, 상일동') is not None:\n",
    "        return '강일.상일'\n",
    "    if re.search(x,'둔촌1동 둔촌2동, 길동') is not None:\n",
    "        return '길동.둔촌'\n",
    "    \n",
    "    #강남구\n",
    "    if re.search(x,'신사동, 압구정동, 청담동') is not None:\n",
    "        return '압구정.청담'\n",
    "    if re.search(x,'삼성1동 삼성2동') is not None:\n",
    "        return '삼성'\n",
    "    if re.search(x,'역삼1동 역삼2동, 논현1동 논현2동') is not None:\n",
    "        return '역삼.논현 '\n",
    "    if re.search(x,'도곡1동 도곡2동, 대치1동 대치2동, 대치4동') is not None:\n",
    "        return '대치.도곡'\n",
    "    if re.search(x,'개포1동 개포2동, 개포4동, 일원1동 일원2동') is not None:\n",
    "        return '개포.일원'\n",
    "    if re.search(x,'수서동, 세곡동, 일원본동') is not None:\n",
    "        return '수서.세곡'\n",
    "    \n",
    "    #송파구 - \n",
    "    if re.search(x,'잠실본동, 잠실2동 잠실3동, 잠실7동') is not None:\n",
    "        return '잠실1'\n",
    "    if re.search(x,'잠실4동, 잠실6동, 풍납1동 풍납2동') is not None:\n",
    "        return '잠실2'\n",
    "    if re.search(x,'송파1동 송파2동, 방이1동 방이2동') is not None:\n",
    "        return '송파'\n",
    "    if re.search(x,'오륜동, 오금동, 가락본동, 가락2동') is not None:\n",
    "        return '가락'\n",
    "    if re.search(x,'삼전동, 석촌동, 가락1동') is not None:\n",
    "        return '석촌'\n",
    "    if re.search(x,'문정1동 문정2동, 장지동, 위례동') is not None:\n",
    "        return '문정'    \n",
    "    if re.search(x,'거여1동, 거여2동, 마천1동, 마천2동, 위례동') is not None:\n",
    "        return '거여.마천'\n",
    "    \n",
    "    return x+'dd'"
   ]
  },
  {
   "cell_type": "code",
   "execution_count": 10,
   "metadata": {},
   "outputs": [],
   "source": [
    "df2 = pd.read_csv('소상공인시장진흥공단_상가(상권)정보_서울_202103.csv')\n",
    "df2=df2[[ '상권업종대분류코드', '상권업종대분류명', '상권업종중분류명',  '상권업종소분류명', '표준산업분류명', \n",
    "        '시군구명','법정동코드', '법정동명', '대지구분명', '행정동명' ]]\n",
    "df2.rename(columns = {'상권업종대분류코드' : '대분류코드','상권업종대분류명' : '대분류명',\n",
    "                     '상권업종중분류명' : '중분류명','상권업종소분류명' : '소분류명',\n",
    "                    '표준산업분류명' : '분류명',},inplace = True)\n",
    "df2 = df2.loc[(df2['대분류명'] == '음식') &(df2['대분류코드']=='Q'),:] # 음식인 것들만\n",
    "df2.reset_index(drop=True, inplace=True) #index정리\n",
    "df2['생활지역권']=df2['행정동명'].map(myfunction)\n",
    "whichregion=copy.deepcopy(df2[['행정동명', '생활지역권']])\n",
    "df2.drop(columns=['대분류코드','대분류명','대지구분명','시군구명','법정동코드','법정동명','행정동명','분류명'],inplace = True)\n",
    "onemenuSelect=copy.deepcopy(df2)"
   ]
  },
  {
   "cell_type": "markdown",
   "metadata": {},
   "source": [
    "### 1-3. 서울생활인구 : 예비소비자 분석"
   ]
  },
  {
   "cell_type": "code",
   "execution_count": 11,
   "metadata": {},
   "outputs": [],
   "source": [
    "##행정동 코드를 지역생활권으로 바꾸는 함수\n",
    "def regionfunction(x):\n",
    "    #종로\n",
    "    if x in [1111056000, 1111055000]:\n",
    "        return '평창.부암'\n",
    "    if x in [1111061500, 1111063000, 1111064000, 1111065000]:\n",
    "        return '혜화.이화'\n",
    "    if x in [1111067000, 1111068000, 1111069000, 1111070000, 1111071000]:\n",
    "        return '창신.숭인'\n",
    "    if x in [1111051500, 1111053000, 1111054000, 1111057000, 1111058000, 1111060000]:\n",
    "        return '청운효자.사직'\n",
    "    \n",
    "    #중구\n",
    "    if x in [1114052000, 1114054000, 1114055000, 1114068000]:\n",
    "        return '소공.회현'\n",
    "    if x in [1114061500, 1114062500, 1114063500, 1114064500, 1114065000, 1114066500, 1114067000]:\n",
    "        return '신당.황학'\n",
    "    if x in [1114057000, 1114058000, 1114059000, 1114060500]:\n",
    "        return '필동.장충'\n",
    "    \n",
    "    #용산구\n",
    "    if x in [1117055500, 1117056000, 1117057000, 1117058000, 1117059000]:\n",
    "        return '청파.원효'\n",
    "    if x in [1117051000, 1117052000, 1117053000, 1117066000]:\n",
    "        return '후암.용산'\n",
    "    if x in [1117063000, 1117064000, 1117062500, 1117069000]:\n",
    "        return '이촌.한강'\n",
    "    if x in [1117065000, 1117068500, 1117070000]:\n",
    "        return '한남'\n",
    "    \n",
    "    \n",
    "    #성동구\n",
    "    if x in [1120065000, 1120066000, 1120067000, 1120069000, 1120072000]:\n",
    "        return '성수'\n",
    "    if x in [1120059000, 1120061500, 1120062000, 1120064500]:\n",
    "        return '금호.옥수 '\n",
    "    if x in [1120054000, 1120055000, 1120079000]:\n",
    "        return '마장.용답'\n",
    "    if x in [1120052000, 1120053500, 1120056000, 1120057000, 1120058000]:\n",
    "        return '왕십리.행당 '\n",
    "    \n",
    "    #강북구\n",
    "    if x in [1130559000, 1130560000, 1130560600]: \n",
    "        return '번동'\n",
    "    if x in [1130554500, 1130555500, 1130557500]:\n",
    "        return '삼각산'\n",
    "    if x in [1130562000, 11305635000, 1130564000, 1130566000,1130564500]:  \n",
    "        return '수유'\n",
    "    if x in [1130561000, 1130553400, 1130553500, 1130563000]: \n",
    "        return '미아'\n",
    "    \n",
    "    #중랑구\n",
    "    if x in [1126058000, 1126059000, 1126060000, 1126061000, 1126062000, 1126063000]:\n",
    "        return '중화.묵동'\n",
    "    if x in [1126068000, 1126069000, 1126065500]:\n",
    "        return '신내.망우'\n",
    "    if x in [1126052000, 1126054000, 1126055000, 1126056500, 1126057000, 1126057500, 1126066000]:\n",
    "        return '면목'\n",
    "    \n",
    "    #성북구\n",
    "    if x in [1129062000, 1129063000, 1129064000, 1129065000]:\n",
    "        return '정릉'\n",
    "    if x in [1129052500, 1129055500, 1129057500, 1129059000, 1129060000, 1129061000]:\n",
    "        return '성북.동선'\n",
    "    if x in [1129076000, 1129077000, 1129078000, 1129081000]:\n",
    "        return '장위.석관'\n",
    "    if x in [1129058000, 1129070500, 1129072500]:\n",
    "        return '종암.월곡'\n",
    "    if x in [1129066000, 1129068500, 1129071500]:\n",
    "        return '길음'\n",
    "    \n",
    "    #동대문구\n",
    "    if x in [1123065000, 1123066000]:\n",
    "        return '장안'\n",
    "    if x in [1123056000, 1123057000, 1123060000, 1123061000]:\n",
    "        return '전농.답십리'\n",
    "    if x in [1123071000, 1123072000, 1123073000, 1123074000, 1123075000]:\n",
    "        return '이문.휘경.회기 '\n",
    "    if x in [1123070500, 1123053600, 1123054500]:\n",
    "        return '청량리'\n",
    "    \n",
    "    #노원구\n",
    "    if x in [1135063000, 1135070000, 1135071000]:\n",
    "        return '마들'\n",
    "    if x in [1135066500, 1135067000]:\n",
    "        return '상계'\n",
    "    if x in [1135064000, 1135069500, 1135072000]:\n",
    "        return '노원'\n",
    "    if x in [1135061900, 1135062100, 1135062400]:\n",
    "        return '중계'\n",
    "    if x in [1135061100, 1135061200, 1135062500]:\n",
    "        return '하계'\n",
    "    if x in [1135056000, 1135057000, 1135058000]:\n",
    "        return '월계'\n",
    "    if x in [1135059500, 1135060000]:\n",
    "        return '공릉'\n",
    "    \n",
    "    #광진구\n",
    "    if x in [1121574000, 1121575000, 1121576000, 1121577000]:\n",
    "        return '중곡'\n",
    "    if x in [1121585000, 1121586000, 1121587000, 1121581000]:\n",
    "        return '구의'\n",
    "    if x in [1121571000, 1121573000, 1121578000]:\n",
    "        return '화양'\n",
    "    if x in [1121582000, 1121583000, 1121584000, 1121584700]:\n",
    "        return '자양'\n",
    "    \n",
    "    #도봉구\n",
    "    if x in [1132052100, 1132052200]:\n",
    "        return '도봉'\n",
    "    if x in [1132069000, 1132070000, 1132071000]:\n",
    "        return '방학'\n",
    "    if x in [1132066000, 1132067000, 1132068100]:\n",
    "        return '쌍문'\n",
    "    if x in [1132068000, 1132051200, 1132051300]:\n",
    "        return '초안산'\n",
    "    if x in [1132051100, 1132051400, 1132051500]:\n",
    "        return '창동'\n",
    "    \n",
    "    \n",
    "    #은평구\n",
    "    if x in [1138069000]:\n",
    "        return '진관'\n",
    "    if x in [1138055100, 1138055200, 1138056000, 1138062500]:\n",
    "        return '연신내'\n",
    "    if x in [1138063100, 1138063200, 1138064000, 1138065000]:\n",
    "        return '수색'\n",
    "    if x in [1138057000, 1138052000, 1138053000]:\n",
    "        return '불광'\n",
    "    if x in [1138058000, 1138059000, 1138060000, 1138051000]:\n",
    "        return '응암'\n",
    "    \n",
    "    #서대문구\n",
    "    if x in [1141062000, 1141064000, 1141065500, 1141066000, 1141068500]:\n",
    "        return '홍제'\n",
    "    if x in [1141069000, 1141070000, 1141071000, 1141072000]:\n",
    "        return '가좌'\n",
    "    if x in [1141052000, 1141055500, 1141056500]:\n",
    "        return '충청'\n",
    "    if x in [1141058500, 1141061500]:\n",
    "        return '신촌'\n",
    "    \n",
    "    #마포구\n",
    "    if x in [1144074000]:\n",
    "        return '상암'\n",
    "    if x in [1144072000, 1144073000, 1144069000, 1144070000]:\n",
    "        return '성산'\n",
    "    if x in [1144071000, 1144065500, 1144066000, 1144068000]:\n",
    "        return '합정.서교'\n",
    "    if x in [1144060000, 1144061000, 1144055500, 1144056500]:\n",
    "        return '아현'\n",
    "    if x in [1144063000, 1144058500, 1144059000]:\n",
    "        return '용강'\n",
    "    \n",
    "    #양천구\n",
    "    if x in [1147056000, 1147058000, 1147060000]:\n",
    "        return '신월1'\n",
    "    if x in [1147057000, 1147059000, 1147061000, 1147061100]:\n",
    "        return '신월2'\n",
    "    if x in [1147062000, 1147064000, 1147065000]:\n",
    "        return '신정'\n",
    "    if x in [1147052000, 1147053000, 1147054000]:\n",
    "        return '목동1'\n",
    "    if x in [1147051000, 1147055000, 1147063000, 1147067000, 1147068000]:\n",
    "        return '목동2'\n",
    "    \n",
    "    #동작구\n",
    "    if x in [1159051000, 1159052000, 1159066000]:\n",
    "        return '노량진'\n",
    "    if x in [1159060500]:\n",
    "        return '흑석'\n",
    "    if x in [1159067000, 1159068000]:\n",
    "        return '신대방'\n",
    "    if x in [1159053000, 1159054000, 1159055000, 1159056000]:\n",
    "        return '상도'\n",
    "    if x in [1159062000, 1159063000, 1159064000, 1159065000, 1159065100]:\n",
    "        return '사당'\n",
    "    \n",
    "    #금천구\n",
    "    if x in [1154551000]:\n",
    "        return '가산'\n",
    "    if x in [1154561000, 1154562000, 1154563000, 1154564000]:\n",
    "        return '독산'\n",
    "    if x in [1154567000, 1154568000, 1154569000, 1154570000, 1154571000]:\n",
    "        return '시흥'\n",
    "    \n",
    "    #영등포구\n",
    "    if x in [1156054000]:\n",
    "        return '여의도'\n",
    "    if x in [1156055000, 1156061000, 1156058500, 1156060500, 1156051500, 1156053500]:\n",
    "        return '영등포'\n",
    "    if x in [1156056000, 1156062000]:\n",
    "        return '당산'\n",
    "    if x in [1156063000, 1156065000, 1156066000, 1156067000, 1156068000, 1156069000]:\n",
    "        return '신길'\n",
    "    if x in [1156070000, 1156071000, 1156072000]:\n",
    "        return '대림'\n",
    "    \n",
    "    #구로구\n",
    "    if x in [1153072000, 1153073000, 1153074000, 1153075000, 1153076000]:\n",
    "        return '고척.개봉'\n",
    "    if x in [1153077000, 1153078000, 1153079000]:\n",
    "        return '오류.수궁'\n",
    "    \n",
    "    ##3동!!!\n",
    "    if x in [1153051000, 1153052000, 1153053000, 1153056000]:\n",
    "        return '구로신도림'\n",
    "    if x in [1153054000, 1153055000, 1153059500]:\n",
    "        return '구로디지털단지'\n",
    "    \n",
    "    #강서구\n",
    "    if x in [1150062000, 1150063000, 1150064000, 1150064100]:\n",
    "        return '공항.방화'\n",
    "    if x in [1150053500, 1150060300]:\n",
    "        return '마곡'\n",
    "    if x in [1150051000, 1150052000, 1150060400, 1150060500]:\n",
    "        return '염창'\n",
    "    if x in [1150061100, 1150061500, 1150056000]:\n",
    "        return '발산'\n",
    "    if x in [1150054000, 1150055000, 1150057000,  1150059300]:\n",
    "        return '화곡1'\n",
    "    if x in [1150053000, 1150059000, 1150059100]:\n",
    "        return '화곡2'\n",
    "    \n",
    "    #관악구\n",
    "    if x in [1162054500, 1162057500, 1162058500, 1162062500, 1162063000]:\n",
    "        return '낙성대'\n",
    "    if x in [1162068500, 1162071500, 1162072500, 1162076500, 1162077500]:\n",
    "        return '난곡'\n",
    "    if x in [1162052500, 1162064500, 1162065500, 1162069500]:\n",
    "        return '신림'\n",
    "    if x in [1162059500, 1162060500, 1162061500, 1162056500]:\n",
    "        return '봉천'\n",
    "    if x in [1162066500, 1162073500, 1162074500]:\n",
    "        return '대학'\n",
    "    \n",
    "    #서초구\n",
    "    if x in [1165054000, 1165055000, 1165056000, 1165057000, 1165058000, 1165058100]:\n",
    "        return '반포'\n",
    "    if x in [1165059000, 1165060000, 1165061000, 1165062000, 1165062100]:\n",
    "        return '방배'\n",
    "    if x in [1165051000, 1165052000, 1165053000, 1165053100]:\n",
    "        return '서초'\n",
    "    if x in [1165065100, 1165065200, 1165066000]:\n",
    "        return '양재'\n",
    "    \n",
    "    #강동구\n",
    "    if x in [1174057000, 1174058000, 1174059000]:\n",
    "        return '암사'\n",
    "    if x in [1174053000, 1174054000, 1174055000, 1174056000]:\n",
    "        return '명일.고덕'\n",
    "    if x in [1174060000, 1174061000, 1174062000, 1174064000, 1174065000, 1174066000]:\n",
    "        return '천호.성내'\n",
    "    if x in [1174051500, 1174052000]:\n",
    "        return '강일.상일'\n",
    "    if x in [1174068500, 1174069000, 1174070000]:\n",
    "        return '길동.둔촌'\n",
    "    \n",
    "    #강남구\n",
    "    if x in [1168051000, 1168054500, 1168056500]:\n",
    "        return '압구정.청담'\n",
    "    if x in [1168058000, 1168059000]:\n",
    "        return '삼성'\n",
    "    if x in [1168064000, 1168065000, 1168052100, 1168053100]:\n",
    "        return '역삼.논현 '\n",
    "    if x in [1168065500, 1168065600, 1168060000, 1168061000, 1168063000]:\n",
    "        return '대치.도곡'\n",
    "    if x in [1168066000, 1168067000, 1168069000, 1168073000, 1168074000]:\n",
    "        return '개포.일원'\n",
    "    if x in [1168070000, 1168075000, 1168072000]:\n",
    "        return '수서.세곡'\n",
    "    \n",
    "    #송파구 - \n",
    "    if x in [1171072000, 1171067000, 1171068000, 1171065000]:\n",
    "        return '잠실1'\n",
    "    if x in [1171069000, 1171071000, 1171051000, 1171052000]:\n",
    "        return '잠실2'\n",
    "    if x in [1171058000, 1171059000, 1171056100, 1171056200]:\n",
    "        return '송파'\n",
    "    if x in [1171056600, 1171057000, 1171062000, 1171063200]:\n",
    "        return '가락'\n",
    "    if x in [1171060000, 1171061000, 1171063100]:\n",
    "        return '석촌'\n",
    "    if x in [1171064100, 1171064200, 1171064600, 1171064700]:\n",
    "        return '문정'    \n",
    "    if x in [1171053100, 1171053200, 1171054000, 1171055000, 1171064700]:\n",
    "        return '거여.마천'\n",
    "    \n",
    "    return 0"
   ]
  },
  {
   "cell_type": "code",
   "execution_count": 12,
   "metadata": {},
   "outputs": [],
   "source": [
    "##시간중 정수 자료형이 아닌 데이터를 을 정수형 시간으로 변환하는 함수\n",
    "def number(time):\n",
    "    if type(time) == 'integer': #in [0,1,2,3,4,5,6,7,8,9,11,12,13,14,15,16,17,18,19,20,21,22,23]:\n",
    "        return time\n",
    "    if time =='0': return 0\n",
    "    if time in ['01','1']: return 1\n",
    "    if time in ['02','2']: return 2\n",
    "    if time in ['03','3']: return 3\n",
    "    if time in ['04','4']: return 4\n",
    "    if time in ['05','5']: return 5\n",
    "    if time in ['06','6']: return 6\n",
    "    if time in ['07','7']: return 7\n",
    "    if time in ['08','8']: return 8\n",
    "    if time in ['09','9']: return 9\n",
    "    if time == '10': return 10\n",
    "    if time == '11': return 11\n",
    "    if time == '12': return 12\n",
    "    if time == '13': return 13\n",
    "    if time == '14': return 14\n",
    "    if time == '15': return 15\n",
    "    if time == '16': return 16\n",
    "    if time == '17': return 17\n",
    "    if time == '18': return 18\n",
    "    if time == '19': return 19\n",
    "    if time == '20': return 20\n",
    "    if time == '21': return 21\n",
    "    if time == '22': return 22\n",
    "    if time == '23': return 23\n",
    "    \n",
    "    return 9999\n",
    "    "
   ]
  },
  {
   "cell_type": "markdown",
   "metadata": {},
   "source": [
    "### 1. 2019 생활인구"
   ]
  },
  {
   "cell_type": "code",
   "execution_count": 13,
   "metadata": {},
   "outputs": [
    {
     "name": "stdout",
     "output_type": "stream",
     "text": [
      "<class 'pandas.core.frame.DataFrame'>\n",
      "RangeIndex: 2798400 entries, 0 to 2798399\n",
      "Data columns (total 32 columns):\n",
      " #   Column           Dtype  \n",
      "---  ------           -----  \n",
      " 0   기준일ID            string \n",
      " 1   시간대구분            int64  \n",
      " 2   행정동코드            int64  \n",
      " 3   총생활인구수           float64\n",
      " 4   남자0세부터9세생활인구수    float64\n",
      " 5   남자10세부터14세생활인구수  float64\n",
      " 6   남자15세부터19세생활인구수  float64\n",
      " 7   남자20세부터24세생활인구수  float64\n",
      " 8   남자25세부터29세생활인구수  float64\n",
      " 9   남자30세부터34세생활인구수  float64\n",
      " 10  남자35세부터39세생활인구수  float64\n",
      " 11  남자40세부터44세생활인구수  float64\n",
      " 12  남자45세부터49세생활인구수  float64\n",
      " 13  남자50세부터54세생활인구수  float64\n",
      " 14  남자55세부터59세생활인구수  float64\n",
      " 15  남자60세부터64세생활인구수  float64\n",
      " 16  남자65세부터69세생활인구수  float64\n",
      " 17  남자70세이상생활인구수     float64\n",
      " 18  여자0세부터9세생활인구수    float64\n",
      " 19  여자10세부터14세생활인구수  float64\n",
      " 20  여자15세부터19세생활인구수  float64\n",
      " 21  여자20세부터24세생활인구수  float64\n",
      " 22  여자25세부터29세생활인구수  float64\n",
      " 23  여자30세부터34세생활인구수  float64\n",
      " 24  여자35세부터39세생활인구수  float64\n",
      " 25  여자40세부터44세생활인구수  float64\n",
      " 26  여자45세부터49세생활인구수  float64\n",
      " 27  여자50세부터54세생활인구수  float64\n",
      " 28  여자55세부터59세생활인구수  float64\n",
      " 29  여자60세부터64세생활인구수  float64\n",
      " 30  여자65세부터69세생활인구수  float64\n",
      " 31  여자70세이상생활인구수     float64\n",
      "dtypes: float64(29), int64(2), string(1)\n",
      "memory usage: 683.2 MB\n"
     ]
    }
   ],
   "source": [
    "# 2019생활인구\n",
    "import pandas as pd\n",
    "Local201901=pd.read_csv(r'LOCAL_PEOPLE_DONG_201901.csv', error_bad_lines=False)\n",
    "Local201901=Local201901.reset_index()\n",
    "Local201901=Local201901.shift(periods=6,axis=1)\n",
    "Local201901=Local201901.drop(columns=['level_0','level_1','level_2','level_3','level_4','level_5'])\n",
    "\n",
    "Local201902=pd.read_csv(r'LOCAL_PEOPLE_DONG_201902.csv', engine='python', error_bad_lines=False,encoding='UTF8' )\n",
    "Local201902=Local201902.reset_index()\n",
    "Local201902=Local201902.shift(periods=1,axis=1)\n",
    "Local201902=Local201902.drop(columns=['index'])\n",
    "\n",
    "Local201903=pd.read_csv(r'LOCAL_PEOPLE_DONG_201903.csv', engine='python', error_bad_lines=False, encoding='UTF8')\n",
    "Local201903=Local201903.reset_index()\n",
    "Local201903=Local201903.shift(periods=6,axis=1)\n",
    "Local201903=Local201903.drop(columns=['level_0','level_1','level_2','level_3','level_4','level_5'])\n",
    "\n",
    "Local201904=pd.read_csv(r'LOCAL_PEOPLE_DONG_201904.csv',engine='python', error_bad_lines=False, encoding='UTF8')\n",
    "Local201904=Local201904.reset_index()\n",
    "Local201904=Local201904.shift(periods=1,axis=1)\n",
    "Local201904=Local201904.drop(columns=['index'])\n",
    "\n",
    "Local201905=pd.read_csv(r'LOCAL_PEOPLE_DONG_201905.csv',engine='python', error_bad_lines=False, encoding='UTF8')\n",
    "Local201905=Local201905.reset_index()\n",
    "Local201905=Local201905.shift(periods=1,axis=1)\n",
    "Local201905=Local201905.drop(columns=['index'])\n",
    "\n",
    "Local201906=pd.read_csv(r'LOCAL_PEOPLE_DONG_201906.csv', engine='python', error_bad_lines=False, encoding='UTF8')\n",
    "Local201906=Local201906.reset_index()\n",
    "Local201906=Local201906.shift(periods=1,axis=1)\n",
    "Local201906=Local201906.drop(columns=['index'])\n",
    "\n",
    "Local201907=pd.read_csv(r'LOCAL_PEOPLE_DONG_201907.csv', engine='python', error_bad_lines=False, encoding='UTF8')\n",
    "Local201907=Local201907.reset_index()\n",
    "Local201907=Local201907.shift(periods=1,axis=1)\n",
    "Local201907=Local201907.drop(columns=['index'])\n",
    "\n",
    "Local201908=pd.read_csv(r'LOCAL_PEOPLE_DONG_201908.csv', engine='python', error_bad_lines=False, encoding='UTF8')\n",
    "Local201908=Local201908.reset_index()\n",
    "Local201908=Local201908.shift(periods=1,axis=1)\n",
    "Local201908=Local201908.drop(columns=['index'])\n",
    "\n",
    "Local201909=pd.read_csv(r'LOCAL_PEOPLE_DONG_201909.csv', engine='python', error_bad_lines=False, encoding='UTF8')\n",
    "Local201909=Local201909.reset_index()\n",
    "Local201909=Local201909.shift(periods=1,axis=1)\n",
    "Local201909=Local201909.drop(columns=['index'])\n",
    "\n",
    "#인코딩 이상하게 된 것 같아요 info 하면 잘 ㅇ안나와서 나중에 다시 추가해야할듯..! S:encoding='cp949'\n",
    "Local201910=pd.read_csv(r'LOCAL_PEOPLE_DONG_201910.csv', engine='python', error_bad_lines=False, encoding='cp949')\n",
    "Local201910=Local201910.reset_index()\n",
    "Local201910=Local201910.shift(periods=1,axis=1)\n",
    "Local201910=Local201910.drop(columns=['index'])\n",
    "\n",
    "Local201911=pd.read_csv(r'LOCAL_PEOPLE_DONG_201911.csv', engine='python', error_bad_lines=False, encoding='UTF8')\n",
    "Local201911=Local201911.reset_index()\n",
    "Local201911=Local201911.shift(periods=1,axis=1)\n",
    "Local201911=Local201911.drop(columns=['index'])\n",
    "\n",
    "Local201912=pd.read_csv(r'LOCAL_PEOPLE_DONG_201912.csv', engine='python', error_bad_lines=False, encoding='UTF8')\n",
    "Local201912=Local201912.reset_index()\n",
    "Local201912=Local201912.shift(periods=1,axis=1)\n",
    "Local201912=Local201912.drop(columns=['index'])\n",
    "\n",
    "Local2019 = pd.concat([Local201903,Local201904,Local201905,Local201906,Local201907,Local201908,Local201909, #Local201910,\n",
    "                      Local201911,Local201912], ignore_index = True)\n",
    "\n",
    "## Local2019 = Local2019[['기준일ID','시간대구분','행정동코드','총생활인구수']]\n",
    "Local2019.행정동코드 = Local2019.행정동코드 * 100\n",
    "Local2019.총생활인구수 = Local2019.총생활인구수 * 10000\n",
    "Local2019 = Local2019.astype({'기준일ID':'string'})\n",
    "#Local2020.총생활인구수\n",
    "Local2019.info()"
   ]
  },
  {
   "cell_type": "markdown",
   "metadata": {},
   "source": [
    "## 2020 생활인구"
   ]
  },
  {
   "cell_type": "code",
   "execution_count": 14,
   "metadata": {},
   "outputs": [],
   "source": [
    "# 2020 생활인구\n",
    "Local202001=pd.read_csv(r'LOCAL_PEOPLE_DONG_202001.csv', engine='python', error_bad_lines=False, encoding='UTF8')\n",
    "Local202001=Local202001.reset_index()\n",
    "Local202001=Local202001.shift(periods=6,axis=1)\n",
    "Local202001=Local202001.drop(columns=['level_0','level_1','level_2','level_3','level_4','level_5'])\n",
    "\n",
    "Local202002=pd.read_csv(r'LOCAL_PEOPLE_DONG_202002.csv', engine='python', error_bad_lines=False, encoding='UTF8')\n",
    "Local202002=Local202002.reset_index()\n",
    "Local202002=Local202002.shift(periods=1,axis=1)\n",
    "Local202002=Local202002.drop(columns=['index'])\n",
    "\n",
    "Local202003=pd.read_csv(r'LOCAL_PEOPLE_DONG_202003.csv', engine='python', error_bad_lines=False, encoding='UTF8')\n",
    "Local202003=Local202003.reset_index()\n",
    "Local202003=Local202003.shift(periods=1,axis=1)\n",
    "Local202003=Local202003.drop(columns=['index'])\n",
    "\n",
    "Local202004=pd.read_csv(r'LOCAL_PEOPLE_DONG_202004.csv', engine='python', error_bad_lines=False, encoding='UTF8')\n",
    "Local202004=Local202004.reset_index()\n",
    "Local202004=Local202004.shift(periods=1,axis=1)\n",
    "Local202004=Local202004.drop(columns=['index'])\n",
    "\n",
    "Local202005=pd.read_csv(r'LOCAL_PEOPLE_DONG_202005.csv', engine='python', error_bad_lines=False, encoding='UTF8')\n",
    "Local202005=Local202005.reset_index()\n",
    "Local202005=Local202005.shift(periods=1,axis=1)\n",
    "Local202005=Local202005.drop(columns=['index'])\n",
    "\n",
    "Local202006=pd.read_csv(r'LOCAL_PEOPLE_DONG_202006.csv', engine='python', error_bad_lines=False, encoding='UTF8')\n",
    "Local202006=Local202006.reset_index()\n",
    "Local202006=Local202006.shift(periods=1,axis=1)\n",
    "Local202006=Local202006.drop(columns=['index'])\n",
    "\n",
    "Local202007=pd.read_csv(r'LOCAL_PEOPLE_DONG_202007.csv', engine='python', error_bad_lines=False, encoding='UTF8')\n",
    "Local202007=Local202007.reset_index()\n",
    "Local202007=Local202007.shift(periods=1,axis=1)\n",
    "Local202007=Local202007.drop(columns=['index'])\n",
    "\n",
    "Local202008=pd.read_csv(r'LOCAL_PEOPLE_DONG_202008.csv', engine='python', error_bad_lines=False, encoding='UTF8')\n",
    "Local202008=Local202008.reset_index()\n",
    "Local202008=Local202008.shift(periods=1,axis=1)\n",
    "Local202008=Local202008.drop(columns=['index'])\n",
    "\n",
    "Local202009=pd.read_csv(r'LOCAL_PEOPLE_DONG_202009.csv', engine='python', error_bad_lines=False, encoding='UTF8')\n",
    "Local202009=Local202009.reset_index()\n",
    "Local202009=Local202009.shift(periods=1,axis=1)\n",
    "Local202009=Local202009.drop(columns=['index'])\n",
    "\n",
    "Local202010=pd.read_csv(r'LOCAL_PEOPLE_DONG_202010.csv', engine='python', error_bad_lines=False, encoding='UTF8')\n",
    "Local202010=Local202010.reset_index()\n",
    "Local202010=Local202010.shift(periods=1,axis=1)\n",
    "Local202010=Local202010.drop(columns=['index'])\n",
    "\n",
    "Local202011=pd.read_csv(r'LOCAL_PEOPLE_DONG_202011.csv', engine='python', error_bad_lines=False, encoding='UTF8')\n",
    "Local202011=Local202011.reset_index()\n",
    "Local202011=Local202011.shift(periods=1,axis=1)\n",
    "Local202011=Local202011.drop(columns=['index'])\n",
    "\n",
    "Local202012=pd.read_csv(r'LOCAL_PEOPLE_DONG_202012.csv', engine='python', error_bad_lines=False, encoding='UTF8')\n",
    "Local202012=Local202012.reset_index()\n",
    "Local202012=Local202012.shift(periods=1,axis=1)\n",
    "Local202012=Local202012.drop(columns=['index'])\n",
    "\n",
    "Local2020 = pd.concat([Local202003,Local202004,Local202005,Local202006,Local202007,Local202008,Local202009,\n",
    "                      Local202010,Local202011,Local202012], ignore_index = True)\n",
    "\n",
    "##Local2020 = Local2020[['기준일ID','시간대구분','행정동코드','총생활인구수']]\n",
    "Local2020.행정동코드 = Local2020.행정동코드 * 100\n",
    "Local2020.총생활인구수 = Local2020.총생활인구수 * 10000\n",
    "Local2020 = Local2020.astype({'총생활인구수':'int64'})"
   ]
  },
  {
   "cell_type": "markdown",
   "metadata": {},
   "source": [
    "## 2021 생활인구"
   ]
  },
  {
   "cell_type": "code",
   "execution_count": 15,
   "metadata": {},
   "outputs": [],
   "source": [
    "# 2021 생활인구\n",
    "Local202101=pd.read_csv(r'LOCAL_PEOPLE_DONG_202101.csv', engine='python', error_bad_lines=False, encoding='UTF8')\n",
    "Local202101=Local202101.reset_index()\n",
    "Local202101=Local202101.shift(periods=1,axis=1)\n",
    "Local202101=Local202101.drop(columns=['index'])\n",
    "\n",
    "Local202102=pd.read_csv(r'LOCAL_PEOPLE_DONG_202102.csv', engine='python', error_bad_lines=False, encoding='UTF8')\n",
    "Local202102=Local202102.reset_index()\n",
    "Local202102=Local202102.shift(periods=1,axis=1)\n",
    "Local202102=Local202102.drop(columns=['index'])\n",
    "\n",
    "Local202103=pd.read_csv(r'LOCAL_PEOPLE_DONG_202103.csv', engine='python', error_bad_lines=False, encoding='UTF8')\n",
    "Local202103=Local202103.reset_index()\n",
    "Local202103=Local202103.shift(periods=1,axis=1)\n",
    "Local202103=Local202103.drop(columns=['index'])\n",
    "\n",
    "Local202104=pd.read_csv(r'LOCAL_PEOPLE_DONG_202104.csv', engine='python', error_bad_lines=False, encoding='UTF8')\n",
    "Local202104=Local202104.reset_index()\n",
    "Local202104=Local202104.shift(periods=1,axis=1)\n",
    "Local202104=Local202104.drop(columns=['index'])\n",
    "\n",
    "Local202105=pd.read_csv(r'LOCAL_PEOPLE_DONG_202105.csv', engine='python', error_bad_lines=False, encoding='UTF8')\n",
    "Local202105=Local202105.reset_index()\n",
    "Local202105=Local202105.shift(periods=1,axis=1)\n",
    "Local202105=Local202105.drop(columns=['index'])\n",
    "\n",
    "Local202106=pd.read_csv(r'LOCAL_PEOPLE_DONG_202106.csv', engine='python', error_bad_lines=False, encoding='UTF8')\n",
    "Local202106=Local202106.reset_index()\n",
    "Local202106=Local202106.shift(periods=1,axis=1)\n",
    "Local202106=Local202106.drop(columns=['index'])\n",
    "\n",
    "Local2021 = pd.concat([Local202103,Local202104,Local202105,Local202106], ignore_index = True)\n",
    "\n",
    "##Local2021 = Local2021[['기준일ID','시간대구분','행정동코드','총생활인구수']]\n",
    "Local2021.행정동코드 = Local2021.행정동코드 * 100\n",
    "Local2021.총생활인구수 = Local2021.총생활인구수 * 10000\n",
    "Local2021 = Local2021.astype({'총생활인구수':'int64'})\n",
    "\n"
   ]
  },
  {
   "cell_type": "code",
   "execution_count": 16,
   "metadata": {},
   "outputs": [],
   "source": [
    "BeforeCoronaLocal = Local2019\n",
    "AfterCoronaLocal = pd.concat([Local2020,Local2021],ignore_index = True)\n",
    "TotalLocal  = pd.concat([AfterCoronaLocal,BeforeCoronaLocal],ignore_index = True)"
   ]
  },
  {
   "cell_type": "markdown",
   "metadata": {},
   "source": [
    "#### ** 코로나 전후 내국인 : TotalLoca(2019-2021), BeforeCoronaLocal(2019), AfterCoronaLoca(2020-2021)"
   ]
  },
  {
   "cell_type": "code",
   "execution_count": 17,
   "metadata": {},
   "outputs": [],
   "source": [
    "TotalLocal['생활지역권'] = TotalLocal['행정동코드'].map(regionfunction)"
   ]
  },
  {
   "cell_type": "code",
   "execution_count": 18,
   "metadata": {},
   "outputs": [],
   "source": [
    "BeforeCoronaLocal['생활지역권'] = BeforeCoronaLocal['행정동코드'].map(regionfunction)\n",
    "AfterCoronaLocal['생활지역권'] = AfterCoronaLocal['행정동코드'].map(regionfunction)"
   ]
  },
  {
   "cell_type": "markdown",
   "metadata": {},
   "source": [
    "# 2. 가이드 제공(지역생활권, 영업시간, 업종에 따라)"
   ]
  },
  {
   "cell_type": "code",
   "execution_count": 19,
   "metadata": {},
   "outputs": [],
   "source": [
    "BeforeCoronaLocalcopy=copy.deepcopy(BeforeCoronaLocal)\n",
    "\n",
    "BeforeCoronaLocalcopy['성별']='남자'\n",
    "import pandas as pd\n",
    "\n",
    "BeforeCoronaLocalMan=pd.melt(BeforeCoronaLocalcopy, id_vars=['생활지역권', '시간대구분','성별'], value_vars=['남자0세부터9세생활인구수', '남자10세부터14세생활인구수', '남자15세부터19세생활인구수','남자20세부터24세생활인구수', '남자25세부터29세생활인구수', '남자30세부터34세생활인구수', '남자35세부터39세생활인구수',\n",
    "    '남자40세부터44세생활인구수', '남자45세부터49세생활인구수', '남자50세부터54세생활인구수','남자55세부터59세생활인구수', \n",
    "    '남자60세부터64세생활인구수', '남자65세부터69세생활인구수', '남자70세이상생활인구수'])\n",
    "BeforeCoronaLocalcopy.drop(['성별'], axis='columns')\n",
    "\n",
    "BeforeCoronaLocalcopy['성별']='여자'\n",
    "BeforeCoronaLocalWoman=pd.melt(BeforeCoronaLocalcopy, id_vars=['생활지역권', '시간대구분','성별'], value_vars=['여자0세부터9세생활인구수', '여자10세부터14세생활인구수', '여자15세부터19세생활인구수','여자20세부터24세생활인구수', '여자25세부터29세생활인구수', '여자30세부터34세생활인구수', '여자35세부터39세생활인구수',\n",
    "    '여자40세부터44세생활인구수', '여자45세부터49세생활인구수', '여자50세부터54세생활인구수','여자55세부터59세생활인구수', \n",
    "    '여자60세부터64세생활인구수', '여자65세부터69세생활인구수', '여자70세이상생활인구수'])\n",
    "AfterCoronaLocalcopy=copy.deepcopy(AfterCoronaLocal)\n",
    "\n",
    "AfterCoronaLocalcopy['성별']='남자'\n",
    "import pandas as pd\n",
    "AfterCoronaLocalMan=pd.melt(AfterCoronaLocalcopy, id_vars=['생활지역권', '시간대구분','성별'], value_vars=['남자0세부터9세생활인구수', '남자10세부터14세생활인구수', '남자15세부터19세생활인구수','남자20세부터24세생활인구수', '남자25세부터29세생활인구수', '남자30세부터34세생활인구수', '남자35세부터39세생활인구수',\n",
    "    '남자40세부터44세생활인구수', '남자45세부터49세생활인구수', '남자50세부터54세생활인구수','남자55세부터59세생활인구수', \n",
    "    '남자60세부터64세생활인구수', '남자65세부터69세생활인구수', '남자70세이상생활인구수'])\n",
    "AfterCoronaLocalcopy.drop(['성별'], axis='columns')\n",
    "\n",
    "AfterCoronaLocalcopy['성별']='여자'\n",
    "AfterCoronaLocalWoman=pd.melt(AfterCoronaLocalcopy, id_vars=['생활지역권', '시간대구분','성별'], value_vars=['여자0세부터9세생활인구수', '여자10세부터14세생활인구수', '여자15세부터19세생활인구수','여자20세부터24세생활인구수', '여자25세부터29세생활인구수', '여자30세부터34세생활인구수', '여자35세부터39세생활인구수',\n",
    "    '여자40세부터44세생활인구수', '여자45세부터49세생활인구수', '여자50세부터54세생활인구수','여자55세부터59세생활인구수', \n",
    "    '여자60세부터64세생활인구수', '여자65세부터69세생활인구수', '여자70세이상생활인구수'])"
   ]
  },
  {
   "cell_type": "code",
   "execution_count": 20,
   "metadata": {},
   "outputs": [],
   "source": [
    "def sexagefunction(x):\n",
    "    if x in ['남자0세부터9세생활인구수', '남자10세부터14세생활인구수', '남자15세부터19세생활인구수']:\n",
    "        return \"남자 20대 이하\";\n",
    "    if x in ['남자20세부터24세생활인구수', '남자25세부터29세생활인구수']:\n",
    "        return \"남자 20대\";\n",
    "    if x in ['남자30세부터34세생활인구수', '남자35세부터39세생활인구수']:\n",
    "        return \"남자 30대\";\n",
    "    if x in ['남자40세부터44세생활인구수', '남자45세부터49세생활인구수']:\n",
    "        return \"남자 40대\"\n",
    "    if x in ['남자50세부터54세생활인구수','남자55세부터59세생활인구수']:\n",
    "        return \"남자 50대\"\n",
    "    if x in ['남자60세부터64세생활인구수', '남자65세부터69세생활인구수', '남자70세이상생활인구수']:\n",
    "        return '남자 60대 이상'\n",
    "    if x in ['여자0세부터9세생활인구수', '여자10세부터14세생활인구수', '여자15세부터19세생활인구수']:\n",
    "        return \"여자 20대 이하\"\n",
    "    if x in ['여자20세부터24세생활인구수', '여자25세부터29세생활인구수']:\n",
    "        return \"여자 20대\"\n",
    "    if x in ['여자30세부터34세생활인구수', '여자35세부터39세생활인구수']:\n",
    "        return \"여자 30대\"\n",
    "    if x in ['여자40세부터44세생활인구수', '여자45세부터49세생활인구수']:\n",
    "        return \"여자 40대\"\n",
    "    if x in ['여자50세부터54세생활인구수','여자55세부터59세생활인구수']:\n",
    "        return \"여자 50대\"\n",
    "    if x in ['여자60세부터64세생활인구수', '여자65세부터69세생활인구수', '여자70세이상생활인구수']:\n",
    "        return '여자 60대 이상'"
   ]
  },
  {
   "cell_type": "code",
   "execution_count": 21,
   "metadata": {},
   "outputs": [],
   "source": [
    "BeforeCoronaLocalMan['연령대']=BeforeCoronaLocalMan['variable'].map(sexagefunction)\n",
    "BeforeCoronaLocalWoman['연령대']=BeforeCoronaLocalWoman['variable'].map(sexagefunction)\n",
    "BeforeCoronaLocalMan.rename(columns = {'value' : '생활인구수'}, inplace = True)\n",
    "BeforeCoronaLocalWoman.rename(columns = {'value' : '생활인구수'}, inplace = True)\n",
    "AfterCoronaLocalMan['연령대']=AfterCoronaLocalMan['variable'].map(sexagefunction)\n",
    "AfterCoronaLocalWoman['연령대']=AfterCoronaLocalWoman['variable'].map(sexagefunction)\n",
    "AfterCoronaLocalMan.rename(columns = {'value' : '생활인구수'}, inplace = True)\n",
    "AfterCoronaLocalWoman.rename(columns = {'value' : '생활인구수'}, inplace = True)"
   ]
  },
  {
   "cell_type": "code",
   "execution_count": 22,
   "metadata": {},
   "outputs": [],
   "source": [
    "BeforeCoronaLocalManSex=BeforeCoronaLocalMan.groupby(by=['생활지역권','시간대구분']).sum()[['생활인구수']]\n",
    "BeforeCoronaLocalWomanSex=BeforeCoronaLocalWoman.groupby(by=['생활지역권','시간대구분']).sum()[['생활인구수']]\n",
    "BeforeCoronaLocalManSex.reset_index(inplace=True)\n",
    "BeforeCoronaLocalWomanSex.reset_index(inplace=True)\n",
    "\n",
    "BeforeCoronaLocalManAge=BeforeCoronaLocalMan.groupby(by=['생활지역권','시간대구분', '연령대']).sum()[['생활인구수']]\n",
    "BeforeCoronaLocalWomanAge=BeforeCoronaLocalWoman.groupby(by=['생활지역권','시간대구분','연령대']).sum()[['생활인구수']]\n",
    "BeforeCoronaLocalManAge.reset_index(inplace=True)\n",
    "BeforeCoronaLocalWomanAge.reset_index(inplace=True)\n",
    "\n",
    "\n",
    "AfterCoronaLocalManSex=AfterCoronaLocalMan.groupby(by=['생활지역권','시간대구분']).sum()[['생활인구수']]\n",
    "AfterCoronaLocalWomanSex=AfterCoronaLocalWoman.groupby(by=['생활지역권','시간대구분']).sum()[['생활인구수']]\n",
    "AfterCoronaLocalManSex.reset_index(inplace=True)\n",
    "AfterCoronaLocalWomanSex.reset_index(inplace=True)\n",
    "\n",
    "AfterCoronaLocalManAge=AfterCoronaLocalMan.groupby(by=['생활지역권','시간대구분', '연령대']).sum()[['생활인구수']]\n",
    "AfterCoronaLocalWomanAge=AfterCoronaLocalWoman.groupby(by=['생활지역권','시간대구분','연령대']).sum()[['생활인구수']]\n",
    "AfterCoronaLocalManAge.reset_index(inplace=True)\n",
    "AfterCoronaLocalWomanAge.reset_index(inplace=True)"
   ]
  },
  {
   "cell_type": "code",
   "execution_count": 23,
   "metadata": {},
   "outputs": [],
   "source": [
    "## 시간을 영업시간으로 변환하는 함수\n",
    "def timefunction(x):\n",
    "    if x in [0, 1, 2, 3, 4, 5]:\n",
    "        return '새벽'\n",
    "    if x in [6, 7, 8, 9, 10, 11]:\n",
    "        return '아침'\n",
    "    if x in [12, 13, 14, 15, 16, 17]:\n",
    "        return '점심'\n",
    "    if x in [18, 19, 20, 21, 22, 23]:\n",
    "        return '저녁'"
   ]
  },
  {
   "cell_type": "markdown",
   "metadata": {},
   "source": [
    "## - 지역 생활권 상권분석, \n",
    "## - (코로나 전<->후) 특정 생활지역권  성별 연령별 구매력, 전체 업종별 선호도(매출건수),업종의 성별 연령별 업종별 선호도\n",
    "## ipywidgets - 버튼구현(선택한 버튼에 따라 결과가 다르게 표현)\n",
    "## plotly 이용해서 interactive_graph 구현(그래프 위에 마우스를 올리면 관련 정보를 얻을 수 있고 , 범례를 클릭하면 특정 그래프의 요소를 제거 가능)"
   ]
  },
  {
   "cell_type": "code",
   "execution_count": 24,
   "metadata": {},
   "outputs": [],
   "source": [
    "##버튼 내용 생성\n",
    "import pandas as pd\n",
    "import numpy as np\n",
    "import ipywidgets as widgets\n",
    "from plotly.subplots import make_subplots\n",
    "import plotly.graph_objects as go\n",
    "ALL = 'ALL'\n",
    "def unique_sorted_values_plus_ALL(array):\n",
    "    unique = array.unique().tolist()\n",
    "    unique.sort()\n",
    "    unique.insert(0, ALL)\n",
    "    return unique\n",
    "selectregion=unique_sorted_values_plus_ALL(TotalLocal[\"생활지역권\"])\n",
    "selectregion[0]=\"지역생활권을 선택하세요\"\n",
    "#selectregion\n",
    "\n",
    "selectmenu=[\"업종을 선택하세요\", \"한식\", '일식/수산물', '닭/오리요리', '양식', '분식']"
   ]
  },
  {
   "cell_type": "code",
   "execution_count": 28,
   "metadata": {},
   "outputs": [
    {
     "name": "stdout",
     "output_type": "stream",
     "text": [
      "******************************************************************\n",
      "\n",
      "지역권생활권별 요식업종 가이드\n",
      "\n",
      "1. 지역생활권 이란?\n",
      "서울시 지역을 생활권 단위로 나누어 도시관리 계획을 구체적으로 제시하기 위한 공간 관리 지침\n",
      "\n"
     ]
    },
    {
     "data": {
      "application/vnd.jupyter.widget-view+json": {
       "model_id": "4e29c62bbb8346e7b1490359c14bc3bf",
       "version_major": 2,
       "version_minor": 0
      },
      "text/plain": [
       "VBox(children=(HBox(children=(Dropdown(description='지역생활권', index=2, options=('지역생활권을 선택하세요', '가락', '가산', '가좌'…"
      ]
     },
     "metadata": {},
     "output_type": "display_data"
    },
    {
     "name": "stdout",
     "output_type": "stream",
     "text": [
      "2. 가산지역 생활권 상권분석\n",
      "행정구역 : 가산동\n"
     ]
    },
    {
     "data": {
      "application/vnd.plotly.v1+json": {
       "config": {
        "plotlyServerURL": "https://plot.ly"
       },
       "data": [
        {
         "alignmentgroup": "True",
         "hovertemplate": "소분류명=구내식당/자급식음식점<br>상가수=%{x}<br>중분류명=%{y}<extra></extra>",
         "legendgroup": "구내식당/자급식음식점",
         "marker": {
          "color": "#636efa",
          "pattern": {
           "shape": ""
          }
         },
         "name": "구내식당/자급식음식점",
         "offsetgroup": "구내식당/자급식음식점",
         "orientation": "h",
         "showlegend": true,
         "textposition": "auto",
         "type": "bar",
         "x": [
          2
         ],
         "xaxis": "x",
         "y": [
          "기타음식업"
         ],
         "yaxis": "y"
        },
        {
         "alignmentgroup": "True",
         "hovertemplate": "소분류명=닭갈비전문<br>상가수=%{x}<br>중분류명=%{y}<extra></extra>",
         "legendgroup": "닭갈비전문",
         "marker": {
          "color": "#EF553B",
          "pattern": {
           "shape": ""
          }
         },
         "name": "닭갈비전문",
         "offsetgroup": "닭갈비전문",
         "orientation": "h",
         "showlegend": true,
         "textposition": "auto",
         "type": "bar",
         "x": [
          2
         ],
         "xaxis": "x",
         "y": [
          "닭/오리요리"
         ],
         "yaxis": "y"
        },
        {
         "alignmentgroup": "True",
         "hovertemplate": "소분류명=닭내장/닭발요리<br>상가수=%{x}<br>중분류명=%{y}<extra></extra>",
         "legendgroup": "닭내장/닭발요리",
         "marker": {
          "color": "#00cc96",
          "pattern": {
           "shape": ""
          }
         },
         "name": "닭내장/닭발요리",
         "offsetgroup": "닭내장/닭발요리",
         "orientation": "h",
         "showlegend": true,
         "textposition": "auto",
         "type": "bar",
         "x": [
          2
         ],
         "xaxis": "x",
         "y": [
          "닭/오리요리"
         ],
         "yaxis": "y"
        },
        {
         "alignmentgroup": "True",
         "hovertemplate": "소분류명=불닭전문<br>상가수=%{x}<br>중분류명=%{y}<extra></extra>",
         "legendgroup": "불닭전문",
         "marker": {
          "color": "#ab63fa",
          "pattern": {
           "shape": ""
          }
         },
         "name": "불닭전문",
         "offsetgroup": "불닭전문",
         "orientation": "h",
         "showlegend": true,
         "textposition": "auto",
         "type": "bar",
         "x": [
          1
         ],
         "xaxis": "x",
         "y": [
          "닭/오리요리"
         ],
         "yaxis": "y"
        },
        {
         "alignmentgroup": "True",
         "hovertemplate": "소분류명=삼계탕전문<br>상가수=%{x}<br>중분류명=%{y}<extra></extra>",
         "legendgroup": "삼계탕전문",
         "marker": {
          "color": "#FFA15A",
          "pattern": {
           "shape": ""
          }
         },
         "name": "삼계탕전문",
         "offsetgroup": "삼계탕전문",
         "orientation": "h",
         "showlegend": true,
         "textposition": "auto",
         "type": "bar",
         "x": [
          3
         ],
         "xaxis": "x",
         "y": [
          "닭/오리요리"
         ],
         "yaxis": "y"
        },
        {
         "alignmentgroup": "True",
         "hovertemplate": "소분류명=찜닭전문점<br>상가수=%{x}<br>중분류명=%{y}<extra></extra>",
         "legendgroup": "찜닭전문점",
         "marker": {
          "color": "#19d3f3",
          "pattern": {
           "shape": ""
          }
         },
         "name": "찜닭전문점",
         "offsetgroup": "찜닭전문점",
         "orientation": "h",
         "showlegend": true,
         "textposition": "auto",
         "type": "bar",
         "x": [
          2
         ],
         "xaxis": "x",
         "y": [
          "닭/오리요리"
         ],
         "yaxis": "y"
        },
        {
         "alignmentgroup": "True",
         "hovertemplate": "소분류명=후라이드/양념치킨<br>상가수=%{x}<br>중분류명=%{y}<extra></extra>",
         "legendgroup": "후라이드/양념치킨",
         "marker": {
          "color": "#FF6692",
          "pattern": {
           "shape": ""
          }
         },
         "name": "후라이드/양념치킨",
         "offsetgroup": "후라이드/양념치킨",
         "orientation": "h",
         "showlegend": true,
         "textposition": "auto",
         "type": "bar",
         "x": [
          14
         ],
         "xaxis": "x",
         "y": [
          "닭/오리요리"
         ],
         "yaxis": "y"
        },
        {
         "alignmentgroup": "True",
         "hovertemplate": "소분류명=동남아음식전문점<br>상가수=%{x}<br>중분류명=%{y}<extra></extra>",
         "legendgroup": "동남아음식전문점",
         "marker": {
          "color": "#B6E880",
          "pattern": {
           "shape": ""
          }
         },
         "name": "동남아음식전문점",
         "offsetgroup": "동남아음식전문점",
         "orientation": "h",
         "showlegend": true,
         "textposition": "auto",
         "type": "bar",
         "x": [
          9
         ],
         "xaxis": "x",
         "y": [
          "별식/퓨전요리"
         ],
         "yaxis": "y"
        },
        {
         "alignmentgroup": "True",
         "hovertemplate": "소분류명=샤브샤브전문<br>상가수=%{x}<br>중분류명=%{y}<extra></extra>",
         "legendgroup": "샤브샤브전문",
         "marker": {
          "color": "#FF97FF",
          "pattern": {
           "shape": ""
          }
         },
         "name": "샤브샤브전문",
         "offsetgroup": "샤브샤브전문",
         "orientation": "h",
         "showlegend": true,
         "textposition": "auto",
         "type": "bar",
         "x": [
          6
         ],
         "xaxis": "x",
         "y": [
          "별식/퓨전요리"
         ],
         "yaxis": "y"
        },
        {
         "alignmentgroup": "True",
         "hovertemplate": "소분류명=순대전문점<br>상가수=%{x}<br>중분류명=%{y}<extra></extra>",
         "legendgroup": "순대전문점",
         "marker": {
          "color": "#FECB52",
          "pattern": {
           "shape": ""
          }
         },
         "name": "순대전문점",
         "offsetgroup": "순대전문점",
         "orientation": "h",
         "showlegend": true,
         "textposition": "auto",
         "type": "bar",
         "x": [
          12
         ],
         "xaxis": "x",
         "y": [
          "별식/퓨전요리"
         ],
         "yaxis": "y"
        },
        {
         "alignmentgroup": "True",
         "hovertemplate": "소분류명=죽전문점<br>상가수=%{x}<br>중분류명=%{y}<extra></extra>",
         "legendgroup": "죽전문점",
         "marker": {
          "color": "#636efa",
          "pattern": {
           "shape": ""
          }
         },
         "name": "죽전문점",
         "offsetgroup": "죽전문점",
         "orientation": "h",
         "showlegend": true,
         "textposition": "auto",
         "type": "bar",
         "x": [
          6
         ],
         "xaxis": "x",
         "y": [
          "별식/퓨전요리"
         ],
         "yaxis": "y"
        },
        {
         "alignmentgroup": "True",
         "hovertemplate": "소분류명=종합부페<br>상가수=%{x}<br>중분류명=%{y}<extra></extra>",
         "legendgroup": "종합부페",
         "marker": {
          "color": "#EF553B",
          "pattern": {
           "shape": ""
          }
         },
         "name": "종합부페",
         "offsetgroup": "종합부페",
         "orientation": "h",
         "showlegend": true,
         "textposition": "auto",
         "type": "bar",
         "x": [
          1
         ],
         "xaxis": "x",
         "y": [
          "부페"
         ],
         "yaxis": "y"
        },
        {
         "alignmentgroup": "True",
         "hovertemplate": "소분류명=채식/한식부페<br>상가수=%{x}<br>중분류명=%{y}<extra></extra>",
         "legendgroup": "채식/한식부페",
         "marker": {
          "color": "#00cc96",
          "pattern": {
           "shape": ""
          }
         },
         "name": "채식/한식부페",
         "offsetgroup": "채식/한식부페",
         "orientation": "h",
         "showlegend": true,
         "textposition": "auto",
         "type": "bar",
         "x": [
          1
         ],
         "xaxis": "x",
         "y": [
          "부페"
         ],
         "yaxis": "y"
        },
        {
         "alignmentgroup": "True",
         "hovertemplate": "소분류명=한식부페<br>상가수=%{x}<br>중분류명=%{y}<extra></extra>",
         "legendgroup": "한식부페",
         "marker": {
          "color": "#ab63fa",
          "pattern": {
           "shape": ""
          }
         },
         "name": "한식부페",
         "offsetgroup": "한식부페",
         "orientation": "h",
         "showlegend": true,
         "textposition": "auto",
         "type": "bar",
         "x": [
          1
         ],
         "xaxis": "x",
         "y": [
          "부페"
         ],
         "yaxis": "y"
        },
        {
         "alignmentgroup": "True",
         "hovertemplate": "소분류명=국수/만두/칼국수<br>상가수=%{x}<br>중분류명=%{y}<extra></extra>",
         "legendgroup": "국수/만두/칼국수",
         "marker": {
          "color": "#FFA15A",
          "pattern": {
           "shape": ""
          }
         },
         "name": "국수/만두/칼국수",
         "offsetgroup": "국수/만두/칼국수",
         "orientation": "h",
         "showlegend": true,
         "textposition": "auto",
         "type": "bar",
         "x": [
          19
         ],
         "xaxis": "x",
         "y": [
          "분식"
         ],
         "yaxis": "y"
        },
        {
         "alignmentgroup": "True",
         "hovertemplate": "소분류명=떡볶이전문<br>상가수=%{x}<br>중분류명=%{y}<extra></extra>",
         "legendgroup": "떡볶이전문",
         "marker": {
          "color": "#19d3f3",
          "pattern": {
           "shape": ""
          }
         },
         "name": "떡볶이전문",
         "offsetgroup": "떡볶이전문",
         "orientation": "h",
         "showlegend": true,
         "textposition": "auto",
         "type": "bar",
         "x": [
          6
         ],
         "xaxis": "x",
         "y": [
          "분식"
         ],
         "yaxis": "y"
        },
        {
         "alignmentgroup": "True",
         "hovertemplate": "소분류명=라면김밥분식<br>상가수=%{x}<br>중분류명=%{y}<extra></extra>",
         "legendgroup": "라면김밥분식",
         "marker": {
          "color": "#FF6692",
          "pattern": {
           "shape": ""
          }
         },
         "name": "라면김밥분식",
         "offsetgroup": "라면김밥분식",
         "orientation": "h",
         "showlegend": true,
         "textposition": "auto",
         "type": "bar",
         "x": [
          56
         ],
         "xaxis": "x",
         "y": [
          "분식"
         ],
         "yaxis": "y"
        },
        {
         "alignmentgroup": "True",
         "hovertemplate": "소분류명=스낵<br>상가수=%{x}<br>중분류명=%{y}<extra></extra>",
         "legendgroup": "스낵",
         "marker": {
          "color": "#B6E880",
          "pattern": {
           "shape": ""
          }
         },
         "name": "스낵",
         "offsetgroup": "스낵",
         "orientation": "h",
         "showlegend": true,
         "textposition": "auto",
         "type": "bar",
         "x": [
          2
         ],
         "xaxis": "x",
         "y": [
          "분식"
         ],
         "yaxis": "y"
        },
        {
         "alignmentgroup": "True",
         "hovertemplate": "소분류명=우동전문점<br>상가수=%{x}<br>중분류명=%{y}<extra></extra>",
         "legendgroup": "우동전문점",
         "marker": {
          "color": "#FF97FF",
          "pattern": {
           "shape": ""
          }
         },
         "name": "우동전문점",
         "offsetgroup": "우동전문점",
         "orientation": "h",
         "showlegend": true,
         "textposition": "auto",
         "type": "bar",
         "x": [
          3
         ],
         "xaxis": "x",
         "y": [
          "분식"
         ],
         "yaxis": "y"
        },
        {
         "alignmentgroup": "True",
         "hovertemplate": "소분류명=기타전문서양음식점<br>상가수=%{x}<br>중분류명=%{y}<extra></extra>",
         "legendgroup": "기타전문서양음식점",
         "marker": {
          "color": "#FECB52",
          "pattern": {
           "shape": ""
          }
         },
         "name": "기타전문서양음식점",
         "offsetgroup": "기타전문서양음식점",
         "orientation": "h",
         "showlegend": true,
         "textposition": "auto",
         "type": "bar",
         "x": [
          1
         ],
         "xaxis": "x",
         "y": [
          "양식"
         ],
         "yaxis": "y"
        },
        {
         "alignmentgroup": "True",
         "hovertemplate": "소분류명=돈가스전문점<br>상가수=%{x}<br>중분류명=%{y}<extra></extra>",
         "legendgroup": "돈가스전문점",
         "marker": {
          "color": "#636efa",
          "pattern": {
           "shape": ""
          }
         },
         "name": "돈가스전문점",
         "offsetgroup": "돈가스전문점",
         "orientation": "h",
         "showlegend": true,
         "textposition": "auto",
         "type": "bar",
         "x": [
          4
         ],
         "xaxis": "x",
         "y": [
          "양식"
         ],
         "yaxis": "y"
        },
        {
         "alignmentgroup": "True",
         "hovertemplate": "소분류명=바베큐전문<br>상가수=%{x}<br>중분류명=%{y}<extra></extra>",
         "legendgroup": "바베큐전문",
         "marker": {
          "color": "#EF553B",
          "pattern": {
           "shape": ""
          }
         },
         "name": "바베큐전문",
         "offsetgroup": "바베큐전문",
         "orientation": "h",
         "showlegend": true,
         "textposition": "auto",
         "type": "bar",
         "x": [
          1
         ],
         "xaxis": "x",
         "y": [
          "양식"
         ],
         "yaxis": "y"
        },
        {
         "alignmentgroup": "True",
         "hovertemplate": "소분류명=스테이크전문점<br>상가수=%{x}<br>중분류명=%{y}<extra></extra>",
         "legendgroup": "스테이크전문점",
         "marker": {
          "color": "#00cc96",
          "pattern": {
           "shape": ""
          }
         },
         "name": "스테이크전문점",
         "offsetgroup": "스테이크전문점",
         "orientation": "h",
         "showlegend": true,
         "textposition": "auto",
         "type": "bar",
         "x": [
          3
         ],
         "xaxis": "x",
         "y": [
          "양식"
         ],
         "yaxis": "y"
        },
        {
         "alignmentgroup": "True",
         "hovertemplate": "소분류명=스파게티전문점<br>상가수=%{x}<br>중분류명=%{y}<extra></extra>",
         "legendgroup": "스파게티전문점",
         "marker": {
          "color": "#ab63fa",
          "pattern": {
           "shape": ""
          }
         },
         "name": "스파게티전문점",
         "offsetgroup": "스파게티전문점",
         "orientation": "h",
         "showlegend": true,
         "textposition": "auto",
         "type": "bar",
         "x": [
          4
         ],
         "xaxis": "x",
         "y": [
          "양식"
         ],
         "yaxis": "y"
        },
        {
         "alignmentgroup": "True",
         "hovertemplate": "소분류명=정통양식/경양식<br>상가수=%{x}<br>중분류명=%{y}<extra></extra>",
         "legendgroup": "정통양식/경양식",
         "marker": {
          "color": "#FFA15A",
          "pattern": {
           "shape": ""
          }
         },
         "name": "정통양식/경양식",
         "offsetgroup": "정통양식/경양식",
         "orientation": "h",
         "showlegend": true,
         "textposition": "auto",
         "type": "bar",
         "x": [
          19
         ],
         "xaxis": "x",
         "y": [
          "양식"
         ],
         "yaxis": "y"
        },
        {
         "alignmentgroup": "True",
         "hovertemplate": "소분류명=패밀리레스토랑<br>상가수=%{x}<br>중분류명=%{y}<extra></extra>",
         "legendgroup": "패밀리레스토랑",
         "marker": {
          "color": "#19d3f3",
          "pattern": {
           "shape": ""
          }
         },
         "name": "패밀리레스토랑",
         "offsetgroup": "패밀리레스토랑",
         "orientation": "h",
         "showlegend": true,
         "textposition": "auto",
         "type": "bar",
         "x": [
          4
         ],
         "xaxis": "x",
         "y": [
          "양식"
         ],
         "yaxis": "y"
        },
        {
         "alignmentgroup": "True",
         "hovertemplate": "소분류명=기타일반유흥주점<br>상가수=%{x}<br>중분류명=%{y}<extra></extra>",
         "legendgroup": "기타일반유흥주점",
         "marker": {
          "color": "#FF6692",
          "pattern": {
           "shape": ""
          }
         },
         "name": "기타일반유흥주점",
         "offsetgroup": "기타일반유흥주점",
         "orientation": "h",
         "showlegend": true,
         "textposition": "auto",
         "type": "bar",
         "x": [
          1
         ],
         "xaxis": "x",
         "y": [
          "유흥주점"
         ],
         "yaxis": "y"
        },
        {
         "alignmentgroup": "True",
         "hovertemplate": "소분류명=꼬치구이전문점<br>상가수=%{x}<br>중분류명=%{y}<extra></extra>",
         "legendgroup": "꼬치구이전문점",
         "marker": {
          "color": "#B6E880",
          "pattern": {
           "shape": ""
          }
         },
         "name": "꼬치구이전문점",
         "offsetgroup": "꼬치구이전문점",
         "orientation": "h",
         "showlegend": true,
         "textposition": "auto",
         "type": "bar",
         "x": [
          8
         ],
         "xaxis": "x",
         "y": [
          "유흥주점"
         ],
         "yaxis": "y"
        },
        {
         "alignmentgroup": "True",
         "hovertemplate": "소분류명=룸살롱/단란주점<br>상가수=%{x}<br>중분류명=%{y}<extra></extra>",
         "legendgroup": "룸살롱/단란주점",
         "marker": {
          "color": "#FF97FF",
          "pattern": {
           "shape": ""
          }
         },
         "name": "룸살롱/단란주점",
         "offsetgroup": "룸살롱/단란주점",
         "orientation": "h",
         "showlegend": true,
         "textposition": "auto",
         "type": "bar",
         "x": [
          6
         ],
         "xaxis": "x",
         "y": [
          "유흥주점"
         ],
         "yaxis": "y"
        },
        {
         "alignmentgroup": "True",
         "hovertemplate": "소분류명=민속주점<br>상가수=%{x}<br>중분류명=%{y}<extra></extra>",
         "legendgroup": "민속주점",
         "marker": {
          "color": "#FECB52",
          "pattern": {
           "shape": ""
          }
         },
         "name": "민속주점",
         "offsetgroup": "민속주점",
         "orientation": "h",
         "showlegend": true,
         "textposition": "auto",
         "type": "bar",
         "x": [
          2
         ],
         "xaxis": "x",
         "y": [
          "유흥주점"
         ],
         "yaxis": "y"
        },
        {
         "alignmentgroup": "True",
         "hovertemplate": "소분류명=빠/카페/스탠드빠<br>상가수=%{x}<br>중분류명=%{y}<extra></extra>",
         "legendgroup": "빠/카페/스탠드빠",
         "marker": {
          "color": "#636efa",
          "pattern": {
           "shape": ""
          }
         },
         "name": "빠/카페/스탠드빠",
         "offsetgroup": "빠/카페/스탠드빠",
         "orientation": "h",
         "showlegend": true,
         "textposition": "auto",
         "type": "bar",
         "x": [
          1
         ],
         "xaxis": "x",
         "y": [
          "유흥주점"
         ],
         "yaxis": "y"
        },
        {
         "alignmentgroup": "True",
         "hovertemplate": "소분류명=소주방/포장마차<br>상가수=%{x}<br>중분류명=%{y}<extra></extra>",
         "legendgroup": "소주방/포장마차",
         "marker": {
          "color": "#EF553B",
          "pattern": {
           "shape": ""
          }
         },
         "name": "소주방/포장마차",
         "offsetgroup": "소주방/포장마차",
         "orientation": "h",
         "showlegend": true,
         "textposition": "auto",
         "type": "bar",
         "x": [
          11
         ],
         "xaxis": "x",
         "y": [
          "유흥주점"
         ],
         "yaxis": "y"
        },
        {
         "alignmentgroup": "True",
         "hovertemplate": "소분류명=호프/맥주<br>상가수=%{x}<br>중분류명=%{y}<extra></extra>",
         "legendgroup": "호프/맥주",
         "marker": {
          "color": "#00cc96",
          "pattern": {
           "shape": ""
          }
         },
         "name": "호프/맥주",
         "offsetgroup": "호프/맥주",
         "orientation": "h",
         "showlegend": true,
         "textposition": "auto",
         "type": "bar",
         "x": [
          34
         ],
         "xaxis": "x",
         "y": [
          "유흥주점"
         ],
         "yaxis": "y"
        },
        {
         "alignmentgroup": "True",
         "hovertemplate": "소분류명=낙지/오징어<br>상가수=%{x}<br>중분류명=%{y}<extra></extra>",
         "legendgroup": "낙지/오징어",
         "marker": {
          "color": "#ab63fa",
          "pattern": {
           "shape": ""
          }
         },
         "name": "낙지/오징어",
         "offsetgroup": "낙지/오징어",
         "orientation": "h",
         "showlegend": true,
         "textposition": "auto",
         "type": "bar",
         "x": [
          2
         ],
         "xaxis": "x",
         "y": [
          "일식/수산물"
         ],
         "yaxis": "y"
        },
        {
         "alignmentgroup": "True",
         "hovertemplate": "소분류명=매운탕전문<br>상가수=%{x}<br>중분류명=%{y}<extra></extra>",
         "legendgroup": "매운탕전문",
         "marker": {
          "color": "#FFA15A",
          "pattern": {
           "shape": ""
          }
         },
         "name": "매운탕전문",
         "offsetgroup": "매운탕전문",
         "orientation": "h",
         "showlegend": true,
         "textposition": "auto",
         "type": "bar",
         "x": [
          3
         ],
         "xaxis": "x",
         "y": [
          "일식/수산물"
         ],
         "yaxis": "y"
        },
        {
         "alignmentgroup": "True",
         "hovertemplate": "소분류명=아구전문<br>상가수=%{x}<br>중분류명=%{y}<extra></extra>",
         "legendgroup": "아구전문",
         "marker": {
          "color": "#19d3f3",
          "pattern": {
           "shape": ""
          }
         },
         "name": "아구전문",
         "offsetgroup": "아구전문",
         "orientation": "h",
         "showlegend": true,
         "textposition": "auto",
         "type": "bar",
         "x": [
          1
         ],
         "xaxis": "x",
         "y": [
          "일식/수산물"
         ],
         "yaxis": "y"
        },
        {
         "alignmentgroup": "True",
         "hovertemplate": "소분류명=음식점-일식<br>상가수=%{x}<br>중분류명=%{y}<extra></extra>",
         "legendgroup": "음식점-일식",
         "marker": {
          "color": "#FF6692",
          "pattern": {
           "shape": ""
          }
         },
         "name": "음식점-일식",
         "offsetgroup": "음식점-일식",
         "orientation": "h",
         "showlegend": true,
         "textposition": "auto",
         "type": "bar",
         "x": [
          23
         ],
         "xaxis": "x",
         "y": [
          "일식/수산물"
         ],
         "yaxis": "y"
        },
        {
         "alignmentgroup": "True",
         "hovertemplate": "소분류명=음식점-초밥전문<br>상가수=%{x}<br>중분류명=%{y}<extra></extra>",
         "legendgroup": "음식점-초밥전문",
         "marker": {
          "color": "#B6E880",
          "pattern": {
           "shape": ""
          }
         },
         "name": "음식점-초밥전문",
         "offsetgroup": "음식점-초밥전문",
         "orientation": "h",
         "showlegend": true,
         "textposition": "auto",
         "type": "bar",
         "x": [
          17
         ],
         "xaxis": "x",
         "y": [
          "일식/수산물"
         ],
         "yaxis": "y"
        },
        {
         "alignmentgroup": "True",
         "hovertemplate": "소분류명=참치전문점<br>상가수=%{x}<br>중분류명=%{y}<extra></extra>",
         "legendgroup": "참치전문점",
         "marker": {
          "color": "#FF97FF",
          "pattern": {
           "shape": ""
          }
         },
         "name": "참치전문점",
         "offsetgroup": "참치전문점",
         "orientation": "h",
         "showlegend": true,
         "textposition": "auto",
         "type": "bar",
         "x": [
          4
         ],
         "xaxis": "x",
         "y": [
          "일식/수산물"
         ],
         "yaxis": "y"
        },
        {
         "alignmentgroup": "True",
         "hovertemplate": "소분류명=해물찜/탕전문<br>상가수=%{x}<br>중분류명=%{y}<extra></extra>",
         "legendgroup": "해물찜/탕전문",
         "marker": {
          "color": "#FECB52",
          "pattern": {
           "shape": ""
          }
         },
         "name": "해물찜/탕전문",
         "offsetgroup": "해물찜/탕전문",
         "orientation": "h",
         "showlegend": true,
         "textposition": "auto",
         "type": "bar",
         "x": [
          2
         ],
         "xaxis": "x",
         "y": [
          "일식/수산물"
         ],
         "yaxis": "y"
        },
        {
         "alignmentgroup": "True",
         "hovertemplate": "소분류명=홍어전문<br>상가수=%{x}<br>중분류명=%{y}<extra></extra>",
         "legendgroup": "홍어전문",
         "marker": {
          "color": "#636efa",
          "pattern": {
           "shape": ""
          }
         },
         "name": "홍어전문",
         "offsetgroup": "홍어전문",
         "orientation": "h",
         "showlegend": true,
         "textposition": "auto",
         "type": "bar",
         "x": [
          1
         ],
         "xaxis": "x",
         "y": [
          "일식/수산물"
         ],
         "yaxis": "y"
        },
        {
         "alignmentgroup": "True",
         "hovertemplate": "소분류명=횟집<br>상가수=%{x}<br>중분류명=%{y}<extra></extra>",
         "legendgroup": "횟집",
         "marker": {
          "color": "#EF553B",
          "pattern": {
           "shape": ""
          }
         },
         "name": "횟집",
         "offsetgroup": "횟집",
         "orientation": "h",
         "showlegend": true,
         "textposition": "auto",
         "type": "bar",
         "x": [
          3
         ],
         "xaxis": "x",
         "y": [
          "일식/수산물"
         ],
         "yaxis": "y"
        },
        {
         "alignmentgroup": "True",
         "hovertemplate": "소분류명=제과점<br>상가수=%{x}<br>중분류명=%{y}<extra></extra>",
         "legendgroup": "제과점",
         "marker": {
          "color": "#00cc96",
          "pattern": {
           "shape": ""
          }
         },
         "name": "제과점",
         "offsetgroup": "제과점",
         "orientation": "h",
         "showlegend": true,
         "textposition": "auto",
         "type": "bar",
         "x": [
          24
         ],
         "xaxis": "x",
         "y": [
          "제과제빵떡케익"
         ],
         "yaxis": "y"
        },
        {
         "alignmentgroup": "True",
         "hovertemplate": "소분류명=중국음식/중국집<br>상가수=%{x}<br>중분류명=%{y}<extra></extra>",
         "legendgroup": "중국음식/중국집",
         "marker": {
          "color": "#ab63fa",
          "pattern": {
           "shape": ""
          }
         },
         "name": "중국음식/중국집",
         "offsetgroup": "중국음식/중국집",
         "orientation": "h",
         "showlegend": true,
         "textposition": "auto",
         "type": "bar",
         "x": [
          41
         ],
         "xaxis": "x",
         "y": [
          "중식"
         ],
         "yaxis": "y"
        },
        {
         "alignmentgroup": "True",
         "hovertemplate": "소분류명=커피전문점/카페/다방<br>상가수=%{x}<br>중분류명=%{y}<extra></extra>",
         "legendgroup": "커피전문점/카페/다방",
         "marker": {
          "color": "#FFA15A",
          "pattern": {
           "shape": ""
          }
         },
         "name": "커피전문점/카페/다방",
         "offsetgroup": "커피전문점/카페/다방",
         "orientation": "h",
         "showlegend": true,
         "textposition": "auto",
         "type": "bar",
         "x": [
          233
         ],
         "xaxis": "x",
         "y": [
          "커피점/카페"
         ],
         "yaxis": "y"
        },
        {
         "alignmentgroup": "True",
         "hovertemplate": "소분류명=도시락전문점<br>상가수=%{x}<br>중분류명=%{y}<extra></extra>",
         "legendgroup": "도시락전문점",
         "marker": {
          "color": "#19d3f3",
          "pattern": {
           "shape": ""
          }
         },
         "name": "도시락전문점",
         "offsetgroup": "도시락전문점",
         "orientation": "h",
         "showlegend": true,
         "textposition": "auto",
         "type": "bar",
         "x": [
          5
         ],
         "xaxis": "x",
         "y": [
          "패스트푸드"
         ],
         "yaxis": "y"
        },
        {
         "alignmentgroup": "True",
         "hovertemplate": "소분류명=샌드위치전문점<br>상가수=%{x}<br>중분류명=%{y}<extra></extra>",
         "legendgroup": "샌드위치전문점",
         "marker": {
          "color": "#FF6692",
          "pattern": {
           "shape": ""
          }
         },
         "name": "샌드위치전문점",
         "offsetgroup": "샌드위치전문점",
         "orientation": "h",
         "showlegend": true,
         "textposition": "auto",
         "type": "bar",
         "x": [
          1
         ],
         "xaxis": "x",
         "y": [
          "패스트푸드"
         ],
         "yaxis": "y"
        },
        {
         "alignmentgroup": "True",
         "hovertemplate": "소분류명=아이스크림판매<br>상가수=%{x}<br>중분류명=%{y}<extra></extra>",
         "legendgroup": "아이스크림판매",
         "marker": {
          "color": "#B6E880",
          "pattern": {
           "shape": ""
          }
         },
         "name": "아이스크림판매",
         "offsetgroup": "아이스크림판매",
         "orientation": "h",
         "showlegend": true,
         "textposition": "auto",
         "type": "bar",
         "x": [
          4
         ],
         "xaxis": "x",
         "y": [
          "패스트푸드"
         ],
         "yaxis": "y"
        },
        {
         "alignmentgroup": "True",
         "hovertemplate": "소분류명=패스트푸드<br>상가수=%{x}<br>중분류명=%{y}<extra></extra>",
         "legendgroup": "패스트푸드",
         "marker": {
          "color": "#FF97FF",
          "pattern": {
           "shape": ""
          }
         },
         "name": "패스트푸드",
         "offsetgroup": "패스트푸드",
         "orientation": "h",
         "showlegend": true,
         "textposition": "auto",
         "type": "bar",
         "x": [
          17
         ],
         "xaxis": "x",
         "y": [
          "패스트푸드"
         ],
         "yaxis": "y"
        },
        {
         "alignmentgroup": "True",
         "hovertemplate": "소분류명=피자전문<br>상가수=%{x}<br>중분류명=%{y}<extra></extra>",
         "legendgroup": "피자전문",
         "marker": {
          "color": "#FECB52",
          "pattern": {
           "shape": ""
          }
         },
         "name": "피자전문",
         "offsetgroup": "피자전문",
         "orientation": "h",
         "showlegend": true,
         "textposition": "auto",
         "type": "bar",
         "x": [
          3
         ],
         "xaxis": "x",
         "y": [
          "패스트푸드"
         ],
         "yaxis": "y"
        },
        {
         "alignmentgroup": "True",
         "hovertemplate": "소분류명=핫도그<br>상가수=%{x}<br>중분류명=%{y}<extra></extra>",
         "legendgroup": "핫도그",
         "marker": {
          "color": "#636efa",
          "pattern": {
           "shape": ""
          }
         },
         "name": "핫도그",
         "offsetgroup": "핫도그",
         "orientation": "h",
         "showlegend": true,
         "textposition": "auto",
         "type": "bar",
         "x": [
          1
         ],
         "xaxis": "x",
         "y": [
          "패스트푸드"
         ],
         "yaxis": "y"
        },
        {
         "alignmentgroup": "True",
         "hovertemplate": "소분류명=갈비/삼겹살<br>상가수=%{x}<br>중분류명=%{y}<extra></extra>",
         "legendgroup": "갈비/삼겹살",
         "marker": {
          "color": "#EF553B",
          "pattern": {
           "shape": ""
          }
         },
         "name": "갈비/삼겹살",
         "offsetgroup": "갈비/삼겹살",
         "orientation": "h",
         "showlegend": true,
         "textposition": "auto",
         "type": "bar",
         "x": [
          18
         ],
         "xaxis": "x",
         "y": [
          "한식"
         ],
         "yaxis": "y"
        },
        {
         "alignmentgroup": "True",
         "hovertemplate": "소분류명=곱창/양구이전문<br>상가수=%{x}<br>중분류명=%{y}<extra></extra>",
         "legendgroup": "곱창/양구이전문",
         "marker": {
          "color": "#00cc96",
          "pattern": {
           "shape": ""
          }
         },
         "name": "곱창/양구이전문",
         "offsetgroup": "곱창/양구이전문",
         "orientation": "h",
         "showlegend": true,
         "textposition": "auto",
         "type": "bar",
         "x": [
          6
         ],
         "xaxis": "x",
         "y": [
          "한식"
         ],
         "yaxis": "y"
        },
        {
         "alignmentgroup": "True",
         "hovertemplate": "소분류명=기타고기요리<br>상가수=%{x}<br>중분류명=%{y}<extra></extra>",
         "legendgroup": "기타고기요리",
         "marker": {
          "color": "#ab63fa",
          "pattern": {
           "shape": ""
          }
         },
         "name": "기타고기요리",
         "offsetgroup": "기타고기요리",
         "orientation": "h",
         "showlegend": true,
         "textposition": "auto",
         "type": "bar",
         "x": [
          12
         ],
         "xaxis": "x",
         "y": [
          "한식"
         ],
         "yaxis": "y"
        },
        {
         "alignmentgroup": "True",
         "hovertemplate": "소분류명=냉면집<br>상가수=%{x}<br>중분류명=%{y}<extra></extra>",
         "legendgroup": "냉면집",
         "marker": {
          "color": "#FFA15A",
          "pattern": {
           "shape": ""
          }
         },
         "name": "냉면집",
         "offsetgroup": "냉면집",
         "orientation": "h",
         "showlegend": true,
         "textposition": "auto",
         "type": "bar",
         "x": [
          1
         ],
         "xaxis": "x",
         "y": [
          "한식"
         ],
         "yaxis": "y"
        },
        {
         "alignmentgroup": "True",
         "hovertemplate": "소분류명=돌솥/비빕밥전문점<br>상가수=%{x}<br>중분류명=%{y}<extra></extra>",
         "legendgroup": "돌솥/비빕밥전문점",
         "marker": {
          "color": "#19d3f3",
          "pattern": {
           "shape": ""
          }
         },
         "name": "돌솥/비빕밥전문점",
         "offsetgroup": "돌솥/비빕밥전문점",
         "orientation": "h",
         "showlegend": true,
         "textposition": "auto",
         "type": "bar",
         "x": [
          2
         ],
         "xaxis": "x",
         "y": [
          "한식"
         ],
         "yaxis": "y"
        },
        {
         "alignmentgroup": "True",
         "hovertemplate": "소분류명=부대찌개/섞어찌개<br>상가수=%{x}<br>중분류명=%{y}<extra></extra>",
         "legendgroup": "부대찌개/섞어찌개",
         "marker": {
          "color": "#FF6692",
          "pattern": {
           "shape": ""
          }
         },
         "name": "부대찌개/섞어찌개",
         "offsetgroup": "부대찌개/섞어찌개",
         "orientation": "h",
         "showlegend": true,
         "textposition": "auto",
         "type": "bar",
         "x": [
          16
         ],
         "xaxis": "x",
         "y": [
          "한식"
         ],
         "yaxis": "y"
        },
        {
         "alignmentgroup": "True",
         "hovertemplate": "소분류명=설렁탕집<br>상가수=%{x}<br>중분류명=%{y}<extra></extra>",
         "legendgroup": "설렁탕집",
         "marker": {
          "color": "#B6E880",
          "pattern": {
           "shape": ""
          }
         },
         "name": "설렁탕집",
         "offsetgroup": "설렁탕집",
         "orientation": "h",
         "showlegend": true,
         "textposition": "auto",
         "type": "bar",
         "x": [
          8
         ],
         "xaxis": "x",
         "y": [
          "한식"
         ],
         "yaxis": "y"
        },
        {
         "alignmentgroup": "True",
         "hovertemplate": "소분류명=순두부전문<br>상가수=%{x}<br>중분류명=%{y}<extra></extra>",
         "legendgroup": "순두부전문",
         "marker": {
          "color": "#FF97FF",
          "pattern": {
           "shape": ""
          }
         },
         "name": "순두부전문",
         "offsetgroup": "순두부전문",
         "orientation": "h",
         "showlegend": true,
         "textposition": "auto",
         "type": "bar",
         "x": [
          1
         ],
         "xaxis": "x",
         "y": [
          "한식"
         ],
         "yaxis": "y"
        },
        {
         "alignmentgroup": "True",
         "hovertemplate": "소분류명=족발/보쌈전문<br>상가수=%{x}<br>중분류명=%{y}<extra></extra>",
         "legendgroup": "족발/보쌈전문",
         "marker": {
          "color": "#FECB52",
          "pattern": {
           "shape": ""
          }
         },
         "name": "족발/보쌈전문",
         "offsetgroup": "족발/보쌈전문",
         "orientation": "h",
         "showlegend": true,
         "textposition": "auto",
         "type": "bar",
         "x": [
          7
         ],
         "xaxis": "x",
         "y": [
          "한식"
         ],
         "yaxis": "y"
        },
        {
         "alignmentgroup": "True",
         "hovertemplate": "소분류명=추어탕전문<br>상가수=%{x}<br>중분류명=%{y}<extra></extra>",
         "legendgroup": "추어탕전문",
         "marker": {
          "color": "#636efa",
          "pattern": {
           "shape": ""
          }
         },
         "name": "추어탕전문",
         "offsetgroup": "추어탕전문",
         "orientation": "h",
         "showlegend": true,
         "textposition": "auto",
         "type": "bar",
         "x": [
          1
         ],
         "xaxis": "x",
         "y": [
          "한식"
         ],
         "yaxis": "y"
        },
        {
         "alignmentgroup": "True",
         "hovertemplate": "소분류명=파전전문<br>상가수=%{x}<br>중분류명=%{y}<extra></extra>",
         "legendgroup": "파전전문",
         "marker": {
          "color": "#EF553B",
          "pattern": {
           "shape": ""
          }
         },
         "name": "파전전문",
         "offsetgroup": "파전전문",
         "orientation": "h",
         "showlegend": true,
         "textposition": "auto",
         "type": "bar",
         "x": [
          1
         ],
         "xaxis": "x",
         "y": [
          "한식"
         ],
         "yaxis": "y"
        },
        {
         "alignmentgroup": "True",
         "hovertemplate": "소분류명=한식/백반/한정식<br>상가수=%{x}<br>중분류명=%{y}<extra></extra>",
         "legendgroup": "한식/백반/한정식",
         "marker": {
          "color": "#00cc96",
          "pattern": {
           "shape": ""
          }
         },
         "name": "한식/백반/한정식",
         "offsetgroup": "한식/백반/한정식",
         "orientation": "h",
         "showlegend": true,
         "textposition": "auto",
         "type": "bar",
         "x": [
          274
         ],
         "xaxis": "x",
         "y": [
          "한식"
         ],
         "yaxis": "y"
        },
        {
         "alignmentgroup": "True",
         "hovertemplate": "소분류명=한정식전문<br>상가수=%{x}<br>중분류명=%{y}<extra></extra>",
         "legendgroup": "한정식전문",
         "marker": {
          "color": "#ab63fa",
          "pattern": {
           "shape": ""
          }
         },
         "name": "한정식전문",
         "offsetgroup": "한정식전문",
         "orientation": "h",
         "showlegend": true,
         "textposition": "auto",
         "type": "bar",
         "x": [
          1
         ],
         "xaxis": "x",
         "y": [
          "한식"
         ],
         "yaxis": "y"
        },
        {
         "alignmentgroup": "True",
         "hovertemplate": "소분류명=해장국/감자탕<br>상가수=%{x}<br>중분류명=%{y}<extra></extra>",
         "legendgroup": "해장국/감자탕",
         "marker": {
          "color": "#FFA15A",
          "pattern": {
           "shape": ""
          }
         },
         "name": "해장국/감자탕",
         "offsetgroup": "해장국/감자탕",
         "orientation": "h",
         "showlegend": true,
         "textposition": "auto",
         "type": "bar",
         "x": [
          7
         ],
         "xaxis": "x",
         "y": [
          "한식"
         ],
         "yaxis": "y"
        }
       ],
       "layout": {
        "barmode": "relative",
        "height": 400,
        "legend": {
         "title": {
          "text": "소분류명"
         },
         "tracegroupgap": 0
        },
        "template": {
         "data": {
          "bar": [
           {
            "error_x": {
             "color": "#2a3f5f"
            },
            "error_y": {
             "color": "#2a3f5f"
            },
            "marker": {
             "line": {
              "color": "#E5ECF6",
              "width": 0.5
             },
             "pattern": {
              "fillmode": "overlay",
              "size": 10,
              "solidity": 0.2
             }
            },
            "type": "bar"
           }
          ],
          "barpolar": [
           {
            "marker": {
             "line": {
              "color": "#E5ECF6",
              "width": 0.5
             },
             "pattern": {
              "fillmode": "overlay",
              "size": 10,
              "solidity": 0.2
             }
            },
            "type": "barpolar"
           }
          ],
          "carpet": [
           {
            "aaxis": {
             "endlinecolor": "#2a3f5f",
             "gridcolor": "white",
             "linecolor": "white",
             "minorgridcolor": "white",
             "startlinecolor": "#2a3f5f"
            },
            "baxis": {
             "endlinecolor": "#2a3f5f",
             "gridcolor": "white",
             "linecolor": "white",
             "minorgridcolor": "white",
             "startlinecolor": "#2a3f5f"
            },
            "type": "carpet"
           }
          ],
          "choropleth": [
           {
            "colorbar": {
             "outlinewidth": 0,
             "ticks": ""
            },
            "type": "choropleth"
           }
          ],
          "contour": [
           {
            "colorbar": {
             "outlinewidth": 0,
             "ticks": ""
            },
            "colorscale": [
             [
              0,
              "#0d0887"
             ],
             [
              0.1111111111111111,
              "#46039f"
             ],
             [
              0.2222222222222222,
              "#7201a8"
             ],
             [
              0.3333333333333333,
              "#9c179e"
             ],
             [
              0.4444444444444444,
              "#bd3786"
             ],
             [
              0.5555555555555556,
              "#d8576b"
             ],
             [
              0.6666666666666666,
              "#ed7953"
             ],
             [
              0.7777777777777778,
              "#fb9f3a"
             ],
             [
              0.8888888888888888,
              "#fdca26"
             ],
             [
              1,
              "#f0f921"
             ]
            ],
            "type": "contour"
           }
          ],
          "contourcarpet": [
           {
            "colorbar": {
             "outlinewidth": 0,
             "ticks": ""
            },
            "type": "contourcarpet"
           }
          ],
          "heatmap": [
           {
            "colorbar": {
             "outlinewidth": 0,
             "ticks": ""
            },
            "colorscale": [
             [
              0,
              "#0d0887"
             ],
             [
              0.1111111111111111,
              "#46039f"
             ],
             [
              0.2222222222222222,
              "#7201a8"
             ],
             [
              0.3333333333333333,
              "#9c179e"
             ],
             [
              0.4444444444444444,
              "#bd3786"
             ],
             [
              0.5555555555555556,
              "#d8576b"
             ],
             [
              0.6666666666666666,
              "#ed7953"
             ],
             [
              0.7777777777777778,
              "#fb9f3a"
             ],
             [
              0.8888888888888888,
              "#fdca26"
             ],
             [
              1,
              "#f0f921"
             ]
            ],
            "type": "heatmap"
           }
          ],
          "heatmapgl": [
           {
            "colorbar": {
             "outlinewidth": 0,
             "ticks": ""
            },
            "colorscale": [
             [
              0,
              "#0d0887"
             ],
             [
              0.1111111111111111,
              "#46039f"
             ],
             [
              0.2222222222222222,
              "#7201a8"
             ],
             [
              0.3333333333333333,
              "#9c179e"
             ],
             [
              0.4444444444444444,
              "#bd3786"
             ],
             [
              0.5555555555555556,
              "#d8576b"
             ],
             [
              0.6666666666666666,
              "#ed7953"
             ],
             [
              0.7777777777777778,
              "#fb9f3a"
             ],
             [
              0.8888888888888888,
              "#fdca26"
             ],
             [
              1,
              "#f0f921"
             ]
            ],
            "type": "heatmapgl"
           }
          ],
          "histogram": [
           {
            "marker": {
             "pattern": {
              "fillmode": "overlay",
              "size": 10,
              "solidity": 0.2
             }
            },
            "type": "histogram"
           }
          ],
          "histogram2d": [
           {
            "colorbar": {
             "outlinewidth": 0,
             "ticks": ""
            },
            "colorscale": [
             [
              0,
              "#0d0887"
             ],
             [
              0.1111111111111111,
              "#46039f"
             ],
             [
              0.2222222222222222,
              "#7201a8"
             ],
             [
              0.3333333333333333,
              "#9c179e"
             ],
             [
              0.4444444444444444,
              "#bd3786"
             ],
             [
              0.5555555555555556,
              "#d8576b"
             ],
             [
              0.6666666666666666,
              "#ed7953"
             ],
             [
              0.7777777777777778,
              "#fb9f3a"
             ],
             [
              0.8888888888888888,
              "#fdca26"
             ],
             [
              1,
              "#f0f921"
             ]
            ],
            "type": "histogram2d"
           }
          ],
          "histogram2dcontour": [
           {
            "colorbar": {
             "outlinewidth": 0,
             "ticks": ""
            },
            "colorscale": [
             [
              0,
              "#0d0887"
             ],
             [
              0.1111111111111111,
              "#46039f"
             ],
             [
              0.2222222222222222,
              "#7201a8"
             ],
             [
              0.3333333333333333,
              "#9c179e"
             ],
             [
              0.4444444444444444,
              "#bd3786"
             ],
             [
              0.5555555555555556,
              "#d8576b"
             ],
             [
              0.6666666666666666,
              "#ed7953"
             ],
             [
              0.7777777777777778,
              "#fb9f3a"
             ],
             [
              0.8888888888888888,
              "#fdca26"
             ],
             [
              1,
              "#f0f921"
             ]
            ],
            "type": "histogram2dcontour"
           }
          ],
          "mesh3d": [
           {
            "colorbar": {
             "outlinewidth": 0,
             "ticks": ""
            },
            "type": "mesh3d"
           }
          ],
          "parcoords": [
           {
            "line": {
             "colorbar": {
              "outlinewidth": 0,
              "ticks": ""
             }
            },
            "type": "parcoords"
           }
          ],
          "pie": [
           {
            "automargin": true,
            "type": "pie"
           }
          ],
          "scatter": [
           {
            "marker": {
             "colorbar": {
              "outlinewidth": 0,
              "ticks": ""
             }
            },
            "type": "scatter"
           }
          ],
          "scatter3d": [
           {
            "line": {
             "colorbar": {
              "outlinewidth": 0,
              "ticks": ""
             }
            },
            "marker": {
             "colorbar": {
              "outlinewidth": 0,
              "ticks": ""
             }
            },
            "type": "scatter3d"
           }
          ],
          "scattercarpet": [
           {
            "marker": {
             "colorbar": {
              "outlinewidth": 0,
              "ticks": ""
             }
            },
            "type": "scattercarpet"
           }
          ],
          "scattergeo": [
           {
            "marker": {
             "colorbar": {
              "outlinewidth": 0,
              "ticks": ""
             }
            },
            "type": "scattergeo"
           }
          ],
          "scattergl": [
           {
            "marker": {
             "colorbar": {
              "outlinewidth": 0,
              "ticks": ""
             }
            },
            "type": "scattergl"
           }
          ],
          "scattermapbox": [
           {
            "marker": {
             "colorbar": {
              "outlinewidth": 0,
              "ticks": ""
             }
            },
            "type": "scattermapbox"
           }
          ],
          "scatterpolar": [
           {
            "marker": {
             "colorbar": {
              "outlinewidth": 0,
              "ticks": ""
             }
            },
            "type": "scatterpolar"
           }
          ],
          "scatterpolargl": [
           {
            "marker": {
             "colorbar": {
              "outlinewidth": 0,
              "ticks": ""
             }
            },
            "type": "scatterpolargl"
           }
          ],
          "scatterternary": [
           {
            "marker": {
             "colorbar": {
              "outlinewidth": 0,
              "ticks": ""
             }
            },
            "type": "scatterternary"
           }
          ],
          "surface": [
           {
            "colorbar": {
             "outlinewidth": 0,
             "ticks": ""
            },
            "colorscale": [
             [
              0,
              "#0d0887"
             ],
             [
              0.1111111111111111,
              "#46039f"
             ],
             [
              0.2222222222222222,
              "#7201a8"
             ],
             [
              0.3333333333333333,
              "#9c179e"
             ],
             [
              0.4444444444444444,
              "#bd3786"
             ],
             [
              0.5555555555555556,
              "#d8576b"
             ],
             [
              0.6666666666666666,
              "#ed7953"
             ],
             [
              0.7777777777777778,
              "#fb9f3a"
             ],
             [
              0.8888888888888888,
              "#fdca26"
             ],
             [
              1,
              "#f0f921"
             ]
            ],
            "type": "surface"
           }
          ],
          "table": [
           {
            "cells": {
             "fill": {
              "color": "#EBF0F8"
             },
             "line": {
              "color": "white"
             }
            },
            "header": {
             "fill": {
              "color": "#C8D4E3"
             },
             "line": {
              "color": "white"
             }
            },
            "type": "table"
           }
          ]
         },
         "layout": {
          "annotationdefaults": {
           "arrowcolor": "#2a3f5f",
           "arrowhead": 0,
           "arrowwidth": 1
          },
          "autotypenumbers": "strict",
          "coloraxis": {
           "colorbar": {
            "outlinewidth": 0,
            "ticks": ""
           }
          },
          "colorscale": {
           "diverging": [
            [
             0,
             "#8e0152"
            ],
            [
             0.1,
             "#c51b7d"
            ],
            [
             0.2,
             "#de77ae"
            ],
            [
             0.3,
             "#f1b6da"
            ],
            [
             0.4,
             "#fde0ef"
            ],
            [
             0.5,
             "#f7f7f7"
            ],
            [
             0.6,
             "#e6f5d0"
            ],
            [
             0.7,
             "#b8e186"
            ],
            [
             0.8,
             "#7fbc41"
            ],
            [
             0.9,
             "#4d9221"
            ],
            [
             1,
             "#276419"
            ]
           ],
           "sequential": [
            [
             0,
             "#0d0887"
            ],
            [
             0.1111111111111111,
             "#46039f"
            ],
            [
             0.2222222222222222,
             "#7201a8"
            ],
            [
             0.3333333333333333,
             "#9c179e"
            ],
            [
             0.4444444444444444,
             "#bd3786"
            ],
            [
             0.5555555555555556,
             "#d8576b"
            ],
            [
             0.6666666666666666,
             "#ed7953"
            ],
            [
             0.7777777777777778,
             "#fb9f3a"
            ],
            [
             0.8888888888888888,
             "#fdca26"
            ],
            [
             1,
             "#f0f921"
            ]
           ],
           "sequentialminus": [
            [
             0,
             "#0d0887"
            ],
            [
             0.1111111111111111,
             "#46039f"
            ],
            [
             0.2222222222222222,
             "#7201a8"
            ],
            [
             0.3333333333333333,
             "#9c179e"
            ],
            [
             0.4444444444444444,
             "#bd3786"
            ],
            [
             0.5555555555555556,
             "#d8576b"
            ],
            [
             0.6666666666666666,
             "#ed7953"
            ],
            [
             0.7777777777777778,
             "#fb9f3a"
            ],
            [
             0.8888888888888888,
             "#fdca26"
            ],
            [
             1,
             "#f0f921"
            ]
           ]
          },
          "colorway": [
           "#636efa",
           "#EF553B",
           "#00cc96",
           "#ab63fa",
           "#FFA15A",
           "#19d3f3",
           "#FF6692",
           "#B6E880",
           "#FF97FF",
           "#FECB52"
          ],
          "font": {
           "color": "#2a3f5f"
          },
          "geo": {
           "bgcolor": "white",
           "lakecolor": "white",
           "landcolor": "#E5ECF6",
           "showlakes": true,
           "showland": true,
           "subunitcolor": "white"
          },
          "hoverlabel": {
           "align": "left"
          },
          "hovermode": "closest",
          "mapbox": {
           "style": "light"
          },
          "paper_bgcolor": "white",
          "plot_bgcolor": "#E5ECF6",
          "polar": {
           "angularaxis": {
            "gridcolor": "white",
            "linecolor": "white",
            "ticks": ""
           },
           "bgcolor": "#E5ECF6",
           "radialaxis": {
            "gridcolor": "white",
            "linecolor": "white",
            "ticks": ""
           }
          },
          "scene": {
           "xaxis": {
            "backgroundcolor": "#E5ECF6",
            "gridcolor": "white",
            "gridwidth": 2,
            "linecolor": "white",
            "showbackground": true,
            "ticks": "",
            "zerolinecolor": "white"
           },
           "yaxis": {
            "backgroundcolor": "#E5ECF6",
            "gridcolor": "white",
            "gridwidth": 2,
            "linecolor": "white",
            "showbackground": true,
            "ticks": "",
            "zerolinecolor": "white"
           },
           "zaxis": {
            "backgroundcolor": "#E5ECF6",
            "gridcolor": "white",
            "gridwidth": 2,
            "linecolor": "white",
            "showbackground": true,
            "ticks": "",
            "zerolinecolor": "white"
           }
          },
          "shapedefaults": {
           "line": {
            "color": "#2a3f5f"
           }
          },
          "ternary": {
           "aaxis": {
            "gridcolor": "white",
            "linecolor": "white",
            "ticks": ""
           },
           "baxis": {
            "gridcolor": "white",
            "linecolor": "white",
            "ticks": ""
           },
           "bgcolor": "#E5ECF6",
           "caxis": {
            "gridcolor": "white",
            "linecolor": "white",
            "ticks": ""
           }
          },
          "title": {
           "x": 0.05
          },
          "xaxis": {
           "automargin": true,
           "gridcolor": "white",
           "linecolor": "white",
           "ticks": "",
           "title": {
            "standoff": 15
           },
           "zerolinecolor": "white",
           "zerolinewidth": 2
          },
          "yaxis": {
           "automargin": true,
           "gridcolor": "white",
           "linecolor": "white",
           "ticks": "",
           "title": {
            "standoff": 15
           },
           "zerolinecolor": "white",
           "zerolinewidth": 2
          }
         }
        },
        "title": {
         "text": "<b>2-1 가산지역 생활권 업종별 상가 분석</b>"
        },
        "xaxis": {
         "anchor": "y",
         "domain": [
          0,
          1
         ],
         "title": {
          "text": "상가수"
         }
        },
        "yaxis": {
         "anchor": "x",
         "domain": [
          0,
          1
         ],
         "title": {
          "text": "중분류명"
         }
        }
       }
      },
      "text/html": [
       "<div>                            <div id=\"63c72793-8857-434c-8625-6ca30c53d933\" class=\"plotly-graph-div\" style=\"height:400px; width:100%;\"></div>            <script type=\"text/javascript\">                require([\"plotly\"], function(Plotly) {                    window.PLOTLYENV=window.PLOTLYENV || {};                                    if (document.getElementById(\"63c72793-8857-434c-8625-6ca30c53d933\")) {                    Plotly.newPlot(                        \"63c72793-8857-434c-8625-6ca30c53d933\",                        [{\"alignmentgroup\":\"True\",\"hovertemplate\":\"\\uc18c\\ubd84\\ub958\\uba85=\\uad6c\\ub0b4\\uc2dd\\ub2f9/\\uc790\\uae09\\uc2dd\\uc74c\\uc2dd\\uc810<br>\\uc0c1\\uac00\\uc218=%{x}<br>\\uc911\\ubd84\\ub958\\uba85=%{y}<extra></extra>\",\"legendgroup\":\"\\uad6c\\ub0b4\\uc2dd\\ub2f9/\\uc790\\uae09\\uc2dd\\uc74c\\uc2dd\\uc810\",\"marker\":{\"color\":\"#636efa\",\"pattern\":{\"shape\":\"\"}},\"name\":\"\\uad6c\\ub0b4\\uc2dd\\ub2f9/\\uc790\\uae09\\uc2dd\\uc74c\\uc2dd\\uc810\",\"offsetgroup\":\"\\uad6c\\ub0b4\\uc2dd\\ub2f9/\\uc790\\uae09\\uc2dd\\uc74c\\uc2dd\\uc810\",\"orientation\":\"h\",\"showlegend\":true,\"textposition\":\"auto\",\"type\":\"bar\",\"x\":[2],\"xaxis\":\"x\",\"y\":[\"\\uae30\\ud0c0\\uc74c\\uc2dd\\uc5c5\"],\"yaxis\":\"y\"},{\"alignmentgroup\":\"True\",\"hovertemplate\":\"\\uc18c\\ubd84\\ub958\\uba85=\\ub2ed\\uac08\\ube44\\uc804\\ubb38<br>\\uc0c1\\uac00\\uc218=%{x}<br>\\uc911\\ubd84\\ub958\\uba85=%{y}<extra></extra>\",\"legendgroup\":\"\\ub2ed\\uac08\\ube44\\uc804\\ubb38\",\"marker\":{\"color\":\"#EF553B\",\"pattern\":{\"shape\":\"\"}},\"name\":\"\\ub2ed\\uac08\\ube44\\uc804\\ubb38\",\"offsetgroup\":\"\\ub2ed\\uac08\\ube44\\uc804\\ubb38\",\"orientation\":\"h\",\"showlegend\":true,\"textposition\":\"auto\",\"type\":\"bar\",\"x\":[2],\"xaxis\":\"x\",\"y\":[\"\\ub2ed/\\uc624\\ub9ac\\uc694\\ub9ac\"],\"yaxis\":\"y\"},{\"alignmentgroup\":\"True\",\"hovertemplate\":\"\\uc18c\\ubd84\\ub958\\uba85=\\ub2ed\\ub0b4\\uc7a5/\\ub2ed\\ubc1c\\uc694\\ub9ac<br>\\uc0c1\\uac00\\uc218=%{x}<br>\\uc911\\ubd84\\ub958\\uba85=%{y}<extra></extra>\",\"legendgroup\":\"\\ub2ed\\ub0b4\\uc7a5/\\ub2ed\\ubc1c\\uc694\\ub9ac\",\"marker\":{\"color\":\"#00cc96\",\"pattern\":{\"shape\":\"\"}},\"name\":\"\\ub2ed\\ub0b4\\uc7a5/\\ub2ed\\ubc1c\\uc694\\ub9ac\",\"offsetgroup\":\"\\ub2ed\\ub0b4\\uc7a5/\\ub2ed\\ubc1c\\uc694\\ub9ac\",\"orientation\":\"h\",\"showlegend\":true,\"textposition\":\"auto\",\"type\":\"bar\",\"x\":[2],\"xaxis\":\"x\",\"y\":[\"\\ub2ed/\\uc624\\ub9ac\\uc694\\ub9ac\"],\"yaxis\":\"y\"},{\"alignmentgroup\":\"True\",\"hovertemplate\":\"\\uc18c\\ubd84\\ub958\\uba85=\\ubd88\\ub2ed\\uc804\\ubb38<br>\\uc0c1\\uac00\\uc218=%{x}<br>\\uc911\\ubd84\\ub958\\uba85=%{y}<extra></extra>\",\"legendgroup\":\"\\ubd88\\ub2ed\\uc804\\ubb38\",\"marker\":{\"color\":\"#ab63fa\",\"pattern\":{\"shape\":\"\"}},\"name\":\"\\ubd88\\ub2ed\\uc804\\ubb38\",\"offsetgroup\":\"\\ubd88\\ub2ed\\uc804\\ubb38\",\"orientation\":\"h\",\"showlegend\":true,\"textposition\":\"auto\",\"type\":\"bar\",\"x\":[1],\"xaxis\":\"x\",\"y\":[\"\\ub2ed/\\uc624\\ub9ac\\uc694\\ub9ac\"],\"yaxis\":\"y\"},{\"alignmentgroup\":\"True\",\"hovertemplate\":\"\\uc18c\\ubd84\\ub958\\uba85=\\uc0bc\\uacc4\\ud0d5\\uc804\\ubb38<br>\\uc0c1\\uac00\\uc218=%{x}<br>\\uc911\\ubd84\\ub958\\uba85=%{y}<extra></extra>\",\"legendgroup\":\"\\uc0bc\\uacc4\\ud0d5\\uc804\\ubb38\",\"marker\":{\"color\":\"#FFA15A\",\"pattern\":{\"shape\":\"\"}},\"name\":\"\\uc0bc\\uacc4\\ud0d5\\uc804\\ubb38\",\"offsetgroup\":\"\\uc0bc\\uacc4\\ud0d5\\uc804\\ubb38\",\"orientation\":\"h\",\"showlegend\":true,\"textposition\":\"auto\",\"type\":\"bar\",\"x\":[3],\"xaxis\":\"x\",\"y\":[\"\\ub2ed/\\uc624\\ub9ac\\uc694\\ub9ac\"],\"yaxis\":\"y\"},{\"alignmentgroup\":\"True\",\"hovertemplate\":\"\\uc18c\\ubd84\\ub958\\uba85=\\ucc1c\\ub2ed\\uc804\\ubb38\\uc810<br>\\uc0c1\\uac00\\uc218=%{x}<br>\\uc911\\ubd84\\ub958\\uba85=%{y}<extra></extra>\",\"legendgroup\":\"\\ucc1c\\ub2ed\\uc804\\ubb38\\uc810\",\"marker\":{\"color\":\"#19d3f3\",\"pattern\":{\"shape\":\"\"}},\"name\":\"\\ucc1c\\ub2ed\\uc804\\ubb38\\uc810\",\"offsetgroup\":\"\\ucc1c\\ub2ed\\uc804\\ubb38\\uc810\",\"orientation\":\"h\",\"showlegend\":true,\"textposition\":\"auto\",\"type\":\"bar\",\"x\":[2],\"xaxis\":\"x\",\"y\":[\"\\ub2ed/\\uc624\\ub9ac\\uc694\\ub9ac\"],\"yaxis\":\"y\"},{\"alignmentgroup\":\"True\",\"hovertemplate\":\"\\uc18c\\ubd84\\ub958\\uba85=\\ud6c4\\ub77c\\uc774\\ub4dc/\\uc591\\ub150\\uce58\\ud0a8<br>\\uc0c1\\uac00\\uc218=%{x}<br>\\uc911\\ubd84\\ub958\\uba85=%{y}<extra></extra>\",\"legendgroup\":\"\\ud6c4\\ub77c\\uc774\\ub4dc/\\uc591\\ub150\\uce58\\ud0a8\",\"marker\":{\"color\":\"#FF6692\",\"pattern\":{\"shape\":\"\"}},\"name\":\"\\ud6c4\\ub77c\\uc774\\ub4dc/\\uc591\\ub150\\uce58\\ud0a8\",\"offsetgroup\":\"\\ud6c4\\ub77c\\uc774\\ub4dc/\\uc591\\ub150\\uce58\\ud0a8\",\"orientation\":\"h\",\"showlegend\":true,\"textposition\":\"auto\",\"type\":\"bar\",\"x\":[14],\"xaxis\":\"x\",\"y\":[\"\\ub2ed/\\uc624\\ub9ac\\uc694\\ub9ac\"],\"yaxis\":\"y\"},{\"alignmentgroup\":\"True\",\"hovertemplate\":\"\\uc18c\\ubd84\\ub958\\uba85=\\ub3d9\\ub0a8\\uc544\\uc74c\\uc2dd\\uc804\\ubb38\\uc810<br>\\uc0c1\\uac00\\uc218=%{x}<br>\\uc911\\ubd84\\ub958\\uba85=%{y}<extra></extra>\",\"legendgroup\":\"\\ub3d9\\ub0a8\\uc544\\uc74c\\uc2dd\\uc804\\ubb38\\uc810\",\"marker\":{\"color\":\"#B6E880\",\"pattern\":{\"shape\":\"\"}},\"name\":\"\\ub3d9\\ub0a8\\uc544\\uc74c\\uc2dd\\uc804\\ubb38\\uc810\",\"offsetgroup\":\"\\ub3d9\\ub0a8\\uc544\\uc74c\\uc2dd\\uc804\\ubb38\\uc810\",\"orientation\":\"h\",\"showlegend\":true,\"textposition\":\"auto\",\"type\":\"bar\",\"x\":[9],\"xaxis\":\"x\",\"y\":[\"\\ubcc4\\uc2dd/\\ud4e8\\uc804\\uc694\\ub9ac\"],\"yaxis\":\"y\"},{\"alignmentgroup\":\"True\",\"hovertemplate\":\"\\uc18c\\ubd84\\ub958\\uba85=\\uc0e4\\ube0c\\uc0e4\\ube0c\\uc804\\ubb38<br>\\uc0c1\\uac00\\uc218=%{x}<br>\\uc911\\ubd84\\ub958\\uba85=%{y}<extra></extra>\",\"legendgroup\":\"\\uc0e4\\ube0c\\uc0e4\\ube0c\\uc804\\ubb38\",\"marker\":{\"color\":\"#FF97FF\",\"pattern\":{\"shape\":\"\"}},\"name\":\"\\uc0e4\\ube0c\\uc0e4\\ube0c\\uc804\\ubb38\",\"offsetgroup\":\"\\uc0e4\\ube0c\\uc0e4\\ube0c\\uc804\\ubb38\",\"orientation\":\"h\",\"showlegend\":true,\"textposition\":\"auto\",\"type\":\"bar\",\"x\":[6],\"xaxis\":\"x\",\"y\":[\"\\ubcc4\\uc2dd/\\ud4e8\\uc804\\uc694\\ub9ac\"],\"yaxis\":\"y\"},{\"alignmentgroup\":\"True\",\"hovertemplate\":\"\\uc18c\\ubd84\\ub958\\uba85=\\uc21c\\ub300\\uc804\\ubb38\\uc810<br>\\uc0c1\\uac00\\uc218=%{x}<br>\\uc911\\ubd84\\ub958\\uba85=%{y}<extra></extra>\",\"legendgroup\":\"\\uc21c\\ub300\\uc804\\ubb38\\uc810\",\"marker\":{\"color\":\"#FECB52\",\"pattern\":{\"shape\":\"\"}},\"name\":\"\\uc21c\\ub300\\uc804\\ubb38\\uc810\",\"offsetgroup\":\"\\uc21c\\ub300\\uc804\\ubb38\\uc810\",\"orientation\":\"h\",\"showlegend\":true,\"textposition\":\"auto\",\"type\":\"bar\",\"x\":[12],\"xaxis\":\"x\",\"y\":[\"\\ubcc4\\uc2dd/\\ud4e8\\uc804\\uc694\\ub9ac\"],\"yaxis\":\"y\"},{\"alignmentgroup\":\"True\",\"hovertemplate\":\"\\uc18c\\ubd84\\ub958\\uba85=\\uc8fd\\uc804\\ubb38\\uc810<br>\\uc0c1\\uac00\\uc218=%{x}<br>\\uc911\\ubd84\\ub958\\uba85=%{y}<extra></extra>\",\"legendgroup\":\"\\uc8fd\\uc804\\ubb38\\uc810\",\"marker\":{\"color\":\"#636efa\",\"pattern\":{\"shape\":\"\"}},\"name\":\"\\uc8fd\\uc804\\ubb38\\uc810\",\"offsetgroup\":\"\\uc8fd\\uc804\\ubb38\\uc810\",\"orientation\":\"h\",\"showlegend\":true,\"textposition\":\"auto\",\"type\":\"bar\",\"x\":[6],\"xaxis\":\"x\",\"y\":[\"\\ubcc4\\uc2dd/\\ud4e8\\uc804\\uc694\\ub9ac\"],\"yaxis\":\"y\"},{\"alignmentgroup\":\"True\",\"hovertemplate\":\"\\uc18c\\ubd84\\ub958\\uba85=\\uc885\\ud569\\ubd80\\ud398<br>\\uc0c1\\uac00\\uc218=%{x}<br>\\uc911\\ubd84\\ub958\\uba85=%{y}<extra></extra>\",\"legendgroup\":\"\\uc885\\ud569\\ubd80\\ud398\",\"marker\":{\"color\":\"#EF553B\",\"pattern\":{\"shape\":\"\"}},\"name\":\"\\uc885\\ud569\\ubd80\\ud398\",\"offsetgroup\":\"\\uc885\\ud569\\ubd80\\ud398\",\"orientation\":\"h\",\"showlegend\":true,\"textposition\":\"auto\",\"type\":\"bar\",\"x\":[1],\"xaxis\":\"x\",\"y\":[\"\\ubd80\\ud398\"],\"yaxis\":\"y\"},{\"alignmentgroup\":\"True\",\"hovertemplate\":\"\\uc18c\\ubd84\\ub958\\uba85=\\ucc44\\uc2dd/\\ud55c\\uc2dd\\ubd80\\ud398<br>\\uc0c1\\uac00\\uc218=%{x}<br>\\uc911\\ubd84\\ub958\\uba85=%{y}<extra></extra>\",\"legendgroup\":\"\\ucc44\\uc2dd/\\ud55c\\uc2dd\\ubd80\\ud398\",\"marker\":{\"color\":\"#00cc96\",\"pattern\":{\"shape\":\"\"}},\"name\":\"\\ucc44\\uc2dd/\\ud55c\\uc2dd\\ubd80\\ud398\",\"offsetgroup\":\"\\ucc44\\uc2dd/\\ud55c\\uc2dd\\ubd80\\ud398\",\"orientation\":\"h\",\"showlegend\":true,\"textposition\":\"auto\",\"type\":\"bar\",\"x\":[1],\"xaxis\":\"x\",\"y\":[\"\\ubd80\\ud398\"],\"yaxis\":\"y\"},{\"alignmentgroup\":\"True\",\"hovertemplate\":\"\\uc18c\\ubd84\\ub958\\uba85=\\ud55c\\uc2dd\\ubd80\\ud398<br>\\uc0c1\\uac00\\uc218=%{x}<br>\\uc911\\ubd84\\ub958\\uba85=%{y}<extra></extra>\",\"legendgroup\":\"\\ud55c\\uc2dd\\ubd80\\ud398\",\"marker\":{\"color\":\"#ab63fa\",\"pattern\":{\"shape\":\"\"}},\"name\":\"\\ud55c\\uc2dd\\ubd80\\ud398\",\"offsetgroup\":\"\\ud55c\\uc2dd\\ubd80\\ud398\",\"orientation\":\"h\",\"showlegend\":true,\"textposition\":\"auto\",\"type\":\"bar\",\"x\":[1],\"xaxis\":\"x\",\"y\":[\"\\ubd80\\ud398\"],\"yaxis\":\"y\"},{\"alignmentgroup\":\"True\",\"hovertemplate\":\"\\uc18c\\ubd84\\ub958\\uba85=\\uad6d\\uc218/\\ub9cc\\ub450/\\uce7c\\uad6d\\uc218<br>\\uc0c1\\uac00\\uc218=%{x}<br>\\uc911\\ubd84\\ub958\\uba85=%{y}<extra></extra>\",\"legendgroup\":\"\\uad6d\\uc218/\\ub9cc\\ub450/\\uce7c\\uad6d\\uc218\",\"marker\":{\"color\":\"#FFA15A\",\"pattern\":{\"shape\":\"\"}},\"name\":\"\\uad6d\\uc218/\\ub9cc\\ub450/\\uce7c\\uad6d\\uc218\",\"offsetgroup\":\"\\uad6d\\uc218/\\ub9cc\\ub450/\\uce7c\\uad6d\\uc218\",\"orientation\":\"h\",\"showlegend\":true,\"textposition\":\"auto\",\"type\":\"bar\",\"x\":[19],\"xaxis\":\"x\",\"y\":[\"\\ubd84\\uc2dd\"],\"yaxis\":\"y\"},{\"alignmentgroup\":\"True\",\"hovertemplate\":\"\\uc18c\\ubd84\\ub958\\uba85=\\ub5a1\\ubcf6\\uc774\\uc804\\ubb38<br>\\uc0c1\\uac00\\uc218=%{x}<br>\\uc911\\ubd84\\ub958\\uba85=%{y}<extra></extra>\",\"legendgroup\":\"\\ub5a1\\ubcf6\\uc774\\uc804\\ubb38\",\"marker\":{\"color\":\"#19d3f3\",\"pattern\":{\"shape\":\"\"}},\"name\":\"\\ub5a1\\ubcf6\\uc774\\uc804\\ubb38\",\"offsetgroup\":\"\\ub5a1\\ubcf6\\uc774\\uc804\\ubb38\",\"orientation\":\"h\",\"showlegend\":true,\"textposition\":\"auto\",\"type\":\"bar\",\"x\":[6],\"xaxis\":\"x\",\"y\":[\"\\ubd84\\uc2dd\"],\"yaxis\":\"y\"},{\"alignmentgroup\":\"True\",\"hovertemplate\":\"\\uc18c\\ubd84\\ub958\\uba85=\\ub77c\\uba74\\uae40\\ubc25\\ubd84\\uc2dd<br>\\uc0c1\\uac00\\uc218=%{x}<br>\\uc911\\ubd84\\ub958\\uba85=%{y}<extra></extra>\",\"legendgroup\":\"\\ub77c\\uba74\\uae40\\ubc25\\ubd84\\uc2dd\",\"marker\":{\"color\":\"#FF6692\",\"pattern\":{\"shape\":\"\"}},\"name\":\"\\ub77c\\uba74\\uae40\\ubc25\\ubd84\\uc2dd\",\"offsetgroup\":\"\\ub77c\\uba74\\uae40\\ubc25\\ubd84\\uc2dd\",\"orientation\":\"h\",\"showlegend\":true,\"textposition\":\"auto\",\"type\":\"bar\",\"x\":[56],\"xaxis\":\"x\",\"y\":[\"\\ubd84\\uc2dd\"],\"yaxis\":\"y\"},{\"alignmentgroup\":\"True\",\"hovertemplate\":\"\\uc18c\\ubd84\\ub958\\uba85=\\uc2a4\\ub0b5<br>\\uc0c1\\uac00\\uc218=%{x}<br>\\uc911\\ubd84\\ub958\\uba85=%{y}<extra></extra>\",\"legendgroup\":\"\\uc2a4\\ub0b5\",\"marker\":{\"color\":\"#B6E880\",\"pattern\":{\"shape\":\"\"}},\"name\":\"\\uc2a4\\ub0b5\",\"offsetgroup\":\"\\uc2a4\\ub0b5\",\"orientation\":\"h\",\"showlegend\":true,\"textposition\":\"auto\",\"type\":\"bar\",\"x\":[2],\"xaxis\":\"x\",\"y\":[\"\\ubd84\\uc2dd\"],\"yaxis\":\"y\"},{\"alignmentgroup\":\"True\",\"hovertemplate\":\"\\uc18c\\ubd84\\ub958\\uba85=\\uc6b0\\ub3d9\\uc804\\ubb38\\uc810<br>\\uc0c1\\uac00\\uc218=%{x}<br>\\uc911\\ubd84\\ub958\\uba85=%{y}<extra></extra>\",\"legendgroup\":\"\\uc6b0\\ub3d9\\uc804\\ubb38\\uc810\",\"marker\":{\"color\":\"#FF97FF\",\"pattern\":{\"shape\":\"\"}},\"name\":\"\\uc6b0\\ub3d9\\uc804\\ubb38\\uc810\",\"offsetgroup\":\"\\uc6b0\\ub3d9\\uc804\\ubb38\\uc810\",\"orientation\":\"h\",\"showlegend\":true,\"textposition\":\"auto\",\"type\":\"bar\",\"x\":[3],\"xaxis\":\"x\",\"y\":[\"\\ubd84\\uc2dd\"],\"yaxis\":\"y\"},{\"alignmentgroup\":\"True\",\"hovertemplate\":\"\\uc18c\\ubd84\\ub958\\uba85=\\uae30\\ud0c0\\uc804\\ubb38\\uc11c\\uc591\\uc74c\\uc2dd\\uc810<br>\\uc0c1\\uac00\\uc218=%{x}<br>\\uc911\\ubd84\\ub958\\uba85=%{y}<extra></extra>\",\"legendgroup\":\"\\uae30\\ud0c0\\uc804\\ubb38\\uc11c\\uc591\\uc74c\\uc2dd\\uc810\",\"marker\":{\"color\":\"#FECB52\",\"pattern\":{\"shape\":\"\"}},\"name\":\"\\uae30\\ud0c0\\uc804\\ubb38\\uc11c\\uc591\\uc74c\\uc2dd\\uc810\",\"offsetgroup\":\"\\uae30\\ud0c0\\uc804\\ubb38\\uc11c\\uc591\\uc74c\\uc2dd\\uc810\",\"orientation\":\"h\",\"showlegend\":true,\"textposition\":\"auto\",\"type\":\"bar\",\"x\":[1],\"xaxis\":\"x\",\"y\":[\"\\uc591\\uc2dd\"],\"yaxis\":\"y\"},{\"alignmentgroup\":\"True\",\"hovertemplate\":\"\\uc18c\\ubd84\\ub958\\uba85=\\ub3c8\\uac00\\uc2a4\\uc804\\ubb38\\uc810<br>\\uc0c1\\uac00\\uc218=%{x}<br>\\uc911\\ubd84\\ub958\\uba85=%{y}<extra></extra>\",\"legendgroup\":\"\\ub3c8\\uac00\\uc2a4\\uc804\\ubb38\\uc810\",\"marker\":{\"color\":\"#636efa\",\"pattern\":{\"shape\":\"\"}},\"name\":\"\\ub3c8\\uac00\\uc2a4\\uc804\\ubb38\\uc810\",\"offsetgroup\":\"\\ub3c8\\uac00\\uc2a4\\uc804\\ubb38\\uc810\",\"orientation\":\"h\",\"showlegend\":true,\"textposition\":\"auto\",\"type\":\"bar\",\"x\":[4],\"xaxis\":\"x\",\"y\":[\"\\uc591\\uc2dd\"],\"yaxis\":\"y\"},{\"alignmentgroup\":\"True\",\"hovertemplate\":\"\\uc18c\\ubd84\\ub958\\uba85=\\ubc14\\ubca0\\ud050\\uc804\\ubb38<br>\\uc0c1\\uac00\\uc218=%{x}<br>\\uc911\\ubd84\\ub958\\uba85=%{y}<extra></extra>\",\"legendgroup\":\"\\ubc14\\ubca0\\ud050\\uc804\\ubb38\",\"marker\":{\"color\":\"#EF553B\",\"pattern\":{\"shape\":\"\"}},\"name\":\"\\ubc14\\ubca0\\ud050\\uc804\\ubb38\",\"offsetgroup\":\"\\ubc14\\ubca0\\ud050\\uc804\\ubb38\",\"orientation\":\"h\",\"showlegend\":true,\"textposition\":\"auto\",\"type\":\"bar\",\"x\":[1],\"xaxis\":\"x\",\"y\":[\"\\uc591\\uc2dd\"],\"yaxis\":\"y\"},{\"alignmentgroup\":\"True\",\"hovertemplate\":\"\\uc18c\\ubd84\\ub958\\uba85=\\uc2a4\\ud14c\\uc774\\ud06c\\uc804\\ubb38\\uc810<br>\\uc0c1\\uac00\\uc218=%{x}<br>\\uc911\\ubd84\\ub958\\uba85=%{y}<extra></extra>\",\"legendgroup\":\"\\uc2a4\\ud14c\\uc774\\ud06c\\uc804\\ubb38\\uc810\",\"marker\":{\"color\":\"#00cc96\",\"pattern\":{\"shape\":\"\"}},\"name\":\"\\uc2a4\\ud14c\\uc774\\ud06c\\uc804\\ubb38\\uc810\",\"offsetgroup\":\"\\uc2a4\\ud14c\\uc774\\ud06c\\uc804\\ubb38\\uc810\",\"orientation\":\"h\",\"showlegend\":true,\"textposition\":\"auto\",\"type\":\"bar\",\"x\":[3],\"xaxis\":\"x\",\"y\":[\"\\uc591\\uc2dd\"],\"yaxis\":\"y\"},{\"alignmentgroup\":\"True\",\"hovertemplate\":\"\\uc18c\\ubd84\\ub958\\uba85=\\uc2a4\\ud30c\\uac8c\\ud2f0\\uc804\\ubb38\\uc810<br>\\uc0c1\\uac00\\uc218=%{x}<br>\\uc911\\ubd84\\ub958\\uba85=%{y}<extra></extra>\",\"legendgroup\":\"\\uc2a4\\ud30c\\uac8c\\ud2f0\\uc804\\ubb38\\uc810\",\"marker\":{\"color\":\"#ab63fa\",\"pattern\":{\"shape\":\"\"}},\"name\":\"\\uc2a4\\ud30c\\uac8c\\ud2f0\\uc804\\ubb38\\uc810\",\"offsetgroup\":\"\\uc2a4\\ud30c\\uac8c\\ud2f0\\uc804\\ubb38\\uc810\",\"orientation\":\"h\",\"showlegend\":true,\"textposition\":\"auto\",\"type\":\"bar\",\"x\":[4],\"xaxis\":\"x\",\"y\":[\"\\uc591\\uc2dd\"],\"yaxis\":\"y\"},{\"alignmentgroup\":\"True\",\"hovertemplate\":\"\\uc18c\\ubd84\\ub958\\uba85=\\uc815\\ud1b5\\uc591\\uc2dd/\\uacbd\\uc591\\uc2dd<br>\\uc0c1\\uac00\\uc218=%{x}<br>\\uc911\\ubd84\\ub958\\uba85=%{y}<extra></extra>\",\"legendgroup\":\"\\uc815\\ud1b5\\uc591\\uc2dd/\\uacbd\\uc591\\uc2dd\",\"marker\":{\"color\":\"#FFA15A\",\"pattern\":{\"shape\":\"\"}},\"name\":\"\\uc815\\ud1b5\\uc591\\uc2dd/\\uacbd\\uc591\\uc2dd\",\"offsetgroup\":\"\\uc815\\ud1b5\\uc591\\uc2dd/\\uacbd\\uc591\\uc2dd\",\"orientation\":\"h\",\"showlegend\":true,\"textposition\":\"auto\",\"type\":\"bar\",\"x\":[19],\"xaxis\":\"x\",\"y\":[\"\\uc591\\uc2dd\"],\"yaxis\":\"y\"},{\"alignmentgroup\":\"True\",\"hovertemplate\":\"\\uc18c\\ubd84\\ub958\\uba85=\\ud328\\ubc00\\ub9ac\\ub808\\uc2a4\\ud1a0\\ub791<br>\\uc0c1\\uac00\\uc218=%{x}<br>\\uc911\\ubd84\\ub958\\uba85=%{y}<extra></extra>\",\"legendgroup\":\"\\ud328\\ubc00\\ub9ac\\ub808\\uc2a4\\ud1a0\\ub791\",\"marker\":{\"color\":\"#19d3f3\",\"pattern\":{\"shape\":\"\"}},\"name\":\"\\ud328\\ubc00\\ub9ac\\ub808\\uc2a4\\ud1a0\\ub791\",\"offsetgroup\":\"\\ud328\\ubc00\\ub9ac\\ub808\\uc2a4\\ud1a0\\ub791\",\"orientation\":\"h\",\"showlegend\":true,\"textposition\":\"auto\",\"type\":\"bar\",\"x\":[4],\"xaxis\":\"x\",\"y\":[\"\\uc591\\uc2dd\"],\"yaxis\":\"y\"},{\"alignmentgroup\":\"True\",\"hovertemplate\":\"\\uc18c\\ubd84\\ub958\\uba85=\\uae30\\ud0c0\\uc77c\\ubc18\\uc720\\ud765\\uc8fc\\uc810<br>\\uc0c1\\uac00\\uc218=%{x}<br>\\uc911\\ubd84\\ub958\\uba85=%{y}<extra></extra>\",\"legendgroup\":\"\\uae30\\ud0c0\\uc77c\\ubc18\\uc720\\ud765\\uc8fc\\uc810\",\"marker\":{\"color\":\"#FF6692\",\"pattern\":{\"shape\":\"\"}},\"name\":\"\\uae30\\ud0c0\\uc77c\\ubc18\\uc720\\ud765\\uc8fc\\uc810\",\"offsetgroup\":\"\\uae30\\ud0c0\\uc77c\\ubc18\\uc720\\ud765\\uc8fc\\uc810\",\"orientation\":\"h\",\"showlegend\":true,\"textposition\":\"auto\",\"type\":\"bar\",\"x\":[1],\"xaxis\":\"x\",\"y\":[\"\\uc720\\ud765\\uc8fc\\uc810\"],\"yaxis\":\"y\"},{\"alignmentgroup\":\"True\",\"hovertemplate\":\"\\uc18c\\ubd84\\ub958\\uba85=\\uaf2c\\uce58\\uad6c\\uc774\\uc804\\ubb38\\uc810<br>\\uc0c1\\uac00\\uc218=%{x}<br>\\uc911\\ubd84\\ub958\\uba85=%{y}<extra></extra>\",\"legendgroup\":\"\\uaf2c\\uce58\\uad6c\\uc774\\uc804\\ubb38\\uc810\",\"marker\":{\"color\":\"#B6E880\",\"pattern\":{\"shape\":\"\"}},\"name\":\"\\uaf2c\\uce58\\uad6c\\uc774\\uc804\\ubb38\\uc810\",\"offsetgroup\":\"\\uaf2c\\uce58\\uad6c\\uc774\\uc804\\ubb38\\uc810\",\"orientation\":\"h\",\"showlegend\":true,\"textposition\":\"auto\",\"type\":\"bar\",\"x\":[8],\"xaxis\":\"x\",\"y\":[\"\\uc720\\ud765\\uc8fc\\uc810\"],\"yaxis\":\"y\"},{\"alignmentgroup\":\"True\",\"hovertemplate\":\"\\uc18c\\ubd84\\ub958\\uba85=\\ub8f8\\uc0b4\\ub871/\\ub2e8\\ub780\\uc8fc\\uc810<br>\\uc0c1\\uac00\\uc218=%{x}<br>\\uc911\\ubd84\\ub958\\uba85=%{y}<extra></extra>\",\"legendgroup\":\"\\ub8f8\\uc0b4\\ub871/\\ub2e8\\ub780\\uc8fc\\uc810\",\"marker\":{\"color\":\"#FF97FF\",\"pattern\":{\"shape\":\"\"}},\"name\":\"\\ub8f8\\uc0b4\\ub871/\\ub2e8\\ub780\\uc8fc\\uc810\",\"offsetgroup\":\"\\ub8f8\\uc0b4\\ub871/\\ub2e8\\ub780\\uc8fc\\uc810\",\"orientation\":\"h\",\"showlegend\":true,\"textposition\":\"auto\",\"type\":\"bar\",\"x\":[6],\"xaxis\":\"x\",\"y\":[\"\\uc720\\ud765\\uc8fc\\uc810\"],\"yaxis\":\"y\"},{\"alignmentgroup\":\"True\",\"hovertemplate\":\"\\uc18c\\ubd84\\ub958\\uba85=\\ubbfc\\uc18d\\uc8fc\\uc810<br>\\uc0c1\\uac00\\uc218=%{x}<br>\\uc911\\ubd84\\ub958\\uba85=%{y}<extra></extra>\",\"legendgroup\":\"\\ubbfc\\uc18d\\uc8fc\\uc810\",\"marker\":{\"color\":\"#FECB52\",\"pattern\":{\"shape\":\"\"}},\"name\":\"\\ubbfc\\uc18d\\uc8fc\\uc810\",\"offsetgroup\":\"\\ubbfc\\uc18d\\uc8fc\\uc810\",\"orientation\":\"h\",\"showlegend\":true,\"textposition\":\"auto\",\"type\":\"bar\",\"x\":[2],\"xaxis\":\"x\",\"y\":[\"\\uc720\\ud765\\uc8fc\\uc810\"],\"yaxis\":\"y\"},{\"alignmentgroup\":\"True\",\"hovertemplate\":\"\\uc18c\\ubd84\\ub958\\uba85=\\ube60/\\uce74\\ud398/\\uc2a4\\ud0e0\\ub4dc\\ube60<br>\\uc0c1\\uac00\\uc218=%{x}<br>\\uc911\\ubd84\\ub958\\uba85=%{y}<extra></extra>\",\"legendgroup\":\"\\ube60/\\uce74\\ud398/\\uc2a4\\ud0e0\\ub4dc\\ube60\",\"marker\":{\"color\":\"#636efa\",\"pattern\":{\"shape\":\"\"}},\"name\":\"\\ube60/\\uce74\\ud398/\\uc2a4\\ud0e0\\ub4dc\\ube60\",\"offsetgroup\":\"\\ube60/\\uce74\\ud398/\\uc2a4\\ud0e0\\ub4dc\\ube60\",\"orientation\":\"h\",\"showlegend\":true,\"textposition\":\"auto\",\"type\":\"bar\",\"x\":[1],\"xaxis\":\"x\",\"y\":[\"\\uc720\\ud765\\uc8fc\\uc810\"],\"yaxis\":\"y\"},{\"alignmentgroup\":\"True\",\"hovertemplate\":\"\\uc18c\\ubd84\\ub958\\uba85=\\uc18c\\uc8fc\\ubc29/\\ud3ec\\uc7a5\\ub9c8\\ucc28<br>\\uc0c1\\uac00\\uc218=%{x}<br>\\uc911\\ubd84\\ub958\\uba85=%{y}<extra></extra>\",\"legendgroup\":\"\\uc18c\\uc8fc\\ubc29/\\ud3ec\\uc7a5\\ub9c8\\ucc28\",\"marker\":{\"color\":\"#EF553B\",\"pattern\":{\"shape\":\"\"}},\"name\":\"\\uc18c\\uc8fc\\ubc29/\\ud3ec\\uc7a5\\ub9c8\\ucc28\",\"offsetgroup\":\"\\uc18c\\uc8fc\\ubc29/\\ud3ec\\uc7a5\\ub9c8\\ucc28\",\"orientation\":\"h\",\"showlegend\":true,\"textposition\":\"auto\",\"type\":\"bar\",\"x\":[11],\"xaxis\":\"x\",\"y\":[\"\\uc720\\ud765\\uc8fc\\uc810\"],\"yaxis\":\"y\"},{\"alignmentgroup\":\"True\",\"hovertemplate\":\"\\uc18c\\ubd84\\ub958\\uba85=\\ud638\\ud504/\\ub9e5\\uc8fc<br>\\uc0c1\\uac00\\uc218=%{x}<br>\\uc911\\ubd84\\ub958\\uba85=%{y}<extra></extra>\",\"legendgroup\":\"\\ud638\\ud504/\\ub9e5\\uc8fc\",\"marker\":{\"color\":\"#00cc96\",\"pattern\":{\"shape\":\"\"}},\"name\":\"\\ud638\\ud504/\\ub9e5\\uc8fc\",\"offsetgroup\":\"\\ud638\\ud504/\\ub9e5\\uc8fc\",\"orientation\":\"h\",\"showlegend\":true,\"textposition\":\"auto\",\"type\":\"bar\",\"x\":[34],\"xaxis\":\"x\",\"y\":[\"\\uc720\\ud765\\uc8fc\\uc810\"],\"yaxis\":\"y\"},{\"alignmentgroup\":\"True\",\"hovertemplate\":\"\\uc18c\\ubd84\\ub958\\uba85=\\ub099\\uc9c0/\\uc624\\uc9d5\\uc5b4<br>\\uc0c1\\uac00\\uc218=%{x}<br>\\uc911\\ubd84\\ub958\\uba85=%{y}<extra></extra>\",\"legendgroup\":\"\\ub099\\uc9c0/\\uc624\\uc9d5\\uc5b4\",\"marker\":{\"color\":\"#ab63fa\",\"pattern\":{\"shape\":\"\"}},\"name\":\"\\ub099\\uc9c0/\\uc624\\uc9d5\\uc5b4\",\"offsetgroup\":\"\\ub099\\uc9c0/\\uc624\\uc9d5\\uc5b4\",\"orientation\":\"h\",\"showlegend\":true,\"textposition\":\"auto\",\"type\":\"bar\",\"x\":[2],\"xaxis\":\"x\",\"y\":[\"\\uc77c\\uc2dd/\\uc218\\uc0b0\\ubb3c\"],\"yaxis\":\"y\"},{\"alignmentgroup\":\"True\",\"hovertemplate\":\"\\uc18c\\ubd84\\ub958\\uba85=\\ub9e4\\uc6b4\\ud0d5\\uc804\\ubb38<br>\\uc0c1\\uac00\\uc218=%{x}<br>\\uc911\\ubd84\\ub958\\uba85=%{y}<extra></extra>\",\"legendgroup\":\"\\ub9e4\\uc6b4\\ud0d5\\uc804\\ubb38\",\"marker\":{\"color\":\"#FFA15A\",\"pattern\":{\"shape\":\"\"}},\"name\":\"\\ub9e4\\uc6b4\\ud0d5\\uc804\\ubb38\",\"offsetgroup\":\"\\ub9e4\\uc6b4\\ud0d5\\uc804\\ubb38\",\"orientation\":\"h\",\"showlegend\":true,\"textposition\":\"auto\",\"type\":\"bar\",\"x\":[3],\"xaxis\":\"x\",\"y\":[\"\\uc77c\\uc2dd/\\uc218\\uc0b0\\ubb3c\"],\"yaxis\":\"y\"},{\"alignmentgroup\":\"True\",\"hovertemplate\":\"\\uc18c\\ubd84\\ub958\\uba85=\\uc544\\uad6c\\uc804\\ubb38<br>\\uc0c1\\uac00\\uc218=%{x}<br>\\uc911\\ubd84\\ub958\\uba85=%{y}<extra></extra>\",\"legendgroup\":\"\\uc544\\uad6c\\uc804\\ubb38\",\"marker\":{\"color\":\"#19d3f3\",\"pattern\":{\"shape\":\"\"}},\"name\":\"\\uc544\\uad6c\\uc804\\ubb38\",\"offsetgroup\":\"\\uc544\\uad6c\\uc804\\ubb38\",\"orientation\":\"h\",\"showlegend\":true,\"textposition\":\"auto\",\"type\":\"bar\",\"x\":[1],\"xaxis\":\"x\",\"y\":[\"\\uc77c\\uc2dd/\\uc218\\uc0b0\\ubb3c\"],\"yaxis\":\"y\"},{\"alignmentgroup\":\"True\",\"hovertemplate\":\"\\uc18c\\ubd84\\ub958\\uba85=\\uc74c\\uc2dd\\uc810-\\uc77c\\uc2dd<br>\\uc0c1\\uac00\\uc218=%{x}<br>\\uc911\\ubd84\\ub958\\uba85=%{y}<extra></extra>\",\"legendgroup\":\"\\uc74c\\uc2dd\\uc810-\\uc77c\\uc2dd\",\"marker\":{\"color\":\"#FF6692\",\"pattern\":{\"shape\":\"\"}},\"name\":\"\\uc74c\\uc2dd\\uc810-\\uc77c\\uc2dd\",\"offsetgroup\":\"\\uc74c\\uc2dd\\uc810-\\uc77c\\uc2dd\",\"orientation\":\"h\",\"showlegend\":true,\"textposition\":\"auto\",\"type\":\"bar\",\"x\":[23],\"xaxis\":\"x\",\"y\":[\"\\uc77c\\uc2dd/\\uc218\\uc0b0\\ubb3c\"],\"yaxis\":\"y\"},{\"alignmentgroup\":\"True\",\"hovertemplate\":\"\\uc18c\\ubd84\\ub958\\uba85=\\uc74c\\uc2dd\\uc810-\\ucd08\\ubc25\\uc804\\ubb38<br>\\uc0c1\\uac00\\uc218=%{x}<br>\\uc911\\ubd84\\ub958\\uba85=%{y}<extra></extra>\",\"legendgroup\":\"\\uc74c\\uc2dd\\uc810-\\ucd08\\ubc25\\uc804\\ubb38\",\"marker\":{\"color\":\"#B6E880\",\"pattern\":{\"shape\":\"\"}},\"name\":\"\\uc74c\\uc2dd\\uc810-\\ucd08\\ubc25\\uc804\\ubb38\",\"offsetgroup\":\"\\uc74c\\uc2dd\\uc810-\\ucd08\\ubc25\\uc804\\ubb38\",\"orientation\":\"h\",\"showlegend\":true,\"textposition\":\"auto\",\"type\":\"bar\",\"x\":[17],\"xaxis\":\"x\",\"y\":[\"\\uc77c\\uc2dd/\\uc218\\uc0b0\\ubb3c\"],\"yaxis\":\"y\"},{\"alignmentgroup\":\"True\",\"hovertemplate\":\"\\uc18c\\ubd84\\ub958\\uba85=\\ucc38\\uce58\\uc804\\ubb38\\uc810<br>\\uc0c1\\uac00\\uc218=%{x}<br>\\uc911\\ubd84\\ub958\\uba85=%{y}<extra></extra>\",\"legendgroup\":\"\\ucc38\\uce58\\uc804\\ubb38\\uc810\",\"marker\":{\"color\":\"#FF97FF\",\"pattern\":{\"shape\":\"\"}},\"name\":\"\\ucc38\\uce58\\uc804\\ubb38\\uc810\",\"offsetgroup\":\"\\ucc38\\uce58\\uc804\\ubb38\\uc810\",\"orientation\":\"h\",\"showlegend\":true,\"textposition\":\"auto\",\"type\":\"bar\",\"x\":[4],\"xaxis\":\"x\",\"y\":[\"\\uc77c\\uc2dd/\\uc218\\uc0b0\\ubb3c\"],\"yaxis\":\"y\"},{\"alignmentgroup\":\"True\",\"hovertemplate\":\"\\uc18c\\ubd84\\ub958\\uba85=\\ud574\\ubb3c\\ucc1c/\\ud0d5\\uc804\\ubb38<br>\\uc0c1\\uac00\\uc218=%{x}<br>\\uc911\\ubd84\\ub958\\uba85=%{y}<extra></extra>\",\"legendgroup\":\"\\ud574\\ubb3c\\ucc1c/\\ud0d5\\uc804\\ubb38\",\"marker\":{\"color\":\"#FECB52\",\"pattern\":{\"shape\":\"\"}},\"name\":\"\\ud574\\ubb3c\\ucc1c/\\ud0d5\\uc804\\ubb38\",\"offsetgroup\":\"\\ud574\\ubb3c\\ucc1c/\\ud0d5\\uc804\\ubb38\",\"orientation\":\"h\",\"showlegend\":true,\"textposition\":\"auto\",\"type\":\"bar\",\"x\":[2],\"xaxis\":\"x\",\"y\":[\"\\uc77c\\uc2dd/\\uc218\\uc0b0\\ubb3c\"],\"yaxis\":\"y\"},{\"alignmentgroup\":\"True\",\"hovertemplate\":\"\\uc18c\\ubd84\\ub958\\uba85=\\ud64d\\uc5b4\\uc804\\ubb38<br>\\uc0c1\\uac00\\uc218=%{x}<br>\\uc911\\ubd84\\ub958\\uba85=%{y}<extra></extra>\",\"legendgroup\":\"\\ud64d\\uc5b4\\uc804\\ubb38\",\"marker\":{\"color\":\"#636efa\",\"pattern\":{\"shape\":\"\"}},\"name\":\"\\ud64d\\uc5b4\\uc804\\ubb38\",\"offsetgroup\":\"\\ud64d\\uc5b4\\uc804\\ubb38\",\"orientation\":\"h\",\"showlegend\":true,\"textposition\":\"auto\",\"type\":\"bar\",\"x\":[1],\"xaxis\":\"x\",\"y\":[\"\\uc77c\\uc2dd/\\uc218\\uc0b0\\ubb3c\"],\"yaxis\":\"y\"},{\"alignmentgroup\":\"True\",\"hovertemplate\":\"\\uc18c\\ubd84\\ub958\\uba85=\\ud69f\\uc9d1<br>\\uc0c1\\uac00\\uc218=%{x}<br>\\uc911\\ubd84\\ub958\\uba85=%{y}<extra></extra>\",\"legendgroup\":\"\\ud69f\\uc9d1\",\"marker\":{\"color\":\"#EF553B\",\"pattern\":{\"shape\":\"\"}},\"name\":\"\\ud69f\\uc9d1\",\"offsetgroup\":\"\\ud69f\\uc9d1\",\"orientation\":\"h\",\"showlegend\":true,\"textposition\":\"auto\",\"type\":\"bar\",\"x\":[3],\"xaxis\":\"x\",\"y\":[\"\\uc77c\\uc2dd/\\uc218\\uc0b0\\ubb3c\"],\"yaxis\":\"y\"},{\"alignmentgroup\":\"True\",\"hovertemplate\":\"\\uc18c\\ubd84\\ub958\\uba85=\\uc81c\\uacfc\\uc810<br>\\uc0c1\\uac00\\uc218=%{x}<br>\\uc911\\ubd84\\ub958\\uba85=%{y}<extra></extra>\",\"legendgroup\":\"\\uc81c\\uacfc\\uc810\",\"marker\":{\"color\":\"#00cc96\",\"pattern\":{\"shape\":\"\"}},\"name\":\"\\uc81c\\uacfc\\uc810\",\"offsetgroup\":\"\\uc81c\\uacfc\\uc810\",\"orientation\":\"h\",\"showlegend\":true,\"textposition\":\"auto\",\"type\":\"bar\",\"x\":[24],\"xaxis\":\"x\",\"y\":[\"\\uc81c\\uacfc\\uc81c\\ube75\\ub5a1\\ucf00\\uc775\"],\"yaxis\":\"y\"},{\"alignmentgroup\":\"True\",\"hovertemplate\":\"\\uc18c\\ubd84\\ub958\\uba85=\\uc911\\uad6d\\uc74c\\uc2dd/\\uc911\\uad6d\\uc9d1<br>\\uc0c1\\uac00\\uc218=%{x}<br>\\uc911\\ubd84\\ub958\\uba85=%{y}<extra></extra>\",\"legendgroup\":\"\\uc911\\uad6d\\uc74c\\uc2dd/\\uc911\\uad6d\\uc9d1\",\"marker\":{\"color\":\"#ab63fa\",\"pattern\":{\"shape\":\"\"}},\"name\":\"\\uc911\\uad6d\\uc74c\\uc2dd/\\uc911\\uad6d\\uc9d1\",\"offsetgroup\":\"\\uc911\\uad6d\\uc74c\\uc2dd/\\uc911\\uad6d\\uc9d1\",\"orientation\":\"h\",\"showlegend\":true,\"textposition\":\"auto\",\"type\":\"bar\",\"x\":[41],\"xaxis\":\"x\",\"y\":[\"\\uc911\\uc2dd\"],\"yaxis\":\"y\"},{\"alignmentgroup\":\"True\",\"hovertemplate\":\"\\uc18c\\ubd84\\ub958\\uba85=\\ucee4\\ud53c\\uc804\\ubb38\\uc810/\\uce74\\ud398/\\ub2e4\\ubc29<br>\\uc0c1\\uac00\\uc218=%{x}<br>\\uc911\\ubd84\\ub958\\uba85=%{y}<extra></extra>\",\"legendgroup\":\"\\ucee4\\ud53c\\uc804\\ubb38\\uc810/\\uce74\\ud398/\\ub2e4\\ubc29\",\"marker\":{\"color\":\"#FFA15A\",\"pattern\":{\"shape\":\"\"}},\"name\":\"\\ucee4\\ud53c\\uc804\\ubb38\\uc810/\\uce74\\ud398/\\ub2e4\\ubc29\",\"offsetgroup\":\"\\ucee4\\ud53c\\uc804\\ubb38\\uc810/\\uce74\\ud398/\\ub2e4\\ubc29\",\"orientation\":\"h\",\"showlegend\":true,\"textposition\":\"auto\",\"type\":\"bar\",\"x\":[233],\"xaxis\":\"x\",\"y\":[\"\\ucee4\\ud53c\\uc810/\\uce74\\ud398\"],\"yaxis\":\"y\"},{\"alignmentgroup\":\"True\",\"hovertemplate\":\"\\uc18c\\ubd84\\ub958\\uba85=\\ub3c4\\uc2dc\\ub77d\\uc804\\ubb38\\uc810<br>\\uc0c1\\uac00\\uc218=%{x}<br>\\uc911\\ubd84\\ub958\\uba85=%{y}<extra></extra>\",\"legendgroup\":\"\\ub3c4\\uc2dc\\ub77d\\uc804\\ubb38\\uc810\",\"marker\":{\"color\":\"#19d3f3\",\"pattern\":{\"shape\":\"\"}},\"name\":\"\\ub3c4\\uc2dc\\ub77d\\uc804\\ubb38\\uc810\",\"offsetgroup\":\"\\ub3c4\\uc2dc\\ub77d\\uc804\\ubb38\\uc810\",\"orientation\":\"h\",\"showlegend\":true,\"textposition\":\"auto\",\"type\":\"bar\",\"x\":[5],\"xaxis\":\"x\",\"y\":[\"\\ud328\\uc2a4\\ud2b8\\ud478\\ub4dc\"],\"yaxis\":\"y\"},{\"alignmentgroup\":\"True\",\"hovertemplate\":\"\\uc18c\\ubd84\\ub958\\uba85=\\uc0cc\\ub4dc\\uc704\\uce58\\uc804\\ubb38\\uc810<br>\\uc0c1\\uac00\\uc218=%{x}<br>\\uc911\\ubd84\\ub958\\uba85=%{y}<extra></extra>\",\"legendgroup\":\"\\uc0cc\\ub4dc\\uc704\\uce58\\uc804\\ubb38\\uc810\",\"marker\":{\"color\":\"#FF6692\",\"pattern\":{\"shape\":\"\"}},\"name\":\"\\uc0cc\\ub4dc\\uc704\\uce58\\uc804\\ubb38\\uc810\",\"offsetgroup\":\"\\uc0cc\\ub4dc\\uc704\\uce58\\uc804\\ubb38\\uc810\",\"orientation\":\"h\",\"showlegend\":true,\"textposition\":\"auto\",\"type\":\"bar\",\"x\":[1],\"xaxis\":\"x\",\"y\":[\"\\ud328\\uc2a4\\ud2b8\\ud478\\ub4dc\"],\"yaxis\":\"y\"},{\"alignmentgroup\":\"True\",\"hovertemplate\":\"\\uc18c\\ubd84\\ub958\\uba85=\\uc544\\uc774\\uc2a4\\ud06c\\ub9bc\\ud310\\ub9e4<br>\\uc0c1\\uac00\\uc218=%{x}<br>\\uc911\\ubd84\\ub958\\uba85=%{y}<extra></extra>\",\"legendgroup\":\"\\uc544\\uc774\\uc2a4\\ud06c\\ub9bc\\ud310\\ub9e4\",\"marker\":{\"color\":\"#B6E880\",\"pattern\":{\"shape\":\"\"}},\"name\":\"\\uc544\\uc774\\uc2a4\\ud06c\\ub9bc\\ud310\\ub9e4\",\"offsetgroup\":\"\\uc544\\uc774\\uc2a4\\ud06c\\ub9bc\\ud310\\ub9e4\",\"orientation\":\"h\",\"showlegend\":true,\"textposition\":\"auto\",\"type\":\"bar\",\"x\":[4],\"xaxis\":\"x\",\"y\":[\"\\ud328\\uc2a4\\ud2b8\\ud478\\ub4dc\"],\"yaxis\":\"y\"},{\"alignmentgroup\":\"True\",\"hovertemplate\":\"\\uc18c\\ubd84\\ub958\\uba85=\\ud328\\uc2a4\\ud2b8\\ud478\\ub4dc<br>\\uc0c1\\uac00\\uc218=%{x}<br>\\uc911\\ubd84\\ub958\\uba85=%{y}<extra></extra>\",\"legendgroup\":\"\\ud328\\uc2a4\\ud2b8\\ud478\\ub4dc\",\"marker\":{\"color\":\"#FF97FF\",\"pattern\":{\"shape\":\"\"}},\"name\":\"\\ud328\\uc2a4\\ud2b8\\ud478\\ub4dc\",\"offsetgroup\":\"\\ud328\\uc2a4\\ud2b8\\ud478\\ub4dc\",\"orientation\":\"h\",\"showlegend\":true,\"textposition\":\"auto\",\"type\":\"bar\",\"x\":[17],\"xaxis\":\"x\",\"y\":[\"\\ud328\\uc2a4\\ud2b8\\ud478\\ub4dc\"],\"yaxis\":\"y\"},{\"alignmentgroup\":\"True\",\"hovertemplate\":\"\\uc18c\\ubd84\\ub958\\uba85=\\ud53c\\uc790\\uc804\\ubb38<br>\\uc0c1\\uac00\\uc218=%{x}<br>\\uc911\\ubd84\\ub958\\uba85=%{y}<extra></extra>\",\"legendgroup\":\"\\ud53c\\uc790\\uc804\\ubb38\",\"marker\":{\"color\":\"#FECB52\",\"pattern\":{\"shape\":\"\"}},\"name\":\"\\ud53c\\uc790\\uc804\\ubb38\",\"offsetgroup\":\"\\ud53c\\uc790\\uc804\\ubb38\",\"orientation\":\"h\",\"showlegend\":true,\"textposition\":\"auto\",\"type\":\"bar\",\"x\":[3],\"xaxis\":\"x\",\"y\":[\"\\ud328\\uc2a4\\ud2b8\\ud478\\ub4dc\"],\"yaxis\":\"y\"},{\"alignmentgroup\":\"True\",\"hovertemplate\":\"\\uc18c\\ubd84\\ub958\\uba85=\\ud56b\\ub3c4\\uadf8<br>\\uc0c1\\uac00\\uc218=%{x}<br>\\uc911\\ubd84\\ub958\\uba85=%{y}<extra></extra>\",\"legendgroup\":\"\\ud56b\\ub3c4\\uadf8\",\"marker\":{\"color\":\"#636efa\",\"pattern\":{\"shape\":\"\"}},\"name\":\"\\ud56b\\ub3c4\\uadf8\",\"offsetgroup\":\"\\ud56b\\ub3c4\\uadf8\",\"orientation\":\"h\",\"showlegend\":true,\"textposition\":\"auto\",\"type\":\"bar\",\"x\":[1],\"xaxis\":\"x\",\"y\":[\"\\ud328\\uc2a4\\ud2b8\\ud478\\ub4dc\"],\"yaxis\":\"y\"},{\"alignmentgroup\":\"True\",\"hovertemplate\":\"\\uc18c\\ubd84\\ub958\\uba85=\\uac08\\ube44/\\uc0bc\\uacb9\\uc0b4<br>\\uc0c1\\uac00\\uc218=%{x}<br>\\uc911\\ubd84\\ub958\\uba85=%{y}<extra></extra>\",\"legendgroup\":\"\\uac08\\ube44/\\uc0bc\\uacb9\\uc0b4\",\"marker\":{\"color\":\"#EF553B\",\"pattern\":{\"shape\":\"\"}},\"name\":\"\\uac08\\ube44/\\uc0bc\\uacb9\\uc0b4\",\"offsetgroup\":\"\\uac08\\ube44/\\uc0bc\\uacb9\\uc0b4\",\"orientation\":\"h\",\"showlegend\":true,\"textposition\":\"auto\",\"type\":\"bar\",\"x\":[18],\"xaxis\":\"x\",\"y\":[\"\\ud55c\\uc2dd\"],\"yaxis\":\"y\"},{\"alignmentgroup\":\"True\",\"hovertemplate\":\"\\uc18c\\ubd84\\ub958\\uba85=\\uacf1\\ucc3d/\\uc591\\uad6c\\uc774\\uc804\\ubb38<br>\\uc0c1\\uac00\\uc218=%{x}<br>\\uc911\\ubd84\\ub958\\uba85=%{y}<extra></extra>\",\"legendgroup\":\"\\uacf1\\ucc3d/\\uc591\\uad6c\\uc774\\uc804\\ubb38\",\"marker\":{\"color\":\"#00cc96\",\"pattern\":{\"shape\":\"\"}},\"name\":\"\\uacf1\\ucc3d/\\uc591\\uad6c\\uc774\\uc804\\ubb38\",\"offsetgroup\":\"\\uacf1\\ucc3d/\\uc591\\uad6c\\uc774\\uc804\\ubb38\",\"orientation\":\"h\",\"showlegend\":true,\"textposition\":\"auto\",\"type\":\"bar\",\"x\":[6],\"xaxis\":\"x\",\"y\":[\"\\ud55c\\uc2dd\"],\"yaxis\":\"y\"},{\"alignmentgroup\":\"True\",\"hovertemplate\":\"\\uc18c\\ubd84\\ub958\\uba85=\\uae30\\ud0c0\\uace0\\uae30\\uc694\\ub9ac<br>\\uc0c1\\uac00\\uc218=%{x}<br>\\uc911\\ubd84\\ub958\\uba85=%{y}<extra></extra>\",\"legendgroup\":\"\\uae30\\ud0c0\\uace0\\uae30\\uc694\\ub9ac\",\"marker\":{\"color\":\"#ab63fa\",\"pattern\":{\"shape\":\"\"}},\"name\":\"\\uae30\\ud0c0\\uace0\\uae30\\uc694\\ub9ac\",\"offsetgroup\":\"\\uae30\\ud0c0\\uace0\\uae30\\uc694\\ub9ac\",\"orientation\":\"h\",\"showlegend\":true,\"textposition\":\"auto\",\"type\":\"bar\",\"x\":[12],\"xaxis\":\"x\",\"y\":[\"\\ud55c\\uc2dd\"],\"yaxis\":\"y\"},{\"alignmentgroup\":\"True\",\"hovertemplate\":\"\\uc18c\\ubd84\\ub958\\uba85=\\ub0c9\\uba74\\uc9d1<br>\\uc0c1\\uac00\\uc218=%{x}<br>\\uc911\\ubd84\\ub958\\uba85=%{y}<extra></extra>\",\"legendgroup\":\"\\ub0c9\\uba74\\uc9d1\",\"marker\":{\"color\":\"#FFA15A\",\"pattern\":{\"shape\":\"\"}},\"name\":\"\\ub0c9\\uba74\\uc9d1\",\"offsetgroup\":\"\\ub0c9\\uba74\\uc9d1\",\"orientation\":\"h\",\"showlegend\":true,\"textposition\":\"auto\",\"type\":\"bar\",\"x\":[1],\"xaxis\":\"x\",\"y\":[\"\\ud55c\\uc2dd\"],\"yaxis\":\"y\"},{\"alignmentgroup\":\"True\",\"hovertemplate\":\"\\uc18c\\ubd84\\ub958\\uba85=\\ub3cc\\uc1a5/\\ube44\\ube55\\ubc25\\uc804\\ubb38\\uc810<br>\\uc0c1\\uac00\\uc218=%{x}<br>\\uc911\\ubd84\\ub958\\uba85=%{y}<extra></extra>\",\"legendgroup\":\"\\ub3cc\\uc1a5/\\ube44\\ube55\\ubc25\\uc804\\ubb38\\uc810\",\"marker\":{\"color\":\"#19d3f3\",\"pattern\":{\"shape\":\"\"}},\"name\":\"\\ub3cc\\uc1a5/\\ube44\\ube55\\ubc25\\uc804\\ubb38\\uc810\",\"offsetgroup\":\"\\ub3cc\\uc1a5/\\ube44\\ube55\\ubc25\\uc804\\ubb38\\uc810\",\"orientation\":\"h\",\"showlegend\":true,\"textposition\":\"auto\",\"type\":\"bar\",\"x\":[2],\"xaxis\":\"x\",\"y\":[\"\\ud55c\\uc2dd\"],\"yaxis\":\"y\"},{\"alignmentgroup\":\"True\",\"hovertemplate\":\"\\uc18c\\ubd84\\ub958\\uba85=\\ubd80\\ub300\\ucc0c\\uac1c/\\uc11e\\uc5b4\\ucc0c\\uac1c<br>\\uc0c1\\uac00\\uc218=%{x}<br>\\uc911\\ubd84\\ub958\\uba85=%{y}<extra></extra>\",\"legendgroup\":\"\\ubd80\\ub300\\ucc0c\\uac1c/\\uc11e\\uc5b4\\ucc0c\\uac1c\",\"marker\":{\"color\":\"#FF6692\",\"pattern\":{\"shape\":\"\"}},\"name\":\"\\ubd80\\ub300\\ucc0c\\uac1c/\\uc11e\\uc5b4\\ucc0c\\uac1c\",\"offsetgroup\":\"\\ubd80\\ub300\\ucc0c\\uac1c/\\uc11e\\uc5b4\\ucc0c\\uac1c\",\"orientation\":\"h\",\"showlegend\":true,\"textposition\":\"auto\",\"type\":\"bar\",\"x\":[16],\"xaxis\":\"x\",\"y\":[\"\\ud55c\\uc2dd\"],\"yaxis\":\"y\"},{\"alignmentgroup\":\"True\",\"hovertemplate\":\"\\uc18c\\ubd84\\ub958\\uba85=\\uc124\\ub801\\ud0d5\\uc9d1<br>\\uc0c1\\uac00\\uc218=%{x}<br>\\uc911\\ubd84\\ub958\\uba85=%{y}<extra></extra>\",\"legendgroup\":\"\\uc124\\ub801\\ud0d5\\uc9d1\",\"marker\":{\"color\":\"#B6E880\",\"pattern\":{\"shape\":\"\"}},\"name\":\"\\uc124\\ub801\\ud0d5\\uc9d1\",\"offsetgroup\":\"\\uc124\\ub801\\ud0d5\\uc9d1\",\"orientation\":\"h\",\"showlegend\":true,\"textposition\":\"auto\",\"type\":\"bar\",\"x\":[8],\"xaxis\":\"x\",\"y\":[\"\\ud55c\\uc2dd\"],\"yaxis\":\"y\"},{\"alignmentgroup\":\"True\",\"hovertemplate\":\"\\uc18c\\ubd84\\ub958\\uba85=\\uc21c\\ub450\\ubd80\\uc804\\ubb38<br>\\uc0c1\\uac00\\uc218=%{x}<br>\\uc911\\ubd84\\ub958\\uba85=%{y}<extra></extra>\",\"legendgroup\":\"\\uc21c\\ub450\\ubd80\\uc804\\ubb38\",\"marker\":{\"color\":\"#FF97FF\",\"pattern\":{\"shape\":\"\"}},\"name\":\"\\uc21c\\ub450\\ubd80\\uc804\\ubb38\",\"offsetgroup\":\"\\uc21c\\ub450\\ubd80\\uc804\\ubb38\",\"orientation\":\"h\",\"showlegend\":true,\"textposition\":\"auto\",\"type\":\"bar\",\"x\":[1],\"xaxis\":\"x\",\"y\":[\"\\ud55c\\uc2dd\"],\"yaxis\":\"y\"},{\"alignmentgroup\":\"True\",\"hovertemplate\":\"\\uc18c\\ubd84\\ub958\\uba85=\\uc871\\ubc1c/\\ubcf4\\uc308\\uc804\\ubb38<br>\\uc0c1\\uac00\\uc218=%{x}<br>\\uc911\\ubd84\\ub958\\uba85=%{y}<extra></extra>\",\"legendgroup\":\"\\uc871\\ubc1c/\\ubcf4\\uc308\\uc804\\ubb38\",\"marker\":{\"color\":\"#FECB52\",\"pattern\":{\"shape\":\"\"}},\"name\":\"\\uc871\\ubc1c/\\ubcf4\\uc308\\uc804\\ubb38\",\"offsetgroup\":\"\\uc871\\ubc1c/\\ubcf4\\uc308\\uc804\\ubb38\",\"orientation\":\"h\",\"showlegend\":true,\"textposition\":\"auto\",\"type\":\"bar\",\"x\":[7],\"xaxis\":\"x\",\"y\":[\"\\ud55c\\uc2dd\"],\"yaxis\":\"y\"},{\"alignmentgroup\":\"True\",\"hovertemplate\":\"\\uc18c\\ubd84\\ub958\\uba85=\\ucd94\\uc5b4\\ud0d5\\uc804\\ubb38<br>\\uc0c1\\uac00\\uc218=%{x}<br>\\uc911\\ubd84\\ub958\\uba85=%{y}<extra></extra>\",\"legendgroup\":\"\\ucd94\\uc5b4\\ud0d5\\uc804\\ubb38\",\"marker\":{\"color\":\"#636efa\",\"pattern\":{\"shape\":\"\"}},\"name\":\"\\ucd94\\uc5b4\\ud0d5\\uc804\\ubb38\",\"offsetgroup\":\"\\ucd94\\uc5b4\\ud0d5\\uc804\\ubb38\",\"orientation\":\"h\",\"showlegend\":true,\"textposition\":\"auto\",\"type\":\"bar\",\"x\":[1],\"xaxis\":\"x\",\"y\":[\"\\ud55c\\uc2dd\"],\"yaxis\":\"y\"},{\"alignmentgroup\":\"True\",\"hovertemplate\":\"\\uc18c\\ubd84\\ub958\\uba85=\\ud30c\\uc804\\uc804\\ubb38<br>\\uc0c1\\uac00\\uc218=%{x}<br>\\uc911\\ubd84\\ub958\\uba85=%{y}<extra></extra>\",\"legendgroup\":\"\\ud30c\\uc804\\uc804\\ubb38\",\"marker\":{\"color\":\"#EF553B\",\"pattern\":{\"shape\":\"\"}},\"name\":\"\\ud30c\\uc804\\uc804\\ubb38\",\"offsetgroup\":\"\\ud30c\\uc804\\uc804\\ubb38\",\"orientation\":\"h\",\"showlegend\":true,\"textposition\":\"auto\",\"type\":\"bar\",\"x\":[1],\"xaxis\":\"x\",\"y\":[\"\\ud55c\\uc2dd\"],\"yaxis\":\"y\"},{\"alignmentgroup\":\"True\",\"hovertemplate\":\"\\uc18c\\ubd84\\ub958\\uba85=\\ud55c\\uc2dd/\\ubc31\\ubc18/\\ud55c\\uc815\\uc2dd<br>\\uc0c1\\uac00\\uc218=%{x}<br>\\uc911\\ubd84\\ub958\\uba85=%{y}<extra></extra>\",\"legendgroup\":\"\\ud55c\\uc2dd/\\ubc31\\ubc18/\\ud55c\\uc815\\uc2dd\",\"marker\":{\"color\":\"#00cc96\",\"pattern\":{\"shape\":\"\"}},\"name\":\"\\ud55c\\uc2dd/\\ubc31\\ubc18/\\ud55c\\uc815\\uc2dd\",\"offsetgroup\":\"\\ud55c\\uc2dd/\\ubc31\\ubc18/\\ud55c\\uc815\\uc2dd\",\"orientation\":\"h\",\"showlegend\":true,\"textposition\":\"auto\",\"type\":\"bar\",\"x\":[274],\"xaxis\":\"x\",\"y\":[\"\\ud55c\\uc2dd\"],\"yaxis\":\"y\"},{\"alignmentgroup\":\"True\",\"hovertemplate\":\"\\uc18c\\ubd84\\ub958\\uba85=\\ud55c\\uc815\\uc2dd\\uc804\\ubb38<br>\\uc0c1\\uac00\\uc218=%{x}<br>\\uc911\\ubd84\\ub958\\uba85=%{y}<extra></extra>\",\"legendgroup\":\"\\ud55c\\uc815\\uc2dd\\uc804\\ubb38\",\"marker\":{\"color\":\"#ab63fa\",\"pattern\":{\"shape\":\"\"}},\"name\":\"\\ud55c\\uc815\\uc2dd\\uc804\\ubb38\",\"offsetgroup\":\"\\ud55c\\uc815\\uc2dd\\uc804\\ubb38\",\"orientation\":\"h\",\"showlegend\":true,\"textposition\":\"auto\",\"type\":\"bar\",\"x\":[1],\"xaxis\":\"x\",\"y\":[\"\\ud55c\\uc2dd\"],\"yaxis\":\"y\"},{\"alignmentgroup\":\"True\",\"hovertemplate\":\"\\uc18c\\ubd84\\ub958\\uba85=\\ud574\\uc7a5\\uad6d/\\uac10\\uc790\\ud0d5<br>\\uc0c1\\uac00\\uc218=%{x}<br>\\uc911\\ubd84\\ub958\\uba85=%{y}<extra></extra>\",\"legendgroup\":\"\\ud574\\uc7a5\\uad6d/\\uac10\\uc790\\ud0d5\",\"marker\":{\"color\":\"#FFA15A\",\"pattern\":{\"shape\":\"\"}},\"name\":\"\\ud574\\uc7a5\\uad6d/\\uac10\\uc790\\ud0d5\",\"offsetgroup\":\"\\ud574\\uc7a5\\uad6d/\\uac10\\uc790\\ud0d5\",\"orientation\":\"h\",\"showlegend\":true,\"textposition\":\"auto\",\"type\":\"bar\",\"x\":[7],\"xaxis\":\"x\",\"y\":[\"\\ud55c\\uc2dd\"],\"yaxis\":\"y\"}],                        {\"barmode\":\"relative\",\"height\":400,\"legend\":{\"title\":{\"text\":\"\\uc18c\\ubd84\\ub958\\uba85\"},\"tracegroupgap\":0},\"template\":{\"data\":{\"bar\":[{\"error_x\":{\"color\":\"#2a3f5f\"},\"error_y\":{\"color\":\"#2a3f5f\"},\"marker\":{\"line\":{\"color\":\"#E5ECF6\",\"width\":0.5},\"pattern\":{\"fillmode\":\"overlay\",\"size\":10,\"solidity\":0.2}},\"type\":\"bar\"}],\"barpolar\":[{\"marker\":{\"line\":{\"color\":\"#E5ECF6\",\"width\":0.5},\"pattern\":{\"fillmode\":\"overlay\",\"size\":10,\"solidity\":0.2}},\"type\":\"barpolar\"}],\"carpet\":[{\"aaxis\":{\"endlinecolor\":\"#2a3f5f\",\"gridcolor\":\"white\",\"linecolor\":\"white\",\"minorgridcolor\":\"white\",\"startlinecolor\":\"#2a3f5f\"},\"baxis\":{\"endlinecolor\":\"#2a3f5f\",\"gridcolor\":\"white\",\"linecolor\":\"white\",\"minorgridcolor\":\"white\",\"startlinecolor\":\"#2a3f5f\"},\"type\":\"carpet\"}],\"choropleth\":[{\"colorbar\":{\"outlinewidth\":0,\"ticks\":\"\"},\"type\":\"choropleth\"}],\"contour\":[{\"colorbar\":{\"outlinewidth\":0,\"ticks\":\"\"},\"colorscale\":[[0.0,\"#0d0887\"],[0.1111111111111111,\"#46039f\"],[0.2222222222222222,\"#7201a8\"],[0.3333333333333333,\"#9c179e\"],[0.4444444444444444,\"#bd3786\"],[0.5555555555555556,\"#d8576b\"],[0.6666666666666666,\"#ed7953\"],[0.7777777777777778,\"#fb9f3a\"],[0.8888888888888888,\"#fdca26\"],[1.0,\"#f0f921\"]],\"type\":\"contour\"}],\"contourcarpet\":[{\"colorbar\":{\"outlinewidth\":0,\"ticks\":\"\"},\"type\":\"contourcarpet\"}],\"heatmap\":[{\"colorbar\":{\"outlinewidth\":0,\"ticks\":\"\"},\"colorscale\":[[0.0,\"#0d0887\"],[0.1111111111111111,\"#46039f\"],[0.2222222222222222,\"#7201a8\"],[0.3333333333333333,\"#9c179e\"],[0.4444444444444444,\"#bd3786\"],[0.5555555555555556,\"#d8576b\"],[0.6666666666666666,\"#ed7953\"],[0.7777777777777778,\"#fb9f3a\"],[0.8888888888888888,\"#fdca26\"],[1.0,\"#f0f921\"]],\"type\":\"heatmap\"}],\"heatmapgl\":[{\"colorbar\":{\"outlinewidth\":0,\"ticks\":\"\"},\"colorscale\":[[0.0,\"#0d0887\"],[0.1111111111111111,\"#46039f\"],[0.2222222222222222,\"#7201a8\"],[0.3333333333333333,\"#9c179e\"],[0.4444444444444444,\"#bd3786\"],[0.5555555555555556,\"#d8576b\"],[0.6666666666666666,\"#ed7953\"],[0.7777777777777778,\"#fb9f3a\"],[0.8888888888888888,\"#fdca26\"],[1.0,\"#f0f921\"]],\"type\":\"heatmapgl\"}],\"histogram\":[{\"marker\":{\"pattern\":{\"fillmode\":\"overlay\",\"size\":10,\"solidity\":0.2}},\"type\":\"histogram\"}],\"histogram2d\":[{\"colorbar\":{\"outlinewidth\":0,\"ticks\":\"\"},\"colorscale\":[[0.0,\"#0d0887\"],[0.1111111111111111,\"#46039f\"],[0.2222222222222222,\"#7201a8\"],[0.3333333333333333,\"#9c179e\"],[0.4444444444444444,\"#bd3786\"],[0.5555555555555556,\"#d8576b\"],[0.6666666666666666,\"#ed7953\"],[0.7777777777777778,\"#fb9f3a\"],[0.8888888888888888,\"#fdca26\"],[1.0,\"#f0f921\"]],\"type\":\"histogram2d\"}],\"histogram2dcontour\":[{\"colorbar\":{\"outlinewidth\":0,\"ticks\":\"\"},\"colorscale\":[[0.0,\"#0d0887\"],[0.1111111111111111,\"#46039f\"],[0.2222222222222222,\"#7201a8\"],[0.3333333333333333,\"#9c179e\"],[0.4444444444444444,\"#bd3786\"],[0.5555555555555556,\"#d8576b\"],[0.6666666666666666,\"#ed7953\"],[0.7777777777777778,\"#fb9f3a\"],[0.8888888888888888,\"#fdca26\"],[1.0,\"#f0f921\"]],\"type\":\"histogram2dcontour\"}],\"mesh3d\":[{\"colorbar\":{\"outlinewidth\":0,\"ticks\":\"\"},\"type\":\"mesh3d\"}],\"parcoords\":[{\"line\":{\"colorbar\":{\"outlinewidth\":0,\"ticks\":\"\"}},\"type\":\"parcoords\"}],\"pie\":[{\"automargin\":true,\"type\":\"pie\"}],\"scatter\":[{\"marker\":{\"colorbar\":{\"outlinewidth\":0,\"ticks\":\"\"}},\"type\":\"scatter\"}],\"scatter3d\":[{\"line\":{\"colorbar\":{\"outlinewidth\":0,\"ticks\":\"\"}},\"marker\":{\"colorbar\":{\"outlinewidth\":0,\"ticks\":\"\"}},\"type\":\"scatter3d\"}],\"scattercarpet\":[{\"marker\":{\"colorbar\":{\"outlinewidth\":0,\"ticks\":\"\"}},\"type\":\"scattercarpet\"}],\"scattergeo\":[{\"marker\":{\"colorbar\":{\"outlinewidth\":0,\"ticks\":\"\"}},\"type\":\"scattergeo\"}],\"scattergl\":[{\"marker\":{\"colorbar\":{\"outlinewidth\":0,\"ticks\":\"\"}},\"type\":\"scattergl\"}],\"scattermapbox\":[{\"marker\":{\"colorbar\":{\"outlinewidth\":0,\"ticks\":\"\"}},\"type\":\"scattermapbox\"}],\"scatterpolar\":[{\"marker\":{\"colorbar\":{\"outlinewidth\":0,\"ticks\":\"\"}},\"type\":\"scatterpolar\"}],\"scatterpolargl\":[{\"marker\":{\"colorbar\":{\"outlinewidth\":0,\"ticks\":\"\"}},\"type\":\"scatterpolargl\"}],\"scatterternary\":[{\"marker\":{\"colorbar\":{\"outlinewidth\":0,\"ticks\":\"\"}},\"type\":\"scatterternary\"}],\"surface\":[{\"colorbar\":{\"outlinewidth\":0,\"ticks\":\"\"},\"colorscale\":[[0.0,\"#0d0887\"],[0.1111111111111111,\"#46039f\"],[0.2222222222222222,\"#7201a8\"],[0.3333333333333333,\"#9c179e\"],[0.4444444444444444,\"#bd3786\"],[0.5555555555555556,\"#d8576b\"],[0.6666666666666666,\"#ed7953\"],[0.7777777777777778,\"#fb9f3a\"],[0.8888888888888888,\"#fdca26\"],[1.0,\"#f0f921\"]],\"type\":\"surface\"}],\"table\":[{\"cells\":{\"fill\":{\"color\":\"#EBF0F8\"},\"line\":{\"color\":\"white\"}},\"header\":{\"fill\":{\"color\":\"#C8D4E3\"},\"line\":{\"color\":\"white\"}},\"type\":\"table\"}]},\"layout\":{\"annotationdefaults\":{\"arrowcolor\":\"#2a3f5f\",\"arrowhead\":0,\"arrowwidth\":1},\"autotypenumbers\":\"strict\",\"coloraxis\":{\"colorbar\":{\"outlinewidth\":0,\"ticks\":\"\"}},\"colorscale\":{\"diverging\":[[0,\"#8e0152\"],[0.1,\"#c51b7d\"],[0.2,\"#de77ae\"],[0.3,\"#f1b6da\"],[0.4,\"#fde0ef\"],[0.5,\"#f7f7f7\"],[0.6,\"#e6f5d0\"],[0.7,\"#b8e186\"],[0.8,\"#7fbc41\"],[0.9,\"#4d9221\"],[1,\"#276419\"]],\"sequential\":[[0.0,\"#0d0887\"],[0.1111111111111111,\"#46039f\"],[0.2222222222222222,\"#7201a8\"],[0.3333333333333333,\"#9c179e\"],[0.4444444444444444,\"#bd3786\"],[0.5555555555555556,\"#d8576b\"],[0.6666666666666666,\"#ed7953\"],[0.7777777777777778,\"#fb9f3a\"],[0.8888888888888888,\"#fdca26\"],[1.0,\"#f0f921\"]],\"sequentialminus\":[[0.0,\"#0d0887\"],[0.1111111111111111,\"#46039f\"],[0.2222222222222222,\"#7201a8\"],[0.3333333333333333,\"#9c179e\"],[0.4444444444444444,\"#bd3786\"],[0.5555555555555556,\"#d8576b\"],[0.6666666666666666,\"#ed7953\"],[0.7777777777777778,\"#fb9f3a\"],[0.8888888888888888,\"#fdca26\"],[1.0,\"#f0f921\"]]},\"colorway\":[\"#636efa\",\"#EF553B\",\"#00cc96\",\"#ab63fa\",\"#FFA15A\",\"#19d3f3\",\"#FF6692\",\"#B6E880\",\"#FF97FF\",\"#FECB52\"],\"font\":{\"color\":\"#2a3f5f\"},\"geo\":{\"bgcolor\":\"white\",\"lakecolor\":\"white\",\"landcolor\":\"#E5ECF6\",\"showlakes\":true,\"showland\":true,\"subunitcolor\":\"white\"},\"hoverlabel\":{\"align\":\"left\"},\"hovermode\":\"closest\",\"mapbox\":{\"style\":\"light\"},\"paper_bgcolor\":\"white\",\"plot_bgcolor\":\"#E5ECF6\",\"polar\":{\"angularaxis\":{\"gridcolor\":\"white\",\"linecolor\":\"white\",\"ticks\":\"\"},\"bgcolor\":\"#E5ECF6\",\"radialaxis\":{\"gridcolor\":\"white\",\"linecolor\":\"white\",\"ticks\":\"\"}},\"scene\":{\"xaxis\":{\"backgroundcolor\":\"#E5ECF6\",\"gridcolor\":\"white\",\"gridwidth\":2,\"linecolor\":\"white\",\"showbackground\":true,\"ticks\":\"\",\"zerolinecolor\":\"white\"},\"yaxis\":{\"backgroundcolor\":\"#E5ECF6\",\"gridcolor\":\"white\",\"gridwidth\":2,\"linecolor\":\"white\",\"showbackground\":true,\"ticks\":\"\",\"zerolinecolor\":\"white\"},\"zaxis\":{\"backgroundcolor\":\"#E5ECF6\",\"gridcolor\":\"white\",\"gridwidth\":2,\"linecolor\":\"white\",\"showbackground\":true,\"ticks\":\"\",\"zerolinecolor\":\"white\"}},\"shapedefaults\":{\"line\":{\"color\":\"#2a3f5f\"}},\"ternary\":{\"aaxis\":{\"gridcolor\":\"white\",\"linecolor\":\"white\",\"ticks\":\"\"},\"baxis\":{\"gridcolor\":\"white\",\"linecolor\":\"white\",\"ticks\":\"\"},\"bgcolor\":\"#E5ECF6\",\"caxis\":{\"gridcolor\":\"white\",\"linecolor\":\"white\",\"ticks\":\"\"}},\"title\":{\"x\":0.05},\"xaxis\":{\"automargin\":true,\"gridcolor\":\"white\",\"linecolor\":\"white\",\"ticks\":\"\",\"title\":{\"standoff\":15},\"zerolinecolor\":\"white\",\"zerolinewidth\":2},\"yaxis\":{\"automargin\":true,\"gridcolor\":\"white\",\"linecolor\":\"white\",\"ticks\":\"\",\"title\":{\"standoff\":15},\"zerolinecolor\":\"white\",\"zerolinewidth\":2}}},\"title\":{\"text\":\"<b>2-1 \\uac00\\uc0b0\\uc9c0\\uc5ed \\uc0dd\\ud65c\\uad8c \\uc5c5\\uc885\\ubcc4 \\uc0c1\\uac00 \\ubd84\\uc11d</b>\"},\"xaxis\":{\"anchor\":\"y\",\"domain\":[0.0,1.0],\"title\":{\"text\":\"\\uc0c1\\uac00\\uc218\"}},\"yaxis\":{\"anchor\":\"x\",\"domain\":[0.0,1.0],\"title\":{\"text\":\"\\uc911\\ubd84\\ub958\\uba85\"}}},                        {\"responsive\": true}                    ).then(function(){\n",
       "                            \n",
       "var gd = document.getElementById('63c72793-8857-434c-8625-6ca30c53d933');\n",
       "var x = new MutationObserver(function (mutations, observer) {{\n",
       "        var display = window.getComputedStyle(gd).display;\n",
       "        if (!display || display === 'none') {{\n",
       "            console.log([gd, 'removed!']);\n",
       "            Plotly.purge(gd);\n",
       "            observer.disconnect();\n",
       "        }}\n",
       "}});\n",
       "\n",
       "// Listen for the removal of the full notebook cells\n",
       "var notebookContainer = gd.closest('#notebook-container');\n",
       "if (notebookContainer) {{\n",
       "    x.observe(notebookContainer, {childList: true});\n",
       "}}\n",
       "\n",
       "// Listen for the clearing of the current output cell\n",
       "var outputEl = gd.closest('.output');\n",
       "if (outputEl) {{\n",
       "    x.observe(outputEl, {childList: true});\n",
       "}}\n",
       "\n",
       "                        })                };                });            </script>        </div>"
      ]
     },
     "metadata": {},
     "output_type": "display_data"
    },
    {
     "name": "stdout",
     "output_type": "stream",
     "text": [
      "업종위에 마우스를 올리시면가산 지역 생활권의 정확한 상가 개수를 알 수 있습니다.\n"
     ]
    },
    {
     "data": {
      "application/vnd.plotly.v1+json": {
       "config": {
        "plotlyServerURL": "https://plot.ly"
       },
       "data": [
        {
         "mode": "lines+markers",
         "name": "남자",
         "type": "scatter",
         "x": [
          0,
          1,
          2,
          3,
          4,
          5,
          6,
          7,
          8,
          9,
          10,
          11,
          12,
          13,
          14,
          15,
          16,
          17,
          18,
          19,
          20,
          21,
          22,
          23
         ],
         "xaxis": "x",
         "y": [
          5025766.375000007,
          4970643.376000011,
          4939856.793700001,
          4930340.349500014,
          4963639.149799994,
          5109912.565499999,
          5659366.871700003,
          7236038.501400016,
          10760129.701500062,
          12667738.386199977,
          13250610.243899986,
          13568128.074400013,
          13840943.619899997,
          13942656.87069996,
          13936164.801500008,
          13859090.847199988,
          13623220.19210003,
          12820219.237,
          10705549.883399986,
          8644258.413600001,
          7517108.8084,
          6603360.051200011,
          5980263.559100016,
          5205017.351400008
         ],
         "yaxis": "y"
        },
        {
         "mode": "lines+markers",
         "name": "여자",
         "type": "scatter",
         "x": [
          0,
          1,
          2,
          3,
          4,
          5,
          6,
          7,
          8,
          9,
          10,
          11,
          12,
          13,
          14,
          15,
          16,
          17,
          18,
          19,
          20,
          21,
          22,
          23
         ],
         "xaxis": "x",
         "y": [
          3796477.132799992,
          3792948.7742,
          3783612.71820001,
          3784989.3519000025,
          3794151.671199999,
          3884553.5382999894,
          4077472.847200008,
          4894296.7379999915,
          7453263.567900013,
          9012243.435799971,
          9503390.512700012,
          9806687.72619999,
          10067710.848500002,
          10274148.397799978,
          10315439.811900008,
          10220170.619700002,
          9982421.947900005,
          9329699.717899974,
          7492654.780400007,
          6012394.888599998,
          5344211.804400005,
          4712178.997200009,
          4355087.070299996,
          3863984.7633000053
         ],
         "yaxis": "y"
        },
        {
         "mode": "lines+markers",
         "name": "내국인",
         "type": "scatter",
         "x": [
          0,
          1,
          2,
          3,
          4,
          5,
          6,
          7,
          8,
          9,
          10,
          11,
          12,
          13,
          14,
          15,
          16,
          17,
          18,
          19,
          20,
          21,
          22,
          23
         ],
         "xaxis": "x",
         "y": [
          8822243.5078,
          8763592.150200011,
          8723469.511900011,
          8715329.701400017,
          8757790.820999993,
          8994466.103799988,
          9736839.71890001,
          12130335.239400007,
          18213393.269400075,
          21679981.82199995,
          22754000.7566,
          23374815.800600003,
          23908654.4684,
          24216805.26849994,
          24251604.613400016,
          24079261.46689999,
          23605642.140000034,
          22149918.954899974,
          18198204.663799994,
          14656653.3022,
          12861320.612800006,
          11315539.04840002,
          10335350.629400011,
          9069002.114700014
         ],
         "yaxis": "y"
        },
        {
         "mode": "lines+markers",
         "name": "20 Under",
         "type": "scatter",
         "x": [
          0,
          1,
          2,
          3,
          4,
          5,
          6,
          7,
          8,
          9,
          10,
          11,
          12,
          13,
          14,
          15,
          16,
          17,
          18,
          19,
          20,
          21,
          22,
          23
         ],
         "xaxis": "x2",
         "y": [
          722944.888,
          732059.8971000006,
          730973.5025999998,
          730355.4400000006,
          729804.8336000002,
          732254.7132000001,
          744171.5008999994,
          757870.1036,
          742066.9458000003,
          771777.5923999995,
          787944.8301000001,
          821574.7790000004,
          860267.6868000003,
          895407.9292,
          914267.2759999997,
          955187.5610000005,
          990071.1886,
          977084.0874,
          934629.7863000002,
          871620.0395000005,
          837012.3624,
          808403.2984000004,
          817650.668700001,
          720355.4950000003
         ],
         "yaxis": "y2"
        },
        {
         "mode": "lines+markers",
         "name": "20s",
         "type": "scatter",
         "x": [
          0,
          1,
          2,
          3,
          4,
          5,
          6,
          7,
          8,
          9,
          10,
          11,
          12,
          13,
          14,
          15,
          16,
          17,
          18,
          19,
          20,
          21,
          22,
          23
         ],
         "xaxis": "x2",
         "y": [
          1867514.0851999996,
          1857302.3723000004,
          1854769.4287999999,
          1856275.272500001,
          1853024.0046999995,
          1868447.5479000013,
          1942608.135200002,
          2338926.4353000014,
          4011963.260300001,
          4827114.030799998,
          4946350.111599999,
          5016946.685800001,
          5119036.872600005,
          5173238.913800003,
          5171183.183699999,
          5173342.8966000015,
          5153706.271299999,
          4924621.375999998,
          3849032.301100002,
          2959229.822800001,
          2591362.1818999997,
          2277716.407900001,
          2076091.3988999994,
          1918938.5436000004
         ],
         "yaxis": "y2"
        },
        {
         "mode": "lines+markers",
         "name": "30s",
         "type": "scatter",
         "x": [
          0,
          1,
          2,
          3,
          4,
          5,
          6,
          7,
          8,
          9,
          10,
          11,
          12,
          13,
          14,
          15,
          16,
          17,
          18,
          19,
          20,
          21,
          22,
          23
         ],
         "xaxis": "x2",
         "y": [
          2094761.0329000019,
          2069698.0985000015,
          2055550.9103999988,
          2050763.8734000004,
          2051446.3095000028,
          2069190.0353,
          2216957.0763999987,
          2933295.327900002,
          5009543.7588,
          6091751.3522000015,
          6359942.698499995,
          6519748.4081000015,
          6667042.955700003,
          6717774.804299999,
          6713995.170900002,
          6672624.132599993,
          6578173.8720999975,
          6168923.928800002,
          4887208.386000001,
          3754423.381699999,
          3201014.6449999996,
          2755404.3967999993,
          2468875.6052,
          2164136.760900001
         ],
         "yaxis": "y2"
        },
        {
         "mode": "lines+markers",
         "name": "40s",
         "type": "scatter",
         "x": [
          0,
          1,
          2,
          3,
          4,
          5,
          6,
          7,
          8,
          9,
          10,
          11,
          12,
          13,
          14,
          15,
          16,
          17,
          18,
          19,
          20,
          21,
          22,
          23
         ],
         "xaxis": "x2",
         "y": [
          1514946.8604999997,
          1489338.7335999983,
          1473191.3549999995,
          1467306.2123000002,
          1472405.5957,
          1509773.1023000004,
          1722160.7018000009,
          2374132.9676000006,
          3761619.5397999976,
          4593630.116099998,
          4926922.459899999,
          5124227.660600001,
          5255110.645700005,
          5319991.710500002,
          5311429.4783999985,
          5255688.3597,
          5125098.963600001,
          4754506.523399999,
          3897765.781899999,
          3106764.377,
          2622353.4649,
          2200624.689999999,
          1923112.8905000002,
          1585426.0183999995
         ],
         "yaxis": "y2"
        },
        {
         "mode": "lines+markers",
         "name": "50s",
         "type": "scatter",
         "x": [
          0,
          1,
          2,
          3,
          4,
          5,
          6,
          7,
          8,
          9,
          10,
          11,
          12,
          13,
          14,
          15,
          16,
          17,
          18,
          19,
          20,
          21,
          22,
          23
         ],
         "xaxis": "x2",
         "y": [
          1231620.8877999997,
          1221715.9779999997,
          1217295.4633999998,
          1217498.8166999994,
          1240227.0212000003,
          1303262.1844999995,
          1491926.3756000001,
          1898314.907100001,
          2574225.9978000037,
          3020263.152,
          3216569.2353,
          3321723.0501000015,
          3406648.574599998,
          3459974.2002999997,
          3469592.428299998,
          3418430.3907999992,
          3289727.7805000017,
          3022104.5161000006,
          2548272.224399999,
          2102621.4579999996,
          1848382.0222,
          1610289.894200001,
          1460477.7315000007,
          1271919.9871
         ],
         "yaxis": "y2"
        },
        {
         "mode": "lines+markers",
         "name": "60 Upper",
         "type": "scatter",
         "x": [
          0,
          1,
          2,
          3,
          4,
          5,
          6,
          7,
          8,
          9,
          10,
          11,
          12,
          13,
          14,
          15,
          16,
          17,
          18,
          19,
          20,
          21,
          22,
          23
         ],
         "xaxis": "x2",
         "y": [
          1390455.7533999996,
          1393477.070700001,
          1391688.851699999,
          1393130.0864999995,
          1410883.0563,
          1511538.520599999,
          1619015.929,
          1827795.4978999998,
          2113973.766899999,
          2375445.5785000026,
          2516271.421199999,
          2570595.216999999,
          2600547.7330000037,
          2650417.7104,
          2671137.0760999983,
          2603988.1262000017,
          2468864.0638999986,
          2302678.5231999997,
          2081296.1841000002,
          1861994.2231999994,
          1761195.9364000012,
          1663100.3610999999,
          1589142.3345999985,
          1408225.3097000006
         ],
         "yaxis": "y2"
        }
       ],
       "layout": {
        "template": {
         "data": {
          "bar": [
           {
            "error_x": {
             "color": "#2a3f5f"
            },
            "error_y": {
             "color": "#2a3f5f"
            },
            "marker": {
             "line": {
              "color": "#E5ECF6",
              "width": 0.5
             },
             "pattern": {
              "fillmode": "overlay",
              "size": 10,
              "solidity": 0.2
             }
            },
            "type": "bar"
           }
          ],
          "barpolar": [
           {
            "marker": {
             "line": {
              "color": "#E5ECF6",
              "width": 0.5
             },
             "pattern": {
              "fillmode": "overlay",
              "size": 10,
              "solidity": 0.2
             }
            },
            "type": "barpolar"
           }
          ],
          "carpet": [
           {
            "aaxis": {
             "endlinecolor": "#2a3f5f",
             "gridcolor": "white",
             "linecolor": "white",
             "minorgridcolor": "white",
             "startlinecolor": "#2a3f5f"
            },
            "baxis": {
             "endlinecolor": "#2a3f5f",
             "gridcolor": "white",
             "linecolor": "white",
             "minorgridcolor": "white",
             "startlinecolor": "#2a3f5f"
            },
            "type": "carpet"
           }
          ],
          "choropleth": [
           {
            "colorbar": {
             "outlinewidth": 0,
             "ticks": ""
            },
            "type": "choropleth"
           }
          ],
          "contour": [
           {
            "colorbar": {
             "outlinewidth": 0,
             "ticks": ""
            },
            "colorscale": [
             [
              0,
              "#0d0887"
             ],
             [
              0.1111111111111111,
              "#46039f"
             ],
             [
              0.2222222222222222,
              "#7201a8"
             ],
             [
              0.3333333333333333,
              "#9c179e"
             ],
             [
              0.4444444444444444,
              "#bd3786"
             ],
             [
              0.5555555555555556,
              "#d8576b"
             ],
             [
              0.6666666666666666,
              "#ed7953"
             ],
             [
              0.7777777777777778,
              "#fb9f3a"
             ],
             [
              0.8888888888888888,
              "#fdca26"
             ],
             [
              1,
              "#f0f921"
             ]
            ],
            "type": "contour"
           }
          ],
          "contourcarpet": [
           {
            "colorbar": {
             "outlinewidth": 0,
             "ticks": ""
            },
            "type": "contourcarpet"
           }
          ],
          "heatmap": [
           {
            "colorbar": {
             "outlinewidth": 0,
             "ticks": ""
            },
            "colorscale": [
             [
              0,
              "#0d0887"
             ],
             [
              0.1111111111111111,
              "#46039f"
             ],
             [
              0.2222222222222222,
              "#7201a8"
             ],
             [
              0.3333333333333333,
              "#9c179e"
             ],
             [
              0.4444444444444444,
              "#bd3786"
             ],
             [
              0.5555555555555556,
              "#d8576b"
             ],
             [
              0.6666666666666666,
              "#ed7953"
             ],
             [
              0.7777777777777778,
              "#fb9f3a"
             ],
             [
              0.8888888888888888,
              "#fdca26"
             ],
             [
              1,
              "#f0f921"
             ]
            ],
            "type": "heatmap"
           }
          ],
          "heatmapgl": [
           {
            "colorbar": {
             "outlinewidth": 0,
             "ticks": ""
            },
            "colorscale": [
             [
              0,
              "#0d0887"
             ],
             [
              0.1111111111111111,
              "#46039f"
             ],
             [
              0.2222222222222222,
              "#7201a8"
             ],
             [
              0.3333333333333333,
              "#9c179e"
             ],
             [
              0.4444444444444444,
              "#bd3786"
             ],
             [
              0.5555555555555556,
              "#d8576b"
             ],
             [
              0.6666666666666666,
              "#ed7953"
             ],
             [
              0.7777777777777778,
              "#fb9f3a"
             ],
             [
              0.8888888888888888,
              "#fdca26"
             ],
             [
              1,
              "#f0f921"
             ]
            ],
            "type": "heatmapgl"
           }
          ],
          "histogram": [
           {
            "marker": {
             "pattern": {
              "fillmode": "overlay",
              "size": 10,
              "solidity": 0.2
             }
            },
            "type": "histogram"
           }
          ],
          "histogram2d": [
           {
            "colorbar": {
             "outlinewidth": 0,
             "ticks": ""
            },
            "colorscale": [
             [
              0,
              "#0d0887"
             ],
             [
              0.1111111111111111,
              "#46039f"
             ],
             [
              0.2222222222222222,
              "#7201a8"
             ],
             [
              0.3333333333333333,
              "#9c179e"
             ],
             [
              0.4444444444444444,
              "#bd3786"
             ],
             [
              0.5555555555555556,
              "#d8576b"
             ],
             [
              0.6666666666666666,
              "#ed7953"
             ],
             [
              0.7777777777777778,
              "#fb9f3a"
             ],
             [
              0.8888888888888888,
              "#fdca26"
             ],
             [
              1,
              "#f0f921"
             ]
            ],
            "type": "histogram2d"
           }
          ],
          "histogram2dcontour": [
           {
            "colorbar": {
             "outlinewidth": 0,
             "ticks": ""
            },
            "colorscale": [
             [
              0,
              "#0d0887"
             ],
             [
              0.1111111111111111,
              "#46039f"
             ],
             [
              0.2222222222222222,
              "#7201a8"
             ],
             [
              0.3333333333333333,
              "#9c179e"
             ],
             [
              0.4444444444444444,
              "#bd3786"
             ],
             [
              0.5555555555555556,
              "#d8576b"
             ],
             [
              0.6666666666666666,
              "#ed7953"
             ],
             [
              0.7777777777777778,
              "#fb9f3a"
             ],
             [
              0.8888888888888888,
              "#fdca26"
             ],
             [
              1,
              "#f0f921"
             ]
            ],
            "type": "histogram2dcontour"
           }
          ],
          "mesh3d": [
           {
            "colorbar": {
             "outlinewidth": 0,
             "ticks": ""
            },
            "type": "mesh3d"
           }
          ],
          "parcoords": [
           {
            "line": {
             "colorbar": {
              "outlinewidth": 0,
              "ticks": ""
             }
            },
            "type": "parcoords"
           }
          ],
          "pie": [
           {
            "automargin": true,
            "type": "pie"
           }
          ],
          "scatter": [
           {
            "marker": {
             "colorbar": {
              "outlinewidth": 0,
              "ticks": ""
             }
            },
            "type": "scatter"
           }
          ],
          "scatter3d": [
           {
            "line": {
             "colorbar": {
              "outlinewidth": 0,
              "ticks": ""
             }
            },
            "marker": {
             "colorbar": {
              "outlinewidth": 0,
              "ticks": ""
             }
            },
            "type": "scatter3d"
           }
          ],
          "scattercarpet": [
           {
            "marker": {
             "colorbar": {
              "outlinewidth": 0,
              "ticks": ""
             }
            },
            "type": "scattercarpet"
           }
          ],
          "scattergeo": [
           {
            "marker": {
             "colorbar": {
              "outlinewidth": 0,
              "ticks": ""
             }
            },
            "type": "scattergeo"
           }
          ],
          "scattergl": [
           {
            "marker": {
             "colorbar": {
              "outlinewidth": 0,
              "ticks": ""
             }
            },
            "type": "scattergl"
           }
          ],
          "scattermapbox": [
           {
            "marker": {
             "colorbar": {
              "outlinewidth": 0,
              "ticks": ""
             }
            },
            "type": "scattermapbox"
           }
          ],
          "scatterpolar": [
           {
            "marker": {
             "colorbar": {
              "outlinewidth": 0,
              "ticks": ""
             }
            },
            "type": "scatterpolar"
           }
          ],
          "scatterpolargl": [
           {
            "marker": {
             "colorbar": {
              "outlinewidth": 0,
              "ticks": ""
             }
            },
            "type": "scatterpolargl"
           }
          ],
          "scatterternary": [
           {
            "marker": {
             "colorbar": {
              "outlinewidth": 0,
              "ticks": ""
             }
            },
            "type": "scatterternary"
           }
          ],
          "surface": [
           {
            "colorbar": {
             "outlinewidth": 0,
             "ticks": ""
            },
            "colorscale": [
             [
              0,
              "#0d0887"
             ],
             [
              0.1111111111111111,
              "#46039f"
             ],
             [
              0.2222222222222222,
              "#7201a8"
             ],
             [
              0.3333333333333333,
              "#9c179e"
             ],
             [
              0.4444444444444444,
              "#bd3786"
             ],
             [
              0.5555555555555556,
              "#d8576b"
             ],
             [
              0.6666666666666666,
              "#ed7953"
             ],
             [
              0.7777777777777778,
              "#fb9f3a"
             ],
             [
              0.8888888888888888,
              "#fdca26"
             ],
             [
              1,
              "#f0f921"
             ]
            ],
            "type": "surface"
           }
          ],
          "table": [
           {
            "cells": {
             "fill": {
              "color": "#EBF0F8"
             },
             "line": {
              "color": "white"
             }
            },
            "header": {
             "fill": {
              "color": "#C8D4E3"
             },
             "line": {
              "color": "white"
             }
            },
            "type": "table"
           }
          ]
         },
         "layout": {
          "annotationdefaults": {
           "arrowcolor": "#2a3f5f",
           "arrowhead": 0,
           "arrowwidth": 1
          },
          "autotypenumbers": "strict",
          "coloraxis": {
           "colorbar": {
            "outlinewidth": 0,
            "ticks": ""
           }
          },
          "colorscale": {
           "diverging": [
            [
             0,
             "#8e0152"
            ],
            [
             0.1,
             "#c51b7d"
            ],
            [
             0.2,
             "#de77ae"
            ],
            [
             0.3,
             "#f1b6da"
            ],
            [
             0.4,
             "#fde0ef"
            ],
            [
             0.5,
             "#f7f7f7"
            ],
            [
             0.6,
             "#e6f5d0"
            ],
            [
             0.7,
             "#b8e186"
            ],
            [
             0.8,
             "#7fbc41"
            ],
            [
             0.9,
             "#4d9221"
            ],
            [
             1,
             "#276419"
            ]
           ],
           "sequential": [
            [
             0,
             "#0d0887"
            ],
            [
             0.1111111111111111,
             "#46039f"
            ],
            [
             0.2222222222222222,
             "#7201a8"
            ],
            [
             0.3333333333333333,
             "#9c179e"
            ],
            [
             0.4444444444444444,
             "#bd3786"
            ],
            [
             0.5555555555555556,
             "#d8576b"
            ],
            [
             0.6666666666666666,
             "#ed7953"
            ],
            [
             0.7777777777777778,
             "#fb9f3a"
            ],
            [
             0.8888888888888888,
             "#fdca26"
            ],
            [
             1,
             "#f0f921"
            ]
           ],
           "sequentialminus": [
            [
             0,
             "#0d0887"
            ],
            [
             0.1111111111111111,
             "#46039f"
            ],
            [
             0.2222222222222222,
             "#7201a8"
            ],
            [
             0.3333333333333333,
             "#9c179e"
            ],
            [
             0.4444444444444444,
             "#bd3786"
            ],
            [
             0.5555555555555556,
             "#d8576b"
            ],
            [
             0.6666666666666666,
             "#ed7953"
            ],
            [
             0.7777777777777778,
             "#fb9f3a"
            ],
            [
             0.8888888888888888,
             "#fdca26"
            ],
            [
             1,
             "#f0f921"
            ]
           ]
          },
          "colorway": [
           "#636efa",
           "#EF553B",
           "#00cc96",
           "#ab63fa",
           "#FFA15A",
           "#19d3f3",
           "#FF6692",
           "#B6E880",
           "#FF97FF",
           "#FECB52"
          ],
          "font": {
           "color": "#2a3f5f"
          },
          "geo": {
           "bgcolor": "white",
           "lakecolor": "white",
           "landcolor": "#E5ECF6",
           "showlakes": true,
           "showland": true,
           "subunitcolor": "white"
          },
          "hoverlabel": {
           "align": "left"
          },
          "hovermode": "closest",
          "mapbox": {
           "style": "light"
          },
          "paper_bgcolor": "white",
          "plot_bgcolor": "#E5ECF6",
          "polar": {
           "angularaxis": {
            "gridcolor": "white",
            "linecolor": "white",
            "ticks": ""
           },
           "bgcolor": "#E5ECF6",
           "radialaxis": {
            "gridcolor": "white",
            "linecolor": "white",
            "ticks": ""
           }
          },
          "scene": {
           "xaxis": {
            "backgroundcolor": "#E5ECF6",
            "gridcolor": "white",
            "gridwidth": 2,
            "linecolor": "white",
            "showbackground": true,
            "ticks": "",
            "zerolinecolor": "white"
           },
           "yaxis": {
            "backgroundcolor": "#E5ECF6",
            "gridcolor": "white",
            "gridwidth": 2,
            "linecolor": "white",
            "showbackground": true,
            "ticks": "",
            "zerolinecolor": "white"
           },
           "zaxis": {
            "backgroundcolor": "#E5ECF6",
            "gridcolor": "white",
            "gridwidth": 2,
            "linecolor": "white",
            "showbackground": true,
            "ticks": "",
            "zerolinecolor": "white"
           }
          },
          "shapedefaults": {
           "line": {
            "color": "#2a3f5f"
           }
          },
          "ternary": {
           "aaxis": {
            "gridcolor": "white",
            "linecolor": "white",
            "ticks": ""
           },
           "baxis": {
            "gridcolor": "white",
            "linecolor": "white",
            "ticks": ""
           },
           "bgcolor": "#E5ECF6",
           "caxis": {
            "gridcolor": "white",
            "linecolor": "white",
            "ticks": ""
           }
          },
          "title": {
           "x": 0.05
          },
          "xaxis": {
           "automargin": true,
           "gridcolor": "white",
           "linecolor": "white",
           "ticks": "",
           "title": {
            "standoff": 15
           },
           "zerolinecolor": "white",
           "zerolinewidth": 2
          },
          "yaxis": {
           "automargin": true,
           "gridcolor": "white",
           "linecolor": "white",
           "ticks": "",
           "title": {
            "standoff": 15
           },
           "zerolinecolor": "white",
           "zerolinewidth": 2
          }
         }
        },
        "title": {
         "text": "<b>2-2-1(코로나 전) 가산 생활지역권 시간에 따른 성별 연령별 생활인구</b>"
        },
        "xaxis": {
         "anchor": "y",
         "domain": [
          0,
          0.45
         ]
        },
        "xaxis2": {
         "anchor": "y2",
         "domain": [
          0.55,
          1
         ]
        },
        "yaxis": {
         "anchor": "x",
         "domain": [
          0,
          1
         ]
        },
        "yaxis2": {
         "anchor": "x2",
         "domain": [
          0,
          1
         ]
        }
       }
      },
      "text/html": [
       "<div>                            <div id=\"c4e3a112-c73e-44cb-b7ae-5900f2322474\" class=\"plotly-graph-div\" style=\"height:525px; width:100%;\"></div>            <script type=\"text/javascript\">                require([\"plotly\"], function(Plotly) {                    window.PLOTLYENV=window.PLOTLYENV || {};                                    if (document.getElementById(\"c4e3a112-c73e-44cb-b7ae-5900f2322474\")) {                    Plotly.newPlot(                        \"c4e3a112-c73e-44cb-b7ae-5900f2322474\",                        [{\"mode\":\"lines+markers\",\"name\":\"\\ub0a8\\uc790\",\"type\":\"scatter\",\"x\":[0,1,2,3,4,5,6,7,8,9,10,11,12,13,14,15,16,17,18,19,20,21,22,23],\"xaxis\":\"x\",\"y\":[5025766.375000007,4970643.376000011,4939856.793700001,4930340.349500014,4963639.149799994,5109912.565499999,5659366.871700003,7236038.501400016,10760129.701500062,12667738.386199977,13250610.243899986,13568128.074400013,13840943.619899997,13942656.87069996,13936164.801500008,13859090.847199988,13623220.19210003,12820219.237,10705549.883399986,8644258.413600001,7517108.8084,6603360.051200011,5980263.559100016,5205017.351400008],\"yaxis\":\"y\"},{\"mode\":\"lines+markers\",\"name\":\"\\uc5ec\\uc790\",\"type\":\"scatter\",\"x\":[0,1,2,3,4,5,6,7,8,9,10,11,12,13,14,15,16,17,18,19,20,21,22,23],\"xaxis\":\"x\",\"y\":[3796477.132799992,3792948.7742,3783612.71820001,3784989.3519000025,3794151.671199999,3884553.5382999894,4077472.847200008,4894296.7379999915,7453263.567900013,9012243.435799971,9503390.512700012,9806687.72619999,10067710.848500002,10274148.397799978,10315439.811900008,10220170.619700002,9982421.947900005,9329699.717899974,7492654.780400007,6012394.888599998,5344211.804400005,4712178.997200009,4355087.070299996,3863984.7633000053],\"yaxis\":\"y\"},{\"mode\":\"lines+markers\",\"name\":\"\\ub0b4\\uad6d\\uc778\",\"type\":\"scatter\",\"x\":[0,1,2,3,4,5,6,7,8,9,10,11,12,13,14,15,16,17,18,19,20,21,22,23],\"xaxis\":\"x\",\"y\":[8822243.5078,8763592.150200011,8723469.511900011,8715329.701400017,8757790.820999993,8994466.103799988,9736839.71890001,12130335.239400007,18213393.269400075,21679981.82199995,22754000.7566,23374815.800600003,23908654.4684,24216805.26849994,24251604.613400016,24079261.46689999,23605642.140000034,22149918.954899974,18198204.663799994,14656653.3022,12861320.612800006,11315539.04840002,10335350.629400011,9069002.114700014],\"yaxis\":\"y\"},{\"mode\":\"lines+markers\",\"name\":\"20 Under\",\"type\":\"scatter\",\"x\":[0,1,2,3,4,5,6,7,8,9,10,11,12,13,14,15,16,17,18,19,20,21,22,23],\"xaxis\":\"x2\",\"y\":[722944.888,732059.8971000006,730973.5025999998,730355.4400000006,729804.8336000002,732254.7132000001,744171.5008999994,757870.1036,742066.9458000003,771777.5923999995,787944.8301000001,821574.7790000004,860267.6868000003,895407.9292,914267.2759999997,955187.5610000005,990071.1886,977084.0874,934629.7863000002,871620.0395000005,837012.3624,808403.2984000004,817650.668700001,720355.4950000003],\"yaxis\":\"y2\"},{\"mode\":\"lines+markers\",\"name\":\"20s\",\"type\":\"scatter\",\"x\":[0,1,2,3,4,5,6,7,8,9,10,11,12,13,14,15,16,17,18,19,20,21,22,23],\"xaxis\":\"x2\",\"y\":[1867514.0851999996,1857302.3723000004,1854769.4287999999,1856275.272500001,1853024.0046999995,1868447.5479000013,1942608.135200002,2338926.4353000014,4011963.260300001,4827114.030799998,4946350.111599999,5016946.685800001,5119036.872600005,5173238.913800003,5171183.183699999,5173342.8966000015,5153706.271299999,4924621.375999998,3849032.301100002,2959229.822800001,2591362.1818999997,2277716.407900001,2076091.3988999994,1918938.5436000004],\"yaxis\":\"y2\"},{\"mode\":\"lines+markers\",\"name\":\"30s\",\"type\":\"scatter\",\"x\":[0,1,2,3,4,5,6,7,8,9,10,11,12,13,14,15,16,17,18,19,20,21,22,23],\"xaxis\":\"x2\",\"y\":[2094761.0329000019,2069698.0985000015,2055550.9103999988,2050763.8734000004,2051446.3095000028,2069190.0353,2216957.0763999987,2933295.327900002,5009543.7588,6091751.3522000015,6359942.698499995,6519748.4081000015,6667042.955700003,6717774.804299999,6713995.170900002,6672624.132599993,6578173.8720999975,6168923.928800002,4887208.386000001,3754423.381699999,3201014.6449999996,2755404.3967999993,2468875.6052,2164136.760900001],\"yaxis\":\"y2\"},{\"mode\":\"lines+markers\",\"name\":\"40s\",\"type\":\"scatter\",\"x\":[0,1,2,3,4,5,6,7,8,9,10,11,12,13,14,15,16,17,18,19,20,21,22,23],\"xaxis\":\"x2\",\"y\":[1514946.8604999997,1489338.7335999983,1473191.3549999995,1467306.2123000002,1472405.5957,1509773.1023000004,1722160.7018000009,2374132.9676000006,3761619.5397999976,4593630.116099998,4926922.459899999,5124227.660600001,5255110.645700005,5319991.710500002,5311429.4783999985,5255688.3597,5125098.963600001,4754506.523399999,3897765.781899999,3106764.377,2622353.4649,2200624.689999999,1923112.8905000002,1585426.0183999995],\"yaxis\":\"y2\"},{\"mode\":\"lines+markers\",\"name\":\"50s\",\"type\":\"scatter\",\"x\":[0,1,2,3,4,5,6,7,8,9,10,11,12,13,14,15,16,17,18,19,20,21,22,23],\"xaxis\":\"x2\",\"y\":[1231620.8877999997,1221715.9779999997,1217295.4633999998,1217498.8166999994,1240227.0212000003,1303262.1844999995,1491926.3756000001,1898314.907100001,2574225.9978000037,3020263.152,3216569.2353,3321723.0501000015,3406648.574599998,3459974.2002999997,3469592.428299998,3418430.3907999992,3289727.7805000017,3022104.5161000006,2548272.224399999,2102621.4579999996,1848382.0222,1610289.894200001,1460477.7315000007,1271919.9871],\"yaxis\":\"y2\"},{\"mode\":\"lines+markers\",\"name\":\"60 Upper\",\"type\":\"scatter\",\"x\":[0,1,2,3,4,5,6,7,8,9,10,11,12,13,14,15,16,17,18,19,20,21,22,23],\"xaxis\":\"x2\",\"y\":[1390455.7533999996,1393477.070700001,1391688.851699999,1393130.0864999995,1410883.0563,1511538.520599999,1619015.929,1827795.4978999998,2113973.766899999,2375445.5785000026,2516271.421199999,2570595.216999999,2600547.7330000037,2650417.7104,2671137.0760999983,2603988.1262000017,2468864.0638999986,2302678.5231999997,2081296.1841000002,1861994.2231999994,1761195.9364000012,1663100.3610999999,1589142.3345999985,1408225.3097000006],\"yaxis\":\"y2\"}],                        {\"template\":{\"data\":{\"bar\":[{\"error_x\":{\"color\":\"#2a3f5f\"},\"error_y\":{\"color\":\"#2a3f5f\"},\"marker\":{\"line\":{\"color\":\"#E5ECF6\",\"width\":0.5},\"pattern\":{\"fillmode\":\"overlay\",\"size\":10,\"solidity\":0.2}},\"type\":\"bar\"}],\"barpolar\":[{\"marker\":{\"line\":{\"color\":\"#E5ECF6\",\"width\":0.5},\"pattern\":{\"fillmode\":\"overlay\",\"size\":10,\"solidity\":0.2}},\"type\":\"barpolar\"}],\"carpet\":[{\"aaxis\":{\"endlinecolor\":\"#2a3f5f\",\"gridcolor\":\"white\",\"linecolor\":\"white\",\"minorgridcolor\":\"white\",\"startlinecolor\":\"#2a3f5f\"},\"baxis\":{\"endlinecolor\":\"#2a3f5f\",\"gridcolor\":\"white\",\"linecolor\":\"white\",\"minorgridcolor\":\"white\",\"startlinecolor\":\"#2a3f5f\"},\"type\":\"carpet\"}],\"choropleth\":[{\"colorbar\":{\"outlinewidth\":0,\"ticks\":\"\"},\"type\":\"choropleth\"}],\"contour\":[{\"colorbar\":{\"outlinewidth\":0,\"ticks\":\"\"},\"colorscale\":[[0.0,\"#0d0887\"],[0.1111111111111111,\"#46039f\"],[0.2222222222222222,\"#7201a8\"],[0.3333333333333333,\"#9c179e\"],[0.4444444444444444,\"#bd3786\"],[0.5555555555555556,\"#d8576b\"],[0.6666666666666666,\"#ed7953\"],[0.7777777777777778,\"#fb9f3a\"],[0.8888888888888888,\"#fdca26\"],[1.0,\"#f0f921\"]],\"type\":\"contour\"}],\"contourcarpet\":[{\"colorbar\":{\"outlinewidth\":0,\"ticks\":\"\"},\"type\":\"contourcarpet\"}],\"heatmap\":[{\"colorbar\":{\"outlinewidth\":0,\"ticks\":\"\"},\"colorscale\":[[0.0,\"#0d0887\"],[0.1111111111111111,\"#46039f\"],[0.2222222222222222,\"#7201a8\"],[0.3333333333333333,\"#9c179e\"],[0.4444444444444444,\"#bd3786\"],[0.5555555555555556,\"#d8576b\"],[0.6666666666666666,\"#ed7953\"],[0.7777777777777778,\"#fb9f3a\"],[0.8888888888888888,\"#fdca26\"],[1.0,\"#f0f921\"]],\"type\":\"heatmap\"}],\"heatmapgl\":[{\"colorbar\":{\"outlinewidth\":0,\"ticks\":\"\"},\"colorscale\":[[0.0,\"#0d0887\"],[0.1111111111111111,\"#46039f\"],[0.2222222222222222,\"#7201a8\"],[0.3333333333333333,\"#9c179e\"],[0.4444444444444444,\"#bd3786\"],[0.5555555555555556,\"#d8576b\"],[0.6666666666666666,\"#ed7953\"],[0.7777777777777778,\"#fb9f3a\"],[0.8888888888888888,\"#fdca26\"],[1.0,\"#f0f921\"]],\"type\":\"heatmapgl\"}],\"histogram\":[{\"marker\":{\"pattern\":{\"fillmode\":\"overlay\",\"size\":10,\"solidity\":0.2}},\"type\":\"histogram\"}],\"histogram2d\":[{\"colorbar\":{\"outlinewidth\":0,\"ticks\":\"\"},\"colorscale\":[[0.0,\"#0d0887\"],[0.1111111111111111,\"#46039f\"],[0.2222222222222222,\"#7201a8\"],[0.3333333333333333,\"#9c179e\"],[0.4444444444444444,\"#bd3786\"],[0.5555555555555556,\"#d8576b\"],[0.6666666666666666,\"#ed7953\"],[0.7777777777777778,\"#fb9f3a\"],[0.8888888888888888,\"#fdca26\"],[1.0,\"#f0f921\"]],\"type\":\"histogram2d\"}],\"histogram2dcontour\":[{\"colorbar\":{\"outlinewidth\":0,\"ticks\":\"\"},\"colorscale\":[[0.0,\"#0d0887\"],[0.1111111111111111,\"#46039f\"],[0.2222222222222222,\"#7201a8\"],[0.3333333333333333,\"#9c179e\"],[0.4444444444444444,\"#bd3786\"],[0.5555555555555556,\"#d8576b\"],[0.6666666666666666,\"#ed7953\"],[0.7777777777777778,\"#fb9f3a\"],[0.8888888888888888,\"#fdca26\"],[1.0,\"#f0f921\"]],\"type\":\"histogram2dcontour\"}],\"mesh3d\":[{\"colorbar\":{\"outlinewidth\":0,\"ticks\":\"\"},\"type\":\"mesh3d\"}],\"parcoords\":[{\"line\":{\"colorbar\":{\"outlinewidth\":0,\"ticks\":\"\"}},\"type\":\"parcoords\"}],\"pie\":[{\"automargin\":true,\"type\":\"pie\"}],\"scatter\":[{\"marker\":{\"colorbar\":{\"outlinewidth\":0,\"ticks\":\"\"}},\"type\":\"scatter\"}],\"scatter3d\":[{\"line\":{\"colorbar\":{\"outlinewidth\":0,\"ticks\":\"\"}},\"marker\":{\"colorbar\":{\"outlinewidth\":0,\"ticks\":\"\"}},\"type\":\"scatter3d\"}],\"scattercarpet\":[{\"marker\":{\"colorbar\":{\"outlinewidth\":0,\"ticks\":\"\"}},\"type\":\"scattercarpet\"}],\"scattergeo\":[{\"marker\":{\"colorbar\":{\"outlinewidth\":0,\"ticks\":\"\"}},\"type\":\"scattergeo\"}],\"scattergl\":[{\"marker\":{\"colorbar\":{\"outlinewidth\":0,\"ticks\":\"\"}},\"type\":\"scattergl\"}],\"scattermapbox\":[{\"marker\":{\"colorbar\":{\"outlinewidth\":0,\"ticks\":\"\"}},\"type\":\"scattermapbox\"}],\"scatterpolar\":[{\"marker\":{\"colorbar\":{\"outlinewidth\":0,\"ticks\":\"\"}},\"type\":\"scatterpolar\"}],\"scatterpolargl\":[{\"marker\":{\"colorbar\":{\"outlinewidth\":0,\"ticks\":\"\"}},\"type\":\"scatterpolargl\"}],\"scatterternary\":[{\"marker\":{\"colorbar\":{\"outlinewidth\":0,\"ticks\":\"\"}},\"type\":\"scatterternary\"}],\"surface\":[{\"colorbar\":{\"outlinewidth\":0,\"ticks\":\"\"},\"colorscale\":[[0.0,\"#0d0887\"],[0.1111111111111111,\"#46039f\"],[0.2222222222222222,\"#7201a8\"],[0.3333333333333333,\"#9c179e\"],[0.4444444444444444,\"#bd3786\"],[0.5555555555555556,\"#d8576b\"],[0.6666666666666666,\"#ed7953\"],[0.7777777777777778,\"#fb9f3a\"],[0.8888888888888888,\"#fdca26\"],[1.0,\"#f0f921\"]],\"type\":\"surface\"}],\"table\":[{\"cells\":{\"fill\":{\"color\":\"#EBF0F8\"},\"line\":{\"color\":\"white\"}},\"header\":{\"fill\":{\"color\":\"#C8D4E3\"},\"line\":{\"color\":\"white\"}},\"type\":\"table\"}]},\"layout\":{\"annotationdefaults\":{\"arrowcolor\":\"#2a3f5f\",\"arrowhead\":0,\"arrowwidth\":1},\"autotypenumbers\":\"strict\",\"coloraxis\":{\"colorbar\":{\"outlinewidth\":0,\"ticks\":\"\"}},\"colorscale\":{\"diverging\":[[0,\"#8e0152\"],[0.1,\"#c51b7d\"],[0.2,\"#de77ae\"],[0.3,\"#f1b6da\"],[0.4,\"#fde0ef\"],[0.5,\"#f7f7f7\"],[0.6,\"#e6f5d0\"],[0.7,\"#b8e186\"],[0.8,\"#7fbc41\"],[0.9,\"#4d9221\"],[1,\"#276419\"]],\"sequential\":[[0.0,\"#0d0887\"],[0.1111111111111111,\"#46039f\"],[0.2222222222222222,\"#7201a8\"],[0.3333333333333333,\"#9c179e\"],[0.4444444444444444,\"#bd3786\"],[0.5555555555555556,\"#d8576b\"],[0.6666666666666666,\"#ed7953\"],[0.7777777777777778,\"#fb9f3a\"],[0.8888888888888888,\"#fdca26\"],[1.0,\"#f0f921\"]],\"sequentialminus\":[[0.0,\"#0d0887\"],[0.1111111111111111,\"#46039f\"],[0.2222222222222222,\"#7201a8\"],[0.3333333333333333,\"#9c179e\"],[0.4444444444444444,\"#bd3786\"],[0.5555555555555556,\"#d8576b\"],[0.6666666666666666,\"#ed7953\"],[0.7777777777777778,\"#fb9f3a\"],[0.8888888888888888,\"#fdca26\"],[1.0,\"#f0f921\"]]},\"colorway\":[\"#636efa\",\"#EF553B\",\"#00cc96\",\"#ab63fa\",\"#FFA15A\",\"#19d3f3\",\"#FF6692\",\"#B6E880\",\"#FF97FF\",\"#FECB52\"],\"font\":{\"color\":\"#2a3f5f\"},\"geo\":{\"bgcolor\":\"white\",\"lakecolor\":\"white\",\"landcolor\":\"#E5ECF6\",\"showlakes\":true,\"showland\":true,\"subunitcolor\":\"white\"},\"hoverlabel\":{\"align\":\"left\"},\"hovermode\":\"closest\",\"mapbox\":{\"style\":\"light\"},\"paper_bgcolor\":\"white\",\"plot_bgcolor\":\"#E5ECF6\",\"polar\":{\"angularaxis\":{\"gridcolor\":\"white\",\"linecolor\":\"white\",\"ticks\":\"\"},\"bgcolor\":\"#E5ECF6\",\"radialaxis\":{\"gridcolor\":\"white\",\"linecolor\":\"white\",\"ticks\":\"\"}},\"scene\":{\"xaxis\":{\"backgroundcolor\":\"#E5ECF6\",\"gridcolor\":\"white\",\"gridwidth\":2,\"linecolor\":\"white\",\"showbackground\":true,\"ticks\":\"\",\"zerolinecolor\":\"white\"},\"yaxis\":{\"backgroundcolor\":\"#E5ECF6\",\"gridcolor\":\"white\",\"gridwidth\":2,\"linecolor\":\"white\",\"showbackground\":true,\"ticks\":\"\",\"zerolinecolor\":\"white\"},\"zaxis\":{\"backgroundcolor\":\"#E5ECF6\",\"gridcolor\":\"white\",\"gridwidth\":2,\"linecolor\":\"white\",\"showbackground\":true,\"ticks\":\"\",\"zerolinecolor\":\"white\"}},\"shapedefaults\":{\"line\":{\"color\":\"#2a3f5f\"}},\"ternary\":{\"aaxis\":{\"gridcolor\":\"white\",\"linecolor\":\"white\",\"ticks\":\"\"},\"baxis\":{\"gridcolor\":\"white\",\"linecolor\":\"white\",\"ticks\":\"\"},\"bgcolor\":\"#E5ECF6\",\"caxis\":{\"gridcolor\":\"white\",\"linecolor\":\"white\",\"ticks\":\"\"}},\"title\":{\"x\":0.05},\"xaxis\":{\"automargin\":true,\"gridcolor\":\"white\",\"linecolor\":\"white\",\"ticks\":\"\",\"title\":{\"standoff\":15},\"zerolinecolor\":\"white\",\"zerolinewidth\":2},\"yaxis\":{\"automargin\":true,\"gridcolor\":\"white\",\"linecolor\":\"white\",\"ticks\":\"\",\"title\":{\"standoff\":15},\"zerolinecolor\":\"white\",\"zerolinewidth\":2}}},\"title\":{\"text\":\"<b>2-2-1(\\ucf54\\ub85c\\ub098 \\uc804) \\uac00\\uc0b0 \\uc0dd\\ud65c\\uc9c0\\uc5ed\\uad8c \\uc2dc\\uac04\\uc5d0 \\ub530\\ub978 \\uc131\\ubcc4 \\uc5f0\\ub839\\ubcc4 \\uc0dd\\ud65c\\uc778\\uad6c</b>\"},\"xaxis\":{\"anchor\":\"y\",\"domain\":[0.0,0.45]},\"xaxis2\":{\"anchor\":\"y2\",\"domain\":[0.55,1.0]},\"yaxis\":{\"anchor\":\"x\",\"domain\":[0.0,1.0]},\"yaxis2\":{\"anchor\":\"x2\",\"domain\":[0.0,1.0]}},                        {\"responsive\": true}                    ).then(function(){\n",
       "                            \n",
       "var gd = document.getElementById('c4e3a112-c73e-44cb-b7ae-5900f2322474');\n",
       "var x = new MutationObserver(function (mutations, observer) {{\n",
       "        var display = window.getComputedStyle(gd).display;\n",
       "        if (!display || display === 'none') {{\n",
       "            console.log([gd, 'removed!']);\n",
       "            Plotly.purge(gd);\n",
       "            observer.disconnect();\n",
       "        }}\n",
       "}});\n",
       "\n",
       "// Listen for the removal of the full notebook cells\n",
       "var notebookContainer = gd.closest('#notebook-container');\n",
       "if (notebookContainer) {{\n",
       "    x.observe(notebookContainer, {childList: true});\n",
       "}}\n",
       "\n",
       "// Listen for the clearing of the current output cell\n",
       "var outputEl = gd.closest('.output');\n",
       "if (outputEl) {{\n",
       "    x.observe(outputEl, {childList: true});\n",
       "}}\n",
       "\n",
       "                        })                };                });            </script>        </div>"
      ]
     },
     "metadata": {},
     "output_type": "display_data"
    },
    {
     "data": {
      "application/vnd.plotly.v1+json": {
       "config": {
        "plotlyServerURL": "https://plot.ly"
       },
       "data": [
        {
         "mode": "lines+markers",
         "name": "남자",
         "type": "scatter",
         "x": [
          0,
          1,
          2,
          3,
          4,
          5,
          6,
          7,
          8,
          9,
          10,
          11,
          12,
          13,
          14,
          15,
          16,
          17,
          18,
          19,
          20,
          21,
          22,
          23
         ],
         "xaxis": "x",
         "y": [
          8012007.60039999,
          7918871.2123999875,
          7875764.702000008,
          7862789.656200004,
          7897089.023100027,
          8180568.827100013,
          9173892.195899982,
          11768895.63209998,
          17100168.176199943,
          20328374.013400014,
          21442838.182500068,
          21995083.907099966,
          22420283.13249997,
          22564226.381399997,
          22511966.38769994,
          22215739.288699944,
          21711413.20509998,
          20073437.200200032,
          16544854.945400015,
          13426154.951500056,
          11715573.558699954,
          10391963.391000023,
          9513392.434900032,
          8202697.786999991
         ],
         "yaxis": "y"
        },
        {
         "mode": "lines+markers",
         "name": "여자",
         "type": "scatter",
         "x": [
          0,
          1,
          2,
          3,
          4,
          5,
          6,
          7,
          8,
          9,
          10,
          11,
          12,
          13,
          14,
          15,
          16,
          17,
          18,
          19,
          20,
          21,
          22,
          23
         ],
         "xaxis": "x",
         "y": [
          6011687.844499991,
          5978836.787600006,
          5963612.003700018,
          5960063.947399995,
          5963101.42640001,
          6119435.032900013,
          6470782.799499992,
          7906627.049800003,
          11619725.784600034,
          14114911.453800008,
          14845995.711099973,
          15248114.747499982,
          15571756.719600022,
          15826377.305599995,
          15864121.421700021,
          15588861.95329998,
          15200054.121599995,
          13960069.317300007,
          11104566.429499969,
          9082036.275299981,
          8146847.531799996,
          7339527.069800011,
          6916783.498299997,
          6070007.056699979
         ],
         "yaxis": "y"
        },
        {
         "mode": "lines+markers",
         "name": "내국인",
         "type": "scatter",
         "x": [
          0,
          1,
          2,
          3,
          4,
          5,
          6,
          7,
          8,
          9,
          10,
          11,
          12,
          13,
          14,
          15,
          16,
          17,
          18,
          19,
          20,
          21,
          22,
          23
         ],
         "xaxis": "x",
         "y": [
          14023695.44489998,
          13897707.999999993,
          13839376.705700025,
          13822853.6036,
          13860190.449500035,
          14300003.860000025,
          15644674.995399974,
          19675522.681899983,
          28719893.960799977,
          34443285.467200026,
          36288833.89360004,
          37243198.65459995,
          37992039.85209999,
          38390603.68699999,
          38376087.80939996,
          37804601.241999924,
          36911467.32669997,
          34033506.51750004,
          27649421.374899983,
          22508191.22680004,
          19862421.090499952,
          17731490.460800033,
          16430175.93320003,
          14272704.84369997
         ],
         "yaxis": "y"
        },
        {
         "mode": "lines+markers",
         "name": "20 Under",
         "type": "scatter",
         "x": [
          0,
          1,
          2,
          3,
          4,
          5,
          6,
          7,
          8,
          9,
          10,
          11,
          12,
          13,
          14,
          15,
          16,
          17,
          18,
          19,
          20,
          21,
          22,
          23
         ],
         "xaxis": "x2",
         "y": [
          1027176.1501999986,
          1035778.842699999,
          1038296.5862,
          1039383.1118999999,
          1030248.8018999991,
          1041690.3348000003,
          1066572.6348999995,
          1105178.5529000014,
          1149849.6856000004,
          1221436.7804999994,
          1257675.4220000007,
          1307434.5773999994,
          1345086.1478999997,
          1379311.892,
          1397277.1827000012,
          1412405.8878999993,
          1423303.957300001,
          1393574.6204999997,
          1316004.5351,
          1251382.5903999996,
          1229510.801,
          1204828.4473999997,
          1222095.417499998,
          1007693.8936000001
         ],
         "yaxis": "y2"
        },
        {
         "mode": "lines+markers",
         "name": "20s",
         "type": "scatter",
         "x": [
          0,
          1,
          2,
          3,
          4,
          5,
          6,
          7,
          8,
          9,
          10,
          11,
          12,
          13,
          14,
          15,
          16,
          17,
          18,
          19,
          20,
          21,
          22,
          23
         ],
         "xaxis": "x2",
         "y": [
          3313015.0255,
          3290672.5934999976,
          3281787.4047,
          3281087.8204000033,
          3266536.5578000033,
          3293829.696199999,
          3426560.8603999997,
          4088233.8787999973,
          6490156.104800001,
          7814443.023099999,
          8038561.9843000015,
          8158119.340800002,
          8304228.270000003,
          8370644.534000002,
          8360632.881699996,
          8301794.449200001,
          8252793.577799996,
          7736970.763,
          6064807.426000002,
          4834015.1218,
          4316404.181299999,
          3911090.1352999983,
          3665897.3040000014,
          3361461.457299998
         ],
         "yaxis": "y2"
        },
        {
         "mode": "lines+markers",
         "name": "30s",
         "type": "scatter",
         "x": [
          0,
          1,
          2,
          3,
          4,
          5,
          6,
          7,
          8,
          9,
          10,
          11,
          12,
          13,
          14,
          15,
          16,
          17,
          18,
          19,
          20,
          21,
          22,
          23
         ],
         "xaxis": "x2",
         "y": [
          3464561.5223999973,
          3425678.133800001,
          3405187.3052000003,
          3395077.501199999,
          3386288.8693,
          3423477.3536,
          3692830.112300001,
          4868569.077899999,
          7798712.320000003,
          9550916.325099992,
          10032072.97259999,
          10277393.952799998,
          10478680.235100009,
          10542904.977899993,
          10523904.431699997,
          10423082.336799998,
          10263417.947700003,
          9437534.139299996,
          7397289.346700007,
          5762317.428299996,
          4974030.814200003,
          4396743.6801999975,
          4027638.9111000015,
          3545666.298100001
         ],
         "yaxis": "y2"
        },
        {
         "mode": "lines+markers",
         "name": "40s",
         "type": "scatter",
         "x": [
          0,
          1,
          2,
          3,
          4,
          5,
          6,
          7,
          8,
          9,
          10,
          11,
          12,
          13,
          14,
          15,
          16,
          17,
          18,
          19,
          20,
          21,
          22,
          23
         ],
         "xaxis": "x2",
         "y": [
          2372648.174199999,
          2331874.5579000004,
          2311609.095199998,
          2302017.7563999994,
          2309241.697900002,
          2387881.531299998,
          2766714.1694999994,
          3902190.580199999,
          6013141.749299999,
          7435526.703800006,
          7971104.115200002,
          8243374.3153,
          8457400.695700003,
          8552245.941100013,
          8534212.300699998,
          8395909.214399999,
          8148463.336600002,
          7401178.977999998,
          5968249.379199999,
          4735352.285200001,
          3992104.0817000004,
          3389286.8063999983,
          2998328.340999998,
          2453289.030500001
         ],
         "yaxis": "y2"
        },
        {
         "mode": "lines+markers",
         "name": "50s",
         "type": "scatter",
         "x": [
          0,
          1,
          2,
          3,
          4,
          5,
          6,
          7,
          8,
          9,
          10,
          11,
          12,
          13,
          14,
          15,
          16,
          17,
          18,
          19,
          20,
          21,
          22,
          23
         ],
         "xaxis": "x2",
         "y": [
          1896240.3296999997,
          1872480.0122999996,
          1862215.9987999997,
          1862353.5784999996,
          1890930.9134999989,
          1996490.1857999992,
          2339476.3627999984,
          3053292.956700002,
          4168390.0172999986,
          4929796.038899997,
          5272719.4083999945,
          5452177.599399998,
          5559490.864899995,
          5641052.591300001,
          5642913.8201,
          5509603.8371,
          5249182.839300003,
          4752511.358699998,
          3944916.923900004,
          3261514.222600002,
          2842758.8167999997,
          2472592.2999000004,
          2257523.490099999,
          1941462.4225000006
         ],
         "yaxis": "y2"
        },
        {
         "mode": "lines+markers",
         "name": "60 Upper",
         "type": "scatter",
         "x": [
          0,
          1,
          2,
          3,
          4,
          5,
          6,
          7,
          8,
          9,
          10,
          11,
          12,
          13,
          14,
          15,
          16,
          17,
          18,
          19,
          20,
          21,
          22,
          23
         ],
         "xaxis": "x2",
         "y": [
          1950054.2429000004,
          1941223.8597999997,
          1940280.3156000015,
          1942933.8351999982,
          1976943.6091000014,
          2156634.758299999,
          2352520.8555000024,
          2658057.6353999954,
          3099644.083799994,
          3491166.5958000016,
          3716699.9910999984,
          3804698.868899999,
          3847153.638499999,
          3904443.7507000016,
          3917147.192499999,
          3761805.516599998,
          3574305.667999998,
          3311736.657999998,
          2958153.764000001,
          2663609.578499998,
          2507612.3955000006,
          2356949.091599999,
          2258692.469499999,
          1963131.7417000006
         ],
         "yaxis": "y2"
        }
       ],
       "layout": {
        "template": {
         "data": {
          "bar": [
           {
            "error_x": {
             "color": "#2a3f5f"
            },
            "error_y": {
             "color": "#2a3f5f"
            },
            "marker": {
             "line": {
              "color": "#E5ECF6",
              "width": 0.5
             },
             "pattern": {
              "fillmode": "overlay",
              "size": 10,
              "solidity": 0.2
             }
            },
            "type": "bar"
           }
          ],
          "barpolar": [
           {
            "marker": {
             "line": {
              "color": "#E5ECF6",
              "width": 0.5
             },
             "pattern": {
              "fillmode": "overlay",
              "size": 10,
              "solidity": 0.2
             }
            },
            "type": "barpolar"
           }
          ],
          "carpet": [
           {
            "aaxis": {
             "endlinecolor": "#2a3f5f",
             "gridcolor": "white",
             "linecolor": "white",
             "minorgridcolor": "white",
             "startlinecolor": "#2a3f5f"
            },
            "baxis": {
             "endlinecolor": "#2a3f5f",
             "gridcolor": "white",
             "linecolor": "white",
             "minorgridcolor": "white",
             "startlinecolor": "#2a3f5f"
            },
            "type": "carpet"
           }
          ],
          "choropleth": [
           {
            "colorbar": {
             "outlinewidth": 0,
             "ticks": ""
            },
            "type": "choropleth"
           }
          ],
          "contour": [
           {
            "colorbar": {
             "outlinewidth": 0,
             "ticks": ""
            },
            "colorscale": [
             [
              0,
              "#0d0887"
             ],
             [
              0.1111111111111111,
              "#46039f"
             ],
             [
              0.2222222222222222,
              "#7201a8"
             ],
             [
              0.3333333333333333,
              "#9c179e"
             ],
             [
              0.4444444444444444,
              "#bd3786"
             ],
             [
              0.5555555555555556,
              "#d8576b"
             ],
             [
              0.6666666666666666,
              "#ed7953"
             ],
             [
              0.7777777777777778,
              "#fb9f3a"
             ],
             [
              0.8888888888888888,
              "#fdca26"
             ],
             [
              1,
              "#f0f921"
             ]
            ],
            "type": "contour"
           }
          ],
          "contourcarpet": [
           {
            "colorbar": {
             "outlinewidth": 0,
             "ticks": ""
            },
            "type": "contourcarpet"
           }
          ],
          "heatmap": [
           {
            "colorbar": {
             "outlinewidth": 0,
             "ticks": ""
            },
            "colorscale": [
             [
              0,
              "#0d0887"
             ],
             [
              0.1111111111111111,
              "#46039f"
             ],
             [
              0.2222222222222222,
              "#7201a8"
             ],
             [
              0.3333333333333333,
              "#9c179e"
             ],
             [
              0.4444444444444444,
              "#bd3786"
             ],
             [
              0.5555555555555556,
              "#d8576b"
             ],
             [
              0.6666666666666666,
              "#ed7953"
             ],
             [
              0.7777777777777778,
              "#fb9f3a"
             ],
             [
              0.8888888888888888,
              "#fdca26"
             ],
             [
              1,
              "#f0f921"
             ]
            ],
            "type": "heatmap"
           }
          ],
          "heatmapgl": [
           {
            "colorbar": {
             "outlinewidth": 0,
             "ticks": ""
            },
            "colorscale": [
             [
              0,
              "#0d0887"
             ],
             [
              0.1111111111111111,
              "#46039f"
             ],
             [
              0.2222222222222222,
              "#7201a8"
             ],
             [
              0.3333333333333333,
              "#9c179e"
             ],
             [
              0.4444444444444444,
              "#bd3786"
             ],
             [
              0.5555555555555556,
              "#d8576b"
             ],
             [
              0.6666666666666666,
              "#ed7953"
             ],
             [
              0.7777777777777778,
              "#fb9f3a"
             ],
             [
              0.8888888888888888,
              "#fdca26"
             ],
             [
              1,
              "#f0f921"
             ]
            ],
            "type": "heatmapgl"
           }
          ],
          "histogram": [
           {
            "marker": {
             "pattern": {
              "fillmode": "overlay",
              "size": 10,
              "solidity": 0.2
             }
            },
            "type": "histogram"
           }
          ],
          "histogram2d": [
           {
            "colorbar": {
             "outlinewidth": 0,
             "ticks": ""
            },
            "colorscale": [
             [
              0,
              "#0d0887"
             ],
             [
              0.1111111111111111,
              "#46039f"
             ],
             [
              0.2222222222222222,
              "#7201a8"
             ],
             [
              0.3333333333333333,
              "#9c179e"
             ],
             [
              0.4444444444444444,
              "#bd3786"
             ],
             [
              0.5555555555555556,
              "#d8576b"
             ],
             [
              0.6666666666666666,
              "#ed7953"
             ],
             [
              0.7777777777777778,
              "#fb9f3a"
             ],
             [
              0.8888888888888888,
              "#fdca26"
             ],
             [
              1,
              "#f0f921"
             ]
            ],
            "type": "histogram2d"
           }
          ],
          "histogram2dcontour": [
           {
            "colorbar": {
             "outlinewidth": 0,
             "ticks": ""
            },
            "colorscale": [
             [
              0,
              "#0d0887"
             ],
             [
              0.1111111111111111,
              "#46039f"
             ],
             [
              0.2222222222222222,
              "#7201a8"
             ],
             [
              0.3333333333333333,
              "#9c179e"
             ],
             [
              0.4444444444444444,
              "#bd3786"
             ],
             [
              0.5555555555555556,
              "#d8576b"
             ],
             [
              0.6666666666666666,
              "#ed7953"
             ],
             [
              0.7777777777777778,
              "#fb9f3a"
             ],
             [
              0.8888888888888888,
              "#fdca26"
             ],
             [
              1,
              "#f0f921"
             ]
            ],
            "type": "histogram2dcontour"
           }
          ],
          "mesh3d": [
           {
            "colorbar": {
             "outlinewidth": 0,
             "ticks": ""
            },
            "type": "mesh3d"
           }
          ],
          "parcoords": [
           {
            "line": {
             "colorbar": {
              "outlinewidth": 0,
              "ticks": ""
             }
            },
            "type": "parcoords"
           }
          ],
          "pie": [
           {
            "automargin": true,
            "type": "pie"
           }
          ],
          "scatter": [
           {
            "marker": {
             "colorbar": {
              "outlinewidth": 0,
              "ticks": ""
             }
            },
            "type": "scatter"
           }
          ],
          "scatter3d": [
           {
            "line": {
             "colorbar": {
              "outlinewidth": 0,
              "ticks": ""
             }
            },
            "marker": {
             "colorbar": {
              "outlinewidth": 0,
              "ticks": ""
             }
            },
            "type": "scatter3d"
           }
          ],
          "scattercarpet": [
           {
            "marker": {
             "colorbar": {
              "outlinewidth": 0,
              "ticks": ""
             }
            },
            "type": "scattercarpet"
           }
          ],
          "scattergeo": [
           {
            "marker": {
             "colorbar": {
              "outlinewidth": 0,
              "ticks": ""
             }
            },
            "type": "scattergeo"
           }
          ],
          "scattergl": [
           {
            "marker": {
             "colorbar": {
              "outlinewidth": 0,
              "ticks": ""
             }
            },
            "type": "scattergl"
           }
          ],
          "scattermapbox": [
           {
            "marker": {
             "colorbar": {
              "outlinewidth": 0,
              "ticks": ""
             }
            },
            "type": "scattermapbox"
           }
          ],
          "scatterpolar": [
           {
            "marker": {
             "colorbar": {
              "outlinewidth": 0,
              "ticks": ""
             }
            },
            "type": "scatterpolar"
           }
          ],
          "scatterpolargl": [
           {
            "marker": {
             "colorbar": {
              "outlinewidth": 0,
              "ticks": ""
             }
            },
            "type": "scatterpolargl"
           }
          ],
          "scatterternary": [
           {
            "marker": {
             "colorbar": {
              "outlinewidth": 0,
              "ticks": ""
             }
            },
            "type": "scatterternary"
           }
          ],
          "surface": [
           {
            "colorbar": {
             "outlinewidth": 0,
             "ticks": ""
            },
            "colorscale": [
             [
              0,
              "#0d0887"
             ],
             [
              0.1111111111111111,
              "#46039f"
             ],
             [
              0.2222222222222222,
              "#7201a8"
             ],
             [
              0.3333333333333333,
              "#9c179e"
             ],
             [
              0.4444444444444444,
              "#bd3786"
             ],
             [
              0.5555555555555556,
              "#d8576b"
             ],
             [
              0.6666666666666666,
              "#ed7953"
             ],
             [
              0.7777777777777778,
              "#fb9f3a"
             ],
             [
              0.8888888888888888,
              "#fdca26"
             ],
             [
              1,
              "#f0f921"
             ]
            ],
            "type": "surface"
           }
          ],
          "table": [
           {
            "cells": {
             "fill": {
              "color": "#EBF0F8"
             },
             "line": {
              "color": "white"
             }
            },
            "header": {
             "fill": {
              "color": "#C8D4E3"
             },
             "line": {
              "color": "white"
             }
            },
            "type": "table"
           }
          ]
         },
         "layout": {
          "annotationdefaults": {
           "arrowcolor": "#2a3f5f",
           "arrowhead": 0,
           "arrowwidth": 1
          },
          "autotypenumbers": "strict",
          "coloraxis": {
           "colorbar": {
            "outlinewidth": 0,
            "ticks": ""
           }
          },
          "colorscale": {
           "diverging": [
            [
             0,
             "#8e0152"
            ],
            [
             0.1,
             "#c51b7d"
            ],
            [
             0.2,
             "#de77ae"
            ],
            [
             0.3,
             "#f1b6da"
            ],
            [
             0.4,
             "#fde0ef"
            ],
            [
             0.5,
             "#f7f7f7"
            ],
            [
             0.6,
             "#e6f5d0"
            ],
            [
             0.7,
             "#b8e186"
            ],
            [
             0.8,
             "#7fbc41"
            ],
            [
             0.9,
             "#4d9221"
            ],
            [
             1,
             "#276419"
            ]
           ],
           "sequential": [
            [
             0,
             "#0d0887"
            ],
            [
             0.1111111111111111,
             "#46039f"
            ],
            [
             0.2222222222222222,
             "#7201a8"
            ],
            [
             0.3333333333333333,
             "#9c179e"
            ],
            [
             0.4444444444444444,
             "#bd3786"
            ],
            [
             0.5555555555555556,
             "#d8576b"
            ],
            [
             0.6666666666666666,
             "#ed7953"
            ],
            [
             0.7777777777777778,
             "#fb9f3a"
            ],
            [
             0.8888888888888888,
             "#fdca26"
            ],
            [
             1,
             "#f0f921"
            ]
           ],
           "sequentialminus": [
            [
             0,
             "#0d0887"
            ],
            [
             0.1111111111111111,
             "#46039f"
            ],
            [
             0.2222222222222222,
             "#7201a8"
            ],
            [
             0.3333333333333333,
             "#9c179e"
            ],
            [
             0.4444444444444444,
             "#bd3786"
            ],
            [
             0.5555555555555556,
             "#d8576b"
            ],
            [
             0.6666666666666666,
             "#ed7953"
            ],
            [
             0.7777777777777778,
             "#fb9f3a"
            ],
            [
             0.8888888888888888,
             "#fdca26"
            ],
            [
             1,
             "#f0f921"
            ]
           ]
          },
          "colorway": [
           "#636efa",
           "#EF553B",
           "#00cc96",
           "#ab63fa",
           "#FFA15A",
           "#19d3f3",
           "#FF6692",
           "#B6E880",
           "#FF97FF",
           "#FECB52"
          ],
          "font": {
           "color": "#2a3f5f"
          },
          "geo": {
           "bgcolor": "white",
           "lakecolor": "white",
           "landcolor": "#E5ECF6",
           "showlakes": true,
           "showland": true,
           "subunitcolor": "white"
          },
          "hoverlabel": {
           "align": "left"
          },
          "hovermode": "closest",
          "mapbox": {
           "style": "light"
          },
          "paper_bgcolor": "white",
          "plot_bgcolor": "#E5ECF6",
          "polar": {
           "angularaxis": {
            "gridcolor": "white",
            "linecolor": "white",
            "ticks": ""
           },
           "bgcolor": "#E5ECF6",
           "radialaxis": {
            "gridcolor": "white",
            "linecolor": "white",
            "ticks": ""
           }
          },
          "scene": {
           "xaxis": {
            "backgroundcolor": "#E5ECF6",
            "gridcolor": "white",
            "gridwidth": 2,
            "linecolor": "white",
            "showbackground": true,
            "ticks": "",
            "zerolinecolor": "white"
           },
           "yaxis": {
            "backgroundcolor": "#E5ECF6",
            "gridcolor": "white",
            "gridwidth": 2,
            "linecolor": "white",
            "showbackground": true,
            "ticks": "",
            "zerolinecolor": "white"
           },
           "zaxis": {
            "backgroundcolor": "#E5ECF6",
            "gridcolor": "white",
            "gridwidth": 2,
            "linecolor": "white",
            "showbackground": true,
            "ticks": "",
            "zerolinecolor": "white"
           }
          },
          "shapedefaults": {
           "line": {
            "color": "#2a3f5f"
           }
          },
          "ternary": {
           "aaxis": {
            "gridcolor": "white",
            "linecolor": "white",
            "ticks": ""
           },
           "baxis": {
            "gridcolor": "white",
            "linecolor": "white",
            "ticks": ""
           },
           "bgcolor": "#E5ECF6",
           "caxis": {
            "gridcolor": "white",
            "linecolor": "white",
            "ticks": ""
           }
          },
          "title": {
           "x": 0.05
          },
          "xaxis": {
           "automargin": true,
           "gridcolor": "white",
           "linecolor": "white",
           "ticks": "",
           "title": {
            "standoff": 15
           },
           "zerolinecolor": "white",
           "zerolinewidth": 2
          },
          "yaxis": {
           "automargin": true,
           "gridcolor": "white",
           "linecolor": "white",
           "ticks": "",
           "title": {
            "standoff": 15
           },
           "zerolinecolor": "white",
           "zerolinewidth": 2
          }
         }
        },
        "title": {
         "text": "<b>2-2-2(코로나 후) 가산 생활지역권 시간에 따른 성별 연령별 생활인구</b>"
        },
        "xaxis": {
         "anchor": "y",
         "domain": [
          0,
          0.45
         ]
        },
        "xaxis2": {
         "anchor": "y2",
         "domain": [
          0.55,
          1
         ]
        },
        "yaxis": {
         "anchor": "x",
         "domain": [
          0,
          1
         ]
        },
        "yaxis2": {
         "anchor": "x2",
         "domain": [
          0,
          1
         ]
        }
       }
      },
      "text/html": [
       "<div>                            <div id=\"5f54db2b-a85d-4380-aca7-e7cf3fd2f26c\" class=\"plotly-graph-div\" style=\"height:525px; width:100%;\"></div>            <script type=\"text/javascript\">                require([\"plotly\"], function(Plotly) {                    window.PLOTLYENV=window.PLOTLYENV || {};                                    if (document.getElementById(\"5f54db2b-a85d-4380-aca7-e7cf3fd2f26c\")) {                    Plotly.newPlot(                        \"5f54db2b-a85d-4380-aca7-e7cf3fd2f26c\",                        [{\"mode\":\"lines+markers\",\"name\":\"\\ub0a8\\uc790\",\"type\":\"scatter\",\"x\":[0,1,2,3,4,5,6,7,8,9,10,11,12,13,14,15,16,17,18,19,20,21,22,23],\"xaxis\":\"x\",\"y\":[8012007.60039999,7918871.2123999875,7875764.702000008,7862789.656200004,7897089.023100027,8180568.827100013,9173892.195899982,11768895.63209998,17100168.176199943,20328374.013400014,21442838.182500068,21995083.907099966,22420283.13249997,22564226.381399997,22511966.38769994,22215739.288699944,21711413.20509998,20073437.200200032,16544854.945400015,13426154.951500056,11715573.558699954,10391963.391000023,9513392.434900032,8202697.786999991],\"yaxis\":\"y\"},{\"mode\":\"lines+markers\",\"name\":\"\\uc5ec\\uc790\",\"type\":\"scatter\",\"x\":[0,1,2,3,4,5,6,7,8,9,10,11,12,13,14,15,16,17,18,19,20,21,22,23],\"xaxis\":\"x\",\"y\":[6011687.844499991,5978836.787600006,5963612.003700018,5960063.947399995,5963101.42640001,6119435.032900013,6470782.799499992,7906627.049800003,11619725.784600034,14114911.453800008,14845995.711099973,15248114.747499982,15571756.719600022,15826377.305599995,15864121.421700021,15588861.95329998,15200054.121599995,13960069.317300007,11104566.429499969,9082036.275299981,8146847.531799996,7339527.069800011,6916783.498299997,6070007.056699979],\"yaxis\":\"y\"},{\"mode\":\"lines+markers\",\"name\":\"\\ub0b4\\uad6d\\uc778\",\"type\":\"scatter\",\"x\":[0,1,2,3,4,5,6,7,8,9,10,11,12,13,14,15,16,17,18,19,20,21,22,23],\"xaxis\":\"x\",\"y\":[14023695.44489998,13897707.999999993,13839376.705700025,13822853.6036,13860190.449500035,14300003.860000025,15644674.995399974,19675522.681899983,28719893.960799977,34443285.467200026,36288833.89360004,37243198.65459995,37992039.85209999,38390603.68699999,38376087.80939996,37804601.241999924,36911467.32669997,34033506.51750004,27649421.374899983,22508191.22680004,19862421.090499952,17731490.460800033,16430175.93320003,14272704.84369997],\"yaxis\":\"y\"},{\"mode\":\"lines+markers\",\"name\":\"20 Under\",\"type\":\"scatter\",\"x\":[0,1,2,3,4,5,6,7,8,9,10,11,12,13,14,15,16,17,18,19,20,21,22,23],\"xaxis\":\"x2\",\"y\":[1027176.1501999986,1035778.842699999,1038296.5862,1039383.1118999999,1030248.8018999991,1041690.3348000003,1066572.6348999995,1105178.5529000014,1149849.6856000004,1221436.7804999994,1257675.4220000007,1307434.5773999994,1345086.1478999997,1379311.892,1397277.1827000012,1412405.8878999993,1423303.957300001,1393574.6204999997,1316004.5351,1251382.5903999996,1229510.801,1204828.4473999997,1222095.417499998,1007693.8936000001],\"yaxis\":\"y2\"},{\"mode\":\"lines+markers\",\"name\":\"20s\",\"type\":\"scatter\",\"x\":[0,1,2,3,4,5,6,7,8,9,10,11,12,13,14,15,16,17,18,19,20,21,22,23],\"xaxis\":\"x2\",\"y\":[3313015.0255,3290672.5934999976,3281787.4047,3281087.8204000033,3266536.5578000033,3293829.696199999,3426560.8603999997,4088233.8787999973,6490156.104800001,7814443.023099999,8038561.9843000015,8158119.340800002,8304228.270000003,8370644.534000002,8360632.881699996,8301794.449200001,8252793.577799996,7736970.763,6064807.426000002,4834015.1218,4316404.181299999,3911090.1352999983,3665897.3040000014,3361461.457299998],\"yaxis\":\"y2\"},{\"mode\":\"lines+markers\",\"name\":\"30s\",\"type\":\"scatter\",\"x\":[0,1,2,3,4,5,6,7,8,9,10,11,12,13,14,15,16,17,18,19,20,21,22,23],\"xaxis\":\"x2\",\"y\":[3464561.5223999973,3425678.133800001,3405187.3052000003,3395077.501199999,3386288.8693,3423477.3536,3692830.112300001,4868569.077899999,7798712.320000003,9550916.325099992,10032072.97259999,10277393.952799998,10478680.235100009,10542904.977899993,10523904.431699997,10423082.336799998,10263417.947700003,9437534.139299996,7397289.346700007,5762317.428299996,4974030.814200003,4396743.6801999975,4027638.9111000015,3545666.298100001],\"yaxis\":\"y2\"},{\"mode\":\"lines+markers\",\"name\":\"40s\",\"type\":\"scatter\",\"x\":[0,1,2,3,4,5,6,7,8,9,10,11,12,13,14,15,16,17,18,19,20,21,22,23],\"xaxis\":\"x2\",\"y\":[2372648.174199999,2331874.5579000004,2311609.095199998,2302017.7563999994,2309241.697900002,2387881.531299998,2766714.1694999994,3902190.580199999,6013141.749299999,7435526.703800006,7971104.115200002,8243374.3153,8457400.695700003,8552245.941100013,8534212.300699998,8395909.214399999,8148463.336600002,7401178.977999998,5968249.379199999,4735352.285200001,3992104.0817000004,3389286.8063999983,2998328.340999998,2453289.030500001],\"yaxis\":\"y2\"},{\"mode\":\"lines+markers\",\"name\":\"50s\",\"type\":\"scatter\",\"x\":[0,1,2,3,4,5,6,7,8,9,10,11,12,13,14,15,16,17,18,19,20,21,22,23],\"xaxis\":\"x2\",\"y\":[1896240.3296999997,1872480.0122999996,1862215.9987999997,1862353.5784999996,1890930.9134999989,1996490.1857999992,2339476.3627999984,3053292.956700002,4168390.0172999986,4929796.038899997,5272719.4083999945,5452177.599399998,5559490.864899995,5641052.591300001,5642913.8201,5509603.8371,5249182.839300003,4752511.358699998,3944916.923900004,3261514.222600002,2842758.8167999997,2472592.2999000004,2257523.490099999,1941462.4225000006],\"yaxis\":\"y2\"},{\"mode\":\"lines+markers\",\"name\":\"60 Upper\",\"type\":\"scatter\",\"x\":[0,1,2,3,4,5,6,7,8,9,10,11,12,13,14,15,16,17,18,19,20,21,22,23],\"xaxis\":\"x2\",\"y\":[1950054.2429000004,1941223.8597999997,1940280.3156000015,1942933.8351999982,1976943.6091000014,2156634.758299999,2352520.8555000024,2658057.6353999954,3099644.083799994,3491166.5958000016,3716699.9910999984,3804698.868899999,3847153.638499999,3904443.7507000016,3917147.192499999,3761805.516599998,3574305.667999998,3311736.657999998,2958153.764000001,2663609.578499998,2507612.3955000006,2356949.091599999,2258692.469499999,1963131.7417000006],\"yaxis\":\"y2\"}],                        {\"template\":{\"data\":{\"bar\":[{\"error_x\":{\"color\":\"#2a3f5f\"},\"error_y\":{\"color\":\"#2a3f5f\"},\"marker\":{\"line\":{\"color\":\"#E5ECF6\",\"width\":0.5},\"pattern\":{\"fillmode\":\"overlay\",\"size\":10,\"solidity\":0.2}},\"type\":\"bar\"}],\"barpolar\":[{\"marker\":{\"line\":{\"color\":\"#E5ECF6\",\"width\":0.5},\"pattern\":{\"fillmode\":\"overlay\",\"size\":10,\"solidity\":0.2}},\"type\":\"barpolar\"}],\"carpet\":[{\"aaxis\":{\"endlinecolor\":\"#2a3f5f\",\"gridcolor\":\"white\",\"linecolor\":\"white\",\"minorgridcolor\":\"white\",\"startlinecolor\":\"#2a3f5f\"},\"baxis\":{\"endlinecolor\":\"#2a3f5f\",\"gridcolor\":\"white\",\"linecolor\":\"white\",\"minorgridcolor\":\"white\",\"startlinecolor\":\"#2a3f5f\"},\"type\":\"carpet\"}],\"choropleth\":[{\"colorbar\":{\"outlinewidth\":0,\"ticks\":\"\"},\"type\":\"choropleth\"}],\"contour\":[{\"colorbar\":{\"outlinewidth\":0,\"ticks\":\"\"},\"colorscale\":[[0.0,\"#0d0887\"],[0.1111111111111111,\"#46039f\"],[0.2222222222222222,\"#7201a8\"],[0.3333333333333333,\"#9c179e\"],[0.4444444444444444,\"#bd3786\"],[0.5555555555555556,\"#d8576b\"],[0.6666666666666666,\"#ed7953\"],[0.7777777777777778,\"#fb9f3a\"],[0.8888888888888888,\"#fdca26\"],[1.0,\"#f0f921\"]],\"type\":\"contour\"}],\"contourcarpet\":[{\"colorbar\":{\"outlinewidth\":0,\"ticks\":\"\"},\"type\":\"contourcarpet\"}],\"heatmap\":[{\"colorbar\":{\"outlinewidth\":0,\"ticks\":\"\"},\"colorscale\":[[0.0,\"#0d0887\"],[0.1111111111111111,\"#46039f\"],[0.2222222222222222,\"#7201a8\"],[0.3333333333333333,\"#9c179e\"],[0.4444444444444444,\"#bd3786\"],[0.5555555555555556,\"#d8576b\"],[0.6666666666666666,\"#ed7953\"],[0.7777777777777778,\"#fb9f3a\"],[0.8888888888888888,\"#fdca26\"],[1.0,\"#f0f921\"]],\"type\":\"heatmap\"}],\"heatmapgl\":[{\"colorbar\":{\"outlinewidth\":0,\"ticks\":\"\"},\"colorscale\":[[0.0,\"#0d0887\"],[0.1111111111111111,\"#46039f\"],[0.2222222222222222,\"#7201a8\"],[0.3333333333333333,\"#9c179e\"],[0.4444444444444444,\"#bd3786\"],[0.5555555555555556,\"#d8576b\"],[0.6666666666666666,\"#ed7953\"],[0.7777777777777778,\"#fb9f3a\"],[0.8888888888888888,\"#fdca26\"],[1.0,\"#f0f921\"]],\"type\":\"heatmapgl\"}],\"histogram\":[{\"marker\":{\"pattern\":{\"fillmode\":\"overlay\",\"size\":10,\"solidity\":0.2}},\"type\":\"histogram\"}],\"histogram2d\":[{\"colorbar\":{\"outlinewidth\":0,\"ticks\":\"\"},\"colorscale\":[[0.0,\"#0d0887\"],[0.1111111111111111,\"#46039f\"],[0.2222222222222222,\"#7201a8\"],[0.3333333333333333,\"#9c179e\"],[0.4444444444444444,\"#bd3786\"],[0.5555555555555556,\"#d8576b\"],[0.6666666666666666,\"#ed7953\"],[0.7777777777777778,\"#fb9f3a\"],[0.8888888888888888,\"#fdca26\"],[1.0,\"#f0f921\"]],\"type\":\"histogram2d\"}],\"histogram2dcontour\":[{\"colorbar\":{\"outlinewidth\":0,\"ticks\":\"\"},\"colorscale\":[[0.0,\"#0d0887\"],[0.1111111111111111,\"#46039f\"],[0.2222222222222222,\"#7201a8\"],[0.3333333333333333,\"#9c179e\"],[0.4444444444444444,\"#bd3786\"],[0.5555555555555556,\"#d8576b\"],[0.6666666666666666,\"#ed7953\"],[0.7777777777777778,\"#fb9f3a\"],[0.8888888888888888,\"#fdca26\"],[1.0,\"#f0f921\"]],\"type\":\"histogram2dcontour\"}],\"mesh3d\":[{\"colorbar\":{\"outlinewidth\":0,\"ticks\":\"\"},\"type\":\"mesh3d\"}],\"parcoords\":[{\"line\":{\"colorbar\":{\"outlinewidth\":0,\"ticks\":\"\"}},\"type\":\"parcoords\"}],\"pie\":[{\"automargin\":true,\"type\":\"pie\"}],\"scatter\":[{\"marker\":{\"colorbar\":{\"outlinewidth\":0,\"ticks\":\"\"}},\"type\":\"scatter\"}],\"scatter3d\":[{\"line\":{\"colorbar\":{\"outlinewidth\":0,\"ticks\":\"\"}},\"marker\":{\"colorbar\":{\"outlinewidth\":0,\"ticks\":\"\"}},\"type\":\"scatter3d\"}],\"scattercarpet\":[{\"marker\":{\"colorbar\":{\"outlinewidth\":0,\"ticks\":\"\"}},\"type\":\"scattercarpet\"}],\"scattergeo\":[{\"marker\":{\"colorbar\":{\"outlinewidth\":0,\"ticks\":\"\"}},\"type\":\"scattergeo\"}],\"scattergl\":[{\"marker\":{\"colorbar\":{\"outlinewidth\":0,\"ticks\":\"\"}},\"type\":\"scattergl\"}],\"scattermapbox\":[{\"marker\":{\"colorbar\":{\"outlinewidth\":0,\"ticks\":\"\"}},\"type\":\"scattermapbox\"}],\"scatterpolar\":[{\"marker\":{\"colorbar\":{\"outlinewidth\":0,\"ticks\":\"\"}},\"type\":\"scatterpolar\"}],\"scatterpolargl\":[{\"marker\":{\"colorbar\":{\"outlinewidth\":0,\"ticks\":\"\"}},\"type\":\"scatterpolargl\"}],\"scatterternary\":[{\"marker\":{\"colorbar\":{\"outlinewidth\":0,\"ticks\":\"\"}},\"type\":\"scatterternary\"}],\"surface\":[{\"colorbar\":{\"outlinewidth\":0,\"ticks\":\"\"},\"colorscale\":[[0.0,\"#0d0887\"],[0.1111111111111111,\"#46039f\"],[0.2222222222222222,\"#7201a8\"],[0.3333333333333333,\"#9c179e\"],[0.4444444444444444,\"#bd3786\"],[0.5555555555555556,\"#d8576b\"],[0.6666666666666666,\"#ed7953\"],[0.7777777777777778,\"#fb9f3a\"],[0.8888888888888888,\"#fdca26\"],[1.0,\"#f0f921\"]],\"type\":\"surface\"}],\"table\":[{\"cells\":{\"fill\":{\"color\":\"#EBF0F8\"},\"line\":{\"color\":\"white\"}},\"header\":{\"fill\":{\"color\":\"#C8D4E3\"},\"line\":{\"color\":\"white\"}},\"type\":\"table\"}]},\"layout\":{\"annotationdefaults\":{\"arrowcolor\":\"#2a3f5f\",\"arrowhead\":0,\"arrowwidth\":1},\"autotypenumbers\":\"strict\",\"coloraxis\":{\"colorbar\":{\"outlinewidth\":0,\"ticks\":\"\"}},\"colorscale\":{\"diverging\":[[0,\"#8e0152\"],[0.1,\"#c51b7d\"],[0.2,\"#de77ae\"],[0.3,\"#f1b6da\"],[0.4,\"#fde0ef\"],[0.5,\"#f7f7f7\"],[0.6,\"#e6f5d0\"],[0.7,\"#b8e186\"],[0.8,\"#7fbc41\"],[0.9,\"#4d9221\"],[1,\"#276419\"]],\"sequential\":[[0.0,\"#0d0887\"],[0.1111111111111111,\"#46039f\"],[0.2222222222222222,\"#7201a8\"],[0.3333333333333333,\"#9c179e\"],[0.4444444444444444,\"#bd3786\"],[0.5555555555555556,\"#d8576b\"],[0.6666666666666666,\"#ed7953\"],[0.7777777777777778,\"#fb9f3a\"],[0.8888888888888888,\"#fdca26\"],[1.0,\"#f0f921\"]],\"sequentialminus\":[[0.0,\"#0d0887\"],[0.1111111111111111,\"#46039f\"],[0.2222222222222222,\"#7201a8\"],[0.3333333333333333,\"#9c179e\"],[0.4444444444444444,\"#bd3786\"],[0.5555555555555556,\"#d8576b\"],[0.6666666666666666,\"#ed7953\"],[0.7777777777777778,\"#fb9f3a\"],[0.8888888888888888,\"#fdca26\"],[1.0,\"#f0f921\"]]},\"colorway\":[\"#636efa\",\"#EF553B\",\"#00cc96\",\"#ab63fa\",\"#FFA15A\",\"#19d3f3\",\"#FF6692\",\"#B6E880\",\"#FF97FF\",\"#FECB52\"],\"font\":{\"color\":\"#2a3f5f\"},\"geo\":{\"bgcolor\":\"white\",\"lakecolor\":\"white\",\"landcolor\":\"#E5ECF6\",\"showlakes\":true,\"showland\":true,\"subunitcolor\":\"white\"},\"hoverlabel\":{\"align\":\"left\"},\"hovermode\":\"closest\",\"mapbox\":{\"style\":\"light\"},\"paper_bgcolor\":\"white\",\"plot_bgcolor\":\"#E5ECF6\",\"polar\":{\"angularaxis\":{\"gridcolor\":\"white\",\"linecolor\":\"white\",\"ticks\":\"\"},\"bgcolor\":\"#E5ECF6\",\"radialaxis\":{\"gridcolor\":\"white\",\"linecolor\":\"white\",\"ticks\":\"\"}},\"scene\":{\"xaxis\":{\"backgroundcolor\":\"#E5ECF6\",\"gridcolor\":\"white\",\"gridwidth\":2,\"linecolor\":\"white\",\"showbackground\":true,\"ticks\":\"\",\"zerolinecolor\":\"white\"},\"yaxis\":{\"backgroundcolor\":\"#E5ECF6\",\"gridcolor\":\"white\",\"gridwidth\":2,\"linecolor\":\"white\",\"showbackground\":true,\"ticks\":\"\",\"zerolinecolor\":\"white\"},\"zaxis\":{\"backgroundcolor\":\"#E5ECF6\",\"gridcolor\":\"white\",\"gridwidth\":2,\"linecolor\":\"white\",\"showbackground\":true,\"ticks\":\"\",\"zerolinecolor\":\"white\"}},\"shapedefaults\":{\"line\":{\"color\":\"#2a3f5f\"}},\"ternary\":{\"aaxis\":{\"gridcolor\":\"white\",\"linecolor\":\"white\",\"ticks\":\"\"},\"baxis\":{\"gridcolor\":\"white\",\"linecolor\":\"white\",\"ticks\":\"\"},\"bgcolor\":\"#E5ECF6\",\"caxis\":{\"gridcolor\":\"white\",\"linecolor\":\"white\",\"ticks\":\"\"}},\"title\":{\"x\":0.05},\"xaxis\":{\"automargin\":true,\"gridcolor\":\"white\",\"linecolor\":\"white\",\"ticks\":\"\",\"title\":{\"standoff\":15},\"zerolinecolor\":\"white\",\"zerolinewidth\":2},\"yaxis\":{\"automargin\":true,\"gridcolor\":\"white\",\"linecolor\":\"white\",\"ticks\":\"\",\"title\":{\"standoff\":15},\"zerolinecolor\":\"white\",\"zerolinewidth\":2}}},\"title\":{\"text\":\"<b>2-2-2(\\ucf54\\ub85c\\ub098 \\ud6c4) \\uac00\\uc0b0 \\uc0dd\\ud65c\\uc9c0\\uc5ed\\uad8c \\uc2dc\\uac04\\uc5d0 \\ub530\\ub978 \\uc131\\ubcc4 \\uc5f0\\ub839\\ubcc4 \\uc0dd\\ud65c\\uc778\\uad6c</b>\"},\"xaxis\":{\"anchor\":\"y\",\"domain\":[0.0,0.45]},\"xaxis2\":{\"anchor\":\"y2\",\"domain\":[0.55,1.0]},\"yaxis\":{\"anchor\":\"x\",\"domain\":[0.0,1.0]},\"yaxis2\":{\"anchor\":\"x2\",\"domain\":[0.0,1.0]}},                        {\"responsive\": true}                    ).then(function(){\n",
       "                            \n",
       "var gd = document.getElementById('5f54db2b-a85d-4380-aca7-e7cf3fd2f26c');\n",
       "var x = new MutationObserver(function (mutations, observer) {{\n",
       "        var display = window.getComputedStyle(gd).display;\n",
       "        if (!display || display === 'none') {{\n",
       "            console.log([gd, 'removed!']);\n",
       "            Plotly.purge(gd);\n",
       "            observer.disconnect();\n",
       "        }}\n",
       "}});\n",
       "\n",
       "// Listen for the removal of the full notebook cells\n",
       "var notebookContainer = gd.closest('#notebook-container');\n",
       "if (notebookContainer) {{\n",
       "    x.observe(notebookContainer, {childList: true});\n",
       "}}\n",
       "\n",
       "// Listen for the clearing of the current output cell\n",
       "var outputEl = gd.closest('.output');\n",
       "if (outputEl) {{\n",
       "    x.observe(outputEl, {childList: true});\n",
       "}}\n",
       "\n",
       "                        })                };                });            </script>        </div>"
      ]
     },
     "metadata": {},
     "output_type": "display_data"
    },
    {
     "data": {
      "application/vnd.plotly.v1+json": {
       "config": {
        "plotlyServerURL": "https://plot.ly"
       },
       "data": [
        {
         "domain": {
          "x": [
           0,
           0.45
          ],
          "y": [
           0,
           1
          ]
         },
         "hole": 0.3,
         "labels": [
          "남자 20대",
          "남자 20대 이하",
          "남자 30대",
          "남자 40대",
          "남자 50대",
          "남자 60대 이상",
          "여자 20대",
          "여자 20대 이하",
          "여자 30대",
          "여자 40대",
          "여자 50대",
          "여자 60대 이상"
         ],
         "name": "코로나 전 생활인구",
         "type": "pie",
         "values": [
          5744658.874900002,
          2307728.9309999994,
          7736538.611300004,
          5799592.945499999,
          4276691.7474,
          4074947.4994,
          5412673.836499999,
          2070664.343500002,
          4654871.648700002,
          3127368.9138999996,
          3154928.604199999,
          4416225.839799999
         ]
        },
        {
         "domain": {
          "x": [
           0.55,
           1
          ],
          "y": [
           0,
           1
          ]
         },
         "hole": 0.3,
         "labels": [
          "남자 20대",
          "남자 20대 이하",
          "남자 30대",
          "남자 40대",
          "남자 50대",
          "남자 60대 이상",
          "여자 20대",
          "여자 20대 이하",
          "여자 30대",
          "여자 40대",
          "여자 50대",
          "여자 60대 이상"
         ],
         "name": "코로나 후 생활인구",
         "type": "pie",
         "values": [
          10100449.606600001,
          3003775.831599999,
          12605078.891900001,
          9248303.556099996,
          6828253.644999996,
          5961229.489999997,
          9626479.491500001,
          3208797.9960999982,
          7895191.793599995,
          4766969.256800001,
          4552457.3736000005,
          5946841.130900003
         ]
        }
       ],
       "layout": {
        "template": {
         "data": {
          "bar": [
           {
            "error_x": {
             "color": "#2a3f5f"
            },
            "error_y": {
             "color": "#2a3f5f"
            },
            "marker": {
             "line": {
              "color": "#E5ECF6",
              "width": 0.5
             },
             "pattern": {
              "fillmode": "overlay",
              "size": 10,
              "solidity": 0.2
             }
            },
            "type": "bar"
           }
          ],
          "barpolar": [
           {
            "marker": {
             "line": {
              "color": "#E5ECF6",
              "width": 0.5
             },
             "pattern": {
              "fillmode": "overlay",
              "size": 10,
              "solidity": 0.2
             }
            },
            "type": "barpolar"
           }
          ],
          "carpet": [
           {
            "aaxis": {
             "endlinecolor": "#2a3f5f",
             "gridcolor": "white",
             "linecolor": "white",
             "minorgridcolor": "white",
             "startlinecolor": "#2a3f5f"
            },
            "baxis": {
             "endlinecolor": "#2a3f5f",
             "gridcolor": "white",
             "linecolor": "white",
             "minorgridcolor": "white",
             "startlinecolor": "#2a3f5f"
            },
            "type": "carpet"
           }
          ],
          "choropleth": [
           {
            "colorbar": {
             "outlinewidth": 0,
             "ticks": ""
            },
            "type": "choropleth"
           }
          ],
          "contour": [
           {
            "colorbar": {
             "outlinewidth": 0,
             "ticks": ""
            },
            "colorscale": [
             [
              0,
              "#0d0887"
             ],
             [
              0.1111111111111111,
              "#46039f"
             ],
             [
              0.2222222222222222,
              "#7201a8"
             ],
             [
              0.3333333333333333,
              "#9c179e"
             ],
             [
              0.4444444444444444,
              "#bd3786"
             ],
             [
              0.5555555555555556,
              "#d8576b"
             ],
             [
              0.6666666666666666,
              "#ed7953"
             ],
             [
              0.7777777777777778,
              "#fb9f3a"
             ],
             [
              0.8888888888888888,
              "#fdca26"
             ],
             [
              1,
              "#f0f921"
             ]
            ],
            "type": "contour"
           }
          ],
          "contourcarpet": [
           {
            "colorbar": {
             "outlinewidth": 0,
             "ticks": ""
            },
            "type": "contourcarpet"
           }
          ],
          "heatmap": [
           {
            "colorbar": {
             "outlinewidth": 0,
             "ticks": ""
            },
            "colorscale": [
             [
              0,
              "#0d0887"
             ],
             [
              0.1111111111111111,
              "#46039f"
             ],
             [
              0.2222222222222222,
              "#7201a8"
             ],
             [
              0.3333333333333333,
              "#9c179e"
             ],
             [
              0.4444444444444444,
              "#bd3786"
             ],
             [
              0.5555555555555556,
              "#d8576b"
             ],
             [
              0.6666666666666666,
              "#ed7953"
             ],
             [
              0.7777777777777778,
              "#fb9f3a"
             ],
             [
              0.8888888888888888,
              "#fdca26"
             ],
             [
              1,
              "#f0f921"
             ]
            ],
            "type": "heatmap"
           }
          ],
          "heatmapgl": [
           {
            "colorbar": {
             "outlinewidth": 0,
             "ticks": ""
            },
            "colorscale": [
             [
              0,
              "#0d0887"
             ],
             [
              0.1111111111111111,
              "#46039f"
             ],
             [
              0.2222222222222222,
              "#7201a8"
             ],
             [
              0.3333333333333333,
              "#9c179e"
             ],
             [
              0.4444444444444444,
              "#bd3786"
             ],
             [
              0.5555555555555556,
              "#d8576b"
             ],
             [
              0.6666666666666666,
              "#ed7953"
             ],
             [
              0.7777777777777778,
              "#fb9f3a"
             ],
             [
              0.8888888888888888,
              "#fdca26"
             ],
             [
              1,
              "#f0f921"
             ]
            ],
            "type": "heatmapgl"
           }
          ],
          "histogram": [
           {
            "marker": {
             "pattern": {
              "fillmode": "overlay",
              "size": 10,
              "solidity": 0.2
             }
            },
            "type": "histogram"
           }
          ],
          "histogram2d": [
           {
            "colorbar": {
             "outlinewidth": 0,
             "ticks": ""
            },
            "colorscale": [
             [
              0,
              "#0d0887"
             ],
             [
              0.1111111111111111,
              "#46039f"
             ],
             [
              0.2222222222222222,
              "#7201a8"
             ],
             [
              0.3333333333333333,
              "#9c179e"
             ],
             [
              0.4444444444444444,
              "#bd3786"
             ],
             [
              0.5555555555555556,
              "#d8576b"
             ],
             [
              0.6666666666666666,
              "#ed7953"
             ],
             [
              0.7777777777777778,
              "#fb9f3a"
             ],
             [
              0.8888888888888888,
              "#fdca26"
             ],
             [
              1,
              "#f0f921"
             ]
            ],
            "type": "histogram2d"
           }
          ],
          "histogram2dcontour": [
           {
            "colorbar": {
             "outlinewidth": 0,
             "ticks": ""
            },
            "colorscale": [
             [
              0,
              "#0d0887"
             ],
             [
              0.1111111111111111,
              "#46039f"
             ],
             [
              0.2222222222222222,
              "#7201a8"
             ],
             [
              0.3333333333333333,
              "#9c179e"
             ],
             [
              0.4444444444444444,
              "#bd3786"
             ],
             [
              0.5555555555555556,
              "#d8576b"
             ],
             [
              0.6666666666666666,
              "#ed7953"
             ],
             [
              0.7777777777777778,
              "#fb9f3a"
             ],
             [
              0.8888888888888888,
              "#fdca26"
             ],
             [
              1,
              "#f0f921"
             ]
            ],
            "type": "histogram2dcontour"
           }
          ],
          "mesh3d": [
           {
            "colorbar": {
             "outlinewidth": 0,
             "ticks": ""
            },
            "type": "mesh3d"
           }
          ],
          "parcoords": [
           {
            "line": {
             "colorbar": {
              "outlinewidth": 0,
              "ticks": ""
             }
            },
            "type": "parcoords"
           }
          ],
          "pie": [
           {
            "automargin": true,
            "type": "pie"
           }
          ],
          "scatter": [
           {
            "marker": {
             "colorbar": {
              "outlinewidth": 0,
              "ticks": ""
             }
            },
            "type": "scatter"
           }
          ],
          "scatter3d": [
           {
            "line": {
             "colorbar": {
              "outlinewidth": 0,
              "ticks": ""
             }
            },
            "marker": {
             "colorbar": {
              "outlinewidth": 0,
              "ticks": ""
             }
            },
            "type": "scatter3d"
           }
          ],
          "scattercarpet": [
           {
            "marker": {
             "colorbar": {
              "outlinewidth": 0,
              "ticks": ""
             }
            },
            "type": "scattercarpet"
           }
          ],
          "scattergeo": [
           {
            "marker": {
             "colorbar": {
              "outlinewidth": 0,
              "ticks": ""
             }
            },
            "type": "scattergeo"
           }
          ],
          "scattergl": [
           {
            "marker": {
             "colorbar": {
              "outlinewidth": 0,
              "ticks": ""
             }
            },
            "type": "scattergl"
           }
          ],
          "scattermapbox": [
           {
            "marker": {
             "colorbar": {
              "outlinewidth": 0,
              "ticks": ""
             }
            },
            "type": "scattermapbox"
           }
          ],
          "scatterpolar": [
           {
            "marker": {
             "colorbar": {
              "outlinewidth": 0,
              "ticks": ""
             }
            },
            "type": "scatterpolar"
           }
          ],
          "scatterpolargl": [
           {
            "marker": {
             "colorbar": {
              "outlinewidth": 0,
              "ticks": ""
             }
            },
            "type": "scatterpolargl"
           }
          ],
          "scatterternary": [
           {
            "marker": {
             "colorbar": {
              "outlinewidth": 0,
              "ticks": ""
             }
            },
            "type": "scatterternary"
           }
          ],
          "surface": [
           {
            "colorbar": {
             "outlinewidth": 0,
             "ticks": ""
            },
            "colorscale": [
             [
              0,
              "#0d0887"
             ],
             [
              0.1111111111111111,
              "#46039f"
             ],
             [
              0.2222222222222222,
              "#7201a8"
             ],
             [
              0.3333333333333333,
              "#9c179e"
             ],
             [
              0.4444444444444444,
              "#bd3786"
             ],
             [
              0.5555555555555556,
              "#d8576b"
             ],
             [
              0.6666666666666666,
              "#ed7953"
             ],
             [
              0.7777777777777778,
              "#fb9f3a"
             ],
             [
              0.8888888888888888,
              "#fdca26"
             ],
             [
              1,
              "#f0f921"
             ]
            ],
            "type": "surface"
           }
          ],
          "table": [
           {
            "cells": {
             "fill": {
              "color": "#EBF0F8"
             },
             "line": {
              "color": "white"
             }
            },
            "header": {
             "fill": {
              "color": "#C8D4E3"
             },
             "line": {
              "color": "white"
             }
            },
            "type": "table"
           }
          ]
         },
         "layout": {
          "annotationdefaults": {
           "arrowcolor": "#2a3f5f",
           "arrowhead": 0,
           "arrowwidth": 1
          },
          "autotypenumbers": "strict",
          "coloraxis": {
           "colorbar": {
            "outlinewidth": 0,
            "ticks": ""
           }
          },
          "colorscale": {
           "diverging": [
            [
             0,
             "#8e0152"
            ],
            [
             0.1,
             "#c51b7d"
            ],
            [
             0.2,
             "#de77ae"
            ],
            [
             0.3,
             "#f1b6da"
            ],
            [
             0.4,
             "#fde0ef"
            ],
            [
             0.5,
             "#f7f7f7"
            ],
            [
             0.6,
             "#e6f5d0"
            ],
            [
             0.7,
             "#b8e186"
            ],
            [
             0.8,
             "#7fbc41"
            ],
            [
             0.9,
             "#4d9221"
            ],
            [
             1,
             "#276419"
            ]
           ],
           "sequential": [
            [
             0,
             "#0d0887"
            ],
            [
             0.1111111111111111,
             "#46039f"
            ],
            [
             0.2222222222222222,
             "#7201a8"
            ],
            [
             0.3333333333333333,
             "#9c179e"
            ],
            [
             0.4444444444444444,
             "#bd3786"
            ],
            [
             0.5555555555555556,
             "#d8576b"
            ],
            [
             0.6666666666666666,
             "#ed7953"
            ],
            [
             0.7777777777777778,
             "#fb9f3a"
            ],
            [
             0.8888888888888888,
             "#fdca26"
            ],
            [
             1,
             "#f0f921"
            ]
           ],
           "sequentialminus": [
            [
             0,
             "#0d0887"
            ],
            [
             0.1111111111111111,
             "#46039f"
            ],
            [
             0.2222222222222222,
             "#7201a8"
            ],
            [
             0.3333333333333333,
             "#9c179e"
            ],
            [
             0.4444444444444444,
             "#bd3786"
            ],
            [
             0.5555555555555556,
             "#d8576b"
            ],
            [
             0.6666666666666666,
             "#ed7953"
            ],
            [
             0.7777777777777778,
             "#fb9f3a"
            ],
            [
             0.8888888888888888,
             "#fdca26"
            ],
            [
             1,
             "#f0f921"
            ]
           ]
          },
          "colorway": [
           "#636efa",
           "#EF553B",
           "#00cc96",
           "#ab63fa",
           "#FFA15A",
           "#19d3f3",
           "#FF6692",
           "#B6E880",
           "#FF97FF",
           "#FECB52"
          ],
          "font": {
           "color": "#2a3f5f"
          },
          "geo": {
           "bgcolor": "white",
           "lakecolor": "white",
           "landcolor": "#E5ECF6",
           "showlakes": true,
           "showland": true,
           "subunitcolor": "white"
          },
          "hoverlabel": {
           "align": "left"
          },
          "hovermode": "closest",
          "mapbox": {
           "style": "light"
          },
          "paper_bgcolor": "white",
          "plot_bgcolor": "#E5ECF6",
          "polar": {
           "angularaxis": {
            "gridcolor": "white",
            "linecolor": "white",
            "ticks": ""
           },
           "bgcolor": "#E5ECF6",
           "radialaxis": {
            "gridcolor": "white",
            "linecolor": "white",
            "ticks": ""
           }
          },
          "scene": {
           "xaxis": {
            "backgroundcolor": "#E5ECF6",
            "gridcolor": "white",
            "gridwidth": 2,
            "linecolor": "white",
            "showbackground": true,
            "ticks": "",
            "zerolinecolor": "white"
           },
           "yaxis": {
            "backgroundcolor": "#E5ECF6",
            "gridcolor": "white",
            "gridwidth": 2,
            "linecolor": "white",
            "showbackground": true,
            "ticks": "",
            "zerolinecolor": "white"
           },
           "zaxis": {
            "backgroundcolor": "#E5ECF6",
            "gridcolor": "white",
            "gridwidth": 2,
            "linecolor": "white",
            "showbackground": true,
            "ticks": "",
            "zerolinecolor": "white"
           }
          },
          "shapedefaults": {
           "line": {
            "color": "#2a3f5f"
           }
          },
          "ternary": {
           "aaxis": {
            "gridcolor": "white",
            "linecolor": "white",
            "ticks": ""
           },
           "baxis": {
            "gridcolor": "white",
            "linecolor": "white",
            "ticks": ""
           },
           "bgcolor": "#E5ECF6",
           "caxis": {
            "gridcolor": "white",
            "linecolor": "white",
            "ticks": ""
           }
          },
          "title": {
           "x": 0.05
          },
          "xaxis": {
           "automargin": true,
           "gridcolor": "white",
           "linecolor": "white",
           "ticks": "",
           "title": {
            "standoff": 15
           },
           "zerolinecolor": "white",
           "zerolinewidth": 2
          },
          "yaxis": {
           "automargin": true,
           "gridcolor": "white",
           "linecolor": "white",
           "ticks": "",
           "title": {
            "standoff": 15
           },
           "zerolinecolor": "white",
           "zerolinewidth": 2
          }
         }
        },
        "title": {
         "text": "<b>2-2-3[새벽] 시간 [가산] 생활 지역권 코로나 전후 가락 저녁 생활인구 비율 비교</b>"
        }
       }
      },
      "text/html": [
       "<div>                            <div id=\"b4041aeb-837b-4abe-8a3a-dd0127e266e5\" class=\"plotly-graph-div\" style=\"height:525px; width:100%;\"></div>            <script type=\"text/javascript\">                require([\"plotly\"], function(Plotly) {                    window.PLOTLYENV=window.PLOTLYENV || {};                                    if (document.getElementById(\"b4041aeb-837b-4abe-8a3a-dd0127e266e5\")) {                    Plotly.newPlot(                        \"b4041aeb-837b-4abe-8a3a-dd0127e266e5\",                        [{\"domain\":{\"x\":[0.0,0.45],\"y\":[0.0,1.0]},\"hole\":0.3,\"labels\":[\"\\ub0a8\\uc790 20\\ub300\",\"\\ub0a8\\uc790 20\\ub300 \\uc774\\ud558\",\"\\ub0a8\\uc790 30\\ub300\",\"\\ub0a8\\uc790 40\\ub300\",\"\\ub0a8\\uc790 50\\ub300\",\"\\ub0a8\\uc790 60\\ub300 \\uc774\\uc0c1\",\"\\uc5ec\\uc790 20\\ub300\",\"\\uc5ec\\uc790 20\\ub300 \\uc774\\ud558\",\"\\uc5ec\\uc790 30\\ub300\",\"\\uc5ec\\uc790 40\\ub300\",\"\\uc5ec\\uc790 50\\ub300\",\"\\uc5ec\\uc790 60\\ub300 \\uc774\\uc0c1\"],\"name\":\"\\ucf54\\ub85c\\ub098 \\uc804 \\uc0dd\\ud65c\\uc778\\uad6c\",\"type\":\"pie\",\"values\":[5744658.874900002,2307728.9309999994,7736538.611300004,5799592.945499999,4276691.7474,4074947.4994,5412673.836499999,2070664.343500002,4654871.648700002,3127368.9138999996,3154928.604199999,4416225.839799999]},{\"domain\":{\"x\":[0.55,1.0],\"y\":[0.0,1.0]},\"hole\":0.3,\"labels\":[\"\\ub0a8\\uc790 20\\ub300\",\"\\ub0a8\\uc790 20\\ub300 \\uc774\\ud558\",\"\\ub0a8\\uc790 30\\ub300\",\"\\ub0a8\\uc790 40\\ub300\",\"\\ub0a8\\uc790 50\\ub300\",\"\\ub0a8\\uc790 60\\ub300 \\uc774\\uc0c1\",\"\\uc5ec\\uc790 20\\ub300\",\"\\uc5ec\\uc790 20\\ub300 \\uc774\\ud558\",\"\\uc5ec\\uc790 30\\ub300\",\"\\uc5ec\\uc790 40\\ub300\",\"\\uc5ec\\uc790 50\\ub300\",\"\\uc5ec\\uc790 60\\ub300 \\uc774\\uc0c1\"],\"name\":\"\\ucf54\\ub85c\\ub098 \\ud6c4 \\uc0dd\\ud65c\\uc778\\uad6c\",\"type\":\"pie\",\"values\":[10100449.606600001,3003775.831599999,12605078.891900001,9248303.556099996,6828253.644999996,5961229.489999997,9626479.491500001,3208797.9960999982,7895191.793599995,4766969.256800001,4552457.3736000005,5946841.130900003]}],                        {\"template\":{\"data\":{\"bar\":[{\"error_x\":{\"color\":\"#2a3f5f\"},\"error_y\":{\"color\":\"#2a3f5f\"},\"marker\":{\"line\":{\"color\":\"#E5ECF6\",\"width\":0.5},\"pattern\":{\"fillmode\":\"overlay\",\"size\":10,\"solidity\":0.2}},\"type\":\"bar\"}],\"barpolar\":[{\"marker\":{\"line\":{\"color\":\"#E5ECF6\",\"width\":0.5},\"pattern\":{\"fillmode\":\"overlay\",\"size\":10,\"solidity\":0.2}},\"type\":\"barpolar\"}],\"carpet\":[{\"aaxis\":{\"endlinecolor\":\"#2a3f5f\",\"gridcolor\":\"white\",\"linecolor\":\"white\",\"minorgridcolor\":\"white\",\"startlinecolor\":\"#2a3f5f\"},\"baxis\":{\"endlinecolor\":\"#2a3f5f\",\"gridcolor\":\"white\",\"linecolor\":\"white\",\"minorgridcolor\":\"white\",\"startlinecolor\":\"#2a3f5f\"},\"type\":\"carpet\"}],\"choropleth\":[{\"colorbar\":{\"outlinewidth\":0,\"ticks\":\"\"},\"type\":\"choropleth\"}],\"contour\":[{\"colorbar\":{\"outlinewidth\":0,\"ticks\":\"\"},\"colorscale\":[[0.0,\"#0d0887\"],[0.1111111111111111,\"#46039f\"],[0.2222222222222222,\"#7201a8\"],[0.3333333333333333,\"#9c179e\"],[0.4444444444444444,\"#bd3786\"],[0.5555555555555556,\"#d8576b\"],[0.6666666666666666,\"#ed7953\"],[0.7777777777777778,\"#fb9f3a\"],[0.8888888888888888,\"#fdca26\"],[1.0,\"#f0f921\"]],\"type\":\"contour\"}],\"contourcarpet\":[{\"colorbar\":{\"outlinewidth\":0,\"ticks\":\"\"},\"type\":\"contourcarpet\"}],\"heatmap\":[{\"colorbar\":{\"outlinewidth\":0,\"ticks\":\"\"},\"colorscale\":[[0.0,\"#0d0887\"],[0.1111111111111111,\"#46039f\"],[0.2222222222222222,\"#7201a8\"],[0.3333333333333333,\"#9c179e\"],[0.4444444444444444,\"#bd3786\"],[0.5555555555555556,\"#d8576b\"],[0.6666666666666666,\"#ed7953\"],[0.7777777777777778,\"#fb9f3a\"],[0.8888888888888888,\"#fdca26\"],[1.0,\"#f0f921\"]],\"type\":\"heatmap\"}],\"heatmapgl\":[{\"colorbar\":{\"outlinewidth\":0,\"ticks\":\"\"},\"colorscale\":[[0.0,\"#0d0887\"],[0.1111111111111111,\"#46039f\"],[0.2222222222222222,\"#7201a8\"],[0.3333333333333333,\"#9c179e\"],[0.4444444444444444,\"#bd3786\"],[0.5555555555555556,\"#d8576b\"],[0.6666666666666666,\"#ed7953\"],[0.7777777777777778,\"#fb9f3a\"],[0.8888888888888888,\"#fdca26\"],[1.0,\"#f0f921\"]],\"type\":\"heatmapgl\"}],\"histogram\":[{\"marker\":{\"pattern\":{\"fillmode\":\"overlay\",\"size\":10,\"solidity\":0.2}},\"type\":\"histogram\"}],\"histogram2d\":[{\"colorbar\":{\"outlinewidth\":0,\"ticks\":\"\"},\"colorscale\":[[0.0,\"#0d0887\"],[0.1111111111111111,\"#46039f\"],[0.2222222222222222,\"#7201a8\"],[0.3333333333333333,\"#9c179e\"],[0.4444444444444444,\"#bd3786\"],[0.5555555555555556,\"#d8576b\"],[0.6666666666666666,\"#ed7953\"],[0.7777777777777778,\"#fb9f3a\"],[0.8888888888888888,\"#fdca26\"],[1.0,\"#f0f921\"]],\"type\":\"histogram2d\"}],\"histogram2dcontour\":[{\"colorbar\":{\"outlinewidth\":0,\"ticks\":\"\"},\"colorscale\":[[0.0,\"#0d0887\"],[0.1111111111111111,\"#46039f\"],[0.2222222222222222,\"#7201a8\"],[0.3333333333333333,\"#9c179e\"],[0.4444444444444444,\"#bd3786\"],[0.5555555555555556,\"#d8576b\"],[0.6666666666666666,\"#ed7953\"],[0.7777777777777778,\"#fb9f3a\"],[0.8888888888888888,\"#fdca26\"],[1.0,\"#f0f921\"]],\"type\":\"histogram2dcontour\"}],\"mesh3d\":[{\"colorbar\":{\"outlinewidth\":0,\"ticks\":\"\"},\"type\":\"mesh3d\"}],\"parcoords\":[{\"line\":{\"colorbar\":{\"outlinewidth\":0,\"ticks\":\"\"}},\"type\":\"parcoords\"}],\"pie\":[{\"automargin\":true,\"type\":\"pie\"}],\"scatter\":[{\"marker\":{\"colorbar\":{\"outlinewidth\":0,\"ticks\":\"\"}},\"type\":\"scatter\"}],\"scatter3d\":[{\"line\":{\"colorbar\":{\"outlinewidth\":0,\"ticks\":\"\"}},\"marker\":{\"colorbar\":{\"outlinewidth\":0,\"ticks\":\"\"}},\"type\":\"scatter3d\"}],\"scattercarpet\":[{\"marker\":{\"colorbar\":{\"outlinewidth\":0,\"ticks\":\"\"}},\"type\":\"scattercarpet\"}],\"scattergeo\":[{\"marker\":{\"colorbar\":{\"outlinewidth\":0,\"ticks\":\"\"}},\"type\":\"scattergeo\"}],\"scattergl\":[{\"marker\":{\"colorbar\":{\"outlinewidth\":0,\"ticks\":\"\"}},\"type\":\"scattergl\"}],\"scattermapbox\":[{\"marker\":{\"colorbar\":{\"outlinewidth\":0,\"ticks\":\"\"}},\"type\":\"scattermapbox\"}],\"scatterpolar\":[{\"marker\":{\"colorbar\":{\"outlinewidth\":0,\"ticks\":\"\"}},\"type\":\"scatterpolar\"}],\"scatterpolargl\":[{\"marker\":{\"colorbar\":{\"outlinewidth\":0,\"ticks\":\"\"}},\"type\":\"scatterpolargl\"}],\"scatterternary\":[{\"marker\":{\"colorbar\":{\"outlinewidth\":0,\"ticks\":\"\"}},\"type\":\"scatterternary\"}],\"surface\":[{\"colorbar\":{\"outlinewidth\":0,\"ticks\":\"\"},\"colorscale\":[[0.0,\"#0d0887\"],[0.1111111111111111,\"#46039f\"],[0.2222222222222222,\"#7201a8\"],[0.3333333333333333,\"#9c179e\"],[0.4444444444444444,\"#bd3786\"],[0.5555555555555556,\"#d8576b\"],[0.6666666666666666,\"#ed7953\"],[0.7777777777777778,\"#fb9f3a\"],[0.8888888888888888,\"#fdca26\"],[1.0,\"#f0f921\"]],\"type\":\"surface\"}],\"table\":[{\"cells\":{\"fill\":{\"color\":\"#EBF0F8\"},\"line\":{\"color\":\"white\"}},\"header\":{\"fill\":{\"color\":\"#C8D4E3\"},\"line\":{\"color\":\"white\"}},\"type\":\"table\"}]},\"layout\":{\"annotationdefaults\":{\"arrowcolor\":\"#2a3f5f\",\"arrowhead\":0,\"arrowwidth\":1},\"autotypenumbers\":\"strict\",\"coloraxis\":{\"colorbar\":{\"outlinewidth\":0,\"ticks\":\"\"}},\"colorscale\":{\"diverging\":[[0,\"#8e0152\"],[0.1,\"#c51b7d\"],[0.2,\"#de77ae\"],[0.3,\"#f1b6da\"],[0.4,\"#fde0ef\"],[0.5,\"#f7f7f7\"],[0.6,\"#e6f5d0\"],[0.7,\"#b8e186\"],[0.8,\"#7fbc41\"],[0.9,\"#4d9221\"],[1,\"#276419\"]],\"sequential\":[[0.0,\"#0d0887\"],[0.1111111111111111,\"#46039f\"],[0.2222222222222222,\"#7201a8\"],[0.3333333333333333,\"#9c179e\"],[0.4444444444444444,\"#bd3786\"],[0.5555555555555556,\"#d8576b\"],[0.6666666666666666,\"#ed7953\"],[0.7777777777777778,\"#fb9f3a\"],[0.8888888888888888,\"#fdca26\"],[1.0,\"#f0f921\"]],\"sequentialminus\":[[0.0,\"#0d0887\"],[0.1111111111111111,\"#46039f\"],[0.2222222222222222,\"#7201a8\"],[0.3333333333333333,\"#9c179e\"],[0.4444444444444444,\"#bd3786\"],[0.5555555555555556,\"#d8576b\"],[0.6666666666666666,\"#ed7953\"],[0.7777777777777778,\"#fb9f3a\"],[0.8888888888888888,\"#fdca26\"],[1.0,\"#f0f921\"]]},\"colorway\":[\"#636efa\",\"#EF553B\",\"#00cc96\",\"#ab63fa\",\"#FFA15A\",\"#19d3f3\",\"#FF6692\",\"#B6E880\",\"#FF97FF\",\"#FECB52\"],\"font\":{\"color\":\"#2a3f5f\"},\"geo\":{\"bgcolor\":\"white\",\"lakecolor\":\"white\",\"landcolor\":\"#E5ECF6\",\"showlakes\":true,\"showland\":true,\"subunitcolor\":\"white\"},\"hoverlabel\":{\"align\":\"left\"},\"hovermode\":\"closest\",\"mapbox\":{\"style\":\"light\"},\"paper_bgcolor\":\"white\",\"plot_bgcolor\":\"#E5ECF6\",\"polar\":{\"angularaxis\":{\"gridcolor\":\"white\",\"linecolor\":\"white\",\"ticks\":\"\"},\"bgcolor\":\"#E5ECF6\",\"radialaxis\":{\"gridcolor\":\"white\",\"linecolor\":\"white\",\"ticks\":\"\"}},\"scene\":{\"xaxis\":{\"backgroundcolor\":\"#E5ECF6\",\"gridcolor\":\"white\",\"gridwidth\":2,\"linecolor\":\"white\",\"showbackground\":true,\"ticks\":\"\",\"zerolinecolor\":\"white\"},\"yaxis\":{\"backgroundcolor\":\"#E5ECF6\",\"gridcolor\":\"white\",\"gridwidth\":2,\"linecolor\":\"white\",\"showbackground\":true,\"ticks\":\"\",\"zerolinecolor\":\"white\"},\"zaxis\":{\"backgroundcolor\":\"#E5ECF6\",\"gridcolor\":\"white\",\"gridwidth\":2,\"linecolor\":\"white\",\"showbackground\":true,\"ticks\":\"\",\"zerolinecolor\":\"white\"}},\"shapedefaults\":{\"line\":{\"color\":\"#2a3f5f\"}},\"ternary\":{\"aaxis\":{\"gridcolor\":\"white\",\"linecolor\":\"white\",\"ticks\":\"\"},\"baxis\":{\"gridcolor\":\"white\",\"linecolor\":\"white\",\"ticks\":\"\"},\"bgcolor\":\"#E5ECF6\",\"caxis\":{\"gridcolor\":\"white\",\"linecolor\":\"white\",\"ticks\":\"\"}},\"title\":{\"x\":0.05},\"xaxis\":{\"automargin\":true,\"gridcolor\":\"white\",\"linecolor\":\"white\",\"ticks\":\"\",\"title\":{\"standoff\":15},\"zerolinecolor\":\"white\",\"zerolinewidth\":2},\"yaxis\":{\"automargin\":true,\"gridcolor\":\"white\",\"linecolor\":\"white\",\"ticks\":\"\",\"title\":{\"standoff\":15},\"zerolinecolor\":\"white\",\"zerolinewidth\":2}}},\"title\":{\"text\":\"<b>2-2-3[\\uc0c8\\ubcbd] \\uc2dc\\uac04 [\\uac00\\uc0b0] \\uc0dd\\ud65c \\uc9c0\\uc5ed\\uad8c \\ucf54\\ub85c\\ub098 \\uc804\\ud6c4 \\uac00\\ub77d \\uc800\\ub141 \\uc0dd\\ud65c\\uc778\\uad6c \\ube44\\uc728 \\ube44\\uad50</b>\"}},                        {\"responsive\": true}                    ).then(function(){\n",
       "                            \n",
       "var gd = document.getElementById('b4041aeb-837b-4abe-8a3a-dd0127e266e5');\n",
       "var x = new MutationObserver(function (mutations, observer) {{\n",
       "        var display = window.getComputedStyle(gd).display;\n",
       "        if (!display || display === 'none') {{\n",
       "            console.log([gd, 'removed!']);\n",
       "            Plotly.purge(gd);\n",
       "            observer.disconnect();\n",
       "        }}\n",
       "}});\n",
       "\n",
       "// Listen for the removal of the full notebook cells\n",
       "var notebookContainer = gd.closest('#notebook-container');\n",
       "if (notebookContainer) {{\n",
       "    x.observe(notebookContainer, {childList: true});\n",
       "}}\n",
       "\n",
       "// Listen for the clearing of the current output cell\n",
       "var outputEl = gd.closest('.output');\n",
       "if (outputEl) {{\n",
       "    x.observe(outputEl, {childList: true});\n",
       "}}\n",
       "\n",
       "                        })                };                });            </script>        </div>"
      ]
     },
     "metadata": {},
     "output_type": "display_data"
    },
    {
     "data": {
      "application/vnd.plotly.v1+json": {
       "config": {
        "plotlyServerURL": "https://plot.ly"
       },
       "data": [
        {
         "name": "2.30대",
         "type": "bar",
         "x": [
          "01.남성",
          "02.여성"
         ],
         "xaxis": "x",
         "y": [
          1528604,
          1005489
         ],
         "yaxis": "y"
        },
        {
         "name": "3.40대",
         "type": "bar",
         "x": [
          "01.남성",
          "02.여성"
         ],
         "xaxis": "x",
         "y": [
          1135208,
          745449
         ],
         "yaxis": "y"
        },
        {
         "name": "4.50대",
         "type": "bar",
         "x": [
          "01.남성",
          "02.여성"
         ],
         "xaxis": "x",
         "y": [
          787546,
          515318
         ],
         "yaxis": "y"
        },
        {
         "name": "5.60대",
         "type": "bar",
         "x": [
          "01.남성",
          "02.여성"
         ],
         "xaxis": "x",
         "y": [
          544047,
          289065
         ],
         "yaxis": "y"
        },
        {
         "name": "2.30대",
         "type": "bar",
         "x": [
          "01.남성",
          "02.여성"
         ],
         "xaxis": "x2",
         "y": [
          241090,
          141876
         ],
         "yaxis": "y2"
        },
        {
         "name": "3.40대",
         "type": "bar",
         "x": [
          "01.남성",
          "02.여성"
         ],
         "xaxis": "x2",
         "y": [
          190857,
          102710
         ],
         "yaxis": "y2"
        },
        {
         "name": "4.50대",
         "type": "bar",
         "x": [
          "01.남성",
          "02.여성"
         ],
         "xaxis": "x2",
         "y": [
          153384,
          83832
         ],
         "yaxis": "y2"
        },
        {
         "name": "5.60대",
         "type": "bar",
         "x": [
          "01.남성",
          "02.여성"
         ],
         "xaxis": "x2",
         "y": [
          111124,
          52151
         ],
         "yaxis": "y2"
        }
       ],
       "layout": {
        "template": {
         "data": {
          "bar": [
           {
            "error_x": {
             "color": "#2a3f5f"
            },
            "error_y": {
             "color": "#2a3f5f"
            },
            "marker": {
             "line": {
              "color": "#E5ECF6",
              "width": 0.5
             },
             "pattern": {
              "fillmode": "overlay",
              "size": 10,
              "solidity": 0.2
             }
            },
            "type": "bar"
           }
          ],
          "barpolar": [
           {
            "marker": {
             "line": {
              "color": "#E5ECF6",
              "width": 0.5
             },
             "pattern": {
              "fillmode": "overlay",
              "size": 10,
              "solidity": 0.2
             }
            },
            "type": "barpolar"
           }
          ],
          "carpet": [
           {
            "aaxis": {
             "endlinecolor": "#2a3f5f",
             "gridcolor": "white",
             "linecolor": "white",
             "minorgridcolor": "white",
             "startlinecolor": "#2a3f5f"
            },
            "baxis": {
             "endlinecolor": "#2a3f5f",
             "gridcolor": "white",
             "linecolor": "white",
             "minorgridcolor": "white",
             "startlinecolor": "#2a3f5f"
            },
            "type": "carpet"
           }
          ],
          "choropleth": [
           {
            "colorbar": {
             "outlinewidth": 0,
             "ticks": ""
            },
            "type": "choropleth"
           }
          ],
          "contour": [
           {
            "colorbar": {
             "outlinewidth": 0,
             "ticks": ""
            },
            "colorscale": [
             [
              0,
              "#0d0887"
             ],
             [
              0.1111111111111111,
              "#46039f"
             ],
             [
              0.2222222222222222,
              "#7201a8"
             ],
             [
              0.3333333333333333,
              "#9c179e"
             ],
             [
              0.4444444444444444,
              "#bd3786"
             ],
             [
              0.5555555555555556,
              "#d8576b"
             ],
             [
              0.6666666666666666,
              "#ed7953"
             ],
             [
              0.7777777777777778,
              "#fb9f3a"
             ],
             [
              0.8888888888888888,
              "#fdca26"
             ],
             [
              1,
              "#f0f921"
             ]
            ],
            "type": "contour"
           }
          ],
          "contourcarpet": [
           {
            "colorbar": {
             "outlinewidth": 0,
             "ticks": ""
            },
            "type": "contourcarpet"
           }
          ],
          "heatmap": [
           {
            "colorbar": {
             "outlinewidth": 0,
             "ticks": ""
            },
            "colorscale": [
             [
              0,
              "#0d0887"
             ],
             [
              0.1111111111111111,
              "#46039f"
             ],
             [
              0.2222222222222222,
              "#7201a8"
             ],
             [
              0.3333333333333333,
              "#9c179e"
             ],
             [
              0.4444444444444444,
              "#bd3786"
             ],
             [
              0.5555555555555556,
              "#d8576b"
             ],
             [
              0.6666666666666666,
              "#ed7953"
             ],
             [
              0.7777777777777778,
              "#fb9f3a"
             ],
             [
              0.8888888888888888,
              "#fdca26"
             ],
             [
              1,
              "#f0f921"
             ]
            ],
            "type": "heatmap"
           }
          ],
          "heatmapgl": [
           {
            "colorbar": {
             "outlinewidth": 0,
             "ticks": ""
            },
            "colorscale": [
             [
              0,
              "#0d0887"
             ],
             [
              0.1111111111111111,
              "#46039f"
             ],
             [
              0.2222222222222222,
              "#7201a8"
             ],
             [
              0.3333333333333333,
              "#9c179e"
             ],
             [
              0.4444444444444444,
              "#bd3786"
             ],
             [
              0.5555555555555556,
              "#d8576b"
             ],
             [
              0.6666666666666666,
              "#ed7953"
             ],
             [
              0.7777777777777778,
              "#fb9f3a"
             ],
             [
              0.8888888888888888,
              "#fdca26"
             ],
             [
              1,
              "#f0f921"
             ]
            ],
            "type": "heatmapgl"
           }
          ],
          "histogram": [
           {
            "marker": {
             "pattern": {
              "fillmode": "overlay",
              "size": 10,
              "solidity": 0.2
             }
            },
            "type": "histogram"
           }
          ],
          "histogram2d": [
           {
            "colorbar": {
             "outlinewidth": 0,
             "ticks": ""
            },
            "colorscale": [
             [
              0,
              "#0d0887"
             ],
             [
              0.1111111111111111,
              "#46039f"
             ],
             [
              0.2222222222222222,
              "#7201a8"
             ],
             [
              0.3333333333333333,
              "#9c179e"
             ],
             [
              0.4444444444444444,
              "#bd3786"
             ],
             [
              0.5555555555555556,
              "#d8576b"
             ],
             [
              0.6666666666666666,
              "#ed7953"
             ],
             [
              0.7777777777777778,
              "#fb9f3a"
             ],
             [
              0.8888888888888888,
              "#fdca26"
             ],
             [
              1,
              "#f0f921"
             ]
            ],
            "type": "histogram2d"
           }
          ],
          "histogram2dcontour": [
           {
            "colorbar": {
             "outlinewidth": 0,
             "ticks": ""
            },
            "colorscale": [
             [
              0,
              "#0d0887"
             ],
             [
              0.1111111111111111,
              "#46039f"
             ],
             [
              0.2222222222222222,
              "#7201a8"
             ],
             [
              0.3333333333333333,
              "#9c179e"
             ],
             [
              0.4444444444444444,
              "#bd3786"
             ],
             [
              0.5555555555555556,
              "#d8576b"
             ],
             [
              0.6666666666666666,
              "#ed7953"
             ],
             [
              0.7777777777777778,
              "#fb9f3a"
             ],
             [
              0.8888888888888888,
              "#fdca26"
             ],
             [
              1,
              "#f0f921"
             ]
            ],
            "type": "histogram2dcontour"
           }
          ],
          "mesh3d": [
           {
            "colorbar": {
             "outlinewidth": 0,
             "ticks": ""
            },
            "type": "mesh3d"
           }
          ],
          "parcoords": [
           {
            "line": {
             "colorbar": {
              "outlinewidth": 0,
              "ticks": ""
             }
            },
            "type": "parcoords"
           }
          ],
          "pie": [
           {
            "automargin": true,
            "type": "pie"
           }
          ],
          "scatter": [
           {
            "marker": {
             "colorbar": {
              "outlinewidth": 0,
              "ticks": ""
             }
            },
            "type": "scatter"
           }
          ],
          "scatter3d": [
           {
            "line": {
             "colorbar": {
              "outlinewidth": 0,
              "ticks": ""
             }
            },
            "marker": {
             "colorbar": {
              "outlinewidth": 0,
              "ticks": ""
             }
            },
            "type": "scatter3d"
           }
          ],
          "scattercarpet": [
           {
            "marker": {
             "colorbar": {
              "outlinewidth": 0,
              "ticks": ""
             }
            },
            "type": "scattercarpet"
           }
          ],
          "scattergeo": [
           {
            "marker": {
             "colorbar": {
              "outlinewidth": 0,
              "ticks": ""
             }
            },
            "type": "scattergeo"
           }
          ],
          "scattergl": [
           {
            "marker": {
             "colorbar": {
              "outlinewidth": 0,
              "ticks": ""
             }
            },
            "type": "scattergl"
           }
          ],
          "scattermapbox": [
           {
            "marker": {
             "colorbar": {
              "outlinewidth": 0,
              "ticks": ""
             }
            },
            "type": "scattermapbox"
           }
          ],
          "scatterpolar": [
           {
            "marker": {
             "colorbar": {
              "outlinewidth": 0,
              "ticks": ""
             }
            },
            "type": "scatterpolar"
           }
          ],
          "scatterpolargl": [
           {
            "marker": {
             "colorbar": {
              "outlinewidth": 0,
              "ticks": ""
             }
            },
            "type": "scatterpolargl"
           }
          ],
          "scatterternary": [
           {
            "marker": {
             "colorbar": {
              "outlinewidth": 0,
              "ticks": ""
             }
            },
            "type": "scatterternary"
           }
          ],
          "surface": [
           {
            "colorbar": {
             "outlinewidth": 0,
             "ticks": ""
            },
            "colorscale": [
             [
              0,
              "#0d0887"
             ],
             [
              0.1111111111111111,
              "#46039f"
             ],
             [
              0.2222222222222222,
              "#7201a8"
             ],
             [
              0.3333333333333333,
              "#9c179e"
             ],
             [
              0.4444444444444444,
              "#bd3786"
             ],
             [
              0.5555555555555556,
              "#d8576b"
             ],
             [
              0.6666666666666666,
              "#ed7953"
             ],
             [
              0.7777777777777778,
              "#fb9f3a"
             ],
             [
              0.8888888888888888,
              "#fdca26"
             ],
             [
              1,
              "#f0f921"
             ]
            ],
            "type": "surface"
           }
          ],
          "table": [
           {
            "cells": {
             "fill": {
              "color": "#EBF0F8"
             },
             "line": {
              "color": "white"
             }
            },
            "header": {
             "fill": {
              "color": "#C8D4E3"
             },
             "line": {
              "color": "white"
             }
            },
            "type": "table"
           }
          ]
         },
         "layout": {
          "annotationdefaults": {
           "arrowcolor": "#2a3f5f",
           "arrowhead": 0,
           "arrowwidth": 1
          },
          "autotypenumbers": "strict",
          "coloraxis": {
           "colorbar": {
            "outlinewidth": 0,
            "ticks": ""
           }
          },
          "colorscale": {
           "diverging": [
            [
             0,
             "#8e0152"
            ],
            [
             0.1,
             "#c51b7d"
            ],
            [
             0.2,
             "#de77ae"
            ],
            [
             0.3,
             "#f1b6da"
            ],
            [
             0.4,
             "#fde0ef"
            ],
            [
             0.5,
             "#f7f7f7"
            ],
            [
             0.6,
             "#e6f5d0"
            ],
            [
             0.7,
             "#b8e186"
            ],
            [
             0.8,
             "#7fbc41"
            ],
            [
             0.9,
             "#4d9221"
            ],
            [
             1,
             "#276419"
            ]
           ],
           "sequential": [
            [
             0,
             "#0d0887"
            ],
            [
             0.1111111111111111,
             "#46039f"
            ],
            [
             0.2222222222222222,
             "#7201a8"
            ],
            [
             0.3333333333333333,
             "#9c179e"
            ],
            [
             0.4444444444444444,
             "#bd3786"
            ],
            [
             0.5555555555555556,
             "#d8576b"
            ],
            [
             0.6666666666666666,
             "#ed7953"
            ],
            [
             0.7777777777777778,
             "#fb9f3a"
            ],
            [
             0.8888888888888888,
             "#fdca26"
            ],
            [
             1,
             "#f0f921"
            ]
           ],
           "sequentialminus": [
            [
             0,
             "#0d0887"
            ],
            [
             0.1111111111111111,
             "#46039f"
            ],
            [
             0.2222222222222222,
             "#7201a8"
            ],
            [
             0.3333333333333333,
             "#9c179e"
            ],
            [
             0.4444444444444444,
             "#bd3786"
            ],
            [
             0.5555555555555556,
             "#d8576b"
            ],
            [
             0.6666666666666666,
             "#ed7953"
            ],
            [
             0.7777777777777778,
             "#fb9f3a"
            ],
            [
             0.8888888888888888,
             "#fdca26"
            ],
            [
             1,
             "#f0f921"
            ]
           ]
          },
          "colorway": [
           "#636efa",
           "#EF553B",
           "#00cc96",
           "#ab63fa",
           "#FFA15A",
           "#19d3f3",
           "#FF6692",
           "#B6E880",
           "#FF97FF",
           "#FECB52"
          ],
          "font": {
           "color": "#2a3f5f"
          },
          "geo": {
           "bgcolor": "white",
           "lakecolor": "white",
           "landcolor": "#E5ECF6",
           "showlakes": true,
           "showland": true,
           "subunitcolor": "white"
          },
          "hoverlabel": {
           "align": "left"
          },
          "hovermode": "closest",
          "mapbox": {
           "style": "light"
          },
          "paper_bgcolor": "white",
          "plot_bgcolor": "#E5ECF6",
          "polar": {
           "angularaxis": {
            "gridcolor": "white",
            "linecolor": "white",
            "ticks": ""
           },
           "bgcolor": "#E5ECF6",
           "radialaxis": {
            "gridcolor": "white",
            "linecolor": "white",
            "ticks": ""
           }
          },
          "scene": {
           "xaxis": {
            "backgroundcolor": "#E5ECF6",
            "gridcolor": "white",
            "gridwidth": 2,
            "linecolor": "white",
            "showbackground": true,
            "ticks": "",
            "zerolinecolor": "white"
           },
           "yaxis": {
            "backgroundcolor": "#E5ECF6",
            "gridcolor": "white",
            "gridwidth": 2,
            "linecolor": "white",
            "showbackground": true,
            "ticks": "",
            "zerolinecolor": "white"
           },
           "zaxis": {
            "backgroundcolor": "#E5ECF6",
            "gridcolor": "white",
            "gridwidth": 2,
            "linecolor": "white",
            "showbackground": true,
            "ticks": "",
            "zerolinecolor": "white"
           }
          },
          "shapedefaults": {
           "line": {
            "color": "#2a3f5f"
           }
          },
          "ternary": {
           "aaxis": {
            "gridcolor": "white",
            "linecolor": "white",
            "ticks": ""
           },
           "baxis": {
            "gridcolor": "white",
            "linecolor": "white",
            "ticks": ""
           },
           "bgcolor": "#E5ECF6",
           "caxis": {
            "gridcolor": "white",
            "linecolor": "white",
            "ticks": ""
           }
          },
          "title": {
           "x": 0.05
          },
          "xaxis": {
           "automargin": true,
           "gridcolor": "white",
           "linecolor": "white",
           "ticks": "",
           "title": {
            "standoff": 15
           },
           "zerolinecolor": "white",
           "zerolinewidth": 2
          },
          "yaxis": {
           "automargin": true,
           "gridcolor": "white",
           "linecolor": "white",
           "ticks": "",
           "title": {
            "standoff": 15
           },
           "zerolinecolor": "white",
           "zerolinewidth": 2
          }
         }
        },
        "title": {
         "text": "<b>3-1(코로나 전<->후) 가산 생활지역권  성별 연령별 구매력</b>"
        },
        "xaxis": {
         "anchor": "y",
         "domain": [
          0,
          0.45
         ]
        },
        "xaxis2": {
         "anchor": "y2",
         "domain": [
          0.55,
          1
         ]
        },
        "yaxis": {
         "anchor": "x",
         "domain": [
          0,
          1
         ]
        },
        "yaxis2": {
         "anchor": "x2",
         "domain": [
          0,
          1
         ]
        }
       }
      },
      "text/html": [
       "<div>                            <div id=\"7da13bc5-48a7-4dba-9659-5e71b5ae0e75\" class=\"plotly-graph-div\" style=\"height:525px; width:100%;\"></div>            <script type=\"text/javascript\">                require([\"plotly\"], function(Plotly) {                    window.PLOTLYENV=window.PLOTLYENV || {};                                    if (document.getElementById(\"7da13bc5-48a7-4dba-9659-5e71b5ae0e75\")) {                    Plotly.newPlot(                        \"7da13bc5-48a7-4dba-9659-5e71b5ae0e75\",                        [{\"name\":\"2.30\\ub300\",\"type\":\"bar\",\"x\":[\"01.\\ub0a8\\uc131\",\"02.\\uc5ec\\uc131\"],\"xaxis\":\"x\",\"y\":[1528604,1005489],\"yaxis\":\"y\"},{\"name\":\"3.40\\ub300\",\"type\":\"bar\",\"x\":[\"01.\\ub0a8\\uc131\",\"02.\\uc5ec\\uc131\"],\"xaxis\":\"x\",\"y\":[1135208,745449],\"yaxis\":\"y\"},{\"name\":\"4.50\\ub300\",\"type\":\"bar\",\"x\":[\"01.\\ub0a8\\uc131\",\"02.\\uc5ec\\uc131\"],\"xaxis\":\"x\",\"y\":[787546,515318],\"yaxis\":\"y\"},{\"name\":\"5.60\\ub300\",\"type\":\"bar\",\"x\":[\"01.\\ub0a8\\uc131\",\"02.\\uc5ec\\uc131\"],\"xaxis\":\"x\",\"y\":[544047,289065],\"yaxis\":\"y\"},{\"name\":\"2.30\\ub300\",\"type\":\"bar\",\"x\":[\"01.\\ub0a8\\uc131\",\"02.\\uc5ec\\uc131\"],\"xaxis\":\"x2\",\"y\":[241090,141876],\"yaxis\":\"y2\"},{\"name\":\"3.40\\ub300\",\"type\":\"bar\",\"x\":[\"01.\\ub0a8\\uc131\",\"02.\\uc5ec\\uc131\"],\"xaxis\":\"x2\",\"y\":[190857,102710],\"yaxis\":\"y2\"},{\"name\":\"4.50\\ub300\",\"type\":\"bar\",\"x\":[\"01.\\ub0a8\\uc131\",\"02.\\uc5ec\\uc131\"],\"xaxis\":\"x2\",\"y\":[153384,83832],\"yaxis\":\"y2\"},{\"name\":\"5.60\\ub300\",\"type\":\"bar\",\"x\":[\"01.\\ub0a8\\uc131\",\"02.\\uc5ec\\uc131\"],\"xaxis\":\"x2\",\"y\":[111124,52151],\"yaxis\":\"y2\"}],                        {\"template\":{\"data\":{\"bar\":[{\"error_x\":{\"color\":\"#2a3f5f\"},\"error_y\":{\"color\":\"#2a3f5f\"},\"marker\":{\"line\":{\"color\":\"#E5ECF6\",\"width\":0.5},\"pattern\":{\"fillmode\":\"overlay\",\"size\":10,\"solidity\":0.2}},\"type\":\"bar\"}],\"barpolar\":[{\"marker\":{\"line\":{\"color\":\"#E5ECF6\",\"width\":0.5},\"pattern\":{\"fillmode\":\"overlay\",\"size\":10,\"solidity\":0.2}},\"type\":\"barpolar\"}],\"carpet\":[{\"aaxis\":{\"endlinecolor\":\"#2a3f5f\",\"gridcolor\":\"white\",\"linecolor\":\"white\",\"minorgridcolor\":\"white\",\"startlinecolor\":\"#2a3f5f\"},\"baxis\":{\"endlinecolor\":\"#2a3f5f\",\"gridcolor\":\"white\",\"linecolor\":\"white\",\"minorgridcolor\":\"white\",\"startlinecolor\":\"#2a3f5f\"},\"type\":\"carpet\"}],\"choropleth\":[{\"colorbar\":{\"outlinewidth\":0,\"ticks\":\"\"},\"type\":\"choropleth\"}],\"contour\":[{\"colorbar\":{\"outlinewidth\":0,\"ticks\":\"\"},\"colorscale\":[[0.0,\"#0d0887\"],[0.1111111111111111,\"#46039f\"],[0.2222222222222222,\"#7201a8\"],[0.3333333333333333,\"#9c179e\"],[0.4444444444444444,\"#bd3786\"],[0.5555555555555556,\"#d8576b\"],[0.6666666666666666,\"#ed7953\"],[0.7777777777777778,\"#fb9f3a\"],[0.8888888888888888,\"#fdca26\"],[1.0,\"#f0f921\"]],\"type\":\"contour\"}],\"contourcarpet\":[{\"colorbar\":{\"outlinewidth\":0,\"ticks\":\"\"},\"type\":\"contourcarpet\"}],\"heatmap\":[{\"colorbar\":{\"outlinewidth\":0,\"ticks\":\"\"},\"colorscale\":[[0.0,\"#0d0887\"],[0.1111111111111111,\"#46039f\"],[0.2222222222222222,\"#7201a8\"],[0.3333333333333333,\"#9c179e\"],[0.4444444444444444,\"#bd3786\"],[0.5555555555555556,\"#d8576b\"],[0.6666666666666666,\"#ed7953\"],[0.7777777777777778,\"#fb9f3a\"],[0.8888888888888888,\"#fdca26\"],[1.0,\"#f0f921\"]],\"type\":\"heatmap\"}],\"heatmapgl\":[{\"colorbar\":{\"outlinewidth\":0,\"ticks\":\"\"},\"colorscale\":[[0.0,\"#0d0887\"],[0.1111111111111111,\"#46039f\"],[0.2222222222222222,\"#7201a8\"],[0.3333333333333333,\"#9c179e\"],[0.4444444444444444,\"#bd3786\"],[0.5555555555555556,\"#d8576b\"],[0.6666666666666666,\"#ed7953\"],[0.7777777777777778,\"#fb9f3a\"],[0.8888888888888888,\"#fdca26\"],[1.0,\"#f0f921\"]],\"type\":\"heatmapgl\"}],\"histogram\":[{\"marker\":{\"pattern\":{\"fillmode\":\"overlay\",\"size\":10,\"solidity\":0.2}},\"type\":\"histogram\"}],\"histogram2d\":[{\"colorbar\":{\"outlinewidth\":0,\"ticks\":\"\"},\"colorscale\":[[0.0,\"#0d0887\"],[0.1111111111111111,\"#46039f\"],[0.2222222222222222,\"#7201a8\"],[0.3333333333333333,\"#9c179e\"],[0.4444444444444444,\"#bd3786\"],[0.5555555555555556,\"#d8576b\"],[0.6666666666666666,\"#ed7953\"],[0.7777777777777778,\"#fb9f3a\"],[0.8888888888888888,\"#fdca26\"],[1.0,\"#f0f921\"]],\"type\":\"histogram2d\"}],\"histogram2dcontour\":[{\"colorbar\":{\"outlinewidth\":0,\"ticks\":\"\"},\"colorscale\":[[0.0,\"#0d0887\"],[0.1111111111111111,\"#46039f\"],[0.2222222222222222,\"#7201a8\"],[0.3333333333333333,\"#9c179e\"],[0.4444444444444444,\"#bd3786\"],[0.5555555555555556,\"#d8576b\"],[0.6666666666666666,\"#ed7953\"],[0.7777777777777778,\"#fb9f3a\"],[0.8888888888888888,\"#fdca26\"],[1.0,\"#f0f921\"]],\"type\":\"histogram2dcontour\"}],\"mesh3d\":[{\"colorbar\":{\"outlinewidth\":0,\"ticks\":\"\"},\"type\":\"mesh3d\"}],\"parcoords\":[{\"line\":{\"colorbar\":{\"outlinewidth\":0,\"ticks\":\"\"}},\"type\":\"parcoords\"}],\"pie\":[{\"automargin\":true,\"type\":\"pie\"}],\"scatter\":[{\"marker\":{\"colorbar\":{\"outlinewidth\":0,\"ticks\":\"\"}},\"type\":\"scatter\"}],\"scatter3d\":[{\"line\":{\"colorbar\":{\"outlinewidth\":0,\"ticks\":\"\"}},\"marker\":{\"colorbar\":{\"outlinewidth\":0,\"ticks\":\"\"}},\"type\":\"scatter3d\"}],\"scattercarpet\":[{\"marker\":{\"colorbar\":{\"outlinewidth\":0,\"ticks\":\"\"}},\"type\":\"scattercarpet\"}],\"scattergeo\":[{\"marker\":{\"colorbar\":{\"outlinewidth\":0,\"ticks\":\"\"}},\"type\":\"scattergeo\"}],\"scattergl\":[{\"marker\":{\"colorbar\":{\"outlinewidth\":0,\"ticks\":\"\"}},\"type\":\"scattergl\"}],\"scattermapbox\":[{\"marker\":{\"colorbar\":{\"outlinewidth\":0,\"ticks\":\"\"}},\"type\":\"scattermapbox\"}],\"scatterpolar\":[{\"marker\":{\"colorbar\":{\"outlinewidth\":0,\"ticks\":\"\"}},\"type\":\"scatterpolar\"}],\"scatterpolargl\":[{\"marker\":{\"colorbar\":{\"outlinewidth\":0,\"ticks\":\"\"}},\"type\":\"scatterpolargl\"}],\"scatterternary\":[{\"marker\":{\"colorbar\":{\"outlinewidth\":0,\"ticks\":\"\"}},\"type\":\"scatterternary\"}],\"surface\":[{\"colorbar\":{\"outlinewidth\":0,\"ticks\":\"\"},\"colorscale\":[[0.0,\"#0d0887\"],[0.1111111111111111,\"#46039f\"],[0.2222222222222222,\"#7201a8\"],[0.3333333333333333,\"#9c179e\"],[0.4444444444444444,\"#bd3786\"],[0.5555555555555556,\"#d8576b\"],[0.6666666666666666,\"#ed7953\"],[0.7777777777777778,\"#fb9f3a\"],[0.8888888888888888,\"#fdca26\"],[1.0,\"#f0f921\"]],\"type\":\"surface\"}],\"table\":[{\"cells\":{\"fill\":{\"color\":\"#EBF0F8\"},\"line\":{\"color\":\"white\"}},\"header\":{\"fill\":{\"color\":\"#C8D4E3\"},\"line\":{\"color\":\"white\"}},\"type\":\"table\"}]},\"layout\":{\"annotationdefaults\":{\"arrowcolor\":\"#2a3f5f\",\"arrowhead\":0,\"arrowwidth\":1},\"autotypenumbers\":\"strict\",\"coloraxis\":{\"colorbar\":{\"outlinewidth\":0,\"ticks\":\"\"}},\"colorscale\":{\"diverging\":[[0,\"#8e0152\"],[0.1,\"#c51b7d\"],[0.2,\"#de77ae\"],[0.3,\"#f1b6da\"],[0.4,\"#fde0ef\"],[0.5,\"#f7f7f7\"],[0.6,\"#e6f5d0\"],[0.7,\"#b8e186\"],[0.8,\"#7fbc41\"],[0.9,\"#4d9221\"],[1,\"#276419\"]],\"sequential\":[[0.0,\"#0d0887\"],[0.1111111111111111,\"#46039f\"],[0.2222222222222222,\"#7201a8\"],[0.3333333333333333,\"#9c179e\"],[0.4444444444444444,\"#bd3786\"],[0.5555555555555556,\"#d8576b\"],[0.6666666666666666,\"#ed7953\"],[0.7777777777777778,\"#fb9f3a\"],[0.8888888888888888,\"#fdca26\"],[1.0,\"#f0f921\"]],\"sequentialminus\":[[0.0,\"#0d0887\"],[0.1111111111111111,\"#46039f\"],[0.2222222222222222,\"#7201a8\"],[0.3333333333333333,\"#9c179e\"],[0.4444444444444444,\"#bd3786\"],[0.5555555555555556,\"#d8576b\"],[0.6666666666666666,\"#ed7953\"],[0.7777777777777778,\"#fb9f3a\"],[0.8888888888888888,\"#fdca26\"],[1.0,\"#f0f921\"]]},\"colorway\":[\"#636efa\",\"#EF553B\",\"#00cc96\",\"#ab63fa\",\"#FFA15A\",\"#19d3f3\",\"#FF6692\",\"#B6E880\",\"#FF97FF\",\"#FECB52\"],\"font\":{\"color\":\"#2a3f5f\"},\"geo\":{\"bgcolor\":\"white\",\"lakecolor\":\"white\",\"landcolor\":\"#E5ECF6\",\"showlakes\":true,\"showland\":true,\"subunitcolor\":\"white\"},\"hoverlabel\":{\"align\":\"left\"},\"hovermode\":\"closest\",\"mapbox\":{\"style\":\"light\"},\"paper_bgcolor\":\"white\",\"plot_bgcolor\":\"#E5ECF6\",\"polar\":{\"angularaxis\":{\"gridcolor\":\"white\",\"linecolor\":\"white\",\"ticks\":\"\"},\"bgcolor\":\"#E5ECF6\",\"radialaxis\":{\"gridcolor\":\"white\",\"linecolor\":\"white\",\"ticks\":\"\"}},\"scene\":{\"xaxis\":{\"backgroundcolor\":\"#E5ECF6\",\"gridcolor\":\"white\",\"gridwidth\":2,\"linecolor\":\"white\",\"showbackground\":true,\"ticks\":\"\",\"zerolinecolor\":\"white\"},\"yaxis\":{\"backgroundcolor\":\"#E5ECF6\",\"gridcolor\":\"white\",\"gridwidth\":2,\"linecolor\":\"white\",\"showbackground\":true,\"ticks\":\"\",\"zerolinecolor\":\"white\"},\"zaxis\":{\"backgroundcolor\":\"#E5ECF6\",\"gridcolor\":\"white\",\"gridwidth\":2,\"linecolor\":\"white\",\"showbackground\":true,\"ticks\":\"\",\"zerolinecolor\":\"white\"}},\"shapedefaults\":{\"line\":{\"color\":\"#2a3f5f\"}},\"ternary\":{\"aaxis\":{\"gridcolor\":\"white\",\"linecolor\":\"white\",\"ticks\":\"\"},\"baxis\":{\"gridcolor\":\"white\",\"linecolor\":\"white\",\"ticks\":\"\"},\"bgcolor\":\"#E5ECF6\",\"caxis\":{\"gridcolor\":\"white\",\"linecolor\":\"white\",\"ticks\":\"\"}},\"title\":{\"x\":0.05},\"xaxis\":{\"automargin\":true,\"gridcolor\":\"white\",\"linecolor\":\"white\",\"ticks\":\"\",\"title\":{\"standoff\":15},\"zerolinecolor\":\"white\",\"zerolinewidth\":2},\"yaxis\":{\"automargin\":true,\"gridcolor\":\"white\",\"linecolor\":\"white\",\"ticks\":\"\",\"title\":{\"standoff\":15},\"zerolinecolor\":\"white\",\"zerolinewidth\":2}}},\"title\":{\"text\":\"<b>3-1(\\ucf54\\ub85c\\ub098 \\uc804<->\\ud6c4) \\uac00\\uc0b0 \\uc0dd\\ud65c\\uc9c0\\uc5ed\\uad8c  \\uc131\\ubcc4 \\uc5f0\\ub839\\ubcc4 \\uad6c\\ub9e4\\ub825</b>\"},\"xaxis\":{\"anchor\":\"y\",\"domain\":[0.0,0.45]},\"xaxis2\":{\"anchor\":\"y2\",\"domain\":[0.55,1.0]},\"yaxis\":{\"anchor\":\"x\",\"domain\":[0.0,1.0]},\"yaxis2\":{\"anchor\":\"x2\",\"domain\":[0.0,1.0]}},                        {\"responsive\": true}                    ).then(function(){\n",
       "                            \n",
       "var gd = document.getElementById('7da13bc5-48a7-4dba-9659-5e71b5ae0e75');\n",
       "var x = new MutationObserver(function (mutations, observer) {{\n",
       "        var display = window.getComputedStyle(gd).display;\n",
       "        if (!display || display === 'none') {{\n",
       "            console.log([gd, 'removed!']);\n",
       "            Plotly.purge(gd);\n",
       "            observer.disconnect();\n",
       "        }}\n",
       "}});\n",
       "\n",
       "// Listen for the removal of the full notebook cells\n",
       "var notebookContainer = gd.closest('#notebook-container');\n",
       "if (notebookContainer) {{\n",
       "    x.observe(notebookContainer, {childList: true});\n",
       "}}\n",
       "\n",
       "// Listen for the clearing of the current output cell\n",
       "var outputEl = gd.closest('.output');\n",
       "if (outputEl) {{\n",
       "    x.observe(outputEl, {childList: true});\n",
       "}}\n",
       "\n",
       "                        })                };                });            </script>        </div>"
      ]
     },
     "metadata": {},
     "output_type": "display_data"
    },
    {
     "name": "stderr",
     "output_type": "stream",
     "text": [
      "<ipython-input-28-c03011245c89>:190: SettingWithCopyWarning:\n",
      "\n",
      "\n",
      "A value is trying to be set on a copy of a slice from a DataFrame.\n",
      "Try using .loc[row_indexer,col_indexer] = value instead\n",
      "\n",
      "See the caveats in the documentation: https://pandas.pydata.org/pandas-docs/stable/user_guide/indexing.html#returning-a-view-versus-a-copy\n",
      "\n"
     ]
    },
    {
     "data": {
      "application/vnd.plotly.v1+json": {
       "config": {
        "plotlyServerURL": "https://plot.ly"
       },
       "data": [
        {
         "mode": "lines+markers",
         "name": "한식",
         "type": "scatter",
         "x": [
          "코로나 전",
          "코로나 후"
         ],
         "y": [
          513999.3,
          330194.4666666667
         ]
        },
        {
         "mode": "lines+markers",
         "name": "일식/수산물",
         "type": "scatter",
         "x": [
          "코로나 전",
          "코로나 후"
         ],
         "y": [
          127126.1,
          80348
         ]
        },
        {
         "mode": "lines+markers",
         "name": "닭/오리고기",
         "type": "scatter",
         "x": [
          "코로나 전",
          "코로나 후"
         ],
         "y": [
          18516.4,
          9393.866666666667
         ]
        },
        {
         "mode": "lines+markers",
         "name": "양식",
         "type": "scatter",
         "x": [
          "코로나 전",
          "코로나 후"
         ],
         "y": [
          87138.5,
          53722.13333333333
         ]
        },
        {
         "mode": "lines+markers",
         "name": "분식",
         "type": "scatter",
         "x": [
          "코로나 전",
          "코로나 후"
         ],
         "y": [
          58677.3,
          37669.6
         ]
        }
       ],
       "layout": {
        "template": {
         "data": {
          "bar": [
           {
            "error_x": {
             "color": "#2a3f5f"
            },
            "error_y": {
             "color": "#2a3f5f"
            },
            "marker": {
             "line": {
              "color": "#E5ECF6",
              "width": 0.5
             },
             "pattern": {
              "fillmode": "overlay",
              "size": 10,
              "solidity": 0.2
             }
            },
            "type": "bar"
           }
          ],
          "barpolar": [
           {
            "marker": {
             "line": {
              "color": "#E5ECF6",
              "width": 0.5
             },
             "pattern": {
              "fillmode": "overlay",
              "size": 10,
              "solidity": 0.2
             }
            },
            "type": "barpolar"
           }
          ],
          "carpet": [
           {
            "aaxis": {
             "endlinecolor": "#2a3f5f",
             "gridcolor": "white",
             "linecolor": "white",
             "minorgridcolor": "white",
             "startlinecolor": "#2a3f5f"
            },
            "baxis": {
             "endlinecolor": "#2a3f5f",
             "gridcolor": "white",
             "linecolor": "white",
             "minorgridcolor": "white",
             "startlinecolor": "#2a3f5f"
            },
            "type": "carpet"
           }
          ],
          "choropleth": [
           {
            "colorbar": {
             "outlinewidth": 0,
             "ticks": ""
            },
            "type": "choropleth"
           }
          ],
          "contour": [
           {
            "colorbar": {
             "outlinewidth": 0,
             "ticks": ""
            },
            "colorscale": [
             [
              0,
              "#0d0887"
             ],
             [
              0.1111111111111111,
              "#46039f"
             ],
             [
              0.2222222222222222,
              "#7201a8"
             ],
             [
              0.3333333333333333,
              "#9c179e"
             ],
             [
              0.4444444444444444,
              "#bd3786"
             ],
             [
              0.5555555555555556,
              "#d8576b"
             ],
             [
              0.6666666666666666,
              "#ed7953"
             ],
             [
              0.7777777777777778,
              "#fb9f3a"
             ],
             [
              0.8888888888888888,
              "#fdca26"
             ],
             [
              1,
              "#f0f921"
             ]
            ],
            "type": "contour"
           }
          ],
          "contourcarpet": [
           {
            "colorbar": {
             "outlinewidth": 0,
             "ticks": ""
            },
            "type": "contourcarpet"
           }
          ],
          "heatmap": [
           {
            "colorbar": {
             "outlinewidth": 0,
             "ticks": ""
            },
            "colorscale": [
             [
              0,
              "#0d0887"
             ],
             [
              0.1111111111111111,
              "#46039f"
             ],
             [
              0.2222222222222222,
              "#7201a8"
             ],
             [
              0.3333333333333333,
              "#9c179e"
             ],
             [
              0.4444444444444444,
              "#bd3786"
             ],
             [
              0.5555555555555556,
              "#d8576b"
             ],
             [
              0.6666666666666666,
              "#ed7953"
             ],
             [
              0.7777777777777778,
              "#fb9f3a"
             ],
             [
              0.8888888888888888,
              "#fdca26"
             ],
             [
              1,
              "#f0f921"
             ]
            ],
            "type": "heatmap"
           }
          ],
          "heatmapgl": [
           {
            "colorbar": {
             "outlinewidth": 0,
             "ticks": ""
            },
            "colorscale": [
             [
              0,
              "#0d0887"
             ],
             [
              0.1111111111111111,
              "#46039f"
             ],
             [
              0.2222222222222222,
              "#7201a8"
             ],
             [
              0.3333333333333333,
              "#9c179e"
             ],
             [
              0.4444444444444444,
              "#bd3786"
             ],
             [
              0.5555555555555556,
              "#d8576b"
             ],
             [
              0.6666666666666666,
              "#ed7953"
             ],
             [
              0.7777777777777778,
              "#fb9f3a"
             ],
             [
              0.8888888888888888,
              "#fdca26"
             ],
             [
              1,
              "#f0f921"
             ]
            ],
            "type": "heatmapgl"
           }
          ],
          "histogram": [
           {
            "marker": {
             "pattern": {
              "fillmode": "overlay",
              "size": 10,
              "solidity": 0.2
             }
            },
            "type": "histogram"
           }
          ],
          "histogram2d": [
           {
            "colorbar": {
             "outlinewidth": 0,
             "ticks": ""
            },
            "colorscale": [
             [
              0,
              "#0d0887"
             ],
             [
              0.1111111111111111,
              "#46039f"
             ],
             [
              0.2222222222222222,
              "#7201a8"
             ],
             [
              0.3333333333333333,
              "#9c179e"
             ],
             [
              0.4444444444444444,
              "#bd3786"
             ],
             [
              0.5555555555555556,
              "#d8576b"
             ],
             [
              0.6666666666666666,
              "#ed7953"
             ],
             [
              0.7777777777777778,
              "#fb9f3a"
             ],
             [
              0.8888888888888888,
              "#fdca26"
             ],
             [
              1,
              "#f0f921"
             ]
            ],
            "type": "histogram2d"
           }
          ],
          "histogram2dcontour": [
           {
            "colorbar": {
             "outlinewidth": 0,
             "ticks": ""
            },
            "colorscale": [
             [
              0,
              "#0d0887"
             ],
             [
              0.1111111111111111,
              "#46039f"
             ],
             [
              0.2222222222222222,
              "#7201a8"
             ],
             [
              0.3333333333333333,
              "#9c179e"
             ],
             [
              0.4444444444444444,
              "#bd3786"
             ],
             [
              0.5555555555555556,
              "#d8576b"
             ],
             [
              0.6666666666666666,
              "#ed7953"
             ],
             [
              0.7777777777777778,
              "#fb9f3a"
             ],
             [
              0.8888888888888888,
              "#fdca26"
             ],
             [
              1,
              "#f0f921"
             ]
            ],
            "type": "histogram2dcontour"
           }
          ],
          "mesh3d": [
           {
            "colorbar": {
             "outlinewidth": 0,
             "ticks": ""
            },
            "type": "mesh3d"
           }
          ],
          "parcoords": [
           {
            "line": {
             "colorbar": {
              "outlinewidth": 0,
              "ticks": ""
             }
            },
            "type": "parcoords"
           }
          ],
          "pie": [
           {
            "automargin": true,
            "type": "pie"
           }
          ],
          "scatter": [
           {
            "marker": {
             "colorbar": {
              "outlinewidth": 0,
              "ticks": ""
             }
            },
            "type": "scatter"
           }
          ],
          "scatter3d": [
           {
            "line": {
             "colorbar": {
              "outlinewidth": 0,
              "ticks": ""
             }
            },
            "marker": {
             "colorbar": {
              "outlinewidth": 0,
              "ticks": ""
             }
            },
            "type": "scatter3d"
           }
          ],
          "scattercarpet": [
           {
            "marker": {
             "colorbar": {
              "outlinewidth": 0,
              "ticks": ""
             }
            },
            "type": "scattercarpet"
           }
          ],
          "scattergeo": [
           {
            "marker": {
             "colorbar": {
              "outlinewidth": 0,
              "ticks": ""
             }
            },
            "type": "scattergeo"
           }
          ],
          "scattergl": [
           {
            "marker": {
             "colorbar": {
              "outlinewidth": 0,
              "ticks": ""
             }
            },
            "type": "scattergl"
           }
          ],
          "scattermapbox": [
           {
            "marker": {
             "colorbar": {
              "outlinewidth": 0,
              "ticks": ""
             }
            },
            "type": "scattermapbox"
           }
          ],
          "scatterpolar": [
           {
            "marker": {
             "colorbar": {
              "outlinewidth": 0,
              "ticks": ""
             }
            },
            "type": "scatterpolar"
           }
          ],
          "scatterpolargl": [
           {
            "marker": {
             "colorbar": {
              "outlinewidth": 0,
              "ticks": ""
             }
            },
            "type": "scatterpolargl"
           }
          ],
          "scatterternary": [
           {
            "marker": {
             "colorbar": {
              "outlinewidth": 0,
              "ticks": ""
             }
            },
            "type": "scatterternary"
           }
          ],
          "surface": [
           {
            "colorbar": {
             "outlinewidth": 0,
             "ticks": ""
            },
            "colorscale": [
             [
              0,
              "#0d0887"
             ],
             [
              0.1111111111111111,
              "#46039f"
             ],
             [
              0.2222222222222222,
              "#7201a8"
             ],
             [
              0.3333333333333333,
              "#9c179e"
             ],
             [
              0.4444444444444444,
              "#bd3786"
             ],
             [
              0.5555555555555556,
              "#d8576b"
             ],
             [
              0.6666666666666666,
              "#ed7953"
             ],
             [
              0.7777777777777778,
              "#fb9f3a"
             ],
             [
              0.8888888888888888,
              "#fdca26"
             ],
             [
              1,
              "#f0f921"
             ]
            ],
            "type": "surface"
           }
          ],
          "table": [
           {
            "cells": {
             "fill": {
              "color": "#EBF0F8"
             },
             "line": {
              "color": "white"
             }
            },
            "header": {
             "fill": {
              "color": "#C8D4E3"
             },
             "line": {
              "color": "white"
             }
            },
            "type": "table"
           }
          ]
         },
         "layout": {
          "annotationdefaults": {
           "arrowcolor": "#2a3f5f",
           "arrowhead": 0,
           "arrowwidth": 1
          },
          "autotypenumbers": "strict",
          "coloraxis": {
           "colorbar": {
            "outlinewidth": 0,
            "ticks": ""
           }
          },
          "colorscale": {
           "diverging": [
            [
             0,
             "#8e0152"
            ],
            [
             0.1,
             "#c51b7d"
            ],
            [
             0.2,
             "#de77ae"
            ],
            [
             0.3,
             "#f1b6da"
            ],
            [
             0.4,
             "#fde0ef"
            ],
            [
             0.5,
             "#f7f7f7"
            ],
            [
             0.6,
             "#e6f5d0"
            ],
            [
             0.7,
             "#b8e186"
            ],
            [
             0.8,
             "#7fbc41"
            ],
            [
             0.9,
             "#4d9221"
            ],
            [
             1,
             "#276419"
            ]
           ],
           "sequential": [
            [
             0,
             "#0d0887"
            ],
            [
             0.1111111111111111,
             "#46039f"
            ],
            [
             0.2222222222222222,
             "#7201a8"
            ],
            [
             0.3333333333333333,
             "#9c179e"
            ],
            [
             0.4444444444444444,
             "#bd3786"
            ],
            [
             0.5555555555555556,
             "#d8576b"
            ],
            [
             0.6666666666666666,
             "#ed7953"
            ],
            [
             0.7777777777777778,
             "#fb9f3a"
            ],
            [
             0.8888888888888888,
             "#fdca26"
            ],
            [
             1,
             "#f0f921"
            ]
           ],
           "sequentialminus": [
            [
             0,
             "#0d0887"
            ],
            [
             0.1111111111111111,
             "#46039f"
            ],
            [
             0.2222222222222222,
             "#7201a8"
            ],
            [
             0.3333333333333333,
             "#9c179e"
            ],
            [
             0.4444444444444444,
             "#bd3786"
            ],
            [
             0.5555555555555556,
             "#d8576b"
            ],
            [
             0.6666666666666666,
             "#ed7953"
            ],
            [
             0.7777777777777778,
             "#fb9f3a"
            ],
            [
             0.8888888888888888,
             "#fdca26"
            ],
            [
             1,
             "#f0f921"
            ]
           ]
          },
          "colorway": [
           "#636efa",
           "#EF553B",
           "#00cc96",
           "#ab63fa",
           "#FFA15A",
           "#19d3f3",
           "#FF6692",
           "#B6E880",
           "#FF97FF",
           "#FECB52"
          ],
          "font": {
           "color": "#2a3f5f"
          },
          "geo": {
           "bgcolor": "white",
           "lakecolor": "white",
           "landcolor": "#E5ECF6",
           "showlakes": true,
           "showland": true,
           "subunitcolor": "white"
          },
          "hoverlabel": {
           "align": "left"
          },
          "hovermode": "closest",
          "mapbox": {
           "style": "light"
          },
          "paper_bgcolor": "white",
          "plot_bgcolor": "#E5ECF6",
          "polar": {
           "angularaxis": {
            "gridcolor": "white",
            "linecolor": "white",
            "ticks": ""
           },
           "bgcolor": "#E5ECF6",
           "radialaxis": {
            "gridcolor": "white",
            "linecolor": "white",
            "ticks": ""
           }
          },
          "scene": {
           "xaxis": {
            "backgroundcolor": "#E5ECF6",
            "gridcolor": "white",
            "gridwidth": 2,
            "linecolor": "white",
            "showbackground": true,
            "ticks": "",
            "zerolinecolor": "white"
           },
           "yaxis": {
            "backgroundcolor": "#E5ECF6",
            "gridcolor": "white",
            "gridwidth": 2,
            "linecolor": "white",
            "showbackground": true,
            "ticks": "",
            "zerolinecolor": "white"
           },
           "zaxis": {
            "backgroundcolor": "#E5ECF6",
            "gridcolor": "white",
            "gridwidth": 2,
            "linecolor": "white",
            "showbackground": true,
            "ticks": "",
            "zerolinecolor": "white"
           }
          },
          "shapedefaults": {
           "line": {
            "color": "#2a3f5f"
           }
          },
          "ternary": {
           "aaxis": {
            "gridcolor": "white",
            "linecolor": "white",
            "ticks": ""
           },
           "baxis": {
            "gridcolor": "white",
            "linecolor": "white",
            "ticks": ""
           },
           "bgcolor": "#E5ECF6",
           "caxis": {
            "gridcolor": "white",
            "linecolor": "white",
            "ticks": ""
           }
          },
          "title": {
           "x": 0.05
          },
          "xaxis": {
           "automargin": true,
           "gridcolor": "white",
           "linecolor": "white",
           "ticks": "",
           "title": {
            "standoff": 15
           },
           "zerolinecolor": "white",
           "zerolinewidth": 2
          },
          "yaxis": {
           "automargin": true,
           "gridcolor": "white",
           "linecolor": "white",
           "ticks": "",
           "title": {
            "standoff": 15
           },
           "zerolinecolor": "white",
           "zerolinewidth": 2
          }
         }
        },
        "title": {
         "text": "<b>3-2 (코로나 전<->후) 전체 업종별 선호도(매출건수)</b>"
        }
       }
      },
      "text/html": [
       "<div>                            <div id=\"8d51366d-dc03-4c74-8843-5dc33d3e40d8\" class=\"plotly-graph-div\" style=\"height:525px; width:100%;\"></div>            <script type=\"text/javascript\">                require([\"plotly\"], function(Plotly) {                    window.PLOTLYENV=window.PLOTLYENV || {};                                    if (document.getElementById(\"8d51366d-dc03-4c74-8843-5dc33d3e40d8\")) {                    Plotly.newPlot(                        \"8d51366d-dc03-4c74-8843-5dc33d3e40d8\",                        [{\"mode\":\"lines+markers\",\"name\":\"\\ud55c\\uc2dd\",\"type\":\"scatter\",\"x\":[\"\\ucf54\\ub85c\\ub098 \\uc804\",\"\\ucf54\\ub85c\\ub098 \\ud6c4\"],\"y\":[513999.3,330194.4666666667]},{\"mode\":\"lines+markers\",\"name\":\"\\uc77c\\uc2dd/\\uc218\\uc0b0\\ubb3c\",\"type\":\"scatter\",\"x\":[\"\\ucf54\\ub85c\\ub098 \\uc804\",\"\\ucf54\\ub85c\\ub098 \\ud6c4\"],\"y\":[127126.1,80348.0]},{\"mode\":\"lines+markers\",\"name\":\"\\ub2ed/\\uc624\\ub9ac\\uace0\\uae30\",\"type\":\"scatter\",\"x\":[\"\\ucf54\\ub85c\\ub098 \\uc804\",\"\\ucf54\\ub85c\\ub098 \\ud6c4\"],\"y\":[18516.4,9393.866666666667]},{\"mode\":\"lines+markers\",\"name\":\"\\uc591\\uc2dd\",\"type\":\"scatter\",\"x\":[\"\\ucf54\\ub85c\\ub098 \\uc804\",\"\\ucf54\\ub85c\\ub098 \\ud6c4\"],\"y\":[87138.5,53722.13333333333]},{\"mode\":\"lines+markers\",\"name\":\"\\ubd84\\uc2dd\",\"type\":\"scatter\",\"x\":[\"\\ucf54\\ub85c\\ub098 \\uc804\",\"\\ucf54\\ub85c\\ub098 \\ud6c4\"],\"y\":[58677.3,37669.6]}],                        {\"template\":{\"data\":{\"bar\":[{\"error_x\":{\"color\":\"#2a3f5f\"},\"error_y\":{\"color\":\"#2a3f5f\"},\"marker\":{\"line\":{\"color\":\"#E5ECF6\",\"width\":0.5},\"pattern\":{\"fillmode\":\"overlay\",\"size\":10,\"solidity\":0.2}},\"type\":\"bar\"}],\"barpolar\":[{\"marker\":{\"line\":{\"color\":\"#E5ECF6\",\"width\":0.5},\"pattern\":{\"fillmode\":\"overlay\",\"size\":10,\"solidity\":0.2}},\"type\":\"barpolar\"}],\"carpet\":[{\"aaxis\":{\"endlinecolor\":\"#2a3f5f\",\"gridcolor\":\"white\",\"linecolor\":\"white\",\"minorgridcolor\":\"white\",\"startlinecolor\":\"#2a3f5f\"},\"baxis\":{\"endlinecolor\":\"#2a3f5f\",\"gridcolor\":\"white\",\"linecolor\":\"white\",\"minorgridcolor\":\"white\",\"startlinecolor\":\"#2a3f5f\"},\"type\":\"carpet\"}],\"choropleth\":[{\"colorbar\":{\"outlinewidth\":0,\"ticks\":\"\"},\"type\":\"choropleth\"}],\"contour\":[{\"colorbar\":{\"outlinewidth\":0,\"ticks\":\"\"},\"colorscale\":[[0.0,\"#0d0887\"],[0.1111111111111111,\"#46039f\"],[0.2222222222222222,\"#7201a8\"],[0.3333333333333333,\"#9c179e\"],[0.4444444444444444,\"#bd3786\"],[0.5555555555555556,\"#d8576b\"],[0.6666666666666666,\"#ed7953\"],[0.7777777777777778,\"#fb9f3a\"],[0.8888888888888888,\"#fdca26\"],[1.0,\"#f0f921\"]],\"type\":\"contour\"}],\"contourcarpet\":[{\"colorbar\":{\"outlinewidth\":0,\"ticks\":\"\"},\"type\":\"contourcarpet\"}],\"heatmap\":[{\"colorbar\":{\"outlinewidth\":0,\"ticks\":\"\"},\"colorscale\":[[0.0,\"#0d0887\"],[0.1111111111111111,\"#46039f\"],[0.2222222222222222,\"#7201a8\"],[0.3333333333333333,\"#9c179e\"],[0.4444444444444444,\"#bd3786\"],[0.5555555555555556,\"#d8576b\"],[0.6666666666666666,\"#ed7953\"],[0.7777777777777778,\"#fb9f3a\"],[0.8888888888888888,\"#fdca26\"],[1.0,\"#f0f921\"]],\"type\":\"heatmap\"}],\"heatmapgl\":[{\"colorbar\":{\"outlinewidth\":0,\"ticks\":\"\"},\"colorscale\":[[0.0,\"#0d0887\"],[0.1111111111111111,\"#46039f\"],[0.2222222222222222,\"#7201a8\"],[0.3333333333333333,\"#9c179e\"],[0.4444444444444444,\"#bd3786\"],[0.5555555555555556,\"#d8576b\"],[0.6666666666666666,\"#ed7953\"],[0.7777777777777778,\"#fb9f3a\"],[0.8888888888888888,\"#fdca26\"],[1.0,\"#f0f921\"]],\"type\":\"heatmapgl\"}],\"histogram\":[{\"marker\":{\"pattern\":{\"fillmode\":\"overlay\",\"size\":10,\"solidity\":0.2}},\"type\":\"histogram\"}],\"histogram2d\":[{\"colorbar\":{\"outlinewidth\":0,\"ticks\":\"\"},\"colorscale\":[[0.0,\"#0d0887\"],[0.1111111111111111,\"#46039f\"],[0.2222222222222222,\"#7201a8\"],[0.3333333333333333,\"#9c179e\"],[0.4444444444444444,\"#bd3786\"],[0.5555555555555556,\"#d8576b\"],[0.6666666666666666,\"#ed7953\"],[0.7777777777777778,\"#fb9f3a\"],[0.8888888888888888,\"#fdca26\"],[1.0,\"#f0f921\"]],\"type\":\"histogram2d\"}],\"histogram2dcontour\":[{\"colorbar\":{\"outlinewidth\":0,\"ticks\":\"\"},\"colorscale\":[[0.0,\"#0d0887\"],[0.1111111111111111,\"#46039f\"],[0.2222222222222222,\"#7201a8\"],[0.3333333333333333,\"#9c179e\"],[0.4444444444444444,\"#bd3786\"],[0.5555555555555556,\"#d8576b\"],[0.6666666666666666,\"#ed7953\"],[0.7777777777777778,\"#fb9f3a\"],[0.8888888888888888,\"#fdca26\"],[1.0,\"#f0f921\"]],\"type\":\"histogram2dcontour\"}],\"mesh3d\":[{\"colorbar\":{\"outlinewidth\":0,\"ticks\":\"\"},\"type\":\"mesh3d\"}],\"parcoords\":[{\"line\":{\"colorbar\":{\"outlinewidth\":0,\"ticks\":\"\"}},\"type\":\"parcoords\"}],\"pie\":[{\"automargin\":true,\"type\":\"pie\"}],\"scatter\":[{\"marker\":{\"colorbar\":{\"outlinewidth\":0,\"ticks\":\"\"}},\"type\":\"scatter\"}],\"scatter3d\":[{\"line\":{\"colorbar\":{\"outlinewidth\":0,\"ticks\":\"\"}},\"marker\":{\"colorbar\":{\"outlinewidth\":0,\"ticks\":\"\"}},\"type\":\"scatter3d\"}],\"scattercarpet\":[{\"marker\":{\"colorbar\":{\"outlinewidth\":0,\"ticks\":\"\"}},\"type\":\"scattercarpet\"}],\"scattergeo\":[{\"marker\":{\"colorbar\":{\"outlinewidth\":0,\"ticks\":\"\"}},\"type\":\"scattergeo\"}],\"scattergl\":[{\"marker\":{\"colorbar\":{\"outlinewidth\":0,\"ticks\":\"\"}},\"type\":\"scattergl\"}],\"scattermapbox\":[{\"marker\":{\"colorbar\":{\"outlinewidth\":0,\"ticks\":\"\"}},\"type\":\"scattermapbox\"}],\"scatterpolar\":[{\"marker\":{\"colorbar\":{\"outlinewidth\":0,\"ticks\":\"\"}},\"type\":\"scatterpolar\"}],\"scatterpolargl\":[{\"marker\":{\"colorbar\":{\"outlinewidth\":0,\"ticks\":\"\"}},\"type\":\"scatterpolargl\"}],\"scatterternary\":[{\"marker\":{\"colorbar\":{\"outlinewidth\":0,\"ticks\":\"\"}},\"type\":\"scatterternary\"}],\"surface\":[{\"colorbar\":{\"outlinewidth\":0,\"ticks\":\"\"},\"colorscale\":[[0.0,\"#0d0887\"],[0.1111111111111111,\"#46039f\"],[0.2222222222222222,\"#7201a8\"],[0.3333333333333333,\"#9c179e\"],[0.4444444444444444,\"#bd3786\"],[0.5555555555555556,\"#d8576b\"],[0.6666666666666666,\"#ed7953\"],[0.7777777777777778,\"#fb9f3a\"],[0.8888888888888888,\"#fdca26\"],[1.0,\"#f0f921\"]],\"type\":\"surface\"}],\"table\":[{\"cells\":{\"fill\":{\"color\":\"#EBF0F8\"},\"line\":{\"color\":\"white\"}},\"header\":{\"fill\":{\"color\":\"#C8D4E3\"},\"line\":{\"color\":\"white\"}},\"type\":\"table\"}]},\"layout\":{\"annotationdefaults\":{\"arrowcolor\":\"#2a3f5f\",\"arrowhead\":0,\"arrowwidth\":1},\"autotypenumbers\":\"strict\",\"coloraxis\":{\"colorbar\":{\"outlinewidth\":0,\"ticks\":\"\"}},\"colorscale\":{\"diverging\":[[0,\"#8e0152\"],[0.1,\"#c51b7d\"],[0.2,\"#de77ae\"],[0.3,\"#f1b6da\"],[0.4,\"#fde0ef\"],[0.5,\"#f7f7f7\"],[0.6,\"#e6f5d0\"],[0.7,\"#b8e186\"],[0.8,\"#7fbc41\"],[0.9,\"#4d9221\"],[1,\"#276419\"]],\"sequential\":[[0.0,\"#0d0887\"],[0.1111111111111111,\"#46039f\"],[0.2222222222222222,\"#7201a8\"],[0.3333333333333333,\"#9c179e\"],[0.4444444444444444,\"#bd3786\"],[0.5555555555555556,\"#d8576b\"],[0.6666666666666666,\"#ed7953\"],[0.7777777777777778,\"#fb9f3a\"],[0.8888888888888888,\"#fdca26\"],[1.0,\"#f0f921\"]],\"sequentialminus\":[[0.0,\"#0d0887\"],[0.1111111111111111,\"#46039f\"],[0.2222222222222222,\"#7201a8\"],[0.3333333333333333,\"#9c179e\"],[0.4444444444444444,\"#bd3786\"],[0.5555555555555556,\"#d8576b\"],[0.6666666666666666,\"#ed7953\"],[0.7777777777777778,\"#fb9f3a\"],[0.8888888888888888,\"#fdca26\"],[1.0,\"#f0f921\"]]},\"colorway\":[\"#636efa\",\"#EF553B\",\"#00cc96\",\"#ab63fa\",\"#FFA15A\",\"#19d3f3\",\"#FF6692\",\"#B6E880\",\"#FF97FF\",\"#FECB52\"],\"font\":{\"color\":\"#2a3f5f\"},\"geo\":{\"bgcolor\":\"white\",\"lakecolor\":\"white\",\"landcolor\":\"#E5ECF6\",\"showlakes\":true,\"showland\":true,\"subunitcolor\":\"white\"},\"hoverlabel\":{\"align\":\"left\"},\"hovermode\":\"closest\",\"mapbox\":{\"style\":\"light\"},\"paper_bgcolor\":\"white\",\"plot_bgcolor\":\"#E5ECF6\",\"polar\":{\"angularaxis\":{\"gridcolor\":\"white\",\"linecolor\":\"white\",\"ticks\":\"\"},\"bgcolor\":\"#E5ECF6\",\"radialaxis\":{\"gridcolor\":\"white\",\"linecolor\":\"white\",\"ticks\":\"\"}},\"scene\":{\"xaxis\":{\"backgroundcolor\":\"#E5ECF6\",\"gridcolor\":\"white\",\"gridwidth\":2,\"linecolor\":\"white\",\"showbackground\":true,\"ticks\":\"\",\"zerolinecolor\":\"white\"},\"yaxis\":{\"backgroundcolor\":\"#E5ECF6\",\"gridcolor\":\"white\",\"gridwidth\":2,\"linecolor\":\"white\",\"showbackground\":true,\"ticks\":\"\",\"zerolinecolor\":\"white\"},\"zaxis\":{\"backgroundcolor\":\"#E5ECF6\",\"gridcolor\":\"white\",\"gridwidth\":2,\"linecolor\":\"white\",\"showbackground\":true,\"ticks\":\"\",\"zerolinecolor\":\"white\"}},\"shapedefaults\":{\"line\":{\"color\":\"#2a3f5f\"}},\"ternary\":{\"aaxis\":{\"gridcolor\":\"white\",\"linecolor\":\"white\",\"ticks\":\"\"},\"baxis\":{\"gridcolor\":\"white\",\"linecolor\":\"white\",\"ticks\":\"\"},\"bgcolor\":\"#E5ECF6\",\"caxis\":{\"gridcolor\":\"white\",\"linecolor\":\"white\",\"ticks\":\"\"}},\"title\":{\"x\":0.05},\"xaxis\":{\"automargin\":true,\"gridcolor\":\"white\",\"linecolor\":\"white\",\"ticks\":\"\",\"title\":{\"standoff\":15},\"zerolinecolor\":\"white\",\"zerolinewidth\":2},\"yaxis\":{\"automargin\":true,\"gridcolor\":\"white\",\"linecolor\":\"white\",\"ticks\":\"\",\"title\":{\"standoff\":15},\"zerolinecolor\":\"white\",\"zerolinewidth\":2}}},\"title\":{\"text\":\"<b>3-2 (\\ucf54\\ub85c\\ub098 \\uc804<->\\ud6c4) \\uc804\\uccb4 \\uc5c5\\uc885\\ubcc4 \\uc120\\ud638\\ub3c4(\\ub9e4\\ucd9c\\uac74\\uc218)</b>\"}},                        {\"responsive\": true}                    ).then(function(){\n",
       "                            \n",
       "var gd = document.getElementById('8d51366d-dc03-4c74-8843-5dc33d3e40d8');\n",
       "var x = new MutationObserver(function (mutations, observer) {{\n",
       "        var display = window.getComputedStyle(gd).display;\n",
       "        if (!display || display === 'none') {{\n",
       "            console.log([gd, 'removed!']);\n",
       "            Plotly.purge(gd);\n",
       "            observer.disconnect();\n",
       "        }}\n",
       "}});\n",
       "\n",
       "// Listen for the removal of the full notebook cells\n",
       "var notebookContainer = gd.closest('#notebook-container');\n",
       "if (notebookContainer) {{\n",
       "    x.observe(notebookContainer, {childList: true});\n",
       "}}\n",
       "\n",
       "// Listen for the clearing of the current output cell\n",
       "var outputEl = gd.closest('.output');\n",
       "if (outputEl) {{\n",
       "    x.observe(outputEl, {childList: true});\n",
       "}}\n",
       "\n",
       "                        })                };                });            </script>        </div>"
      ]
     },
     "metadata": {},
     "output_type": "display_data"
    },
    {
     "data": {
      "application/vnd.plotly.v1+json": {
       "config": {
        "plotlyServerURL": "https://plot.ly"
       },
       "data": [
        {
         "domain": {
          "x": [
           0,
           0.45
          ],
          "y": [
           0,
           1
          ]
         },
         "hole": 0.3,
         "labels": [
          "남성 20대 이하",
          "남성 30대",
          "남성 40대",
          "남성 50대",
          "남성 60대",
          "여성 20대 이하",
          "여성 30대",
          "여성 40대",
          "여성 50대",
          "여성 60대"
         ],
         "name": "코로나 전 매출건수 비율",
         "type": "pie",
         "values": [
          37856,
          23982,
          14610,
          10018,
          5677,
          50370,
          19208,
          12251,
          8029,
          3163
         ]
        },
        {
         "domain": {
          "x": [
           0.55,
           1
          ],
          "y": [
           0,
           1
          ]
         },
         "hole": 0.3,
         "labels": [
          "남성 20대 이하",
          "남성 30대",
          "남성 40대",
          "남성 50대",
          "남성 60대",
          "여성 20대 이하",
          "여성 30대",
          "여성 40대",
          "여성 50대",
          "여성 60대"
         ],
         "name": "코로나 전 매출건수 비율",
         "type": "pie",
         "values": [
          27068,
          20269,
          13304,
          10026,
          6386,
          30117,
          14561,
          9082,
          6670,
          3425
         ]
        }
       ],
       "layout": {
        "template": {
         "data": {
          "bar": [
           {
            "error_x": {
             "color": "#2a3f5f"
            },
            "error_y": {
             "color": "#2a3f5f"
            },
            "marker": {
             "line": {
              "color": "#E5ECF6",
              "width": 0.5
             },
             "pattern": {
              "fillmode": "overlay",
              "size": 10,
              "solidity": 0.2
             }
            },
            "type": "bar"
           }
          ],
          "barpolar": [
           {
            "marker": {
             "line": {
              "color": "#E5ECF6",
              "width": 0.5
             },
             "pattern": {
              "fillmode": "overlay",
              "size": 10,
              "solidity": 0.2
             }
            },
            "type": "barpolar"
           }
          ],
          "carpet": [
           {
            "aaxis": {
             "endlinecolor": "#2a3f5f",
             "gridcolor": "white",
             "linecolor": "white",
             "minorgridcolor": "white",
             "startlinecolor": "#2a3f5f"
            },
            "baxis": {
             "endlinecolor": "#2a3f5f",
             "gridcolor": "white",
             "linecolor": "white",
             "minorgridcolor": "white",
             "startlinecolor": "#2a3f5f"
            },
            "type": "carpet"
           }
          ],
          "choropleth": [
           {
            "colorbar": {
             "outlinewidth": 0,
             "ticks": ""
            },
            "type": "choropleth"
           }
          ],
          "contour": [
           {
            "colorbar": {
             "outlinewidth": 0,
             "ticks": ""
            },
            "colorscale": [
             [
              0,
              "#0d0887"
             ],
             [
              0.1111111111111111,
              "#46039f"
             ],
             [
              0.2222222222222222,
              "#7201a8"
             ],
             [
              0.3333333333333333,
              "#9c179e"
             ],
             [
              0.4444444444444444,
              "#bd3786"
             ],
             [
              0.5555555555555556,
              "#d8576b"
             ],
             [
              0.6666666666666666,
              "#ed7953"
             ],
             [
              0.7777777777777778,
              "#fb9f3a"
             ],
             [
              0.8888888888888888,
              "#fdca26"
             ],
             [
              1,
              "#f0f921"
             ]
            ],
            "type": "contour"
           }
          ],
          "contourcarpet": [
           {
            "colorbar": {
             "outlinewidth": 0,
             "ticks": ""
            },
            "type": "contourcarpet"
           }
          ],
          "heatmap": [
           {
            "colorbar": {
             "outlinewidth": 0,
             "ticks": ""
            },
            "colorscale": [
             [
              0,
              "#0d0887"
             ],
             [
              0.1111111111111111,
              "#46039f"
             ],
             [
              0.2222222222222222,
              "#7201a8"
             ],
             [
              0.3333333333333333,
              "#9c179e"
             ],
             [
              0.4444444444444444,
              "#bd3786"
             ],
             [
              0.5555555555555556,
              "#d8576b"
             ],
             [
              0.6666666666666666,
              "#ed7953"
             ],
             [
              0.7777777777777778,
              "#fb9f3a"
             ],
             [
              0.8888888888888888,
              "#fdca26"
             ],
             [
              1,
              "#f0f921"
             ]
            ],
            "type": "heatmap"
           }
          ],
          "heatmapgl": [
           {
            "colorbar": {
             "outlinewidth": 0,
             "ticks": ""
            },
            "colorscale": [
             [
              0,
              "#0d0887"
             ],
             [
              0.1111111111111111,
              "#46039f"
             ],
             [
              0.2222222222222222,
              "#7201a8"
             ],
             [
              0.3333333333333333,
              "#9c179e"
             ],
             [
              0.4444444444444444,
              "#bd3786"
             ],
             [
              0.5555555555555556,
              "#d8576b"
             ],
             [
              0.6666666666666666,
              "#ed7953"
             ],
             [
              0.7777777777777778,
              "#fb9f3a"
             ],
             [
              0.8888888888888888,
              "#fdca26"
             ],
             [
              1,
              "#f0f921"
             ]
            ],
            "type": "heatmapgl"
           }
          ],
          "histogram": [
           {
            "marker": {
             "pattern": {
              "fillmode": "overlay",
              "size": 10,
              "solidity": 0.2
             }
            },
            "type": "histogram"
           }
          ],
          "histogram2d": [
           {
            "colorbar": {
             "outlinewidth": 0,
             "ticks": ""
            },
            "colorscale": [
             [
              0,
              "#0d0887"
             ],
             [
              0.1111111111111111,
              "#46039f"
             ],
             [
              0.2222222222222222,
              "#7201a8"
             ],
             [
              0.3333333333333333,
              "#9c179e"
             ],
             [
              0.4444444444444444,
              "#bd3786"
             ],
             [
              0.5555555555555556,
              "#d8576b"
             ],
             [
              0.6666666666666666,
              "#ed7953"
             ],
             [
              0.7777777777777778,
              "#fb9f3a"
             ],
             [
              0.8888888888888888,
              "#fdca26"
             ],
             [
              1,
              "#f0f921"
             ]
            ],
            "type": "histogram2d"
           }
          ],
          "histogram2dcontour": [
           {
            "colorbar": {
             "outlinewidth": 0,
             "ticks": ""
            },
            "colorscale": [
             [
              0,
              "#0d0887"
             ],
             [
              0.1111111111111111,
              "#46039f"
             ],
             [
              0.2222222222222222,
              "#7201a8"
             ],
             [
              0.3333333333333333,
              "#9c179e"
             ],
             [
              0.4444444444444444,
              "#bd3786"
             ],
             [
              0.5555555555555556,
              "#d8576b"
             ],
             [
              0.6666666666666666,
              "#ed7953"
             ],
             [
              0.7777777777777778,
              "#fb9f3a"
             ],
             [
              0.8888888888888888,
              "#fdca26"
             ],
             [
              1,
              "#f0f921"
             ]
            ],
            "type": "histogram2dcontour"
           }
          ],
          "mesh3d": [
           {
            "colorbar": {
             "outlinewidth": 0,
             "ticks": ""
            },
            "type": "mesh3d"
           }
          ],
          "parcoords": [
           {
            "line": {
             "colorbar": {
              "outlinewidth": 0,
              "ticks": ""
             }
            },
            "type": "parcoords"
           }
          ],
          "pie": [
           {
            "automargin": true,
            "type": "pie"
           }
          ],
          "scatter": [
           {
            "marker": {
             "colorbar": {
              "outlinewidth": 0,
              "ticks": ""
             }
            },
            "type": "scatter"
           }
          ],
          "scatter3d": [
           {
            "line": {
             "colorbar": {
              "outlinewidth": 0,
              "ticks": ""
             }
            },
            "marker": {
             "colorbar": {
              "outlinewidth": 0,
              "ticks": ""
             }
            },
            "type": "scatter3d"
           }
          ],
          "scattercarpet": [
           {
            "marker": {
             "colorbar": {
              "outlinewidth": 0,
              "ticks": ""
             }
            },
            "type": "scattercarpet"
           }
          ],
          "scattergeo": [
           {
            "marker": {
             "colorbar": {
              "outlinewidth": 0,
              "ticks": ""
             }
            },
            "type": "scattergeo"
           }
          ],
          "scattergl": [
           {
            "marker": {
             "colorbar": {
              "outlinewidth": 0,
              "ticks": ""
             }
            },
            "type": "scattergl"
           }
          ],
          "scattermapbox": [
           {
            "marker": {
             "colorbar": {
              "outlinewidth": 0,
              "ticks": ""
             }
            },
            "type": "scattermapbox"
           }
          ],
          "scatterpolar": [
           {
            "marker": {
             "colorbar": {
              "outlinewidth": 0,
              "ticks": ""
             }
            },
            "type": "scatterpolar"
           }
          ],
          "scatterpolargl": [
           {
            "marker": {
             "colorbar": {
              "outlinewidth": 0,
              "ticks": ""
             }
            },
            "type": "scatterpolargl"
           }
          ],
          "scatterternary": [
           {
            "marker": {
             "colorbar": {
              "outlinewidth": 0,
              "ticks": ""
             }
            },
            "type": "scatterternary"
           }
          ],
          "surface": [
           {
            "colorbar": {
             "outlinewidth": 0,
             "ticks": ""
            },
            "colorscale": [
             [
              0,
              "#0d0887"
             ],
             [
              0.1111111111111111,
              "#46039f"
             ],
             [
              0.2222222222222222,
              "#7201a8"
             ],
             [
              0.3333333333333333,
              "#9c179e"
             ],
             [
              0.4444444444444444,
              "#bd3786"
             ],
             [
              0.5555555555555556,
              "#d8576b"
             ],
             [
              0.6666666666666666,
              "#ed7953"
             ],
             [
              0.7777777777777778,
              "#fb9f3a"
             ],
             [
              0.8888888888888888,
              "#fdca26"
             ],
             [
              1,
              "#f0f921"
             ]
            ],
            "type": "surface"
           }
          ],
          "table": [
           {
            "cells": {
             "fill": {
              "color": "#EBF0F8"
             },
             "line": {
              "color": "white"
             }
            },
            "header": {
             "fill": {
              "color": "#C8D4E3"
             },
             "line": {
              "color": "white"
             }
            },
            "type": "table"
           }
          ]
         },
         "layout": {
          "annotationdefaults": {
           "arrowcolor": "#2a3f5f",
           "arrowhead": 0,
           "arrowwidth": 1
          },
          "autotypenumbers": "strict",
          "coloraxis": {
           "colorbar": {
            "outlinewidth": 0,
            "ticks": ""
           }
          },
          "colorscale": {
           "diverging": [
            [
             0,
             "#8e0152"
            ],
            [
             0.1,
             "#c51b7d"
            ],
            [
             0.2,
             "#de77ae"
            ],
            [
             0.3,
             "#f1b6da"
            ],
            [
             0.4,
             "#fde0ef"
            ],
            [
             0.5,
             "#f7f7f7"
            ],
            [
             0.6,
             "#e6f5d0"
            ],
            [
             0.7,
             "#b8e186"
            ],
            [
             0.8,
             "#7fbc41"
            ],
            [
             0.9,
             "#4d9221"
            ],
            [
             1,
             "#276419"
            ]
           ],
           "sequential": [
            [
             0,
             "#0d0887"
            ],
            [
             0.1111111111111111,
             "#46039f"
            ],
            [
             0.2222222222222222,
             "#7201a8"
            ],
            [
             0.3333333333333333,
             "#9c179e"
            ],
            [
             0.4444444444444444,
             "#bd3786"
            ],
            [
             0.5555555555555556,
             "#d8576b"
            ],
            [
             0.6666666666666666,
             "#ed7953"
            ],
            [
             0.7777777777777778,
             "#fb9f3a"
            ],
            [
             0.8888888888888888,
             "#fdca26"
            ],
            [
             1,
             "#f0f921"
            ]
           ],
           "sequentialminus": [
            [
             0,
             "#0d0887"
            ],
            [
             0.1111111111111111,
             "#46039f"
            ],
            [
             0.2222222222222222,
             "#7201a8"
            ],
            [
             0.3333333333333333,
             "#9c179e"
            ],
            [
             0.4444444444444444,
             "#bd3786"
            ],
            [
             0.5555555555555556,
             "#d8576b"
            ],
            [
             0.6666666666666666,
             "#ed7953"
            ],
            [
             0.7777777777777778,
             "#fb9f3a"
            ],
            [
             0.8888888888888888,
             "#fdca26"
            ],
            [
             1,
             "#f0f921"
            ]
           ]
          },
          "colorway": [
           "#636efa",
           "#EF553B",
           "#00cc96",
           "#ab63fa",
           "#FFA15A",
           "#19d3f3",
           "#FF6692",
           "#B6E880",
           "#FF97FF",
           "#FECB52"
          ],
          "font": {
           "color": "#2a3f5f"
          },
          "geo": {
           "bgcolor": "white",
           "lakecolor": "white",
           "landcolor": "#E5ECF6",
           "showlakes": true,
           "showland": true,
           "subunitcolor": "white"
          },
          "hoverlabel": {
           "align": "left"
          },
          "hovermode": "closest",
          "mapbox": {
           "style": "light"
          },
          "paper_bgcolor": "white",
          "plot_bgcolor": "#E5ECF6",
          "polar": {
           "angularaxis": {
            "gridcolor": "white",
            "linecolor": "white",
            "ticks": ""
           },
           "bgcolor": "#E5ECF6",
           "radialaxis": {
            "gridcolor": "white",
            "linecolor": "white",
            "ticks": ""
           }
          },
          "scene": {
           "xaxis": {
            "backgroundcolor": "#E5ECF6",
            "gridcolor": "white",
            "gridwidth": 2,
            "linecolor": "white",
            "showbackground": true,
            "ticks": "",
            "zerolinecolor": "white"
           },
           "yaxis": {
            "backgroundcolor": "#E5ECF6",
            "gridcolor": "white",
            "gridwidth": 2,
            "linecolor": "white",
            "showbackground": true,
            "ticks": "",
            "zerolinecolor": "white"
           },
           "zaxis": {
            "backgroundcolor": "#E5ECF6",
            "gridcolor": "white",
            "gridwidth": 2,
            "linecolor": "white",
            "showbackground": true,
            "ticks": "",
            "zerolinecolor": "white"
           }
          },
          "shapedefaults": {
           "line": {
            "color": "#2a3f5f"
           }
          },
          "ternary": {
           "aaxis": {
            "gridcolor": "white",
            "linecolor": "white",
            "ticks": ""
           },
           "baxis": {
            "gridcolor": "white",
            "linecolor": "white",
            "ticks": ""
           },
           "bgcolor": "#E5ECF6",
           "caxis": {
            "gridcolor": "white",
            "linecolor": "white",
            "ticks": ""
           }
          },
          "title": {
           "x": 0.05
          },
          "xaxis": {
           "automargin": true,
           "gridcolor": "white",
           "linecolor": "white",
           "ticks": "",
           "title": {
            "standoff": 15
           },
           "zerolinecolor": "white",
           "zerolinewidth": 2
          },
          "yaxis": {
           "automargin": true,
           "gridcolor": "white",
           "linecolor": "white",
           "ticks": "",
           "title": {
            "standoff": 15
           },
           "zerolinecolor": "white",
           "zerolinewidth": 2
          }
         }
        },
        "title": {
         "text": "<b>3-3 [닭/오리요리] 업종 코로나 전후 성별 연령별 업종별 선호도</b>"
        }
       }
      },
      "text/html": [
       "<div>                            <div id=\"266559b9-ba7f-4fa9-9d38-ba3a5afb3e97\" class=\"plotly-graph-div\" style=\"height:525px; width:100%;\"></div>            <script type=\"text/javascript\">                require([\"plotly\"], function(Plotly) {                    window.PLOTLYENV=window.PLOTLYENV || {};                                    if (document.getElementById(\"266559b9-ba7f-4fa9-9d38-ba3a5afb3e97\")) {                    Plotly.newPlot(                        \"266559b9-ba7f-4fa9-9d38-ba3a5afb3e97\",                        [{\"domain\":{\"x\":[0.0,0.45],\"y\":[0.0,1.0]},\"hole\":0.3,\"labels\":[\"\\ub0a8\\uc131 20\\ub300 \\uc774\\ud558\",\"\\ub0a8\\uc131 30\\ub300\",\"\\ub0a8\\uc131 40\\ub300\",\"\\ub0a8\\uc131 50\\ub300\",\"\\ub0a8\\uc131 60\\ub300\",\"\\uc5ec\\uc131 20\\ub300 \\uc774\\ud558\",\"\\uc5ec\\uc131 30\\ub300\",\"\\uc5ec\\uc131 40\\ub300\",\"\\uc5ec\\uc131 50\\ub300\",\"\\uc5ec\\uc131 60\\ub300\"],\"name\":\"\\ucf54\\ub85c\\ub098 \\uc804 \\ub9e4\\ucd9c\\uac74\\uc218 \\ube44\\uc728\",\"type\":\"pie\",\"values\":[37856,23982,14610,10018,5677,50370,19208,12251,8029,3163]},{\"domain\":{\"x\":[0.55,1.0],\"y\":[0.0,1.0]},\"hole\":0.3,\"labels\":[\"\\ub0a8\\uc131 20\\ub300 \\uc774\\ud558\",\"\\ub0a8\\uc131 30\\ub300\",\"\\ub0a8\\uc131 40\\ub300\",\"\\ub0a8\\uc131 50\\ub300\",\"\\ub0a8\\uc131 60\\ub300\",\"\\uc5ec\\uc131 20\\ub300 \\uc774\\ud558\",\"\\uc5ec\\uc131 30\\ub300\",\"\\uc5ec\\uc131 40\\ub300\",\"\\uc5ec\\uc131 50\\ub300\",\"\\uc5ec\\uc131 60\\ub300\"],\"name\":\"\\ucf54\\ub85c\\ub098 \\uc804 \\ub9e4\\ucd9c\\uac74\\uc218 \\ube44\\uc728\",\"type\":\"pie\",\"values\":[27068,20269,13304,10026,6386,30117,14561,9082,6670,3425]}],                        {\"template\":{\"data\":{\"bar\":[{\"error_x\":{\"color\":\"#2a3f5f\"},\"error_y\":{\"color\":\"#2a3f5f\"},\"marker\":{\"line\":{\"color\":\"#E5ECF6\",\"width\":0.5},\"pattern\":{\"fillmode\":\"overlay\",\"size\":10,\"solidity\":0.2}},\"type\":\"bar\"}],\"barpolar\":[{\"marker\":{\"line\":{\"color\":\"#E5ECF6\",\"width\":0.5},\"pattern\":{\"fillmode\":\"overlay\",\"size\":10,\"solidity\":0.2}},\"type\":\"barpolar\"}],\"carpet\":[{\"aaxis\":{\"endlinecolor\":\"#2a3f5f\",\"gridcolor\":\"white\",\"linecolor\":\"white\",\"minorgridcolor\":\"white\",\"startlinecolor\":\"#2a3f5f\"},\"baxis\":{\"endlinecolor\":\"#2a3f5f\",\"gridcolor\":\"white\",\"linecolor\":\"white\",\"minorgridcolor\":\"white\",\"startlinecolor\":\"#2a3f5f\"},\"type\":\"carpet\"}],\"choropleth\":[{\"colorbar\":{\"outlinewidth\":0,\"ticks\":\"\"},\"type\":\"choropleth\"}],\"contour\":[{\"colorbar\":{\"outlinewidth\":0,\"ticks\":\"\"},\"colorscale\":[[0.0,\"#0d0887\"],[0.1111111111111111,\"#46039f\"],[0.2222222222222222,\"#7201a8\"],[0.3333333333333333,\"#9c179e\"],[0.4444444444444444,\"#bd3786\"],[0.5555555555555556,\"#d8576b\"],[0.6666666666666666,\"#ed7953\"],[0.7777777777777778,\"#fb9f3a\"],[0.8888888888888888,\"#fdca26\"],[1.0,\"#f0f921\"]],\"type\":\"contour\"}],\"contourcarpet\":[{\"colorbar\":{\"outlinewidth\":0,\"ticks\":\"\"},\"type\":\"contourcarpet\"}],\"heatmap\":[{\"colorbar\":{\"outlinewidth\":0,\"ticks\":\"\"},\"colorscale\":[[0.0,\"#0d0887\"],[0.1111111111111111,\"#46039f\"],[0.2222222222222222,\"#7201a8\"],[0.3333333333333333,\"#9c179e\"],[0.4444444444444444,\"#bd3786\"],[0.5555555555555556,\"#d8576b\"],[0.6666666666666666,\"#ed7953\"],[0.7777777777777778,\"#fb9f3a\"],[0.8888888888888888,\"#fdca26\"],[1.0,\"#f0f921\"]],\"type\":\"heatmap\"}],\"heatmapgl\":[{\"colorbar\":{\"outlinewidth\":0,\"ticks\":\"\"},\"colorscale\":[[0.0,\"#0d0887\"],[0.1111111111111111,\"#46039f\"],[0.2222222222222222,\"#7201a8\"],[0.3333333333333333,\"#9c179e\"],[0.4444444444444444,\"#bd3786\"],[0.5555555555555556,\"#d8576b\"],[0.6666666666666666,\"#ed7953\"],[0.7777777777777778,\"#fb9f3a\"],[0.8888888888888888,\"#fdca26\"],[1.0,\"#f0f921\"]],\"type\":\"heatmapgl\"}],\"histogram\":[{\"marker\":{\"pattern\":{\"fillmode\":\"overlay\",\"size\":10,\"solidity\":0.2}},\"type\":\"histogram\"}],\"histogram2d\":[{\"colorbar\":{\"outlinewidth\":0,\"ticks\":\"\"},\"colorscale\":[[0.0,\"#0d0887\"],[0.1111111111111111,\"#46039f\"],[0.2222222222222222,\"#7201a8\"],[0.3333333333333333,\"#9c179e\"],[0.4444444444444444,\"#bd3786\"],[0.5555555555555556,\"#d8576b\"],[0.6666666666666666,\"#ed7953\"],[0.7777777777777778,\"#fb9f3a\"],[0.8888888888888888,\"#fdca26\"],[1.0,\"#f0f921\"]],\"type\":\"histogram2d\"}],\"histogram2dcontour\":[{\"colorbar\":{\"outlinewidth\":0,\"ticks\":\"\"},\"colorscale\":[[0.0,\"#0d0887\"],[0.1111111111111111,\"#46039f\"],[0.2222222222222222,\"#7201a8\"],[0.3333333333333333,\"#9c179e\"],[0.4444444444444444,\"#bd3786\"],[0.5555555555555556,\"#d8576b\"],[0.6666666666666666,\"#ed7953\"],[0.7777777777777778,\"#fb9f3a\"],[0.8888888888888888,\"#fdca26\"],[1.0,\"#f0f921\"]],\"type\":\"histogram2dcontour\"}],\"mesh3d\":[{\"colorbar\":{\"outlinewidth\":0,\"ticks\":\"\"},\"type\":\"mesh3d\"}],\"parcoords\":[{\"line\":{\"colorbar\":{\"outlinewidth\":0,\"ticks\":\"\"}},\"type\":\"parcoords\"}],\"pie\":[{\"automargin\":true,\"type\":\"pie\"}],\"scatter\":[{\"marker\":{\"colorbar\":{\"outlinewidth\":0,\"ticks\":\"\"}},\"type\":\"scatter\"}],\"scatter3d\":[{\"line\":{\"colorbar\":{\"outlinewidth\":0,\"ticks\":\"\"}},\"marker\":{\"colorbar\":{\"outlinewidth\":0,\"ticks\":\"\"}},\"type\":\"scatter3d\"}],\"scattercarpet\":[{\"marker\":{\"colorbar\":{\"outlinewidth\":0,\"ticks\":\"\"}},\"type\":\"scattercarpet\"}],\"scattergeo\":[{\"marker\":{\"colorbar\":{\"outlinewidth\":0,\"ticks\":\"\"}},\"type\":\"scattergeo\"}],\"scattergl\":[{\"marker\":{\"colorbar\":{\"outlinewidth\":0,\"ticks\":\"\"}},\"type\":\"scattergl\"}],\"scattermapbox\":[{\"marker\":{\"colorbar\":{\"outlinewidth\":0,\"ticks\":\"\"}},\"type\":\"scattermapbox\"}],\"scatterpolar\":[{\"marker\":{\"colorbar\":{\"outlinewidth\":0,\"ticks\":\"\"}},\"type\":\"scatterpolar\"}],\"scatterpolargl\":[{\"marker\":{\"colorbar\":{\"outlinewidth\":0,\"ticks\":\"\"}},\"type\":\"scatterpolargl\"}],\"scatterternary\":[{\"marker\":{\"colorbar\":{\"outlinewidth\":0,\"ticks\":\"\"}},\"type\":\"scatterternary\"}],\"surface\":[{\"colorbar\":{\"outlinewidth\":0,\"ticks\":\"\"},\"colorscale\":[[0.0,\"#0d0887\"],[0.1111111111111111,\"#46039f\"],[0.2222222222222222,\"#7201a8\"],[0.3333333333333333,\"#9c179e\"],[0.4444444444444444,\"#bd3786\"],[0.5555555555555556,\"#d8576b\"],[0.6666666666666666,\"#ed7953\"],[0.7777777777777778,\"#fb9f3a\"],[0.8888888888888888,\"#fdca26\"],[1.0,\"#f0f921\"]],\"type\":\"surface\"}],\"table\":[{\"cells\":{\"fill\":{\"color\":\"#EBF0F8\"},\"line\":{\"color\":\"white\"}},\"header\":{\"fill\":{\"color\":\"#C8D4E3\"},\"line\":{\"color\":\"white\"}},\"type\":\"table\"}]},\"layout\":{\"annotationdefaults\":{\"arrowcolor\":\"#2a3f5f\",\"arrowhead\":0,\"arrowwidth\":1},\"autotypenumbers\":\"strict\",\"coloraxis\":{\"colorbar\":{\"outlinewidth\":0,\"ticks\":\"\"}},\"colorscale\":{\"diverging\":[[0,\"#8e0152\"],[0.1,\"#c51b7d\"],[0.2,\"#de77ae\"],[0.3,\"#f1b6da\"],[0.4,\"#fde0ef\"],[0.5,\"#f7f7f7\"],[0.6,\"#e6f5d0\"],[0.7,\"#b8e186\"],[0.8,\"#7fbc41\"],[0.9,\"#4d9221\"],[1,\"#276419\"]],\"sequential\":[[0.0,\"#0d0887\"],[0.1111111111111111,\"#46039f\"],[0.2222222222222222,\"#7201a8\"],[0.3333333333333333,\"#9c179e\"],[0.4444444444444444,\"#bd3786\"],[0.5555555555555556,\"#d8576b\"],[0.6666666666666666,\"#ed7953\"],[0.7777777777777778,\"#fb9f3a\"],[0.8888888888888888,\"#fdca26\"],[1.0,\"#f0f921\"]],\"sequentialminus\":[[0.0,\"#0d0887\"],[0.1111111111111111,\"#46039f\"],[0.2222222222222222,\"#7201a8\"],[0.3333333333333333,\"#9c179e\"],[0.4444444444444444,\"#bd3786\"],[0.5555555555555556,\"#d8576b\"],[0.6666666666666666,\"#ed7953\"],[0.7777777777777778,\"#fb9f3a\"],[0.8888888888888888,\"#fdca26\"],[1.0,\"#f0f921\"]]},\"colorway\":[\"#636efa\",\"#EF553B\",\"#00cc96\",\"#ab63fa\",\"#FFA15A\",\"#19d3f3\",\"#FF6692\",\"#B6E880\",\"#FF97FF\",\"#FECB52\"],\"font\":{\"color\":\"#2a3f5f\"},\"geo\":{\"bgcolor\":\"white\",\"lakecolor\":\"white\",\"landcolor\":\"#E5ECF6\",\"showlakes\":true,\"showland\":true,\"subunitcolor\":\"white\"},\"hoverlabel\":{\"align\":\"left\"},\"hovermode\":\"closest\",\"mapbox\":{\"style\":\"light\"},\"paper_bgcolor\":\"white\",\"plot_bgcolor\":\"#E5ECF6\",\"polar\":{\"angularaxis\":{\"gridcolor\":\"white\",\"linecolor\":\"white\",\"ticks\":\"\"},\"bgcolor\":\"#E5ECF6\",\"radialaxis\":{\"gridcolor\":\"white\",\"linecolor\":\"white\",\"ticks\":\"\"}},\"scene\":{\"xaxis\":{\"backgroundcolor\":\"#E5ECF6\",\"gridcolor\":\"white\",\"gridwidth\":2,\"linecolor\":\"white\",\"showbackground\":true,\"ticks\":\"\",\"zerolinecolor\":\"white\"},\"yaxis\":{\"backgroundcolor\":\"#E5ECF6\",\"gridcolor\":\"white\",\"gridwidth\":2,\"linecolor\":\"white\",\"showbackground\":true,\"ticks\":\"\",\"zerolinecolor\":\"white\"},\"zaxis\":{\"backgroundcolor\":\"#E5ECF6\",\"gridcolor\":\"white\",\"gridwidth\":2,\"linecolor\":\"white\",\"showbackground\":true,\"ticks\":\"\",\"zerolinecolor\":\"white\"}},\"shapedefaults\":{\"line\":{\"color\":\"#2a3f5f\"}},\"ternary\":{\"aaxis\":{\"gridcolor\":\"white\",\"linecolor\":\"white\",\"ticks\":\"\"},\"baxis\":{\"gridcolor\":\"white\",\"linecolor\":\"white\",\"ticks\":\"\"},\"bgcolor\":\"#E5ECF6\",\"caxis\":{\"gridcolor\":\"white\",\"linecolor\":\"white\",\"ticks\":\"\"}},\"title\":{\"x\":0.05},\"xaxis\":{\"automargin\":true,\"gridcolor\":\"white\",\"linecolor\":\"white\",\"ticks\":\"\",\"title\":{\"standoff\":15},\"zerolinecolor\":\"white\",\"zerolinewidth\":2},\"yaxis\":{\"automargin\":true,\"gridcolor\":\"white\",\"linecolor\":\"white\",\"ticks\":\"\",\"title\":{\"standoff\":15},\"zerolinecolor\":\"white\",\"zerolinewidth\":2}}},\"title\":{\"text\":\"<b>3-3 [\\ub2ed/\\uc624\\ub9ac\\uc694\\ub9ac] \\uc5c5\\uc885 \\ucf54\\ub85c\\ub098 \\uc804\\ud6c4 \\uc131\\ubcc4 \\uc5f0\\ub839\\ubcc4 \\uc5c5\\uc885\\ubcc4 \\uc120\\ud638\\ub3c4</b>\"}},                        {\"responsive\": true}                    ).then(function(){\n",
       "                            \n",
       "var gd = document.getElementById('266559b9-ba7f-4fa9-9d38-ba3a5afb3e97');\n",
       "var x = new MutationObserver(function (mutations, observer) {{\n",
       "        var display = window.getComputedStyle(gd).display;\n",
       "        if (!display || display === 'none') {{\n",
       "            console.log([gd, 'removed!']);\n",
       "            Plotly.purge(gd);\n",
       "            observer.disconnect();\n",
       "        }}\n",
       "}});\n",
       "\n",
       "// Listen for the removal of the full notebook cells\n",
       "var notebookContainer = gd.closest('#notebook-container');\n",
       "if (notebookContainer) {{\n",
       "    x.observe(notebookContainer, {childList: true});\n",
       "}}\n",
       "\n",
       "// Listen for the clearing of the current output cell\n",
       "var outputEl = gd.closest('.output');\n",
       "if (outputEl) {{\n",
       "    x.observe(outputEl, {childList: true});\n",
       "}}\n",
       "\n",
       "                        })                };                });            </script>        </div>"
      ]
     },
     "metadata": {},
     "output_type": "display_data"
    }
   ],
   "source": [
    "from IPython.display import clear_output\n",
    "import ipywidgets as widgets\n",
    "from plotly.subplots import make_subplots\n",
    "import plotly.graph_objects as go\n",
    "import plotly.express as px\n",
    "##지역 생활권 dropdown\n",
    "dropdown_region = widgets.Dropdown(\n",
    "    description='지역생활권',options=selectregion)\n",
    "##영업시간 위젯\n",
    "time_buttons = widgets.ToggleButtons(\n",
    "    options=[('전체', '0-24'),('아침', '6-12'), ('점심', '13-18'), ('저녁', '18-24'),('새벽', '0-6')],\n",
    "    description='영업시간별',\n",
    ")\n",
    "#업종 위젯\n",
    "dropdown_menu = widgets.Dropdown(\n",
    "    description='업종별',\n",
    "    options=selectmenu)\n",
    "# 위젯을 container로 합침.\n",
    "container = widgets.VBox([\n",
    "                widgets.HBox([dropdown_region]),\n",
    "                widgets.HBox([time_buttons]),\n",
    "                widgets.HBox([dropdown_menu]),\n",
    "                ])\n",
    "\n",
    "\n",
    "def response(change):\n",
    "    # 위젯에 변화가 감지되면 실행되는 코드\n",
    "    # 이전 셀 아웃풋은 삭제\n",
    "    clear_output()  \n",
    "    # 위젯 출력\n",
    "    print('******************************************************************\\n')\n",
    "    print('지역권생활권별 요식업종 가이드\\n')\n",
    "    print('1. 지역생활권 이란?')\n",
    "    print('서울시 지역을 생활권 단위로 나누어 도시관리 계획을 구체적으로 제시하기 위한 공간 관리 지침\\n')\n",
    "    display(container)\n",
    "    print('2. '+dropdown_region.value+\"지역 생활권 상권분석\")\n",
    "    istemp=whichregion['생활지역권']==dropdown_region.value\n",
    "    tempregion=whichregion[istemp]\n",
    "    tempregion=tempregion['행정동명'].unique()\n",
    "    print(\"행정구역 : \"+','.join(tempregion))\n",
    "\n",
    "    #print(tempregion)\n",
    "    region=make_subplots(rows=1, cols=1)\n",
    "    #region = px.data.tips()\n",
    "    tempRegion=df2[df2['생활지역권']==dropdown_region.value]\n",
    "    tempRegion=tempRegion.groupby(by=['중분류명','소분류명']).count()[['생활지역권']]\n",
    "    tempRegion=tempRegion.reset_index()\n",
    "    tempRegion['상가수']=tempRegion['생활지역권']\n",
    "    region = px.bar(tempRegion, x=\"상가수\", y=\"중분류명\", color='소분류명', orientation='h',\n",
    "             height=400,\n",
    "             title='<b>2-1 '+dropdown_region.value+'지역 생활권 업종별 상가 분석</b>')\n",
    "    \n",
    "    display(region)\n",
    "    print(\"업종위에 마우스를 올리시면\" +dropdown_region.value+\" 지역 생활권의 정확한 상가 개수를 알 수 있습니다.\")\n",
    "   \n",
    "    \n",
    "    consumersbefore=make_subplots(rows=1, cols=2)\n",
    "    consumersbefore.update_layout(title='<b>2-2-1(코로나 전) '+dropdown_region.value+ ' 생활지역권 시간에 따른 성별 연령별 생활인구</b>')\n",
    "    tempMan=BeforeCoronaLocalManSex[BeforeCoronaLocalManSex[\"생활지역권\"]==dropdown_region.value]\n",
    "    tempWoman=BeforeCoronaLocalWomanSex[BeforeCoronaLocalWomanSex[\"생활지역권\"]==dropdown_region.value]\n",
    "    consumersbefore.add_trace(go.Scatter(x=tempMan['시간대구분'],y=tempMan['생활인구수'], mode='lines+markers', name='남자'), row=1, col=1)\n",
    "    consumersbefore.add_trace(go.Scatter(x=tempWoman['시간대구분'],y=tempWoman['생활인구수'], mode='lines+markers', name='여자'), row=1, col=1)\n",
    "    consumersbefore.add_trace(go.Scatter(x=tempWoman['시간대구분'],y=tempMan['생활인구수']+tempWoman['생활인구수'], mode='lines+markers', name='내국인'), row=1, col=1)\n",
    "    \n",
    "    isDongAge=(BeforeCoronaLocalManAge['생활지역권']==dropdown_region.value)&(BeforeCoronaLocalManAge['연령대']== \"남자 20대 이하\")\n",
    "    tempMan20U=BeforeCoronaLocalManAge[isDongAge]\n",
    "    isDongAge=(BeforeCoronaLocalManAge['생활지역권']==dropdown_region.value)&(BeforeCoronaLocalManAge['연령대']== \"남자 20대\")\n",
    "    tempMan20=BeforeCoronaLocalManAge[isDongAge]\n",
    "    isDongAge=(BeforeCoronaLocalManAge['생활지역권']==dropdown_region.value)&(BeforeCoronaLocalManAge['연령대']== \"남자 30대\")\n",
    "    tempMan30=BeforeCoronaLocalManAge[isDongAge]\n",
    "    isDongAge=(BeforeCoronaLocalManAge['생활지역권']==dropdown_region.value)&(BeforeCoronaLocalManAge['연령대']== \"남자 40대\")\n",
    "    tempMan40=BeforeCoronaLocalManAge[isDongAge]\n",
    "    isDongAge=(BeforeCoronaLocalManAge['생활지역권']==dropdown_region.value)&(BeforeCoronaLocalManAge['연령대']== \"남자 50대\")\n",
    "    tempMan50=BeforeCoronaLocalManAge[isDongAge]\n",
    "    isDongAge=(BeforeCoronaLocalManAge['생활지역권']==dropdown_region.value)&(BeforeCoronaLocalManAge['연령대']== \"남자 60대 이상\")\n",
    "    tempMan60U=BeforeCoronaLocalManAge[isDongAge]\n",
    "\n",
    "    isDongAge=(BeforeCoronaLocalWomanAge['생활지역권']==dropdown_region.value)&(BeforeCoronaLocalWomanAge['연령대']== \"여자 20대 이하\")\n",
    "    tempWoman20U=BeforeCoronaLocalWomanAge[isDongAge]\n",
    "    isDongAge=(BeforeCoronaLocalWomanAge['생활지역권']==dropdown_region.value)&(BeforeCoronaLocalWomanAge['연령대']== \"여자 20대\")\n",
    "    tempWoman20=BeforeCoronaLocalWomanAge[isDongAge]\n",
    "    isDongAge=(BeforeCoronaLocalWomanAge['생활지역권']==dropdown_region.value)&(BeforeCoronaLocalWomanAge['연령대']== \"여자 30대\")\n",
    "    tempWoman30=BeforeCoronaLocalWomanAge[isDongAge]\n",
    "    isDongAge=(BeforeCoronaLocalWomanAge['생활지역권']==dropdown_region.value)&(BeforeCoronaLocalWomanAge['연령대']== \"여자 40대\")\n",
    "    tempWoman40=BeforeCoronaLocalWomanAge[isDongAge]\n",
    "    isDongAge=(BeforeCoronaLocalWomanAge['생활지역권']==dropdown_region.value)&(BeforeCoronaLocalWomanAge['연령대']== \"여자 50대\")\n",
    "    tempWoman50=BeforeCoronaLocalWomanAge[isDongAge]\n",
    "    isDongAge=(BeforeCoronaLocalWomanAge['생활지역권']==dropdown_region.value)&(BeforeCoronaLocalWomanAge['연령대']== \"여자 60대 이상\")\n",
    "    tempWoman60U=BeforeCoronaLocalWomanAge[isDongAge]\n",
    "\n",
    "    consumersbefore.add_trace(go.Scatter(x=tempMan20U['시간대구분'],y=tempMan20U['생활인구수']+tempWoman20U['생활인구수'], mode='lines+markers', name='20 Under'), row=1, col=2)\n",
    "    consumersbefore.add_trace(go.Scatter(x=tempMan20['시간대구분'],y=tempMan20['생활인구수']+tempWoman20['생활인구수'], mode='lines+markers', name='20s'), row=1, col=2)\n",
    "    consumersbefore.add_trace(go.Scatter(x=tempMan30['시간대구분'],y=tempMan30['생활인구수']+tempWoman30['생활인구수'], mode='lines+markers', name='30s'), row=1, col=2)\n",
    "    consumersbefore.add_trace(go.Scatter(x=tempMan40['시간대구분'],y=tempMan40['생활인구수']+tempWoman40['생활인구수'], mode='lines+markers', name='40s'), row=1, col=2)\n",
    "    consumersbefore.add_trace(go.Scatter(x=tempMan50['시간대구분'],y=tempMan50['생활인구수']+tempWoman50['생활인구수'], mode='lines+markers', name='50s'), row=1, col=2)\n",
    "    consumersbefore.add_trace(go.Scatter(x=tempMan60U['시간대구분'],y=tempMan60U['생활인구수']+tempWoman60U['생활인구수'], mode='lines+markers', name='60 Upper'), row=1, col=2)\n",
    "    display(consumersbefore)\n",
    "    \n",
    "    ##################################################################################################################\n",
    "    consumersafter=make_subplots(rows=1, cols=2)\n",
    "    consumersafter.update_layout(title='<b>2-2-2(코로나 후) '+dropdown_region.value+ ' 생활지역권 시간에 따른 성별 연령별 생활인구</b>')\n",
    "    tempMan=AfterCoronaLocalManSex[AfterCoronaLocalManSex[\"생활지역권\"]==dropdown_region.value]\n",
    "    tempWoman=AfterCoronaLocalWomanSex[AfterCoronaLocalWomanSex[\"생활지역권\"]==dropdown_region.value]\n",
    "\n",
    "    consumersafter.add_trace(go.Scatter(x=tempMan['시간대구분'],y=tempMan['생활인구수'], mode='lines+markers', name='남자'), row=1, col=1)\n",
    "    consumersafter.add_trace(go.Scatter(x=tempWoman['시간대구분'],y=tempWoman['생활인구수'], mode='lines+markers', name='여자'), row=1, col=1)\n",
    "    consumersafter.add_trace(go.Scatter(x=tempWoman['시간대구분'],y=tempMan['생활인구수']+tempWoman['생활인구수'], mode='lines+markers', name='내국인'), row=1, col=1)\n",
    "    \n",
    "    isDongAge=(AfterCoronaLocalManAge['생활지역권']==dropdown_region.value)&(AfterCoronaLocalManAge['연령대']== \"남자 20대 이하\")\n",
    "    tempMan20U=AfterCoronaLocalManAge[isDongAge]\n",
    "    isDongAge=(AfterCoronaLocalManAge['생활지역권']==dropdown_region.value)&(AfterCoronaLocalManAge['연령대']== \"남자 20대\")\n",
    "    tempMan20=AfterCoronaLocalManAge[isDongAge]\n",
    "    isDongAge=(AfterCoronaLocalManAge['생활지역권']==dropdown_region.value)&(AfterCoronaLocalManAge['연령대']== \"남자 30대\")\n",
    "    tempMan30=AfterCoronaLocalManAge[isDongAge]\n",
    "    isDongAge=(AfterCoronaLocalManAge['생활지역권']==dropdown_region.value)&(AfterCoronaLocalManAge['연령대']== \"남자 40대\")\n",
    "    tempMan40=AfterCoronaLocalManAge[isDongAge]\n",
    "    isDongAge=(AfterCoronaLocalManAge['생활지역권']==dropdown_region.value)&(AfterCoronaLocalManAge['연령대']== \"남자 50대\")\n",
    "    tempMan50=AfterCoronaLocalManAge[isDongAge]\n",
    "    isDongAge=(AfterCoronaLocalManAge['생활지역권']==dropdown_region.value)&(AfterCoronaLocalManAge['연령대']== \"남자 60대 이상\")\n",
    "    tempMan60U=AfterCoronaLocalManAge[isDongAge]\n",
    "\n",
    "    isDongAge=(AfterCoronaLocalWomanAge['생활지역권']==dropdown_region.value)&(AfterCoronaLocalWomanAge['연령대']== \"여자 20대 이하\")\n",
    "    tempWoman20U=AfterCoronaLocalWomanAge[isDongAge]\n",
    "    isDongAge=(AfterCoronaLocalWomanAge['생활지역권']==dropdown_region.value)&(AfterCoronaLocalWomanAge['연령대']== \"여자 20대\")\n",
    "    tempWoman20=AfterCoronaLocalWomanAge[isDongAge]\n",
    "    isDongAge=(AfterCoronaLocalWomanAge['생활지역권']==dropdown_region.value)&(AfterCoronaLocalWomanAge['연령대']== \"여자 30대\")\n",
    "    tempWoman30=AfterCoronaLocalWomanAge[isDongAge]\n",
    "    isDongAge=(AfterCoronaLocalWomanAge['생활지역권']==dropdown_region.value)&(AfterCoronaLocalWomanAge['연령대']== \"여자 40대\")\n",
    "    tempWoman40=AfterCoronaLocalWomanAge[isDongAge]\n",
    "    isDongAge=(AfterCoronaLocalWomanAge['생활지역권']==dropdown_region.value)&(AfterCoronaLocalWomanAge['연령대']== \"여자 50대\")\n",
    "    tempWoman50=AfterCoronaLocalWomanAge[isDongAge]\n",
    "    isDongAge=(AfterCoronaLocalWomanAge['생활지역권']==dropdown_region.value)&(AfterCoronaLocalWomanAge['연령대']== \"여자 60대 이상\")\n",
    "    tempWoman60U=AfterCoronaLocalWomanAge[isDongAge]\n",
    "\n",
    "    consumersafter.add_trace(go.Scatter(x=tempMan20U['시간대구분'],y=tempMan20U['생활인구수']+tempWoman20U['생활인구수'], mode='lines+markers', name='20 Under'), row=1, col=2)\n",
    "    consumersafter.add_trace(go.Scatter(x=tempMan20['시간대구분'],y=tempMan20['생활인구수']+tempWoman20['생활인구수'], mode='lines+markers', name='20s'), row=1, col=2)\n",
    "    consumersafter.add_trace(go.Scatter(x=tempMan30['시간대구분'],y=tempMan30['생활인구수']+tempWoman30['생활인구수'], mode='lines+markers', name='30s'), row=1, col=2)\n",
    "    consumersafter.add_trace(go.Scatter(x=tempMan40['시간대구분'],y=tempMan40['생활인구수']+tempWoman40['생활인구수'], mode='lines+markers', name='40s'), row=1, col=2)\n",
    "    consumersafter.add_trace(go.Scatter(x=tempMan50['시간대구분'],y=tempMan50['생활인구수']+tempWoman50['생활인구수'], mode='lines+markers', name='50s'), row=1, col=2)\n",
    "    consumersafter.add_trace(go.Scatter(x=tempMan60U['시간대구분'],y=tempMan60U['생활인구수']+tempWoman60U['생활인구수'], mode='lines+markers', name='60 Upper'), row=1, col=2)\n",
    "\n",
    "    display(consumersafter)\n",
    "    \n",
    "############################################################################################\n",
    "    consumersrate = make_subplots(rows=1, cols=2, specs=[[{\"type\": \"pie\"}, {\"type\": \"pie\"}]])\n",
    "    BeforeCoronaLocalManWoman=copy.deepcopy(BeforeCoronaLocalManAge)\n",
    "    BeforeCoronaLocalManWoman=BeforeCoronaLocalManWoman.append(BeforeCoronaLocalWomanAge)\n",
    "    BeforeCoronaLocalManWoman=BeforeCoronaLocalManWoman[BeforeCoronaLocalManWoman['생활지역권']==dropdown_region.value]\n",
    "    BeforeCoronaLocalManWoman['영업시간']=BeforeCoronaLocalManWoman['시간대구분'].map(timefunction)\n",
    "    BeforeCoronaLocalManWoman.drop('시간대구분', axis=1, inplace=True)\n",
    "    BeforeCoronaLocalManWoman=BeforeCoronaLocalManWoman.groupby(['연령대', '영업시간']).sum(['생활인구수'])\n",
    "    BeforeCoronaLocalManWoman.reset_index(inplace=True)\n",
    "    if time_buttons.label!='전체':\n",
    "        BeforeCoronaLocalManWoman=BeforeCoronaLocalManWoman[BeforeCoronaLocalManWoman['영업시간']==time_buttons.label]\n",
    "    consumersrate.add_trace(go.Pie(labels=BeforeCoronaLocalManWoman['연령대'].unique().tolist(), values=BeforeCoronaLocalManWoman['생활인구수'], hole=.3, name=\"코로나 전 생활인구\"), row=1, col=1)\n",
    "\n",
    "    AfterCoronaLocalManWoman=copy.deepcopy(AfterCoronaLocalManAge)\n",
    "    AfterCoronaLocalManWoman=AfterCoronaLocalManWoman.append(AfterCoronaLocalWomanAge)\n",
    "    AfterCoronaLocalManWoman=AfterCoronaLocalManWoman[AfterCoronaLocalManWoman['생활지역권']==dropdown_region.value]\n",
    "    AfterCoronaLocalManWoman['영업시간']=AfterCoronaLocalManWoman['시간대구분'].map(timefunction)\n",
    "    AfterCoronaLocalManWoman.drop('시간대구분', axis=1, inplace=True)\n",
    "    AfterCoronaLocalManWoman=AfterCoronaLocalManWoman.groupby(['연령대', '영업시간']).sum(['생활인구수'])\n",
    "    AfterCoronaLocalManWoman.reset_index(inplace=True)\n",
    "    if time_buttons.label!='전체':\n",
    "        AfterCoronaLocalManWoman=AfterCoronaLocalManWoman[AfterCoronaLocalManWoman['영업시간']==time_buttons.label]\n",
    "    consumersrate.add_trace(go.Pie(labels=BeforeCoronaLocalManWoman['연령대'].unique().tolist(), values=AfterCoronaLocalManWoman['생활인구수'], hole=.3, name=\"코로나 후 생활인구\"), row=1, col=2)\n",
    "    consumersrate.update_layout(title=\"<b>2-2-3[\"+str(time_buttons.label)+\"] 시간 [\"+str(dropdown_region.value)+\"] 생활 지역권 코로나 전후 가락 저녁 생활인구 비율 비교</b>\")\n",
    "    display(consumersrate)\n",
    "###############################################################################################\n",
    "    \n",
    "    paypower=make_subplots(rows=1, cols=2, specs=[[{\"type\": \"bar\"}, {\"type\": \"bar\"}]])\n",
    "    paypower.update_layout(title='<b>3-1(코로나 전<->후) '+dropdown_region.value+ ' 생활지역권  성별 연령별 구매력</b>')\n",
    "\n",
    "    paypower.add_trace(go.Bar(x=dfb_group[dfb_group['연령대'] == '2.30대'].성별구분, y=dfb_group[dfb_group['연령대'] == '2.30대'].매출건수, name='2.30대'), row=1, col=1)\n",
    "    paypower.add_trace(go.Bar(x=dfb_group[dfb_group['연령대'] == '3.40대'].성별구분, y=dfb_group[dfb_group['연령대'] == '3.40대'].매출건수, name='3.40대'), row=1, col=1)\n",
    "    paypower.add_trace(go.Bar(x=dfb_group[dfb_group['연령대'] == '4.50대'].성별구분, y=dfb_group[dfb_group['연령대'] == '4.50대'].매출건수, name='4.50대'), row=1, col=1)\n",
    "    paypower.add_trace(go.Bar(x=dfb_group[dfb_group['연령대'] == '5.60대'].성별구분, y=dfb_group[dfb_group['연령대'] == '5.60대'].매출건수, name='5.60대'), row=1, col=1)\n",
    "    paypower.add_trace(go.Bar(x=dfb_group[dfb_group['연령대'] == '2.30대'].성별구분, y=dfa_group[dfa_group['연령대'] == '2.30대'].매출건수, name='2.30대'), row=1, col=2)\n",
    "    paypower.add_trace(go.Bar(x=dfb_group[dfb_group['연령대'] == '3.40대'].성별구분, y=dfa_group[dfa_group['연령대'] == '3.40대'].매출건수, name='3.40대'), row=1, col=2)\n",
    "    paypower.add_trace(go.Bar(x=dfb_group[dfb_group['연령대'] == '4.50대'].성별구분, y=dfa_group[dfa_group['연령대'] == '4.50대'].매출건수, name='4.50대'), row=1, col=2)\n",
    "    paypower.add_trace(go.Bar(x=dfb_group[dfb_group['연령대'] == '5.60대'].성별구분, y=dfa_group[dfa_group['연령대'] == '5.60대'].매출건수, name='5.60대'), row=1, col=2)\n",
    "    display(paypower)\n",
    "    \n",
    "###################################################################################################\n",
    "    allmenu=go.Figure()\n",
    "    allmenu.update_layout(title=\"<b>3-2 (코로나 전<->후) 전체 업종별 선호도(매출건수)</b>\")\n",
    "    def myfood(foodname):\n",
    "        alldf=pie_food[pie_food['중분류명']==foodname]\n",
    "        ##2019 : 10달 2020-2021 :15달 S=> eoul['날짜'].unique()결과\n",
    "        alldf['코로나 전후']=alldf['기준년도'].map(isbefore)\n",
    "        alldf=alldf.groupby(['코로나 전후']).sum(['매출건수'])\n",
    "        alldf=alldf.reset_index()\n",
    "        alldfxlist=[\"코로나 전\", \"코로나 후\"]\n",
    "        alldfylist=[alldf.loc[0]['매출건수'],alldf.loc[1]['매출건수'] ]\n",
    "        alldfylist[0]/=10\n",
    "        alldfylist[1]/=15\n",
    "        return alldfxlist, alldfylist\n",
    "    tempfood1=myfood('한식')\n",
    "    allmenu.add_trace(go.Scatter(x=tempfood1[0],y=tempfood1[1], mode='lines+markers', name='한식'))\n",
    "    tempfood2=myfood('일식/수산물')\n",
    "    allmenu.add_trace(go.Scatter(x=tempfood2[0],y=tempfood2[1], mode='lines+markers', name='일식/수산물'))\n",
    "    tempfood3=myfood('닭/오리요리')\n",
    "    allmenu.add_trace(go.Scatter(x=tempfood3[0],y=tempfood3[1], mode='lines+markers', name='닭/오리고기'))\n",
    "    tempfood4=myfood('양식')\n",
    "    allmenu.add_trace(go.Scatter(x=tempfood4[0],y=tempfood4[1], mode='lines+markers', name='양식'))\n",
    "    tempfood5=myfood('분식')\n",
    "    allmenu.add_trace(go.Scatter(x=tempfood5[0],y=tempfood5[1], mode='lines+markers', name='분식'))\n",
    "    display(allmenu)\n",
    "    \n",
    "#################################################################################3\n",
    "    menu=make_subplots(rows=1, cols=2, specs=[[{\"type\": \"pie\"}, {\"type\": \"pie\"}]])\n",
    "    menu.update_layout(title=\"<b>3-3 [\"+dropdown_menu.value+\"] 업종 코로나 전후 성별 연령별 업종별 선호도</b>\")\n",
    "    pie_foodbefore=pie_food[pie_food['기준년도']=='2019']\n",
    "    pie_foodbefore=pie_foodbefore[pie_foodbefore['중분류명']==dropdown_menu.value]\n",
    "    pie_foodbefore=pie_foodbefore.groupby(['new성별연령', '중분류명']).sum(['매출건수'])\n",
    "    pie_foodbefore = pie_foodbefore.reset_index()\n",
    "    pie_foodafter=pie_food[pie_food['기준년도']!=\"2019\"]\n",
    "    pie_foodafter=pie_foodafter[pie_foodafter['중분류명']==dropdown_menu.value]\n",
    "    pie_foodafter=pie_foodafter.groupby(['new성별연령', '중분류명']).sum(['매출건수'])\n",
    "    pie_foodafter = pie_foodafter.reset_index()\n",
    "    if(dropdown_menu.value==\"업종을 선택하세요\"):\n",
    "        print('<b>3-3 [선택] 업종 코로나 전후 성별 연령별 업종별 선호도</b>')\n",
    "        print(\"업종을 선택하시면 특정 업종의 성별 연령별 선호도를 볼 수 있습니다\")\n",
    "    else:\n",
    "        menu.add_trace(go.Pie(labels=pie_foodbefore['new성별연령'].unique().tolist(), values=pie_foodbefore['매출건수'], hole=.3, name=\"코로나 전 매출건수 비율\"), row=1, col=1)\n",
    "        menu.add_trace(go.Pie(labels=pie_foodafter['new성별연령'].unique().tolist(), values=pie_foodafter['매출건수'], hole=.3, name=\"코로나 전 매출건수 비율\"), row=1, col=2)\n",
    "        display(menu)\n",
    "    \n",
    "# 위젯 변화를 observe하여 response 함수를 실행\n",
    "dropdown_region.observe(response, names='value')\n",
    "time_buttons.observe(response, names=\"value\")\n",
    "dropdown_menu.observe(response, names=\"value\")\n",
    "print('******************************************************************\\n')\n",
    "print('지역권생활권별 요식업종 가이드\\n')\n",
    "print('1. 지역생활권 이란?')\n",
    "print('서울시 지역을 생활권 단위로 나누어 도시관리 계획을 구체적으로 제시하기 위한 공간 관리 지침\\n')\n",
    "print('**분석하고 싶은 지역생활권을 선택하세요')\n",
    "display(container)"
   ]
  },
  {
   "cell_type": "markdown",
   "metadata": {},
   "source": [
    "## 2-4 지역생활권별, 영업시간<->업종별 추천\n",
    "### [성. 연령별 업종별 구매건수 : 성. 연령별:12개  업종5개)\n",
    "#### arraynumpy1 : 연령별 중분류명 매출건수 (닭/오리요리, 분식, 양식, 일식/수산물, 한식)\n",
    "#### arraynumpy2 : 지역생활권별 중분류명 상가수\n",
    "#### arraynumpy3all (dawn, breakfast, afternoon, dinner) : 시계열 결과 만들어진 DF  (지역생활권별 예비소비자 예측 - \n",
    "#### https://github.com/CUAI-CAU/CUAI-FINANCE-TEAM2 \n",
    "#### 시계열분석_전체, 시계열분석_새벽, 시계열 분석_아침, 시계열분석_점심, 시계열분석_저녁) 실행 결과 \n",
    "#### finaldf.csv, dawn_data.csv, breakfast_data.csv, afternoon_data.csv, dinner_data.csv"
   ]
  },
  {
   "cell_type": "code",
   "execution_count": 27,
   "metadata": {
    "scrolled": true
   },
   "outputs": [
    {
     "name": "stdout",
     "output_type": "stream",
     "text": [
      "\n",
      "4. 요식업 업종&영업시간 추천\n"
     ]
    },
    {
     "data": {
      "application/vnd.jupyter.widget-view+json": {
       "model_id": "565d4a5a56df4fde96e2c806b48c0a41",
       "version_major": 2,
       "version_minor": 0
      },
      "text/plain": [
       "VBox(children=(HBox(children=(Dropdown(description='지역생활권', index=14, options=('지역생활권을 선택하세요', '가락', '가산', '가좌…"
      ]
     },
     "metadata": {},
     "output_type": "display_data"
    },
    {
     "data": {
      "application/vnd.jupyter.widget-view+json": {
       "model_id": "c3aeb5a4537946cd9fa4279466487bd9",
       "version_major": 2,
       "version_minor": 0
      },
      "text/plain": [
       "VBox(children=(HBox(children=(ToggleButtons(description='영업시간별', options=(('전체', '0-24'), ('아침', '6-12'), ('점심…"
      ]
     },
     "metadata": {},
     "output_type": "display_data"
    },
    {
     "name": "stdout",
     "output_type": "stream",
     "text": [
      "\n",
      "[길동.둔촌] 지역생활권 [전체] 영업시간 업종추천 : \n",
      "\n",
      "1. 양식\n",
      "2. 일식/수산물\n",
      "3. 한식\n",
      "4. 분식\n",
      "5. 닭/오리요리\n"
     ]
    },
    {
     "data": {
      "application/vnd.jupyter.widget-view+json": {
       "model_id": "d06ad1a689104b48bde842153bc2eda1",
       "version_major": 2,
       "version_minor": 0
      },
      "text/plain": [
       "VBox(children=(HBox(children=(Dropdown(description='업종별', index=3, options=('업종을 선택하세요', '한식', '일식/수산물', '닭/오리…"
      ]
     },
     "metadata": {},
     "output_type": "display_data"
    },
    {
     "name": "stdout",
     "output_type": "stream",
     "text": [
      "\n",
      "[길동.둔촌] 지역생활권 [닭/오리요리] 업종 영업시간 추천 : \n",
      "1. 새벽\n",
      "2. 아침\n",
      "3. 저녁\n",
      "4. 점심\n"
     ]
    }
   ],
   "source": [
    "arraydata1=pie_food[pie_food['기준년도']!=\"2019\"]\n",
    "arraydata1=arraydata1.groupby(by=['new성별연령','중분류명']).sum()[['매출건수']]\n",
    "arraydata1=arraydata1.reset_index()\n",
    "arraydata1=arraydata1.set_index('new성별연령')\n",
    "arraydata1=arraydata1.reset_index()\n",
    "arraydata11=arraydata1['매출건수'].to_numpy()\n",
    "arraynumpy1=arraydata11.reshape((-1, 5))\n",
    "\n",
    "arraydata2=copy.deepcopy(df2)\n",
    "arraydata2=arraydata2.groupby(by=['생활지역권','중분류명']).count()\n",
    "arraydata2=arraydata2.reset_index()\n",
    "arraydata22=arraydata2[(arraydata2['중분류명']=='닭/오리요리')|(arraydata2['중분류명']=='분식')|(arraydata2['중분류명']=='양식')|(arraydata2['중분류명']=='일식/수산물')|(arraydata2['중분류명']=='한식')]\n",
    "arraydata22=arraydata22['소분류명'].to_numpy()\n",
    "arraynumpy2=arraydata22.reshape((-1, 5))\n",
    "\n",
    "arraydata3all=pd.read_csv('finaldf.csv')\n",
    "arraydata3dawn=pd.read_csv('dawn_data.csv')\n",
    "arraydata3breakfast=pd.read_csv('breakfast_data.csv')\n",
    "arraydata3afternoon=pd.read_csv('afternoon_data.csv')\n",
    "arraydata3dinner=pd.read_csv('dinner_data.csv')\n",
    "\n",
    "import numpy\n",
    "region_name=arraydata2['생활지역권'].unique()\n",
    "region_name_List=region_name.tolist()\n",
    "menulist=['닭/오리요리', \"분식\", '양식', '일식/수산물', '한식']\n",
    "\n",
    "\n",
    "dropdown_region2 = widgets.Dropdown(\n",
    "    description='지역생활권',options=selectregion)\n",
    "##영업시간 위젯\n",
    "time_buttons2 = widgets.ToggleButtons(\n",
    "    options=[('전체', '0-24'),('아침', '6-12'), ('점심', '13-18'), ('저녁', '18-24'),('새벽', '0-6')],\n",
    "    description='영업시간별',\n",
    ")\n",
    "#업종 위젯\n",
    "dropdown_menu2 = widgets.Dropdown(\n",
    "    description='업종별',\n",
    "    options=selectmenu)\n",
    "# 위젯을 container로 합침.\n",
    "container1=widgets.VBox([widgets.HBox([dropdown_region2])])\n",
    "container2 = widgets.VBox([widgets.HBox([time_buttons2])])\n",
    "container3 = widgets.VBox([widgets.HBox([dropdown_menu2])])\n",
    "\n",
    "def response2(change):\n",
    "    # 위젯에 변화가 감지되면 실행되는 코드\n",
    "    # 이전 셀 아웃풋은 삭제\n",
    "    clear_output()  \n",
    "    from plotly.subplots import make_subplots\n",
    "    import plotly.graph_objects as go\n",
    "    print(\"\\n4. 요식업 업종&영업시간 추천\")\n",
    "    display(container1)\n",
    "    display(container2)\n",
    "    print(\"\\n[\"+dropdown_region2.value+\"] 지역생활권 [\"+time_buttons2.label+\"] 영업시간 업종추천 : \\n\")\n",
    "    import numpy\n",
    "    region_name=arraydata2['생활지역권'].unique()\n",
    "    region_name_List=region_name.tolist()\n",
    "    ## 성 연령 : 20대 이하 남성, 30대 남성.... 60대, 20대 이사 여성, ... 60대 이상 여성 : 10개\n",
    "    ## 업종(중분류명) : 닭/오리요리, 분식, 양식, 일식/수산물, 한식\n",
    "    ## 지역생활권 : 125개\n",
    "\n",
    "    #### arraynumpy1 : 성. 연령별 중분류명 매출건수 [10*5]\n",
    "    #### arraynumpy2 : 지역생활권별 중분류명 상가수 [125*5]\n",
    "    ### arraynumpy3 : 지역생활권별 성.연령별 예비소비자 [125*10]\n",
    "    \n",
    "    ##arraynumpy3*arraynumpy1/arraynumpy2[(125*10)X(10*5)/(125*5)] \n",
    "    ##내적곱 수행결과 지역생활권별 중분류 매출건수 예측\n",
    "    ##나눗셈 수행 결과=지역생활권별 중분류 개업시 얻을 수 있는 매출건수\n",
    "    \n",
    "    arraydata3A=arraydata3all[arraydata3all['생활지역권']!='목동1']\n",
    "    arraydata33A=arraydata3A.drop(columns='생활지역권')\n",
    "    arraynumpy3A=arraydata33A.to_numpy()\n",
    "    mulA=arraynumpy3A.dot(arraynumpy1)\n",
    "    muldivA=mulA/arraynumpy2\n",
    "    \n",
    "    arraydata3Dawn=arraydata3dawn[arraydata3dawn['생활지역권']!='목동1']\n",
    "    arraydata33Dawn=arraydata3Dawn.drop(columns='생활지역권')\n",
    "    arraynumpy3Dawn=arraydata33Dawn.to_numpy()\n",
    "    mulDawn=arraynumpy3Dawn.dot(arraynumpy1)\n",
    "    muldivDawn=mulDawn/arraynumpy2\n",
    "    \n",
    "    arraydata3B=arraydata3breakfast[arraydata3breakfast['생활지역권']!='목동1']\n",
    "    arraydata33B=arraydata3B.drop(columns='생활지역권')\n",
    "    arraynumpy3B=arraydata33B.to_numpy()\n",
    "    mulB=arraynumpy3B.dot(arraynumpy1)\n",
    "    muldivB=mulB/arraynumpy2\n",
    "    \n",
    "    arraydata3L=arraydata3afternoon[arraydata3afternoon['생활지역권']!='목동1']\n",
    "    arraydata33L=arraydata3L.drop(columns='생활지역권')\n",
    "    arraynumpy3L=arraydata33L.to_numpy()\n",
    "    mulL=arraynumpy3L.dot(arraynumpy1)\n",
    "    muldivL=mulL/arraynumpy2\n",
    "    \n",
    "    arraydata3D=arraydata3dinner[arraydata3dinner['생활지역권']!='목동1']\n",
    "    arraydata33D=arraydata3D.drop(columns='생활지역권')\n",
    "    arraynumpy3D=arraydata33D.to_numpy()\n",
    "    mulD=arraynumpy3D.dot(arraynumpy1)\n",
    "    muldivD=mulD/arraynumpy2\n",
    "    \n",
    "    if time_buttons2.label==\"전체\":\n",
    "        selectRegionTime=muldivA\n",
    "    if time_buttons2.label==\"새벽\":\n",
    "        selectRegionTime=muldivDawn\n",
    "    if time_buttons2.label==\"아침\":\n",
    "        selectRegionTime=muldivB\n",
    "    if time_buttons2.label==\"점심\":\n",
    "        selectRegionTime=muldivL\n",
    "    if time_buttons2.label==\"저녁\":\n",
    "        selectRegionTime=muldivD\n",
    "\n",
    "    region_index=region_name_List.index(str(dropdown_region2.value))\n",
    "    templist=selectRegionTime[region_index].argsort()\n",
    "    nummenu=len(menulist)\n",
    "    while nummenu!=0:\n",
    "        print(str(5-nummenu+1)+\". \"+str(menulist[templist[nummenu-1]]))\n",
    "        nummenu-=1\n",
    "    \n",
    "#################################################################################################################\n",
    "    display(container3)\n",
    "    if dropdown_menu2.value==\"업종을 선택하세요\":\n",
    "        print(\"\\n업종을 선택하시면 영업시간을 추천 받으실 수 있습니다.\")\n",
    "    else:\n",
    "        print(\"\\n[\"+dropdown_region2.value+\"] 지역생활권 [\"+dropdown_menu2.value+\"] 업종 영업시간 추천 : \")\n",
    "        menu_index=menulist.index(str(dropdown_menu2.value))\n",
    "        recommendTime=list()\n",
    "        recommendTime.append(muldivDawn[region_index][menu_index])\n",
    "        recommendTime.append(muldivB[region_index][menu_index])\n",
    "        recommendTime.append(muldivL[region_index][menu_index])\n",
    "        recommendTime.append(muldivD[region_index][menu_index])\n",
    "        templist=numpy.array(recommendTime).argsort()\n",
    "        timelist=[\"새벽\", \"아침\", \"점심\", \"저녁\"]\n",
    "        nummenu=len(timelist)\n",
    "        while nummenu!=0:\n",
    "            print(str(4-nummenu+1)+\". \"+str(timelist[templist[nummenu-1]]))\n",
    "            nummenu-=1\n",
    "    \n",
    "dropdown_region2.observe(response2, names='value')\n",
    "time_buttons2.observe(response2, names=\"value\")\n",
    "dropdown_menu2.observe(response2, names=\"value\")\n",
    "print(\"**********************************************\")\n",
    "print(\"\\n4. 요식업 지역생활권별 업종&영업시간 추천\\n\")\n",
    "print('지역생활권을 선택하세요')\n",
    "dropdown_region2.value='지역생활권을 선택하세요'\n",
    "time_buttons2.value='0-24'\n",
    "dropdown_menu2.value='업종을 선택하세요'\n",
    "display(container1)"
   ]
  }
 ],
 "metadata": {
  "kernelspec": {
   "display_name": "Python 3",
   "language": "python",
   "name": "python3"
  },
  "language_info": {
   "codemirror_mode": {
    "name": "ipython",
    "version": 3
   },
   "file_extension": ".py",
   "mimetype": "text/x-python",
   "name": "python",
   "nbconvert_exporter": "python",
   "pygments_lexer": "ipython3",
   "version": "3.8.5"
  }
 },
 "nbformat": 4,
 "nbformat_minor": 4
}
